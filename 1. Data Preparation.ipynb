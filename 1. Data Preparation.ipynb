{
 "cells": [
  {
   "cell_type": "markdown",
   "metadata": {},
   "source": [
    "# I. Data Preparation (equal bin)\n",
    "\n",
    "The goal of this dataset is to clean the data set we'll use for data visualizations and training the model.\n",
    "\n",
    "We'll proceed to:\n",
    "- Data Exploration and data split\n",
    "- Feature Engineering (categorical encoding using equal bin discretiser and top/bottom encoding)\n",
    "- Save data for feature predictions\n"
   ]
  },
  {
   "cell_type": "markdown",
   "metadata": {},
   "source": [
    "## Part I : Data Exploratoin"
   ]
  },
  {
   "cell_type": "markdown",
   "metadata": {},
   "source": [
    "####  1. Importing libraries and data"
   ]
  },
  {
   "cell_type": "code",
   "execution_count": 1,
   "metadata": {},
   "outputs": [],
   "source": [
    "# to handle datasets\n",
    "import pandas as pd\n",
    "import numpy as np\n",
    "\n",
    "# for plotting\n",
    "import matplotlib.pyplot as plt\n",
    "%matplotlib inline\n",
    "\n",
    "# to divide train and test set\n",
    "from sklearn.model_selection import train_test_split\n",
    "\n",
    "# feature scaling\n",
    "from sklearn.preprocessing import MinMaxScaler\n",
    "\n",
    "# for tree binarisation\n",
    "from sklearn.tree import DecisionTreeRegressor\n",
    "from sklearn.model_selection import cross_val_score\n",
    "\n",
    "\n",
    "# to build the models\n",
    "from sklearn.linear_model import LinearRegression, Lasso\n",
    "from sklearn.ensemble import RandomForestRegressor\n",
    "from sklearn.svm import SVR\n",
    "import xgboost as xgb\n",
    "\n",
    "# to evaluate the models\n",
    "from sklearn.metrics import mean_squared_error\n",
    "from math import sqrt\n",
    "\n",
    "pd.pandas.set_option('display.max_columns', None)\n",
    "\n",
    "import warnings\n",
    "warnings.filterwarnings('ignore')\n",
    "\n",
    "\n",
    "#Scaling\n",
    "from sklearn.preprocessing import RobustScaler\n",
    "from sklearn.preprocessing import MinMaxScaler\n",
    "from sklearn.preprocessing import StandardScaler\n",
    "\n"
   ]
  },
  {
   "cell_type": "markdown",
   "metadata": {},
   "source": [
    "#### 2. Import and merge datasets"
   ]
  },
  {
   "cell_type": "code",
   "execution_count": 2,
   "metadata": {},
   "outputs": [
    {
     "data": {
      "text/plain": [
       "(950, 21)"
      ]
     },
     "execution_count": 2,
     "metadata": {},
     "output_type": "execute_result"
    }
   ],
   "source": [
    "df=pd.read_csv('Credit-Scoring-Clean.csv')\n",
    "df.shape"
   ]
  },
  {
   "cell_type": "code",
   "execution_count": 3,
   "metadata": {
    "scrolled": true
   },
   "outputs": [
    {
     "data": {
      "text/plain": [
       "Index(['CheckingAcctStat', 'Duration', 'CreditHistory', 'Purpose',\n",
       "       'CreditAmount', 'Savings', 'Employment', 'InstallmentRatePecnt',\n",
       "       'SexAndStatus', 'OtherDetorsGuarantors', 'PresentResidenceTime',\n",
       "       'Property', 'Age', 'OtherInstalments', 'Housing',\n",
       "       'ExistingCreditsAtBank', 'Job', 'NumberDependents', 'Telephone',\n",
       "       'ForeignWorker', 'CreditStatus'],\n",
       "      dtype='object')"
      ]
     },
     "execution_count": 3,
     "metadata": {},
     "output_type": "execute_result"
    }
   ],
   "source": [
    "#column list\n",
    "df.columns"
   ]
  },
  {
   "cell_type": "markdown",
   "metadata": {},
   "source": [
    "#### 3. Drop duplicate rows and columns"
   ]
  },
  {
   "cell_type": "code",
   "execution_count": 4,
   "metadata": {},
   "outputs": [],
   "source": [
    "#drop duplicate rows (using subset, I drop raws where values of columns mentioned match)\n",
    "df.drop_duplicates(subset=['CheckingAcctStat', 'Duration', 'CreditHistory', 'Purpose',\n",
    "       'CreditAmount', 'Savings', 'Employment', 'InstallmentRatePecnt',\n",
    "       'SexAndStatus', 'OtherDetorsGuarantors', 'PresentResidenceTime',\n",
    "       'Property', 'Age', 'OtherInstalments', 'Housing',\n",
    "       'ExistingCreditsAtBank', 'Job', 'NumberDependents', 'Telephone',\n",
    "       'ForeignWorker', 'CreditStatus'], inplace = True)"
   ]
  },
  {
   "cell_type": "code",
   "execution_count": 5,
   "metadata": {},
   "outputs": [
    {
     "data": {
      "text/plain": [
       "(950, 21)"
      ]
     },
     "execution_count": 5,
     "metadata": {},
     "output_type": "execute_result"
    }
   ],
   "source": [
    "#see shape after duplicate row removal\n",
    "df.shape"
   ]
  },
  {
   "cell_type": "markdown",
   "metadata": {},
   "source": [
    "There were no duplicate rows"
   ]
  },
  {
   "cell_type": "code",
   "execution_count": 6,
   "metadata": {},
   "outputs": [
    {
     "data": {
      "text/plain": [
       "(950, 21)"
      ]
     },
     "execution_count": 6,
     "metadata": {},
     "output_type": "execute_result"
    }
   ],
   "source": [
    "# remove duplicate columns\n",
    "_, i = np.unique(df.columns, return_index=True)\n",
    "df=df.iloc[:, i]\n",
    "df.shape"
   ]
  },
  {
   "cell_type": "code",
   "execution_count": 7,
   "metadata": {
    "scrolled": false
   },
   "outputs": [
    {
     "data": {
      "text/html": [
       "<div>\n",
       "<style scoped>\n",
       "    .dataframe tbody tr th:only-of-type {\n",
       "        vertical-align: middle;\n",
       "    }\n",
       "\n",
       "    .dataframe tbody tr th {\n",
       "        vertical-align: top;\n",
       "    }\n",
       "\n",
       "    .dataframe thead th {\n",
       "        text-align: right;\n",
       "    }\n",
       "</style>\n",
       "<table border=\"1\" class=\"dataframe\">\n",
       "  <thead>\n",
       "    <tr style=\"text-align: right;\">\n",
       "      <th></th>\n",
       "      <th>Age</th>\n",
       "      <th>CheckingAcctStat</th>\n",
       "      <th>CreditAmount</th>\n",
       "      <th>CreditHistory</th>\n",
       "      <th>CreditStatus</th>\n",
       "      <th>Duration</th>\n",
       "      <th>Employment</th>\n",
       "      <th>ExistingCreditsAtBank</th>\n",
       "      <th>ForeignWorker</th>\n",
       "      <th>Housing</th>\n",
       "      <th>InstallmentRatePecnt</th>\n",
       "      <th>Job</th>\n",
       "      <th>NumberDependents</th>\n",
       "      <th>OtherDetorsGuarantors</th>\n",
       "      <th>OtherInstalments</th>\n",
       "      <th>PresentResidenceTime</th>\n",
       "      <th>Property</th>\n",
       "      <th>Purpose</th>\n",
       "      <th>Savings</th>\n",
       "      <th>SexAndStatus</th>\n",
       "      <th>Telephone</th>\n",
       "    </tr>\n",
       "  </thead>\n",
       "  <tbody>\n",
       "    <tr>\n",
       "      <th>0</th>\n",
       "      <td>0.089286</td>\n",
       "      <td>A11</td>\n",
       "      <td>0.161770</td>\n",
       "      <td>A32</td>\n",
       "      <td>1</td>\n",
       "      <td>0.205882</td>\n",
       "      <td>A73</td>\n",
       "      <td>0.0</td>\n",
       "      <td>A201</td>\n",
       "      <td>A152</td>\n",
       "      <td>0.333333</td>\n",
       "      <td>A173</td>\n",
       "      <td>0.0</td>\n",
       "      <td>A101</td>\n",
       "      <td>A143</td>\n",
       "      <td>0.333333</td>\n",
       "      <td>A121</td>\n",
       "      <td>A43</td>\n",
       "      <td>A61</td>\n",
       "      <td>A92</td>\n",
       "      <td>A191</td>\n",
       "    </tr>\n",
       "    <tr>\n",
       "      <th>1</th>\n",
       "      <td>0.125000</td>\n",
       "      <td>A14</td>\n",
       "      <td>0.058380</td>\n",
       "      <td>A32</td>\n",
       "      <td>0</td>\n",
       "      <td>0.294118</td>\n",
       "      <td>A74</td>\n",
       "      <td>0.0</td>\n",
       "      <td>A201</td>\n",
       "      <td>A152</td>\n",
       "      <td>1.000000</td>\n",
       "      <td>A173</td>\n",
       "      <td>0.0</td>\n",
       "      <td>A101</td>\n",
       "      <td>A143</td>\n",
       "      <td>0.666667</td>\n",
       "      <td>A122</td>\n",
       "      <td>A43</td>\n",
       "      <td>A62</td>\n",
       "      <td>A94</td>\n",
       "      <td>A192</td>\n",
       "    </tr>\n",
       "    <tr>\n",
       "      <th>2</th>\n",
       "      <td>0.232143</td>\n",
       "      <td>A14</td>\n",
       "      <td>0.069055</td>\n",
       "      <td>A32</td>\n",
       "      <td>0</td>\n",
       "      <td>0.205882</td>\n",
       "      <td>A73</td>\n",
       "      <td>0.0</td>\n",
       "      <td>A201</td>\n",
       "      <td>A153</td>\n",
       "      <td>1.000000</td>\n",
       "      <td>A174</td>\n",
       "      <td>0.0</td>\n",
       "      <td>A101</td>\n",
       "      <td>A143</td>\n",
       "      <td>0.333333</td>\n",
       "      <td>A124</td>\n",
       "      <td>A43</td>\n",
       "      <td>A61</td>\n",
       "      <td>A93</td>\n",
       "      <td>A192</td>\n",
       "    </tr>\n",
       "    <tr>\n",
       "      <th>3</th>\n",
       "      <td>0.214286</td>\n",
       "      <td>A11</td>\n",
       "      <td>0.358094</td>\n",
       "      <td>A32</td>\n",
       "      <td>1</td>\n",
       "      <td>0.647059</td>\n",
       "      <td>A73</td>\n",
       "      <td>0.0</td>\n",
       "      <td>A201</td>\n",
       "      <td>A152</td>\n",
       "      <td>0.666667</td>\n",
       "      <td>A173</td>\n",
       "      <td>0.0</td>\n",
       "      <td>A101</td>\n",
       "      <td>A143</td>\n",
       "      <td>0.333333</td>\n",
       "      <td>A123</td>\n",
       "      <td>A43</td>\n",
       "      <td>A61</td>\n",
       "      <td>A92</td>\n",
       "      <td>A192</td>\n",
       "    </tr>\n",
       "    <tr>\n",
       "      <th>4</th>\n",
       "      <td>0.178571</td>\n",
       "      <td>A13</td>\n",
       "      <td>0.023825</td>\n",
       "      <td>A33</td>\n",
       "      <td>0</td>\n",
       "      <td>0.029412</td>\n",
       "      <td>A72</td>\n",
       "      <td>0.0</td>\n",
       "      <td>A201</td>\n",
       "      <td>A152</td>\n",
       "      <td>0.333333</td>\n",
       "      <td>A173</td>\n",
       "      <td>0.0</td>\n",
       "      <td>A101</td>\n",
       "      <td>A141</td>\n",
       "      <td>0.000000</td>\n",
       "      <td>A122</td>\n",
       "      <td>A43</td>\n",
       "      <td>A61</td>\n",
       "      <td>A92</td>\n",
       "      <td>A191</td>\n",
       "    </tr>\n",
       "  </tbody>\n",
       "</table>\n",
       "</div>"
      ],
      "text/plain": [
       "        Age CheckingAcctStat  CreditAmount CreditHistory  CreditStatus  \\\n",
       "0  0.089286              A11      0.161770           A32             1   \n",
       "1  0.125000              A14      0.058380           A32             0   \n",
       "2  0.232143              A14      0.069055           A32             0   \n",
       "3  0.214286              A11      0.358094           A32             1   \n",
       "4  0.178571              A13      0.023825           A33             0   \n",
       "\n",
       "   Duration Employment  ExistingCreditsAtBank ForeignWorker Housing  \\\n",
       "0  0.205882        A73                    0.0          A201    A152   \n",
       "1  0.294118        A74                    0.0          A201    A152   \n",
       "2  0.205882        A73                    0.0          A201    A153   \n",
       "3  0.647059        A73                    0.0          A201    A152   \n",
       "4  0.029412        A72                    0.0          A201    A152   \n",
       "\n",
       "   InstallmentRatePecnt   Job  NumberDependents OtherDetorsGuarantors  \\\n",
       "0              0.333333  A173               0.0                  A101   \n",
       "1              1.000000  A173               0.0                  A101   \n",
       "2              1.000000  A174               0.0                  A101   \n",
       "3              0.666667  A173               0.0                  A101   \n",
       "4              0.333333  A173               0.0                  A101   \n",
       "\n",
       "  OtherInstalments  PresentResidenceTime Property Purpose Savings  \\\n",
       "0             A143              0.333333     A121     A43     A61   \n",
       "1             A143              0.666667     A122     A43     A62   \n",
       "2             A143              0.333333     A124     A43     A61   \n",
       "3             A143              0.333333     A123     A43     A61   \n",
       "4             A141              0.000000     A122     A43     A61   \n",
       "\n",
       "  SexAndStatus Telephone  \n",
       "0          A92      A191  \n",
       "1          A94      A192  \n",
       "2          A93      A192  \n",
       "3          A92      A192  \n",
       "4          A92      A191  "
      ]
     },
     "execution_count": 7,
     "metadata": {},
     "output_type": "execute_result"
    }
   ],
   "source": [
    "df.head()"
   ]
  },
  {
   "cell_type": "markdown",
   "metadata": {},
   "source": [
    "There were no duplicate columns"
   ]
  },
  {
   "cell_type": "markdown",
   "metadata": {},
   "source": [
    "#### 4. Types of Variables"
   ]
  },
  {
   "cell_type": "code",
   "execution_count": 8,
   "metadata": {},
   "outputs": [
    {
     "data": {
      "text/plain": [
       "Age                      float64\n",
       "CheckingAcctStat          object\n",
       "CreditAmount             float64\n",
       "CreditHistory             object\n",
       "CreditStatus               int64\n",
       "Duration                 float64\n",
       "Employment                object\n",
       "ExistingCreditsAtBank    float64\n",
       "ForeignWorker             object\n",
       "Housing                   object\n",
       "InstallmentRatePecnt     float64\n",
       "Job                       object\n",
       "NumberDependents         float64\n",
       "OtherDetorsGuarantors     object\n",
       "OtherInstalments          object\n",
       "PresentResidenceTime     float64\n",
       "Property                  object\n",
       "Purpose                   object\n",
       "Savings                   object\n",
       "SexAndStatus              object\n",
       "Telephone                 object\n",
       "dtype: object"
      ]
     },
     "execution_count": 8,
     "metadata": {},
     "output_type": "execute_result"
    }
   ],
   "source": [
    "# let's inspect the type of variables in pandas\n",
    "df.dtypes"
   ]
  },
  {
   "cell_type": "markdown",
   "metadata": {},
   "source": [
    "There are a mixture of numerical and categorical variables. Normally object type determines categorical. "
   ]
  },
  {
   "cell_type": "markdown",
   "metadata": {},
   "source": [
    "#### 4.1 Find categorical variables"
   ]
  },
  {
   "cell_type": "code",
   "execution_count": 9,
   "metadata": {},
   "outputs": [
    {
     "name": "stdout",
     "output_type": "stream",
     "text": [
      "There are 13 categorical variables\n"
     ]
    },
    {
     "data": {
      "text/plain": [
       "['CheckingAcctStat',\n",
       " 'CreditHistory',\n",
       " 'Employment',\n",
       " 'ForeignWorker',\n",
       " 'Housing',\n",
       " 'Job',\n",
       " 'OtherDetorsGuarantors',\n",
       " 'OtherInstalments',\n",
       " 'Property',\n",
       " 'Purpose',\n",
       " 'Savings',\n",
       " 'SexAndStatus',\n",
       " 'Telephone']"
      ]
     },
     "execution_count": 9,
     "metadata": {},
     "output_type": "execute_result"
    }
   ],
   "source": [
    "# find categorical variables\n",
    "categorical = [var for var in df.columns if df[var].dtype=='O']\n",
    "print('There are {} categorical variables'.format(len(categorical)))\n",
    "categorical"
   ]
  },
  {
   "cell_type": "markdown",
   "metadata": {},
   "source": [
    "#### 4.2 Find temporal variables"
   ]
  },
  {
   "cell_type": "code",
   "execution_count": 10,
   "metadata": {},
   "outputs": [
    {
     "name": "stdout",
     "output_type": "stream",
     "text": [
      "There are 1 temporal variables\n"
     ]
    },
    {
     "data": {
      "text/plain": [
       "['PresentResidenceTime']"
      ]
     },
     "execution_count": 10,
     "metadata": {},
     "output_type": "execute_result"
    }
   ],
   "source": [
    "# make a list of the numerical variables first\n",
    "numerical = [var for var in df.columns if df[var].dtype!='O']\n",
    "\n",
    "# list of variables that contain year information\n",
    "year_vars = [var for var in numerical if 'Yr' in var or 'Year' in var or 'Day'in var or 'Month'in var or 'Time'in var]\n",
    "print('There are {} temporal variables'.format(len(year_vars)))\n",
    "\n",
    "\n",
    "year_vars"
   ]
  },
  {
   "cell_type": "markdown",
   "metadata": {},
   "source": [
    "No temporal variables"
   ]
  },
  {
   "cell_type": "markdown",
   "metadata": {},
   "source": [
    "#### 4.3 Find Discrete Varibles"
   ]
  },
  {
   "cell_type": "code",
   "execution_count": 11,
   "metadata": {},
   "outputs": [
    {
     "name": "stdout",
     "output_type": "stream",
     "text": [
      "CreditStatus  values:  [1 0]\n",
      "ExistingCreditsAtBank  values:  [0.         0.33333333 1.         0.66666667 0.24793091 0.08540242\n",
      " 0.05554672 0.27778661 0.41873575 0.11109345 0.17080484 0.38888006\n",
      " 0.25620727 0.44442678 0.58126424]\n",
      "NumberDependents  values:  [0.         1.         0.93402351 0.14386259 0.06597649 0.85613741]\n",
      "\n",
      "There are 3 discrete variables\n"
     ]
    },
    {
     "data": {
      "text/plain": [
       "['CreditStatus', 'ExistingCreditsAtBank', 'NumberDependents']"
      ]
     },
     "execution_count": 11,
     "metadata": {},
     "output_type": "execute_result"
    }
   ],
   "source": [
    "# let's visualise the values of the discrete variables\n",
    "discrete = []\n",
    "\n",
    "for var in numerical:\n",
    "    if len(df[var].unique())<20 and var not in year_vars:\n",
    "        print(var, ' values: ', df[var].unique())\n",
    "        discrete.append(var)\n",
    "print()\n",
    "print('There are {} discrete variables'.format(len(discrete)))\n",
    "discrete"
   ]
  },
  {
   "cell_type": "code",
   "execution_count": 12,
   "metadata": {},
   "outputs": [
    {
     "name": "stdout",
     "output_type": "stream",
     "text": [
      "There are 4 numerical and continuous variables\n"
     ]
    },
    {
     "data": {
      "text/plain": [
       "['Age', 'CreditAmount', 'Duration', 'InstallmentRatePecnt']"
      ]
     },
     "execution_count": 12,
     "metadata": {},
     "output_type": "execute_result"
    }
   ],
   "source": [
    "### Find Continuous\n",
    "# let's remember to skip the Id variable and the target variable SalePrice, which are both also numerical\n",
    "\n",
    "numerical = [var for var in numerical if var not in discrete and var not in ['Id', 'SalePrice'] and var not in year_vars]\n",
    "print('There are {} numerical and continuous variables'.format(len(numerical)))\n",
    "numerical"
   ]
  },
  {
   "cell_type": "markdown",
   "metadata": {},
   "source": [
    "SO there are: \n",
    "\n",
    "- 3 discrete variables \n",
    "- 13 categorical \n",
    "- 1 temporal\n",
    "- 4 continuous\n"
   ]
  },
  {
   "cell_type": "markdown",
   "metadata": {},
   "source": [
    "#### 5.Types of problems within variables\n",
    "\n",
    "#### 5.1 Missing values"
   ]
  },
  {
   "cell_type": "markdown",
   "metadata": {},
   "source": [
    "I have very few missing values in general, except for the 'normalized-losses'and 'make'columns"
   ]
  },
  {
   "cell_type": "code",
   "execution_count": 13,
   "metadata": {},
   "outputs": [
    {
     "name": "stdout",
     "output_type": "stream",
     "text": [
      "Total variables that contain missing information:  0\n"
     ]
    }
   ],
   "source": [
    "# let's no determine how many variables we have with missing information\n",
    "\n",
    "vars_with_na = [var for var in df.columns if df[var].isnull().sum()>0]\n",
    "print('Total variables that contain missing information: ', len(vars_with_na))"
   ]
  },
  {
   "cell_type": "markdown",
   "metadata": {},
   "source": [
    "There are a no variables with missing information!"
   ]
  },
  {
   "cell_type": "code",
   "execution_count": 14,
   "metadata": {},
   "outputs": [],
   "source": [
    "# let's inspect the type of those variables with a lot of missing information\n",
    "for var in df.columns:\n",
    "    if df[var].isnull().mean()>0.80:\n",
    "        print(var, df[var].unique())"
   ]
  },
  {
   "cell_type": "code",
   "execution_count": 15,
   "metadata": {},
   "outputs": [],
   "source": [
    "# let's visualise the percentage of missing values for each variable\n",
    "for var in df.columns:\n",
    "    if df[var].isnull().sum()>0:\n",
    "        print(var, df[var].isnull().mean())"
   ]
  },
  {
   "cell_type": "markdown",
   "metadata": {},
   "source": [
    "No variables with any above 80% of values missing information"
   ]
  },
  {
   "cell_type": "markdown",
   "metadata": {},
   "source": [
    "#### 5.2 Outliers\n",
    "\n",
    "#### 5.2.1 Start with numerical "
   ]
  },
  {
   "cell_type": "code",
   "execution_count": 16,
   "metadata": {},
   "outputs": [
    {
     "data": {
      "text/plain": [
       "['Age', 'CreditAmount', 'Duration', 'InstallmentRatePecnt']"
      ]
     },
     "execution_count": 16,
     "metadata": {},
     "output_type": "execute_result"
    }
   ],
   "source": [
    "# let's look at the continuous variables\n",
    "numerical"
   ]
  },
  {
   "cell_type": "code",
   "execution_count": 17,
   "metadata": {},
   "outputs": [
    {
     "data": {
      "image/png": "[encoded data removed]",
      "text/plain": [
       "<Figure size 1080x432 with 2 Axes>"
      ]
     },
     "metadata": {
      "needs_background": "light"
     },
     "output_type": "display_data"
    },
    {
     "data": {
      "image/png": "[encoded data removed]",
      "text/plain": [
       "<Figure size 1080x432 with 2 Axes>"
      ]
     },
     "metadata": {
      "needs_background": "light"
     },
     "output_type": "display_data"
    },
    {
     "data": {
      "image/png": "[encoded data removed]",
      "text/plain": [
       "<Figure size 1080x432 with 2 Axes>"
      ]
     },
     "metadata": {
      "needs_background": "light"
     },
     "output_type": "display_data"
    },
    {
     "data": {
      "image/png": "[encoded data removed]",
      "text/plain": [
       "<Figure size 1080x432 with 2 Axes>"
      ]
     },
     "metadata": {
      "needs_background": "light"
     },
     "output_type": "display_data"
    }
   ],
   "source": [
    "# let's make boxplots to visualise outliers in the continuous variables \n",
    "# and histograms to get an idea of the distribution\n",
    "\n",
    "for var in numerical:\n",
    "    plt.figure(figsize=(15,6))\n",
    "    plt.subplot(1, 2, 1)\n",
    "    fig = df.boxplot(column=var)\n",
    "    fig.set_title('')\n",
    "    fig.set_ylabel(var)\n",
    "    \n",
    "    plt.subplot(1, 2, 2)\n",
    "    fig = df[var].hist(bins=20)\n",
    "    fig.set_ylabel('number')\n",
    "    fig.set_xlabel(var)\n",
    "\n",
    "    plt.show()"
   ]
  },
  {
   "cell_type": "markdown",
   "metadata": {},
   "source": [
    "We can see the following variables present outliers:\n",
    "\n",
    "- Duration (top)\n",
    "- CreditAmount (top)\n",
    "- Age (top)"
   ]
  },
  {
   "cell_type": "markdown",
   "metadata": {},
   "source": [
    "#### 5.2.2 Continue with discrete variables"
   ]
  },
  {
   "cell_type": "markdown",
   "metadata": {},
   "source": [
    "We'll consider outliers those labels in discrete variables that are pressent in less than 1% of observations"
   ]
  },
  {
   "cell_type": "code",
   "execution_count": 18,
   "metadata": {},
   "outputs": [
    {
     "data": {
      "image/png": "[encoded data removed]",
      "text/plain": [
       "<Figure size 432x288 with 1 Axes>"
      ]
     },
     "metadata": {
      "needs_background": "light"
     },
     "output_type": "display_data"
    },
    {
     "name": "stdout",
     "output_type": "stream",
     "text": [
      "\n"
     ]
    },
    {
     "data": {
      "image/png": "[encoded data removed]",
      "text/plain": [
       "<Figure size 432x288 with 1 Axes>"
      ]
     },
     "metadata": {
      "needs_background": "light"
     },
     "output_type": "display_data"
    },
    {
     "name": "stdout",
     "output_type": "stream",
     "text": [
      "\n"
     ]
    },
    {
     "data": {
      "image/png": "[encoded data removed]",
      "text/plain": [
       "<Figure size 432x288 with 1 Axes>"
      ]
     },
     "metadata": {
      "needs_background": "light"
     },
     "output_type": "display_data"
    },
    {
     "name": "stdout",
     "output_type": "stream",
     "text": [
      "\n"
     ]
    }
   ],
   "source": [
    "# outlies in discrete variables\n",
    "for var in discrete:\n",
    "    (df.groupby(var)[var].count() / np.float(len(df))).plot.bar()\n",
    "    plt.ylabel('Percentage of observations per label')\n",
    "    plt.title(var)\n",
    "    plt.show()\n",
    "    #print(data[var].value_counts() / np.float(len(data)))\n",
    "    print()"
   ]
  },
  {
   "cell_type": "markdown",
   "metadata": {},
   "source": [
    "All dicrete variables, except for CreditStatus (which is the TARGET) present outliers"
   ]
  },
  {
   "cell_type": "markdown",
   "metadata": {},
   "source": [
    "#### 5.2.3 Number of labels: Cardinality"
   ]
  },
  {
   "cell_type": "code",
   "execution_count": 19,
   "metadata": {},
   "outputs": [
    {
     "data": {
      "text/plain": [
       "Text(0, 0.5, 'Number of different categories')"
      ]
     },
     "execution_count": 19,
     "metadata": {},
     "output_type": "execute_result"
    },
    {
     "data": {
      "image/png": "[encoded data removed]",
      "text/plain": [
       "<Figure size 864x576 with 1 Axes>"
      ]
     },
     "metadata": {
      "needs_background": "light"
     },
     "output_type": "display_data"
    }
   ],
   "source": [
    "no_labels_ls = []\n",
    "for var in categorical:\n",
    "    no_labels_ls.append(len(df[var].unique()))\n",
    "    \n",
    " \n",
    "tmp = pd.Series(no_labels_ls)\n",
    "tmp.index = pd.Series(categorical)\n",
    "tmp.plot.bar(figsize=(12,8))\n",
    "plt.title('Number of categories in categorical variables')\n",
    "plt.xlabel('Categorical variables')\n",
    "plt.ylabel('Number of different categories')"
   ]
  },
  {
   "cell_type": "markdown",
   "metadata": {},
   "source": [
    "Most of them have a few categories, except for **purpose** that has 10. Yet ten categories is a reasonable number. "
   ]
  },
  {
   "cell_type": "markdown",
   "metadata": {},
   "source": [
    "####  6. Split into train and test sets"
   ]
  },
  {
   "cell_type": "code",
   "execution_count": 20,
   "metadata": {},
   "outputs": [
    {
     "data": {
      "text/plain": [
       "((807, 21), (143, 21))"
      ]
     },
     "execution_count": 20,
     "metadata": {},
     "output_type": "execute_result"
    }
   ],
   "source": [
    "# Let's separate into train and test set\n",
    "\n",
    "X_train, X_test, y_train, y_test = train_test_split(df, df.CreditStatus, test_size=0.15,\n",
    "                                                    random_state=0)\n",
    "X_train.shape, X_test.shape"
   ]
  },
  {
   "cell_type": "code",
   "execution_count": 21,
   "metadata": {
    "scrolled": false
   },
   "outputs": [
    {
     "data": {
      "text/plain": [
       "Index(['Age', 'CheckingAcctStat', 'CreditAmount', 'CreditHistory',\n",
       "       'CreditStatus', 'Duration', 'Employment', 'ExistingCreditsAtBank',\n",
       "       'ForeignWorker', 'Housing', 'InstallmentRatePecnt', 'Job',\n",
       "       'NumberDependents', 'OtherDetorsGuarantors', 'OtherInstalments',\n",
       "       'PresentResidenceTime', 'Property', 'Purpose', 'Savings',\n",
       "       'SexAndStatus', 'Telephone'],\n",
       "      dtype='object')"
      ]
     },
     "execution_count": 21,
     "metadata": {},
     "output_type": "execute_result"
    }
   ],
   "source": [
    "X_train.columns"
   ]
  },
  {
   "cell_type": "code",
   "execution_count": 22,
   "metadata": {},
   "outputs": [
    {
     "data": {
      "text/plain": [
       "424    0\n",
       "841    1\n",
       "346    0\n",
       "418    0\n",
       "682    1\n",
       "Name: CreditStatus, dtype: int64"
      ]
     },
     "execution_count": 22,
     "metadata": {},
     "output_type": "execute_result"
    }
   ],
   "source": [
    "y_train.head()"
   ]
  },
  {
   "cell_type": "markdown",
   "metadata": {},
   "source": [
    "For some reason, CreditStatus shows up in X_train. Fine, but before I chose the columsn to go on Dataframe, I will to remove from X_train/X_test "
   ]
  },
  {
   "cell_type": "markdown",
   "metadata": {},
   "source": [
    "## Part II: Feature engineering\n",
    "\n",
    "### 7. Engineering missing values\n",
    "\n",
    "**7.1 Continuous variables**"
   ]
  },
  {
   "cell_type": "code",
   "execution_count": 23,
   "metadata": {},
   "outputs": [],
   "source": [
    "# print variables with missing data\n",
    "# keep in mind that now that we created those new temporal variables, we\n",
    "# are going to treat them as numerical and continuous as well:\n",
    "\n",
    "\n",
    "# examine percentage of missing values\n",
    "for col in numerical+year_vars:\n",
    "    if X_train[col].isnull().mean()>0:\n",
    "        print(col, X_train[col].isnull().mean())"
   ]
  },
  {
   "cell_type": "markdown",
   "metadata": {},
   "source": [
    "No missing values in continuous variables"
   ]
  },
  {
   "cell_type": "markdown",
   "metadata": {},
   "source": [
    "**7.2 Discrete variables**\n",
    "\n",
    "I first redifine discrete variables (removing the TARGET)"
   ]
  },
  {
   "cell_type": "code",
   "execution_count": 24,
   "metadata": {},
   "outputs": [],
   "source": [
    "discrete = ['ExistingCreditsAtBank', 'NumberDependents']"
   ]
  },
  {
   "cell_type": "code",
   "execution_count": 25,
   "metadata": {},
   "outputs": [],
   "source": [
    "# print variables with missing data\n",
    "for col in discrete:\n",
    "    if X_train[col].isnull().mean()>0:\n",
    "        print(col, X_train[col].isnull().mean())\n"
   ]
  },
  {
   "cell_type": "markdown",
   "metadata": {},
   "source": [
    "There are no discrete variables variables with missing data\n",
    "\n"
   ]
  },
  {
   "cell_type": "markdown",
   "metadata": {},
   "source": [
    "#### 7.3 Engineering Missing data in Categorical Variables"
   ]
  },
  {
   "cell_type": "code",
   "execution_count": 26,
   "metadata": {},
   "outputs": [],
   "source": [
    "# print variables with missing data\n",
    "for col in categorical:\n",
    "    if X_train[col].isnull().mean()>0:\n",
    "        print(col, X_train[col].isnull().mean())"
   ]
  },
  {
   "cell_type": "markdown",
   "metadata": {},
   "source": [
    "No missing values in Categorical variables\n",
    "\n",
    "**Sanity check** to make sure I have no more nulls"
   ]
  },
  {
   "cell_type": "code",
   "execution_count": 27,
   "metadata": {},
   "outputs": [],
   "source": [
    "# check absence of null values\n",
    "for var in X_train.columns:\n",
    "    if X_train[var].isnull().sum()>0:\n",
    "        print(var, X_train[var].isnull().sum())"
   ]
  },
  {
   "cell_type": "code",
   "execution_count": 28,
   "metadata": {},
   "outputs": [],
   "source": [
    "# check absence of null values\n",
    "for var in X_test.columns:\n",
    "    if X_test[var].isnull().sum()>0:\n",
    "        print(var, X_test[var].isnull().sum())"
   ]
  },
  {
   "cell_type": "markdown",
   "metadata": {},
   "source": [
    "Well done! I have no more NA in the variables."
   ]
  },
  {
   "cell_type": "markdown",
   "metadata": {},
   "source": [
    "### 8. Outlier engineering\n",
    "\n",
    "#### 8.1 Outlier identification and strategy setting\n"
   ]
  },
  {
   "cell_type": "code",
   "execution_count": 29,
   "metadata": {},
   "outputs": [
    {
     "data": {
      "text/plain": [
       "['Age', 'CreditAmount', 'Duration', 'InstallmentRatePecnt']"
      ]
     },
     "execution_count": 29,
     "metadata": {},
     "output_type": "execute_result"
    }
   ],
   "source": [
    "numerical"
   ]
  },
  {
   "cell_type": "code",
   "execution_count": 30,
   "metadata": {},
   "outputs": [
    {
     "data": {
      "image/png": "[encoded data removed]",
      "text/plain": [
       "<Figure size 1080x432 with 1 Axes>"
      ]
     },
     "metadata": {
      "needs_background": "light"
     },
     "output_type": "display_data"
    },
    {
     "data": {
      "image/png": "[encoded data removed]",
      "text/plain": [
       "<Figure size 1080x432 with 1 Axes>"
      ]
     },
     "metadata": {
      "needs_background": "light"
     },
     "output_type": "display_data"
    },
    {
     "data": {
      "image/png": "[encoded data removed]",
      "text/plain": [
       "<Figure size 1080x432 with 1 Axes>"
      ]
     },
     "metadata": {
      "needs_background": "light"
     },
     "output_type": "display_data"
    },
    {
     "data": {
      "image/png": "[encoded data removed]",
      "text/plain": [
       "<Figure size 1080x432 with 1 Axes>"
      ]
     },
     "metadata": {
      "needs_background": "light"
     },
     "output_type": "display_data"
    }
   ],
   "source": [
    "for var in numerical:\n",
    "    plt.figure(figsize=(15,6))\n",
    "    plt.subplot(1, 2, 1)\n",
    "    fig = df.boxplot(column=var)\n",
    "    fig.set_title('')\n",
    "    fig.set_ylabel(var)"
   ]
  },
  {
   "cell_type": "markdown",
   "metadata": {},
   "source": [
    "As we saw, the following variables present outliers:\n",
    "\n",
    "- Duration (top)\n",
    "- CreditAmount (top)\n",
    "- Age (top)\n",
    "\n",
    "To decide how to handle these outliers, I shall check for their distribution skewness.\n",
    "   "
   ]
  },
  {
   "cell_type": "code",
   "execution_count": 31,
   "metadata": {},
   "outputs": [
    {
     "name": "stdout",
     "output_type": "stream",
     "text": [
      "Duration skewness is 0.9874464796330478\n",
      "CreditAmount skewness is 1.7628726662547298\n",
      "Age skewness is 0.968198695171307\n"
     ]
    }
   ],
   "source": [
    "# let's find the skewness of above variables\n",
    "for var in ['Duration','CreditAmount','Age']:\n",
    "    print(var, 'skewness is', df[var].skew() )"
   ]
  },
  {
   "cell_type": "markdown",
   "metadata": {},
   "source": [
    "If we consider an absolute value of 1 to be normal skewness. \n",
    "\n",
    "I shall deal with outliers as follows:\n",
    "\n",
    "    - Equal binning for variables with a skewness above 1:\n",
    "         - CreditAmount\n",
    "        \n",
    "    - Bottom/top capping for:\n",
    "        - Age\n",
    "        - Duration"
   ]
  },
  {
   "cell_type": "markdown",
   "metadata": {},
   "source": [
    "#### 8.2 Equal binning"
   ]
  },
  {
   "cell_type": "code",
   "execution_count": 32,
   "metadata": {
    "scrolled": true
   },
   "outputs": [
    {
     "name": "stdout",
     "output_type": "stream",
     "text": [
      "['Q1', 'Q2', 'Q3', 'Q4', 'Q5', 'Q6', 'Q7', 'Q8', 'Q9', 'Q10']\n"
     ]
    },
    {
     "data": {
      "text/html": [
       "<div>\n",
       "<style scoped>\n",
       "    .dataframe tbody tr th:only-of-type {\n",
       "        vertical-align: middle;\n",
       "    }\n",
       "\n",
       "    .dataframe tbody tr th {\n",
       "        vertical-align: top;\n",
       "    }\n",
       "\n",
       "    .dataframe thead th {\n",
       "        text-align: right;\n",
       "    }\n",
       "</style>\n",
       "<table border=\"1\" class=\"dataframe\">\n",
       "  <thead>\n",
       "    <tr style=\"text-align: right;\">\n",
       "      <th></th>\n",
       "      <th>Age</th>\n",
       "      <th>CheckingAcctStat</th>\n",
       "      <th>CreditAmount</th>\n",
       "      <th>CreditHistory</th>\n",
       "      <th>CreditStatus</th>\n",
       "      <th>Duration</th>\n",
       "      <th>Employment</th>\n",
       "      <th>ExistingCreditsAtBank</th>\n",
       "      <th>ForeignWorker</th>\n",
       "      <th>Housing</th>\n",
       "      <th>InstallmentRatePecnt</th>\n",
       "      <th>Job</th>\n",
       "      <th>NumberDependents</th>\n",
       "      <th>OtherDetorsGuarantors</th>\n",
       "      <th>OtherInstalments</th>\n",
       "      <th>PresentResidenceTime</th>\n",
       "      <th>Property</th>\n",
       "      <th>Purpose</th>\n",
       "      <th>Savings</th>\n",
       "      <th>SexAndStatus</th>\n",
       "      <th>Telephone</th>\n",
       "      <th>CreditAmount_label</th>\n",
       "      <th>CreditAmount_disc</th>\n",
       "    </tr>\n",
       "  </thead>\n",
       "  <tbody>\n",
       "    <tr>\n",
       "      <th>424</th>\n",
       "      <td>0.160714</td>\n",
       "      <td>A12</td>\n",
       "      <td>0.045009</td>\n",
       "      <td>A32</td>\n",
       "      <td>0</td>\n",
       "      <td>0.029412</td>\n",
       "      <td>A75</td>\n",
       "      <td>0.000000</td>\n",
       "      <td>A201</td>\n",
       "      <td>A152</td>\n",
       "      <td>1.000000</td>\n",
       "      <td>A173</td>\n",
       "      <td>1.0</td>\n",
       "      <td>A101</td>\n",
       "      <td>A143</td>\n",
       "      <td>1.000000</td>\n",
       "      <td>A123</td>\n",
       "      <td>A43</td>\n",
       "      <td>A61</td>\n",
       "      <td>A93</td>\n",
       "      <td>A191</td>\n",
       "      <td>Q2</td>\n",
       "      <td>(0.0396, 0.0571]</td>\n",
       "    </tr>\n",
       "    <tr>\n",
       "      <th>841</th>\n",
       "      <td>0.051431</td>\n",
       "      <td>A11</td>\n",
       "      <td>0.128356</td>\n",
       "      <td>A32</td>\n",
       "      <td>1</td>\n",
       "      <td>0.238102</td>\n",
       "      <td>A73</td>\n",
       "      <td>0.000000</td>\n",
       "      <td>A201</td>\n",
       "      <td>A151</td>\n",
       "      <td>0.333333</td>\n",
       "      <td>A172</td>\n",
       "      <td>1.0</td>\n",
       "      <td>A101</td>\n",
       "      <td>A143</td>\n",
       "      <td>0.906557</td>\n",
       "      <td>A121</td>\n",
       "      <td>A43</td>\n",
       "      <td>A61</td>\n",
       "      <td>A92</td>\n",
       "      <td>A191</td>\n",
       "      <td>Q6</td>\n",
       "      <td>(0.128, 0.155]</td>\n",
       "    </tr>\n",
       "    <tr>\n",
       "      <th>346</th>\n",
       "      <td>0.267857</td>\n",
       "      <td>A12</td>\n",
       "      <td>0.152250</td>\n",
       "      <td>A32</td>\n",
       "      <td>0</td>\n",
       "      <td>0.117647</td>\n",
       "      <td>A72</td>\n",
       "      <td>0.000000</td>\n",
       "      <td>A201</td>\n",
       "      <td>A151</td>\n",
       "      <td>0.666667</td>\n",
       "      <td>A174</td>\n",
       "      <td>0.0</td>\n",
       "      <td>A101</td>\n",
       "      <td>A143</td>\n",
       "      <td>0.000000</td>\n",
       "      <td>A121</td>\n",
       "      <td>A42</td>\n",
       "      <td>A61</td>\n",
       "      <td>A92</td>\n",
       "      <td>A191</td>\n",
       "      <td>Q6</td>\n",
       "      <td>(0.128, 0.155]</td>\n",
       "    </tr>\n",
       "    <tr>\n",
       "      <th>418</th>\n",
       "      <td>0.250000</td>\n",
       "      <td>A14</td>\n",
       "      <td>0.071146</td>\n",
       "      <td>A32</td>\n",
       "      <td>0</td>\n",
       "      <td>0.029412</td>\n",
       "      <td>A73</td>\n",
       "      <td>0.000000</td>\n",
       "      <td>A201</td>\n",
       "      <td>A152</td>\n",
       "      <td>1.000000</td>\n",
       "      <td>A173</td>\n",
       "      <td>0.0</td>\n",
       "      <td>A101</td>\n",
       "      <td>A143</td>\n",
       "      <td>0.333333</td>\n",
       "      <td>A121</td>\n",
       "      <td>A42</td>\n",
       "      <td>A64</td>\n",
       "      <td>A91</td>\n",
       "      <td>A191</td>\n",
       "      <td>Q3</td>\n",
       "      <td>(0.0571, 0.0724]</td>\n",
       "    </tr>\n",
       "    <tr>\n",
       "      <th>682</th>\n",
       "      <td>0.134744</td>\n",
       "      <td>A11</td>\n",
       "      <td>0.124458</td>\n",
       "      <td>A32</td>\n",
       "      <td>1</td>\n",
       "      <td>0.257328</td>\n",
       "      <td>A72</td>\n",
       "      <td>0.000000</td>\n",
       "      <td>A201</td>\n",
       "      <td>A152</td>\n",
       "      <td>0.561093</td>\n",
       "      <td>A172</td>\n",
       "      <td>0.0</td>\n",
       "      <td>A101</td>\n",
       "      <td>A143</td>\n",
       "      <td>0.691626</td>\n",
       "      <td>A123</td>\n",
       "      <td>A40</td>\n",
       "      <td>A61</td>\n",
       "      <td>A93</td>\n",
       "      <td>A191</td>\n",
       "      <td>Q5</td>\n",
       "      <td>(0.0987, 0.128]</td>\n",
       "    </tr>\n",
       "    <tr>\n",
       "      <th>312</th>\n",
       "      <td>0.214286</td>\n",
       "      <td>A14</td>\n",
       "      <td>0.062892</td>\n",
       "      <td>A32</td>\n",
       "      <td>0</td>\n",
       "      <td>0.294118</td>\n",
       "      <td>A73</td>\n",
       "      <td>0.000000</td>\n",
       "      <td>A201</td>\n",
       "      <td>A152</td>\n",
       "      <td>0.333333</td>\n",
       "      <td>A173</td>\n",
       "      <td>0.0</td>\n",
       "      <td>A103</td>\n",
       "      <td>A143</td>\n",
       "      <td>0.333333</td>\n",
       "      <td>A121</td>\n",
       "      <td>A40</td>\n",
       "      <td>A61</td>\n",
       "      <td>A93</td>\n",
       "      <td>A192</td>\n",
       "      <td>Q3</td>\n",
       "      <td>(0.0571, 0.0724]</td>\n",
       "    </tr>\n",
       "    <tr>\n",
       "      <th>577</th>\n",
       "      <td>0.267857</td>\n",
       "      <td>A12</td>\n",
       "      <td>0.363156</td>\n",
       "      <td>A31</td>\n",
       "      <td>1</td>\n",
       "      <td>0.161765</td>\n",
       "      <td>A71</td>\n",
       "      <td>0.000000</td>\n",
       "      <td>A201</td>\n",
       "      <td>A152</td>\n",
       "      <td>0.000000</td>\n",
       "      <td>A174</td>\n",
       "      <td>1.0</td>\n",
       "      <td>A101</td>\n",
       "      <td>A143</td>\n",
       "      <td>0.333333</td>\n",
       "      <td>A122</td>\n",
       "      <td>A40</td>\n",
       "      <td>A62</td>\n",
       "      <td>A93</td>\n",
       "      <td>A192</td>\n",
       "      <td>Q9</td>\n",
       "      <td>(0.274, 0.37]</td>\n",
       "    </tr>\n",
       "    <tr>\n",
       "      <th>175</th>\n",
       "      <td>0.642857</td>\n",
       "      <td>A14</td>\n",
       "      <td>0.071806</td>\n",
       "      <td>A33</td>\n",
       "      <td>1</td>\n",
       "      <td>0.117647</td>\n",
       "      <td>A75</td>\n",
       "      <td>0.333333</td>\n",
       "      <td>A201</td>\n",
       "      <td>A153</td>\n",
       "      <td>1.000000</td>\n",
       "      <td>A173</td>\n",
       "      <td>1.0</td>\n",
       "      <td>A101</td>\n",
       "      <td>A143</td>\n",
       "      <td>1.000000</td>\n",
       "      <td>A124</td>\n",
       "      <td>A45</td>\n",
       "      <td>A64</td>\n",
       "      <td>A93</td>\n",
       "      <td>A191</td>\n",
       "      <td>Q3</td>\n",
       "      <td>(0.0571, 0.0724]</td>\n",
       "    </tr>\n",
       "    <tr>\n",
       "      <th>193</th>\n",
       "      <td>0.500000</td>\n",
       "      <td>A11</td>\n",
       "      <td>0.026466</td>\n",
       "      <td>A34</td>\n",
       "      <td>0</td>\n",
       "      <td>0.058824</td>\n",
       "      <td>A75</td>\n",
       "      <td>0.333333</td>\n",
       "      <td>A201</td>\n",
       "      <td>A152</td>\n",
       "      <td>1.000000</td>\n",
       "      <td>A172</td>\n",
       "      <td>0.0</td>\n",
       "      <td>A101</td>\n",
       "      <td>A143</td>\n",
       "      <td>1.000000</td>\n",
       "      <td>A121</td>\n",
       "      <td>A40</td>\n",
       "      <td>A61</td>\n",
       "      <td>A93</td>\n",
       "      <td>A191</td>\n",
       "      <td>Q1</td>\n",
       "      <td>(0.0039, 0.0396]</td>\n",
       "    </tr>\n",
       "    <tr>\n",
       "      <th>5</th>\n",
       "      <td>0.446429</td>\n",
       "      <td>A11</td>\n",
       "      <td>0.131892</td>\n",
       "      <td>A32</td>\n",
       "      <td>0</td>\n",
       "      <td>0.029412</td>\n",
       "      <td>A73</td>\n",
       "      <td>0.000000</td>\n",
       "      <td>A201</td>\n",
       "      <td>A151</td>\n",
       "      <td>0.333333</td>\n",
       "      <td>A173</td>\n",
       "      <td>1.0</td>\n",
       "      <td>A101</td>\n",
       "      <td>A143</td>\n",
       "      <td>0.666667</td>\n",
       "      <td>A121</td>\n",
       "      <td>A43</td>\n",
       "      <td>A63</td>\n",
       "      <td>A93</td>\n",
       "      <td>A191</td>\n",
       "      <td>Q6</td>\n",
       "      <td>(0.128, 0.155]</td>\n",
       "    </tr>\n",
       "  </tbody>\n",
       "</table>\n",
       "</div>"
      ],
      "text/plain": [
       "          Age CheckingAcctStat  CreditAmount CreditHistory  CreditStatus  \\\n",
       "424  0.160714              A12      0.045009           A32             0   \n",
       "841  0.051431              A11      0.128356           A32             1   \n",
       "346  0.267857              A12      0.152250           A32             0   \n",
       "418  0.250000              A14      0.071146           A32             0   \n",
       "682  0.134744              A11      0.124458           A32             1   \n",
       "312  0.214286              A14      0.062892           A32             0   \n",
       "577  0.267857              A12      0.363156           A31             1   \n",
       "175  0.642857              A14      0.071806           A33             1   \n",
       "193  0.500000              A11      0.026466           A34             0   \n",
       "5    0.446429              A11      0.131892           A32             0   \n",
       "\n",
       "     Duration Employment  ExistingCreditsAtBank ForeignWorker Housing  \\\n",
       "424  0.029412        A75               0.000000          A201    A152   \n",
       "841  0.238102        A73               0.000000          A201    A151   \n",
       "346  0.117647        A72               0.000000          A201    A151   \n",
       "418  0.029412        A73               0.000000          A201    A152   \n",
       "682  0.257328        A72               0.000000          A201    A152   \n",
       "312  0.294118        A73               0.000000          A201    A152   \n",
       "577  0.161765        A71               0.000000          A201    A152   \n",
       "175  0.117647        A75               0.333333          A201    A153   \n",
       "193  0.058824        A75               0.333333          A201    A152   \n",
       "5    0.029412        A73               0.000000          A201    A151   \n",
       "\n",
       "     InstallmentRatePecnt   Job  NumberDependents OtherDetorsGuarantors  \\\n",
       "424              1.000000  A173               1.0                  A101   \n",
       "841              0.333333  A172               1.0                  A101   \n",
       "346              0.666667  A174               0.0                  A101   \n",
       "418              1.000000  A173               0.0                  A101   \n",
       "682              0.561093  A172               0.0                  A101   \n",
       "312              0.333333  A173               0.0                  A103   \n",
       "577              0.000000  A174               1.0                  A101   \n",
       "175              1.000000  A173               1.0                  A101   \n",
       "193              1.000000  A172               0.0                  A101   \n",
       "5                0.333333  A173               1.0                  A101   \n",
       "\n",
       "    OtherInstalments  PresentResidenceTime Property Purpose Savings  \\\n",
       "424             A143              1.000000     A123     A43     A61   \n",
       "841             A143              0.906557     A121     A43     A61   \n",
       "346             A143              0.000000     A121     A42     A61   \n",
       "418             A143              0.333333     A121     A42     A64   \n",
       "682             A143              0.691626     A123     A40     A61   \n",
       "312             A143              0.333333     A121     A40     A61   \n",
       "577             A143              0.333333     A122     A40     A62   \n",
       "175             A143              1.000000     A124     A45     A64   \n",
       "193             A143              1.000000     A121     A40     A61   \n",
       "5               A143              0.666667     A121     A43     A63   \n",
       "\n",
       "    SexAndStatus Telephone CreditAmount_label CreditAmount_disc  \n",
       "424          A93      A191                 Q2  (0.0396, 0.0571]  \n",
       "841          A92      A191                 Q6    (0.128, 0.155]  \n",
       "346          A92      A191                 Q6    (0.128, 0.155]  \n",
       "418          A91      A191                 Q3  (0.0571, 0.0724]  \n",
       "682          A93      A191                 Q5   (0.0987, 0.128]  \n",
       "312          A93      A192                 Q3  (0.0571, 0.0724]  \n",
       "577          A93      A192                 Q9     (0.274, 0.37]  \n",
       "175          A93      A191                 Q3  (0.0571, 0.0724]  \n",
       "193          A93      A191                 Q1  (0.0039, 0.0396]  \n",
       "5            A93      A191                 Q6    (0.128, 0.155]  "
      ]
     },
     "execution_count": 32,
     "metadata": {},
     "output_type": "execute_result"
    }
   ],
   "source": [
    "# and now, I will divide into 10 quantiles for the rest of the exercise. I will leave the quantile\n",
    "# boundary and generate labels as well for comparison\n",
    "\n",
    "# create 10 labels, one for each quantile\n",
    "labels = ['Q'+str(i+1) for i in range(0,10)]\n",
    "print(labels)\n",
    "\n",
    "\n",
    "# bins with labels\n",
    "X_train['CreditAmount_label'], bins = pd.qcut(x=X_train.CreditAmount, q=10, labels=labels, retbins=True, precision=3, duplicates='raise')\n",
    "\n",
    "# bins with boundaries\n",
    "X_train['CreditAmount_disc'], bins = pd.qcut(x=X_train.CreditAmount, q=10, retbins=True, precision=3, duplicates='raise')\n",
    "\n",
    "\n",
    "X_train.head(10)"
   ]
  },
  {
   "cell_type": "code",
   "execution_count": 33,
   "metadata": {},
   "outputs": [
    {
     "name": "stdout",
     "output_type": "stream",
     "text": [
      "['Q1', 'Q2', 'Q3', 'Q4', 'Q5', 'Q6', 'Q7', 'Q8', 'Q9', 'Q10']\n"
     ]
    }
   ],
   "source": [
    "# create 10 labels, one for each quantile\n",
    "labels = ['Q'+str(i+1) for i in range(0,10)]\n",
    "print(labels)\n",
    "\n",
    "# bins with labels\n",
    "X_train['CreditAmount_label'], bins = pd.qcut(x=X_train.CreditAmount, q=10, labels=labels, retbins=True, precision=3, duplicates='raise')\n",
    "\n",
    "# bins with boundaries\n",
    "X_train['CreditAmount_disc'], bins = pd.qcut(x=X_train.CreditAmount, q=10, retbins=True, precision=3, duplicates='raise')\n",
    "\n",
    "\n"
   ]
  },
  {
   "cell_type": "code",
   "execution_count": 34,
   "metadata": {
    "scrolled": false
   },
   "outputs": [
    {
     "data": {
      "text/html": [
       "<div>\n",
       "<style scoped>\n",
       "    .dataframe tbody tr th:only-of-type {\n",
       "        vertical-align: middle;\n",
       "    }\n",
       "\n",
       "    .dataframe tbody tr th {\n",
       "        vertical-align: top;\n",
       "    }\n",
       "\n",
       "    .dataframe thead th {\n",
       "        text-align: right;\n",
       "    }\n",
       "</style>\n",
       "<table border=\"1\" class=\"dataframe\">\n",
       "  <thead>\n",
       "    <tr style=\"text-align: right;\">\n",
       "      <th></th>\n",
       "      <th>Age</th>\n",
       "      <th>CheckingAcctStat</th>\n",
       "      <th>CreditAmount</th>\n",
       "      <th>CreditHistory</th>\n",
       "      <th>CreditStatus</th>\n",
       "      <th>Duration</th>\n",
       "      <th>Employment</th>\n",
       "      <th>ExistingCreditsAtBank</th>\n",
       "      <th>ForeignWorker</th>\n",
       "      <th>Housing</th>\n",
       "      <th>InstallmentRatePecnt</th>\n",
       "      <th>Job</th>\n",
       "      <th>NumberDependents</th>\n",
       "      <th>OtherDetorsGuarantors</th>\n",
       "      <th>OtherInstalments</th>\n",
       "      <th>PresentResidenceTime</th>\n",
       "      <th>Property</th>\n",
       "      <th>Purpose</th>\n",
       "      <th>Savings</th>\n",
       "      <th>SexAndStatus</th>\n",
       "      <th>Telephone</th>\n",
       "      <th>CreditAmount_label</th>\n",
       "      <th>CreditAmount_disc</th>\n",
       "    </tr>\n",
       "  </thead>\n",
       "  <tbody>\n",
       "    <tr>\n",
       "      <th>424</th>\n",
       "      <td>0.160714</td>\n",
       "      <td>A12</td>\n",
       "      <td>0.045009</td>\n",
       "      <td>A32</td>\n",
       "      <td>0</td>\n",
       "      <td>0.029412</td>\n",
       "      <td>A75</td>\n",
       "      <td>0.0</td>\n",
       "      <td>A201</td>\n",
       "      <td>A152</td>\n",
       "      <td>1.000000</td>\n",
       "      <td>A173</td>\n",
       "      <td>1.0</td>\n",
       "      <td>A101</td>\n",
       "      <td>A143</td>\n",
       "      <td>1.000000</td>\n",
       "      <td>A123</td>\n",
       "      <td>A43</td>\n",
       "      <td>A61</td>\n",
       "      <td>A93</td>\n",
       "      <td>A191</td>\n",
       "      <td>Q2</td>\n",
       "      <td>(0.0396, 0.0571]</td>\n",
       "    </tr>\n",
       "    <tr>\n",
       "      <th>841</th>\n",
       "      <td>0.051431</td>\n",
       "      <td>A11</td>\n",
       "      <td>0.128356</td>\n",
       "      <td>A32</td>\n",
       "      <td>1</td>\n",
       "      <td>0.238102</td>\n",
       "      <td>A73</td>\n",
       "      <td>0.0</td>\n",
       "      <td>A201</td>\n",
       "      <td>A151</td>\n",
       "      <td>0.333333</td>\n",
       "      <td>A172</td>\n",
       "      <td>1.0</td>\n",
       "      <td>A101</td>\n",
       "      <td>A143</td>\n",
       "      <td>0.906557</td>\n",
       "      <td>A121</td>\n",
       "      <td>A43</td>\n",
       "      <td>A61</td>\n",
       "      <td>A92</td>\n",
       "      <td>A191</td>\n",
       "      <td>Q6</td>\n",
       "      <td>(0.128, 0.155]</td>\n",
       "    </tr>\n",
       "    <tr>\n",
       "      <th>346</th>\n",
       "      <td>0.267857</td>\n",
       "      <td>A12</td>\n",
       "      <td>0.152250</td>\n",
       "      <td>A32</td>\n",
       "      <td>0</td>\n",
       "      <td>0.117647</td>\n",
       "      <td>A72</td>\n",
       "      <td>0.0</td>\n",
       "      <td>A201</td>\n",
       "      <td>A151</td>\n",
       "      <td>0.666667</td>\n",
       "      <td>A174</td>\n",
       "      <td>0.0</td>\n",
       "      <td>A101</td>\n",
       "      <td>A143</td>\n",
       "      <td>0.000000</td>\n",
       "      <td>A121</td>\n",
       "      <td>A42</td>\n",
       "      <td>A61</td>\n",
       "      <td>A92</td>\n",
       "      <td>A191</td>\n",
       "      <td>Q6</td>\n",
       "      <td>(0.128, 0.155]</td>\n",
       "    </tr>\n",
       "    <tr>\n",
       "      <th>418</th>\n",
       "      <td>0.250000</td>\n",
       "      <td>A14</td>\n",
       "      <td>0.071146</td>\n",
       "      <td>A32</td>\n",
       "      <td>0</td>\n",
       "      <td>0.029412</td>\n",
       "      <td>A73</td>\n",
       "      <td>0.0</td>\n",
       "      <td>A201</td>\n",
       "      <td>A152</td>\n",
       "      <td>1.000000</td>\n",
       "      <td>A173</td>\n",
       "      <td>0.0</td>\n",
       "      <td>A101</td>\n",
       "      <td>A143</td>\n",
       "      <td>0.333333</td>\n",
       "      <td>A121</td>\n",
       "      <td>A42</td>\n",
       "      <td>A64</td>\n",
       "      <td>A91</td>\n",
       "      <td>A191</td>\n",
       "      <td>Q3</td>\n",
       "      <td>(0.0571, 0.0724]</td>\n",
       "    </tr>\n",
       "    <tr>\n",
       "      <th>682</th>\n",
       "      <td>0.134744</td>\n",
       "      <td>A11</td>\n",
       "      <td>0.124458</td>\n",
       "      <td>A32</td>\n",
       "      <td>1</td>\n",
       "      <td>0.257328</td>\n",
       "      <td>A72</td>\n",
       "      <td>0.0</td>\n",
       "      <td>A201</td>\n",
       "      <td>A152</td>\n",
       "      <td>0.561093</td>\n",
       "      <td>A172</td>\n",
       "      <td>0.0</td>\n",
       "      <td>A101</td>\n",
       "      <td>A143</td>\n",
       "      <td>0.691626</td>\n",
       "      <td>A123</td>\n",
       "      <td>A40</td>\n",
       "      <td>A61</td>\n",
       "      <td>A93</td>\n",
       "      <td>A191</td>\n",
       "      <td>Q5</td>\n",
       "      <td>(0.0987, 0.128]</td>\n",
       "    </tr>\n",
       "  </tbody>\n",
       "</table>\n",
       "</div>"
      ],
      "text/plain": [
       "          Age CheckingAcctStat  CreditAmount CreditHistory  CreditStatus  \\\n",
       "424  0.160714              A12      0.045009           A32             0   \n",
       "841  0.051431              A11      0.128356           A32             1   \n",
       "346  0.267857              A12      0.152250           A32             0   \n",
       "418  0.250000              A14      0.071146           A32             0   \n",
       "682  0.134744              A11      0.124458           A32             1   \n",
       "\n",
       "     Duration Employment  ExistingCreditsAtBank ForeignWorker Housing  \\\n",
       "424  0.029412        A75                    0.0          A201    A152   \n",
       "841  0.238102        A73                    0.0          A201    A151   \n",
       "346  0.117647        A72                    0.0          A201    A151   \n",
       "418  0.029412        A73                    0.0          A201    A152   \n",
       "682  0.257328        A72                    0.0          A201    A152   \n",
       "\n",
       "     InstallmentRatePecnt   Job  NumberDependents OtherDetorsGuarantors  \\\n",
       "424              1.000000  A173               1.0                  A101   \n",
       "841              0.333333  A172               1.0                  A101   \n",
       "346              0.666667  A174               0.0                  A101   \n",
       "418              1.000000  A173               0.0                  A101   \n",
       "682              0.561093  A172               0.0                  A101   \n",
       "\n",
       "    OtherInstalments  PresentResidenceTime Property Purpose Savings  \\\n",
       "424             A143              1.000000     A123     A43     A61   \n",
       "841             A143              0.906557     A121     A43     A61   \n",
       "346             A143              0.000000     A121     A42     A61   \n",
       "418             A143              0.333333     A121     A42     A64   \n",
       "682             A143              0.691626     A123     A40     A61   \n",
       "\n",
       "    SexAndStatus Telephone CreditAmount_label CreditAmount_disc  \n",
       "424          A93      A191                 Q2  (0.0396, 0.0571]  \n",
       "841          A92      A191                 Q6    (0.128, 0.155]  \n",
       "346          A92      A191                 Q6    (0.128, 0.155]  \n",
       "418          A91      A191                 Q3  (0.0571, 0.0724]  \n",
       "682          A93      A191                 Q5   (0.0987, 0.128]  "
      ]
     },
     "execution_count": 34,
     "metadata": {},
     "output_type": "execute_result"
    }
   ],
   "source": [
    "# we use pandas cut method and pass the quantile edges calculated in the training set\n",
    "\n",
    "X_test['CreditAmount_disc'] = pd.cut(x = X_test.CreditAmount, bins=bins, labels=labels)\n",
    "\n",
    "\n",
    "X_test['CreditAmount_label'] = pd.cut(x = X_test.CreditAmount, bins=bins, labels=labels)\n",
    "\n",
    "\n",
    "\n",
    "\n",
    "\n",
    "\n",
    "X_train.head()"
   ]
  },
  {
   "cell_type": "markdown",
   "metadata": {},
   "source": [
    "Check for NA before I continue"
   ]
  },
  {
   "cell_type": "code",
   "execution_count": 35,
   "metadata": {},
   "outputs": [
    {
     "data": {
      "text/plain": [
       "Age                      0\n",
       "CheckingAcctStat         0\n",
       "CreditAmount             0\n",
       "CreditHistory            0\n",
       "CreditStatus             0\n",
       "Duration                 0\n",
       "Employment               0\n",
       "ExistingCreditsAtBank    0\n",
       "ForeignWorker            0\n",
       "Housing                  0\n",
       "InstallmentRatePecnt     0\n",
       "Job                      0\n",
       "NumberDependents         0\n",
       "OtherDetorsGuarantors    0\n",
       "OtherInstalments         0\n",
       "PresentResidenceTime     0\n",
       "Property                 0\n",
       "Purpose                  0\n",
       "Savings                  0\n",
       "SexAndStatus             0\n",
       "Telephone                0\n",
       "CreditAmount_label       0\n",
       "CreditAmount_disc        0\n",
       "dtype: int64"
      ]
     },
     "execution_count": 35,
     "metadata": {},
     "output_type": "execute_result"
    }
   ],
   "source": [
    "X_train.isnull().sum()"
   ]
  },
  {
   "cell_type": "code",
   "execution_count": 36,
   "metadata": {},
   "outputs": [
    {
     "data": {
      "text/plain": [
       "Age                      0\n",
       "CheckingAcctStat         0\n",
       "CreditAmount             0\n",
       "CreditHistory            0\n",
       "CreditStatus             0\n",
       "Duration                 0\n",
       "Employment               0\n",
       "ExistingCreditsAtBank    0\n",
       "ForeignWorker            0\n",
       "Housing                  0\n",
       "InstallmentRatePecnt     0\n",
       "Job                      0\n",
       "NumberDependents         0\n",
       "OtherDetorsGuarantors    0\n",
       "OtherInstalments         0\n",
       "PresentResidenceTime     0\n",
       "Property                 0\n",
       "Purpose                  0\n",
       "Savings                  0\n",
       "SexAndStatus             0\n",
       "Telephone                0\n",
       "CreditAmount_disc        3\n",
       "CreditAmount_label       3\n",
       "dtype: int64"
      ]
     },
     "execution_count": 36,
     "metadata": {},
     "output_type": "execute_result"
    }
   ],
   "source": [
    "X_test.isnull().sum()"
   ]
  },
  {
   "cell_type": "code",
   "execution_count": 37,
   "metadata": {},
   "outputs": [
    {
     "data": {
      "text/plain": [
       "'Q2'"
      ]
     },
     "execution_count": 37,
     "metadata": {},
     "output_type": "execute_result"
    }
   ],
   "source": [
    "# Replace missing values with most common label\n",
    "# with this command we capture the most frequent label (check output with plot above)\n",
    "X_train.groupby(['CreditAmount_label'])['CreditAmount_label'].count().sort_values(ascending=False).index[0]"
   ]
  },
  {
   "cell_type": "code",
   "execution_count": 38,
   "metadata": {},
   "outputs": [
    {
     "data": {
      "text/plain": [
       "Interval(0.0396, 0.0571, closed='right')"
      ]
     },
     "execution_count": 38,
     "metadata": {},
     "output_type": "execute_result"
    }
   ],
   "source": [
    "# Replace missing values with most common label\n",
    "# with this command we capture the most frequent label (check output with plot above)\n",
    "X_train.groupby(['CreditAmount_disc'])['CreditAmount_disc'].count().sort_values(ascending=False).index[0]"
   ]
  },
  {
   "cell_type": "code",
   "execution_count": 39,
   "metadata": {},
   "outputs": [],
   "source": [
    "# let's create a variable to replace NA with the most frequent label\n",
    "# both in train and test set\n",
    "\n",
    "def impute_na(df_train, df_test, variable):\n",
    "    most_frequent_category = df_train.groupby([variable])[variable].count().sort_values(ascending=False).index[0]\n",
    "    df_train[variable].fillna(most_frequent_category, inplace=True)\n",
    "    df_test[variable].fillna(most_frequent_category, inplace=True)"
   ]
  },
  {
   "cell_type": "code",
   "execution_count": 40,
   "metadata": {},
   "outputs": [],
   "source": [
    "# and let's replace the NA\n",
    "for variable in ['CreditAmount_label']:\n",
    "    impute_na(X_train, X_test, variable)"
   ]
  },
  {
   "cell_type": "markdown",
   "metadata": {},
   "source": [
    "Now I will drop the var_disc, as I will use the varibles_label. \n",
    "\n"
   ]
  },
  {
   "cell_type": "code",
   "execution_count": 41,
   "metadata": {},
   "outputs": [],
   "source": [
    "X_train = X_train.drop('CreditAmount_disc', axis = 1)\n",
    "X_test = X_test.drop('CreditAmount_disc', axis = 1)\n",
    "\n"
   ]
  },
  {
   "cell_type": "code",
   "execution_count": 42,
   "metadata": {},
   "outputs": [
    {
     "data": {
      "text/plain": [
       "Age                      0\n",
       "CheckingAcctStat         0\n",
       "CreditAmount             0\n",
       "CreditHistory            0\n",
       "CreditStatus             0\n",
       "Duration                 0\n",
       "Employment               0\n",
       "ExistingCreditsAtBank    0\n",
       "ForeignWorker            0\n",
       "Housing                  0\n",
       "InstallmentRatePecnt     0\n",
       "Job                      0\n",
       "NumberDependents         0\n",
       "OtherDetorsGuarantors    0\n",
       "OtherInstalments         0\n",
       "PresentResidenceTime     0\n",
       "Property                 0\n",
       "Purpose                  0\n",
       "Savings                  0\n",
       "SexAndStatus             0\n",
       "Telephone                0\n",
       "CreditAmount_label       0\n",
       "dtype: int64"
      ]
     },
     "execution_count": 42,
     "metadata": {},
     "output_type": "execute_result"
    }
   ],
   "source": [
    "X_train.isnull().sum()"
   ]
  },
  {
   "cell_type": "code",
   "execution_count": 43,
   "metadata": {},
   "outputs": [
    {
     "data": {
      "text/plain": [
       "Age                      0\n",
       "CheckingAcctStat         0\n",
       "CreditAmount             0\n",
       "CreditHistory            0\n",
       "CreditStatus             0\n",
       "Duration                 0\n",
       "Employment               0\n",
       "ExistingCreditsAtBank    0\n",
       "ForeignWorker            0\n",
       "Housing                  0\n",
       "InstallmentRatePecnt     0\n",
       "Job                      0\n",
       "NumberDependents         0\n",
       "OtherDetorsGuarantors    0\n",
       "OtherInstalments         0\n",
       "PresentResidenceTime     0\n",
       "Property                 0\n",
       "Purpose                  0\n",
       "Savings                  0\n",
       "SexAndStatus             0\n",
       "Telephone                0\n",
       "CreditAmount_label       0\n",
       "dtype: int64"
      ]
     },
     "execution_count": 43,
     "metadata": {},
     "output_type": "execute_result"
    }
   ],
   "source": [
    "X_test.isnull().sum()"
   ]
  },
  {
   "cell_type": "markdown",
   "metadata": {},
   "source": [
    "#### 8.2.1 Combine discretisation with label ordering according to the target\n",
    "\n",
    "I shall proceed to encode using mean or risk enconding."
   ]
  },
  {
   "cell_type": "code",
   "execution_count": 44,
   "metadata": {},
   "outputs": [
    {
     "data": {
      "text/plain": [
       "{'Q1': 0.49382716049382713,\n",
       " 'Q2': 0.5121951219512195,\n",
       " 'Q3': 0.3670886075949367,\n",
       " 'Q4': 0.4691358024691358,\n",
       " 'Q5': 0.5061728395061729,\n",
       " 'Q6': 0.5875,\n",
       " 'Q7': 0.5185185185185185,\n",
       " 'Q8': 0.7375,\n",
       " 'Q9': 0.6049382716049383,\n",
       " 'Q10': 0.6419753086419753}"
      ]
     },
     "execution_count": 44,
     "metadata": {},
     "output_type": "execute_result"
    }
   ],
   "source": [
    "ordered_labels = X_train.groupby(['CreditAmount_label'])['CreditStatus'].mean().to_dict()\n",
    "ordered_labels\n",
    "\n"
   ]
  },
  {
   "cell_type": "code",
   "execution_count": 45,
   "metadata": {},
   "outputs": [],
   "source": [
    "# replace the labels with the 'risk' (target frequency)\n",
    "# note that we calculated the frequencies based on the training set only\n",
    "\n",
    "X_train['CreditAmount_ordered'] = X_train.CreditAmount_label.map(ordered_labels)\n",
    "X_test['CreditAmount_ordered'] = X_test.CreditAmount_label.map(ordered_labels)\n",
    "\n",
    "\n"
   ]
  },
  {
   "cell_type": "markdown",
   "metadata": {},
   "source": [
    "To prevent overfitting, now I can delete those columns used to created the var_label"
   ]
  },
  {
   "cell_type": "code",
   "execution_count": 46,
   "metadata": {},
   "outputs": [],
   "source": [
    "X_train = X_train.drop('CreditAmount_label', axis = 1)\n",
    "X_test = X_test.drop('CreditAmount_label', axis = 1)\n",
    "\n",
    "#Also delete original column CreditAmount\n",
    "X_train = X_train.drop('CreditAmount', axis = 1)\n",
    "X_test = X_test.drop('CreditAmount', axis = 1)\n"
   ]
  },
  {
   "cell_type": "code",
   "execution_count": 47,
   "metadata": {},
   "outputs": [
    {
     "data": {
      "text/plain": [
       "Age                      0\n",
       "CheckingAcctStat         0\n",
       "CreditHistory            0\n",
       "CreditStatus             0\n",
       "Duration                 0\n",
       "Employment               0\n",
       "ExistingCreditsAtBank    0\n",
       "ForeignWorker            0\n",
       "Housing                  0\n",
       "InstallmentRatePecnt     0\n",
       "Job                      0\n",
       "NumberDependents         0\n",
       "OtherDetorsGuarantors    0\n",
       "OtherInstalments         0\n",
       "PresentResidenceTime     0\n",
       "Property                 0\n",
       "Purpose                  0\n",
       "Savings                  0\n",
       "SexAndStatus             0\n",
       "Telephone                0\n",
       "CreditAmount_ordered     0\n",
       "dtype: int64"
      ]
     },
     "execution_count": 47,
     "metadata": {},
     "output_type": "execute_result"
    }
   ],
   "source": [
    "X_train.isnull().sum()"
   ]
  },
  {
   "cell_type": "code",
   "execution_count": 48,
   "metadata": {},
   "outputs": [
    {
     "data": {
      "text/plain": [
       "Age                      0\n",
       "CheckingAcctStat         0\n",
       "CreditHistory            0\n",
       "CreditStatus             0\n",
       "Duration                 0\n",
       "Employment               0\n",
       "ExistingCreditsAtBank    0\n",
       "ForeignWorker            0\n",
       "Housing                  0\n",
       "InstallmentRatePecnt     0\n",
       "Job                      0\n",
       "NumberDependents         0\n",
       "OtherDetorsGuarantors    0\n",
       "OtherInstalments         0\n",
       "PresentResidenceTime     0\n",
       "Property                 0\n",
       "Purpose                  0\n",
       "Savings                  0\n",
       "SexAndStatus             0\n",
       "Telephone                0\n",
       "CreditAmount_ordered     0\n",
       "dtype: int64"
      ]
     },
     "execution_count": 48,
     "metadata": {},
     "output_type": "execute_result"
    }
   ],
   "source": [
    "X_test.isnull().sum()"
   ]
  },
  {
   "cell_type": "markdown",
   "metadata": {},
   "source": [
    "**8.3 Outlier handling with Top/Bottom caping**\n",
    "\n",
    "For variables with skew values less than absolute 1"
   ]
  },
  {
   "cell_type": "markdown",
   "metadata": {},
   "source": [
    "- Duration (top)\n",
    "- Age (top)"
   ]
  },
  {
   "cell_type": "code",
   "execution_count": 49,
   "metadata": {},
   "outputs": [],
   "source": [
    "outliertopbot = ['Duration',\n",
    "'Age']"
   ]
  },
  {
   "cell_type": "code",
   "execution_count": 50,
   "metadata": {},
   "outputs": [
    {
     "name": "stdout",
     "output_type": "stream",
     "text": [
      "['Duration'] -0.588235292 & 1.0588235270000002\n",
      "['Age'] -0.6724138319999998 & 1.1918103742499997\n"
     ]
    }
   ],
   "source": [
    "for var in outliertopbot:\n",
    "    IQR = df[var].quantile(0.75) - df[var].quantile(0.25)\n",
    "    Lower_fence = df[var].quantile(0.25) - (IQR * 3)\n",
    "    Upper_fence = df[var].quantile(0.75) + (IQR * 3)\n",
    "    print([var],Lower_fence,'&', Upper_fence)\n",
    "\n"
   ]
  },
  {
   "cell_type": "code",
   "execution_count": 51,
   "metadata": {},
   "outputs": [],
   "source": [
    "def top_code(df, variable, top):\n",
    "    return np.where(df[variable]>=top, top, df[variable])\n",
    "\n",
    "for df in [X_train, X_test]:\n",
    "    df['Duration'] = top_code(df, 'Duration', 1.0588)\n",
    "    df['Age'] = top_code(df, 'Age', 1.1918)\n"
   ]
  },
  {
   "cell_type": "code",
   "execution_count": 52,
   "metadata": {},
   "outputs": [
    {
     "data": {
      "text/plain": [
       "count    143.000000\n",
       "mean       0.261901\n",
       "std        0.175265\n",
       "min        0.026491\n",
       "25%        0.125000\n",
       "50%        0.223680\n",
       "75%        0.357403\n",
       "max        0.806921\n",
       "Name: Age, dtype: float64"
      ]
     },
     "execution_count": 52,
     "metadata": {},
     "output_type": "execute_result"
    }
   ],
   "source": [
    "df['Age'].describe()\n",
    "    "
   ]
  },
  {
   "cell_type": "markdown",
   "metadata": {},
   "source": [
    "### 9. Engineer rare lables in categorical variables/discrete"
   ]
  },
  {
   "cell_type": "markdown",
   "metadata": {},
   "source": [
    "Remember the discrete variables\n",
    "\n",
    "['CreditStatus', 'ExistingCreditsAtBank', 'NumberDependents']\n",
    "\n",
    "but 'CreditStatus'is to be ignored, since it's the label"
   ]
  },
  {
   "cell_type": "code",
   "execution_count": 53,
   "metadata": {},
   "outputs": [],
   "source": [
    "# the following vars in the data set are encoded the wrong way:\n",
    "\n",
    "X_train['ExistingCreditsAtBank'] = X_train['ExistingCreditsAtBank'].astype('category')\n",
    "X_test['ExistingCreditsAtBank'] = X_test['ExistingCreditsAtBank'].astype('category')\n",
    "\n",
    "X_train['NumberDependents'] = X_train['NumberDependents'].astype('category')\n",
    "X_test['NumberDependents'] = X_test['NumberDependents'].astype('category')    "
   ]
  },
  {
   "cell_type": "code",
   "execution_count": 54,
   "metadata": {},
   "outputs": [],
   "source": [
    "discrete = ['ExistingCreditsAtBank','NumberDependents']"
   ]
  },
  {
   "cell_type": "code",
   "execution_count": 55,
   "metadata": {},
   "outputs": [],
   "source": [
    "# We do rare imputation for discrete variables\n",
    "def rare_imputation(variable):\n",
    "    # find frequent labels / discrete numbers\n",
    "    temp = X_train.groupby([variable])[variable].count()/np.float(len(X_train))\n",
    "    frequent_cat = [x for x in temp.loc[temp>0.03].index.values]\n",
    "    \n",
    "    X_train[variable] = np.where(X_train[variable].isin(frequent_cat), X_train[variable], 'Rare')\n",
    "    X_test[variable] = np.where(X_test[variable].isin(frequent_cat), X_test[variable], 'Rare')\n"
   ]
  },
  {
   "cell_type": "code",
   "execution_count": 56,
   "metadata": {},
   "outputs": [
    {
     "data": {
      "text/plain": [
       "['CheckingAcctStat',\n",
       " 'CreditHistory',\n",
       " 'Employment',\n",
       " 'ForeignWorker',\n",
       " 'Housing',\n",
       " 'Job',\n",
       " 'OtherDetorsGuarantors',\n",
       " 'OtherInstalments',\n",
       " 'Property',\n",
       " 'Purpose',\n",
       " 'Savings',\n",
       " 'SexAndStatus',\n",
       " 'Telephone']"
      ]
     },
     "execution_count": 56,
     "metadata": {},
     "output_type": "execute_result"
    }
   ],
   "source": [
    "categorical"
   ]
  },
  {
   "cell_type": "code",
   "execution_count": 57,
   "metadata": {},
   "outputs": [],
   "source": [
    "# find infrequent labels in categorical variables and replace by Rare\n",
    "for var in categorical:\n",
    "    rare_imputation(var)\n",
    "    \n",
    "# find infrequent labels in categorical variables and replace by Rare\n",
    "# remember that we are treating discrete variables as if they were categorical\n",
    "for var in discrete:\n",
    "    rare_imputation(var)"
   ]
  },
  {
   "cell_type": "code",
   "execution_count": 58,
   "metadata": {},
   "outputs": [
    {
     "data": {
      "image/png": "[encoded data removed]",
      "text/plain": [
       "<Figure size 432x288 with 1 Axes>"
      ]
     },
     "metadata": {
      "needs_background": "light"
     },
     "output_type": "display_data"
    },
    {
     "data": {
      "image/png": "[encoded data removed]",
      "text/plain": [
       "<Figure size 432x288 with 1 Axes>"
      ]
     },
     "metadata": {
      "needs_background": "light"
     },
     "output_type": "display_data"
    },
    {
     "data": {
      "image/png": "[encoded data removed]",
      "text/plain": [
       "<Figure size 432x288 with 1 Axes>"
      ]
     },
     "metadata": {
      "needs_background": "light"
     },
     "output_type": "display_data"
    },
    {
     "data": {
      "image/png": "[encoded data removed]",
      "text/plain": [
       "<Figure size 432x288 with 1 Axes>"
      ]
     },
     "metadata": {
      "needs_background": "light"
     },
     "output_type": "display_data"
    },
    {
     "data": {
      "image/png": "[encoded data removed]",
      "text/plain": [
       "<Figure size 432x288 with 1 Axes>"
      ]
     },
     "metadata": {
      "needs_background": "light"
     },
     "output_type": "display_data"
    },
    {
     "data": {
      "image/png": "[encoded data removed]",
      "text/plain": [
       "<Figure size 432x288 with 1 Axes>"
      ]
     },
     "metadata": {
      "needs_background": "light"
     },
     "output_type": "display_data"
    },
    {
     "data": {
      "image/png": "[encoded data removed]",
      "text/plain": [
       "<Figure size 432x288 with 1 Axes>"
      ]
     },
     "metadata": {
      "needs_background": "light"
     },
     "output_type": "display_data"
    },
    {
     "data": {
      "image/png": "[encoded data removed]",
      "text/plain": [
       "<Figure size 432x288 with 1 Axes>"
      ]
     },
     "metadata": {
      "needs_background": "light"
     },
     "output_type": "display_data"
    },
    {
     "data": {
      "image/png": "[encoded data removed]",
      "text/plain": [
       "<Figure size 432x288 with 1 Axes>"
      ]
     },
     "metadata": {
      "needs_background": "light"
     },
     "output_type": "display_data"
    },
    {
     "data": {
      "image/png": "[encoded data removed]",
      "text/plain": [
       "<Figure size 432x288 with 1 Axes>"
      ]
     },
     "metadata": {
      "needs_background": "light"
     },
     "output_type": "display_data"
    },
    {
     "data": {
      "image/png": "[encoded data removed]",
      "text/plain": [
       "<Figure size 432x288 with 1 Axes>"
      ]
     },
     "metadata": {
      "needs_background": "light"
     },
     "output_type": "display_data"
    },
    {
     "data": {
      "image/png": "[encoded data removed]",
      "text/plain": [
       "<Figure size 432x288 with 1 Axes>"
      ]
     },
     "metadata": {
      "needs_background": "light"
     },
     "output_type": "display_data"
    },
    {
     "data": {
      "image/png": "[encoded data removed]",
      "text/plain": [
       "<Figure size 432x288 with 1 Axes>"
      ]
     },
     "metadata": {
      "needs_background": "light"
     },
     "output_type": "display_data"
    }
   ],
   "source": [
    "# let's check that it worked\n",
    "for var in categorical:\n",
    "    (X_train.groupby(var)[var].count() / np.float(len(X_train))).plot.bar()\n",
    "    plt.ylabel('Percentage of observations per label')\n",
    "    plt.title(var)\n",
    "    plt.show()"
   ]
  },
  {
   "cell_type": "code",
   "execution_count": 59,
   "metadata": {},
   "outputs": [
    {
     "data": {
      "image/png": "[encoded data removed]",
      "text/plain": [
       "<Figure size 432x288 with 1 Axes>"
      ]
     },
     "metadata": {
      "needs_background": "light"
     },
     "output_type": "display_data"
    },
    {
     "data": {
      "image/png": "[encoded data removed]",
      "text/plain": [
       "<Figure size 432x288 with 1 Axes>"
      ]
     },
     "metadata": {
      "needs_background": "light"
     },
     "output_type": "display_data"
    }
   ],
   "source": [
    "# let's check that it worked\n",
    "for var in discrete:\n",
    "    (X_train.groupby(var)[var].count() / np.float(len(X_train))).plot.bar()\n",
    "    plt.ylabel('Percentage of observations per label')\n",
    "    plt.title(var)\n",
    "    plt.show()"
   ]
  },
  {
   "cell_type": "markdown",
   "metadata": {},
   "source": [
    "YES! It did work well!"
   ]
  },
  {
   "cell_type": "markdown",
   "metadata": {},
   "source": [
    "### 10. Encoding Categorical Variables\n",
    "\n",
    "I will proceed with Risk Encoding."
   ]
  },
  {
   "cell_type": "code",
   "execution_count": 60,
   "metadata": {},
   "outputs": [],
   "source": [
    "def encode_categorical_variables(var, target):\n",
    "        # make label to price dictionary\n",
    "        ordered_labels = X_train.groupby([var])[target].mean().to_dict()\n",
    "        \n",
    "        # encode variables\n",
    "        X_train[var] = X_train[var].map(ordered_labels)\n",
    "        X_test[var] = X_test[var].map(ordered_labels)\n",
    "\n",
    "# encode labels in categorical vars\n",
    "for var in categorical:\n",
    "    encode_categorical_variables(var, 'CreditStatus')\n",
    "    \n",
    "# encode labels in discrete vars\n",
    "for var in discrete:\n",
    "    encode_categorical_variables(var, 'CreditStatus')       \n",
    "        "
   ]
  },
  {
   "cell_type": "code",
   "execution_count": 61,
   "metadata": {},
   "outputs": [
    {
     "data": {
      "text/html": [
       "<div>\n",
       "<style scoped>\n",
       "    .dataframe tbody tr th:only-of-type {\n",
       "        vertical-align: middle;\n",
       "    }\n",
       "\n",
       "    .dataframe tbody tr th {\n",
       "        vertical-align: top;\n",
       "    }\n",
       "\n",
       "    .dataframe thead th {\n",
       "        text-align: right;\n",
       "    }\n",
       "</style>\n",
       "<table border=\"1\" class=\"dataframe\">\n",
       "  <thead>\n",
       "    <tr style=\"text-align: right;\">\n",
       "      <th></th>\n",
       "      <th>Age</th>\n",
       "      <th>CheckingAcctStat</th>\n",
       "      <th>CreditHistory</th>\n",
       "      <th>CreditStatus</th>\n",
       "      <th>Duration</th>\n",
       "      <th>Employment</th>\n",
       "      <th>ExistingCreditsAtBank</th>\n",
       "      <th>ForeignWorker</th>\n",
       "      <th>Housing</th>\n",
       "      <th>InstallmentRatePecnt</th>\n",
       "      <th>Job</th>\n",
       "      <th>NumberDependents</th>\n",
       "      <th>OtherDetorsGuarantors</th>\n",
       "      <th>OtherInstalments</th>\n",
       "      <th>PresentResidenceTime</th>\n",
       "      <th>Property</th>\n",
       "      <th>Purpose</th>\n",
       "      <th>Savings</th>\n",
       "      <th>SexAndStatus</th>\n",
       "      <th>Telephone</th>\n",
       "      <th>CreditAmount_ordered</th>\n",
       "    </tr>\n",
       "  </thead>\n",
       "  <tbody>\n",
       "    <tr>\n",
       "      <th>424</th>\n",
       "      <td>0.160714</td>\n",
       "      <td>0.645455</td>\n",
       "      <td>0.567929</td>\n",
       "      <td>0</td>\n",
       "      <td>0.029412</td>\n",
       "      <td>0.516129</td>\n",
       "      <td>0.529774</td>\n",
       "      <td>0.557814</td>\n",
       "      <td>0.517730</td>\n",
       "      <td>1.000000</td>\n",
       "      <td>0.546332</td>\n",
       "      <td>0.514706</td>\n",
       "      <td>0.543329</td>\n",
       "      <td>0.531532</td>\n",
       "      <td>1.000000</td>\n",
       "      <td>0.555957</td>\n",
       "      <td>0.444976</td>\n",
       "      <td>0.588123</td>\n",
       "      <td>0.505855</td>\n",
       "      <td>0.541152</td>\n",
       "      <td>0.512195</td>\n",
       "    </tr>\n",
       "    <tr>\n",
       "      <th>841</th>\n",
       "      <td>0.051431</td>\n",
       "      <td>0.735395</td>\n",
       "      <td>0.567929</td>\n",
       "      <td>1</td>\n",
       "      <td>0.238102</td>\n",
       "      <td>0.540441</td>\n",
       "      <td>0.529774</td>\n",
       "      <td>0.557814</td>\n",
       "      <td>0.560811</td>\n",
       "      <td>0.333333</td>\n",
       "      <td>0.512500</td>\n",
       "      <td>0.514706</td>\n",
       "      <td>0.543329</td>\n",
       "      <td>0.531532</td>\n",
       "      <td>0.906557</td>\n",
       "      <td>0.445000</td>\n",
       "      <td>0.444976</td>\n",
       "      <td>0.588123</td>\n",
       "      <td>0.583942</td>\n",
       "      <td>0.541152</td>\n",
       "      <td>0.587500</td>\n",
       "    </tr>\n",
       "    <tr>\n",
       "      <th>346</th>\n",
       "      <td>0.267857</td>\n",
       "      <td>0.645455</td>\n",
       "      <td>0.567929</td>\n",
       "      <td>0</td>\n",
       "      <td>0.117647</td>\n",
       "      <td>0.646667</td>\n",
       "      <td>0.529774</td>\n",
       "      <td>0.557814</td>\n",
       "      <td>0.560811</td>\n",
       "      <td>0.666667</td>\n",
       "      <td>0.573913</td>\n",
       "      <td>0.533230</td>\n",
       "      <td>0.543329</td>\n",
       "      <td>0.531532</td>\n",
       "      <td>0.000000</td>\n",
       "      <td>0.445000</td>\n",
       "      <td>0.503759</td>\n",
       "      <td>0.588123</td>\n",
       "      <td>0.583942</td>\n",
       "      <td>0.541152</td>\n",
       "      <td>0.587500</td>\n",
       "    </tr>\n",
       "    <tr>\n",
       "      <th>418</th>\n",
       "      <td>0.250000</td>\n",
       "      <td>0.272374</td>\n",
       "      <td>0.567929</td>\n",
       "      <td>0</td>\n",
       "      <td>0.029412</td>\n",
       "      <td>0.540441</td>\n",
       "      <td>0.529774</td>\n",
       "      <td>0.557814</td>\n",
       "      <td>0.517730</td>\n",
       "      <td>1.000000</td>\n",
       "      <td>0.546332</td>\n",
       "      <td>0.533230</td>\n",
       "      <td>0.543329</td>\n",
       "      <td>0.531532</td>\n",
       "      <td>0.333333</td>\n",
       "      <td>0.445000</td>\n",
       "      <td>0.503759</td>\n",
       "      <td>0.400000</td>\n",
       "      <td>0.612903</td>\n",
       "      <td>0.541152</td>\n",
       "      <td>0.367089</td>\n",
       "    </tr>\n",
       "    <tr>\n",
       "      <th>682</th>\n",
       "      <td>0.134744</td>\n",
       "      <td>0.735395</td>\n",
       "      <td>0.567929</td>\n",
       "      <td>1</td>\n",
       "      <td>0.257328</td>\n",
       "      <td>0.646667</td>\n",
       "      <td>0.529774</td>\n",
       "      <td>0.557814</td>\n",
       "      <td>0.517730</td>\n",
       "      <td>0.561093</td>\n",
       "      <td>0.512500</td>\n",
       "      <td>0.533230</td>\n",
       "      <td>0.543329</td>\n",
       "      <td>0.531532</td>\n",
       "      <td>0.691626</td>\n",
       "      <td>0.555957</td>\n",
       "      <td>0.698630</td>\n",
       "      <td>0.588123</td>\n",
       "      <td>0.505855</td>\n",
       "      <td>0.541152</td>\n",
       "      <td>0.506173</td>\n",
       "    </tr>\n",
       "  </tbody>\n",
       "</table>\n",
       "</div>"
      ],
      "text/plain": [
       "          Age  CheckingAcctStat  CreditHistory  CreditStatus  Duration  \\\n",
       "424  0.160714          0.645455       0.567929             0  0.029412   \n",
       "841  0.051431          0.735395       0.567929             1  0.238102   \n",
       "346  0.267857          0.645455       0.567929             0  0.117647   \n",
       "418  0.250000          0.272374       0.567929             0  0.029412   \n",
       "682  0.134744          0.735395       0.567929             1  0.257328   \n",
       "\n",
       "     Employment  ExistingCreditsAtBank  ForeignWorker   Housing  \\\n",
       "424    0.516129               0.529774       0.557814  0.517730   \n",
       "841    0.540441               0.529774       0.557814  0.560811   \n",
       "346    0.646667               0.529774       0.557814  0.560811   \n",
       "418    0.540441               0.529774       0.557814  0.517730   \n",
       "682    0.646667               0.529774       0.557814  0.517730   \n",
       "\n",
       "     InstallmentRatePecnt       Job  NumberDependents  OtherDetorsGuarantors  \\\n",
       "424              1.000000  0.546332          0.514706               0.543329   \n",
       "841              0.333333  0.512500          0.514706               0.543329   \n",
       "346              0.666667  0.573913          0.533230               0.543329   \n",
       "418              1.000000  0.546332          0.533230               0.543329   \n",
       "682              0.561093  0.512500          0.533230               0.543329   \n",
       "\n",
       "     OtherInstalments  PresentResidenceTime  Property   Purpose   Savings  \\\n",
       "424          0.531532              1.000000  0.555957  0.444976  0.588123   \n",
       "841          0.531532              0.906557  0.445000  0.444976  0.588123   \n",
       "346          0.531532              0.000000  0.445000  0.503759  0.588123   \n",
       "418          0.531532              0.333333  0.445000  0.503759  0.400000   \n",
       "682          0.531532              0.691626  0.555957  0.698630  0.588123   \n",
       "\n",
       "     SexAndStatus  Telephone  CreditAmount_ordered  \n",
       "424      0.505855   0.541152              0.512195  \n",
       "841      0.583942   0.541152              0.587500  \n",
       "346      0.583942   0.541152              0.587500  \n",
       "418      0.612903   0.541152              0.367089  \n",
       "682      0.505855   0.541152              0.506173  "
      ]
     },
     "execution_count": 61,
     "metadata": {},
     "output_type": "execute_result"
    }
   ],
   "source": [
    "#let's inspect the dataset\n",
    "X_train.head()"
   ]
  },
  {
   "cell_type": "markdown",
   "metadata": {},
   "source": [
    "### 11.Feature Scaling"
   ]
  },
  {
   "cell_type": "code",
   "execution_count": 62,
   "metadata": {
    "scrolled": true
   },
   "outputs": [
    {
     "data": {
      "text/plain": [
       "Age                      float64\n",
       "CheckingAcctStat         float64\n",
       "CreditHistory            float64\n",
       "CreditStatus               int64\n",
       "Duration                 float64\n",
       "Employment               float64\n",
       "ExistingCreditsAtBank    float64\n",
       "ForeignWorker            float64\n",
       "Housing                  float64\n",
       "InstallmentRatePecnt     float64\n",
       "Job                      float64\n",
       "NumberDependents         float64\n",
       "OtherDetorsGuarantors    float64\n",
       "OtherInstalments         float64\n",
       "PresentResidenceTime     float64\n",
       "Property                 float64\n",
       "Purpose                  float64\n",
       "Savings                  float64\n",
       "SexAndStatus             float64\n",
       "Telephone                float64\n",
       "CreditAmount_ordered     float64\n",
       "dtype: object"
      ]
     },
     "execution_count": 62,
     "metadata": {},
     "output_type": "execute_result"
    }
   ],
   "source": [
    "# Check before it is all numerical\n",
    "X_train.dtypes"
   ]
  },
  {
   "cell_type": "code",
   "execution_count": 63,
   "metadata": {},
   "outputs": [
    {
     "data": {
      "text/plain": [
       "Age                      float64\n",
       "CheckingAcctStat         float64\n",
       "CreditHistory            float64\n",
       "CreditStatus               int64\n",
       "Duration                 float64\n",
       "Employment               float64\n",
       "ExistingCreditsAtBank    float64\n",
       "ForeignWorker            float64\n",
       "Housing                  float64\n",
       "InstallmentRatePecnt     float64\n",
       "Job                      float64\n",
       "NumberDependents         float64\n",
       "OtherDetorsGuarantors    float64\n",
       "OtherInstalments         float64\n",
       "PresentResidenceTime     float64\n",
       "Property                 float64\n",
       "Purpose                  float64\n",
       "Savings                  float64\n",
       "SexAndStatus             float64\n",
       "Telephone                float64\n",
       "CreditAmount_ordered     float64\n",
       "dtype: object"
      ]
     },
     "execution_count": 63,
     "metadata": {},
     "output_type": "execute_result"
    }
   ],
   "source": [
    "# Check before it is all numerical\n",
    "X_test.dtypes"
   ]
  },
  {
   "cell_type": "code",
   "execution_count": 64,
   "metadata": {
    "scrolled": true
   },
   "outputs": [
    {
     "data": {
      "text/plain": [
       "Index(['Age', 'CheckingAcctStat', 'CreditHistory', 'CreditStatus', 'Duration',\n",
       "       'Employment', 'ExistingCreditsAtBank', 'ForeignWorker', 'Housing',\n",
       "       'InstallmentRatePecnt', 'Job', 'NumberDependents',\n",
       "       'OtherDetorsGuarantors', 'OtherInstalments', 'PresentResidenceTime',\n",
       "       'Property', 'Purpose', 'Savings', 'SexAndStatus', 'Telephone',\n",
       "       'CreditAmount_ordered'],\n",
       "      dtype='object')"
      ]
     },
     "execution_count": 64,
     "metadata": {},
     "output_type": "execute_result"
    }
   ],
   "source": [
    "#Find column names\n",
    "X_train.columns"
   ]
  },
  {
   "cell_type": "markdown",
   "metadata": {},
   "source": [
    "**REMOVE now TARGET from Training_vars (do not include in next cell)**"
   ]
  },
  {
   "cell_type": "code",
   "execution_count": 65,
   "metadata": {},
   "outputs": [
    {
     "name": "stdout",
     "output_type": "stream",
     "text": [
      "total number of variables to use for training:  20\n"
     ]
    }
   ],
   "source": [
    "# let's create a list of the training variables\n",
    "training_vars = ['Age', 'CheckingAcctStat', 'CreditHistory', 'Duration',\n",
    "       'Employment', 'ExistingCreditsAtBank', 'ForeignWorker', 'Housing',\n",
    "       'InstallmentRatePecnt', 'Job', 'NumberDependents',\n",
    "       'OtherDetorsGuarantors', 'OtherInstalments', 'PresentResidenceTime',\n",
    "       'Property', 'Purpose', 'Savings', 'SexAndStatus', 'Telephone',\n",
    "       'CreditAmount_ordered']\n",
    "\n",
    "print('total number of variables to use for training: ', len(training_vars))"
   ]
  },
  {
   "cell_type": "code",
   "execution_count": 66,
   "metadata": {},
   "outputs": [
    {
     "name": "stdout",
     "output_type": "stream",
     "text": [
      "Age skewness is 0.9199389285834775\n",
      "CheckingAcctStat skewness is -0.40010344349500326\n",
      "CreditHistory skewness is 0.2972930381671155\n",
      "Duration skewness is 0.8997971880707145\n",
      "Employment skewness is 0.24357676172471576\n",
      "ExistingCreditsAtBank skewness is 1.466519308409714\n",
      "ForeignWorker skewness is -5.786146840774254\n",
      "Housing skewness is 1.8779002533367668\n",
      "InstallmentRatePecnt skewness is -0.7882275154092137\n",
      "Job skewness is -0.37346316500487303\n",
      "NumberDependents skewness is 4.6000535635460915\n",
      "OtherDetorsGuarantors skewness is 1.9845228806663033\n",
      "OtherInstalments skewness is 1.700950808313577\n",
      "PresentResidenceTime skewness is -0.4352425662787747\n",
      "Property skewness is 0.5072604725345503\n",
      "Purpose skewness is 0.02994508437068712\n",
      "Savings skewness is -1.248643987333662\n",
      "SexAndStatus skewness is -0.013750884707033329\n",
      "Telephone skewness is 0.44884989951233023\n",
      "CreditAmount_ordered skewness is 0.3514365876338875\n"
     ]
    }
   ],
   "source": [
    "# let's find the skewness of above variables\n",
    "for var in training_vars:\n",
    "    print(var, 'skewness is', df[var].skew() )"
   ]
  },
  {
   "cell_type": "markdown",
   "metadata": {},
   "source": [
    "OK, I shall do :\n",
    "   - Robust Scaling for variables with an absolute skew above 2\n",
    "   - MinMax Scaling for variables with an absoulute skew between 1 and 2\n",
    "   - Standard for the rest"
   ]
  },
  {
   "cell_type": "code",
   "execution_count": 67,
   "metadata": {},
   "outputs": [
    {
     "name": "stdout",
     "output_type": "stream",
     "text": [
      "ForeignWorker\n",
      "NumberDependents\n"
     ]
    }
   ],
   "source": [
    "for var in training_vars:\n",
    "    max_abs_value = 2\n",
    "    if abs(df[var].skew()) >= max_abs_value:\n",
    "        print (var)\n",
    "    "
   ]
  },
  {
   "cell_type": "code",
   "execution_count": 68,
   "metadata": {},
   "outputs": [],
   "source": [
    "# I Will start with Robust Scaling\n",
    "scalerR = RobustScaler() # call the object\n",
    "X_train_scaledR = scalerR.fit_transform(X_train[['ForeignWorker','NumberDependents']]) # fit the scaler to the train set, and then scale it\n",
    "X_test_scaledR= scalerR.transform(X_test[['ForeignWorker','NumberDependents']]) # scale the test set"
   ]
  },
  {
   "cell_type": "code",
   "execution_count": 69,
   "metadata": {},
   "outputs": [
    {
     "name": "stdout",
     "output_type": "stream",
     "text": [
      "ExistingCreditsAtBank\n",
      "Housing\n",
      "OtherDetorsGuarantors\n",
      "OtherInstalments\n",
      "Savings\n"
     ]
    }
   ],
   "source": [
    "for var in training_vars:\n",
    "    max_abs_value = 2 \n",
    "    if (1 <= abs(df[var].skew()) <=2):  \n",
    "        print (var)"
   ]
  },
  {
   "cell_type": "code",
   "execution_count": 70,
   "metadata": {},
   "outputs": [],
   "source": [
    "#Continue with MinMax Scaling\n",
    "scalerMM = MinMaxScaler() # create an instance\n",
    "\n",
    "X_train_scaledMM= scalerMM.fit_transform(X_train[['ExistingCreditsAtBank','Housing','OtherDetorsGuarantors','OtherInstalments', 'Savings']]) #  fit  the scaler to the train set and then transform it\n",
    "X_test_scaledMM= scalerMM.transform(X_test[['ExistingCreditsAtBank','Housing','OtherDetorsGuarantors','OtherInstalments', 'Savings']]) # transform (scale) the test set\n",
    "\n"
   ]
  },
  {
   "cell_type": "code",
   "execution_count": 71,
   "metadata": {},
   "outputs": [
    {
     "name": "stdout",
     "output_type": "stream",
     "text": [
      "Age\n",
      "CheckingAcctStat\n",
      "CreditHistory\n",
      "Duration\n",
      "Employment\n",
      "ForeignWorker\n",
      "InstallmentRatePecnt\n",
      "Job\n",
      "PresentResidenceTime\n",
      "Property\n",
      "Purpose\n",
      "Savings\n",
      "SexAndStatus\n",
      "Telephone\n",
      "CreditAmount_ordered\n"
     ]
    }
   ],
   "source": [
    "for var in training_vars:\n",
    "    max_abs_value = 2 \n",
    "    if ((df[var].skew()) <=1):  \n",
    "        print (var)"
   ]
  },
  {
   "cell_type": "code",
   "execution_count": 72,
   "metadata": {},
   "outputs": [],
   "source": [
    "# Normal Standarization\n",
    "scalerN = StandardScaler() # create an object\n",
    "X_train_scaledN = scalerN.fit_transform(X_train[['Age', 'CheckingAcctStat',\n",
    "                                                'CreditHistory',\n",
    "                                                'Duration','Employment',\n",
    "                                                'ForeignWorker', 'InstallmentRatePecnt',\n",
    "                                                'Job','PresentResidenceTime',\n",
    "                                                'Property','Purpose',\n",
    "                                                'Savings', 'SexAndStatus',\n",
    "                                                'Telephone', 'CreditAmount_ordered']]) # fit the scaler to the train set, and then transform it\n",
    "X_test_scaledN = scalerN.transform(X_test[['Age', 'CheckingAcctStat',\n",
    "                                                'CreditHistory',\n",
    "                                                'Duration','Employment',\n",
    "                                                'ForeignWorker', 'InstallmentRatePecnt',\n",
    "                                                'Job','PresentResidenceTime',\n",
    "                                                'Property','Purpose',\n",
    "                                                'Savings', 'SexAndStatus',\n",
    "                                                'Telephone', 'CreditAmount_ordered']]) # transform the test set"
   ]
  },
  {
   "cell_type": "markdown",
   "metadata": {},
   "source": [
    "### 11. Sanity check (nulls)"
   ]
  },
  {
   "cell_type": "code",
   "execution_count": 73,
   "metadata": {},
   "outputs": [],
   "source": [
    "X_train = pd.DataFrame(X_train)\n",
    "X_test = pd.DataFrame(X_test)\n",
    "y_train = pd.DataFrame(y_train)\n",
    "y_test = pd.DataFrame(y_test)"
   ]
  },
  {
   "cell_type": "code",
   "execution_count": 74,
   "metadata": {
    "scrolled": true
   },
   "outputs": [
    {
     "data": {
      "text/plain": [
       "Age                      0\n",
       "CheckingAcctStat         0\n",
       "CreditHistory            0\n",
       "CreditStatus             0\n",
       "Duration                 0\n",
       "Employment               0\n",
       "ExistingCreditsAtBank    0\n",
       "ForeignWorker            0\n",
       "Housing                  0\n",
       "InstallmentRatePecnt     0\n",
       "Job                      0\n",
       "NumberDependents         0\n",
       "OtherDetorsGuarantors    0\n",
       "OtherInstalments         0\n",
       "PresentResidenceTime     0\n",
       "Property                 0\n",
       "Purpose                  0\n",
       "Savings                  0\n",
       "SexAndStatus             0\n",
       "Telephone                0\n",
       "CreditAmount_ordered     0\n",
       "dtype: int64"
      ]
     },
     "execution_count": 74,
     "metadata": {},
     "output_type": "execute_result"
    }
   ],
   "source": [
    "X_train.isnull().sum()"
   ]
  },
  {
   "cell_type": "code",
   "execution_count": 75,
   "metadata": {},
   "outputs": [
    {
     "data": {
      "text/plain": [
       "Age                      0\n",
       "CheckingAcctStat         0\n",
       "CreditHistory            0\n",
       "CreditStatus             0\n",
       "Duration                 0\n",
       "Employment               0\n",
       "ExistingCreditsAtBank    0\n",
       "ForeignWorker            0\n",
       "Housing                  0\n",
       "InstallmentRatePecnt     0\n",
       "Job                      0\n",
       "NumberDependents         0\n",
       "OtherDetorsGuarantors    0\n",
       "OtherInstalments         0\n",
       "PresentResidenceTime     0\n",
       "Property                 0\n",
       "Purpose                  0\n",
       "Savings                  0\n",
       "SexAndStatus             0\n",
       "Telephone                0\n",
       "CreditAmount_ordered     0\n",
       "dtype: int64"
      ]
     },
     "execution_count": 75,
     "metadata": {},
     "output_type": "execute_result"
    }
   ],
   "source": [
    "X_test.isnull().sum()"
   ]
  },
  {
   "cell_type": "code",
   "execution_count": 76,
   "metadata": {},
   "outputs": [
    {
     "data": {
      "text/plain": [
       "CreditStatus    0\n",
       "dtype: int64"
      ]
     },
     "execution_count": 76,
     "metadata": {},
     "output_type": "execute_result"
    }
   ],
   "source": [
    "y_train.isnull().sum()"
   ]
  },
  {
   "cell_type": "code",
   "execution_count": 77,
   "metadata": {},
   "outputs": [
    {
     "data": {
      "text/plain": [
       "CreditStatus    0\n",
       "dtype: int64"
      ]
     },
     "execution_count": 77,
     "metadata": {},
     "output_type": "execute_result"
    }
   ],
   "source": [
    "y_test.isnull().sum()"
   ]
  },
  {
   "cell_type": "markdown",
   "metadata": {},
   "source": [
    "### 12. Save selected variables for features predictions"
   ]
  },
  {
   "cell_type": "code",
   "execution_count": 78,
   "metadata": {},
   "outputs": [],
   "source": [
    "X_train_scaledR = pd.DataFrame(X_train_scaledR, columns = ['ForeignWorker','NumberDependents'])\n",
    "X_train_scaledMM = pd.DataFrame(X_train_scaledMM, columns = ['ExistingCreditsAtBank','Housing','OtherDetorsGuarantors','OtherInstalments', 'Savings'])\n",
    "X_train_scaledN = pd.DataFrame(X_train_scaledN, columns = ['Age', 'CheckingAcctStat',\n",
    "                                                'CreditHistory',\n",
    "                                                'Duration','Employment',\n",
    "                                                'ForeignWorker', 'InstallmentRatePecnt',\n",
    "                                                'Job','PresentResidenceTime',\n",
    "                                                'Property','Purpose',\n",
    "                                                'Savings', 'SexAndStatus',\n",
    "                                                'Telephone', 'CreditAmount_ordered'])\n",
    "\n",
    "######\n",
    "X_test_scaledR = pd.DataFrame(X_test_scaledR, columns = ['ForeignWorker','NumberDependents'])\n",
    "X_test_scaledMM = pd.DataFrame(X_test_scaledMM, columns = ['ExistingCreditsAtBank','Housing','OtherDetorsGuarantors','OtherInstalments', 'Savings'])\n",
    "X_test_scaledN = pd.DataFrame(X_test_scaledN, columns = ['Age', 'CheckingAcctStat',\n",
    "                                                'CreditHistory',\n",
    "                                                'Duration','Employment',\n",
    "                                                'ForeignWorker', 'InstallmentRatePecnt',\n",
    "                                                'Job','PresentResidenceTime',\n",
    "                                                'Property','Purpose',\n",
    "                                                'Savings', 'SexAndStatus',\n",
    "                                                'Telephone', 'CreditAmount_ordered'])"
   ]
  },
  {
   "cell_type": "code",
   "execution_count": 79,
   "metadata": {},
   "outputs": [],
   "source": [
    "X_train = pd.concat([X_train_scaledR, X_train_scaledMM, X_train_scaledN], axis=1)\n",
    "X_test = pd.concat([X_test_scaledR, X_test_scaledMM, X_test_scaledN], axis=1)\n",
    "\n"
   ]
  },
  {
   "cell_type": "code",
   "execution_count": 80,
   "metadata": {},
   "outputs": [
    {
     "data": {
      "text/html": [
       "<div>\n",
       "<style scoped>\n",
       "    .dataframe tbody tr th:only-of-type {\n",
       "        vertical-align: middle;\n",
       "    }\n",
       "\n",
       "    .dataframe tbody tr th {\n",
       "        vertical-align: top;\n",
       "    }\n",
       "\n",
       "    .dataframe thead th {\n",
       "        text-align: right;\n",
       "    }\n",
       "</style>\n",
       "<table border=\"1\" class=\"dataframe\">\n",
       "  <thead>\n",
       "    <tr style=\"text-align: right;\">\n",
       "      <th></th>\n",
       "      <th>ForeignWorker</th>\n",
       "      <th>NumberDependents</th>\n",
       "      <th>ExistingCreditsAtBank</th>\n",
       "      <th>Housing</th>\n",
       "      <th>OtherDetorsGuarantors</th>\n",
       "      <th>OtherInstalments</th>\n",
       "      <th>Savings</th>\n",
       "      <th>Age</th>\n",
       "      <th>CheckingAcctStat</th>\n",
       "      <th>CreditHistory</th>\n",
       "      <th>Duration</th>\n",
       "      <th>Employment</th>\n",
       "      <th>ForeignWorker</th>\n",
       "      <th>InstallmentRatePecnt</th>\n",
       "      <th>Job</th>\n",
       "      <th>PresentResidenceTime</th>\n",
       "      <th>Property</th>\n",
       "      <th>Purpose</th>\n",
       "      <th>Savings</th>\n",
       "      <th>SexAndStatus</th>\n",
       "      <th>Telephone</th>\n",
       "      <th>CreditAmount_ordered</th>\n",
       "    </tr>\n",
       "  </thead>\n",
       "  <tbody>\n",
       "    <tr>\n",
       "      <th>0</th>\n",
       "      <td>0.0</td>\n",
       "      <td>-0.018524</td>\n",
       "      <td>0.236353</td>\n",
       "      <td>0.000000</td>\n",
       "      <td>0.448904</td>\n",
       "      <td>0.0</td>\n",
       "      <td>0.865792</td>\n",
       "      <td>-0.636252</td>\n",
       "      <td>0.497132</td>\n",
       "      <td>0.191354</td>\n",
       "      <td>-1.352681</td>\n",
       "      <td>-0.409002</td>\n",
       "      <td>0.159414</td>\n",
       "      <td>0.903380</td>\n",
       "      <td>0.126865</td>\n",
       "      <td>1.071823</td>\n",
       "      <td>0.154940</td>\n",
       "      <td>-0.805295</td>\n",
       "      <td>0.531338</td>\n",
       "      <td>-0.935114</td>\n",
       "      <td>-0.812708</td>\n",
       "      <td>-0.327484</td>\n",
       "    </tr>\n",
       "    <tr>\n",
       "      <th>1</th>\n",
       "      <td>0.0</td>\n",
       "      <td>-0.018524</td>\n",
       "      <td>0.236353</td>\n",
       "      <td>0.276238</td>\n",
       "      <td>0.448904</td>\n",
       "      <td>0.0</td>\n",
       "      <td>0.865792</td>\n",
       "      <td>-1.195709</td>\n",
       "      <td>0.937802</td>\n",
       "      <td>0.191354</td>\n",
       "      <td>-0.141749</td>\n",
       "      <td>-0.052098</td>\n",
       "      <td>0.159414</td>\n",
       "      <td>-0.942668</td>\n",
       "      <td>-1.705831</td>\n",
       "      <td>0.811682</td>\n",
       "      <td>-1.281699</td>\n",
       "      <td>-0.805295</td>\n",
       "      <td>0.531338</td>\n",
       "      <td>0.979650</td>\n",
       "      <td>-0.812708</td>\n",
       "      <td>0.448147</td>\n",
       "    </tr>\n",
       "    <tr>\n",
       "      <th>2</th>\n",
       "      <td>0.0</td>\n",
       "      <td>0.000000</td>\n",
       "      <td>0.236353</td>\n",
       "      <td>0.276238</td>\n",
       "      <td>0.448904</td>\n",
       "      <td>0.0</td>\n",
       "      <td>0.865792</td>\n",
       "      <td>-0.087754</td>\n",
       "      <td>0.497132</td>\n",
       "      <td>0.191354</td>\n",
       "      <td>-0.840692</td>\n",
       "      <td>1.507298</td>\n",
       "      <td>0.159414</td>\n",
       "      <td>-0.019644</td>\n",
       "      <td>1.620939</td>\n",
       "      <td>-1.712136</td>\n",
       "      <td>-1.281699</td>\n",
       "      <td>-0.327202</td>\n",
       "      <td>0.531338</td>\n",
       "      <td>0.979650</td>\n",
       "      <td>-0.812708</td>\n",
       "      <td>0.448147</td>\n",
       "    </tr>\n",
       "    <tr>\n",
       "      <th>3</th>\n",
       "      <td>0.0</td>\n",
       "      <td>0.000000</td>\n",
       "      <td>0.236353</td>\n",
       "      <td>0.000000</td>\n",
       "      <td>0.448904</td>\n",
       "      <td>0.0</td>\n",
       "      <td>0.000000</td>\n",
       "      <td>-0.179170</td>\n",
       "      <td>-1.330803</td>\n",
       "      <td>0.191354</td>\n",
       "      <td>-1.352681</td>\n",
       "      <td>-0.052098</td>\n",
       "      <td>0.159414</td>\n",
       "      <td>0.903380</td>\n",
       "      <td>0.126865</td>\n",
       "      <td>-0.784149</td>\n",
       "      <td>-1.281699</td>\n",
       "      <td>-0.327202</td>\n",
       "      <td>-1.733584</td>\n",
       "      <td>1.689818</td>\n",
       "      <td>-0.812708</td>\n",
       "      <td>-1.822065</td>\n",
       "    </tr>\n",
       "    <tr>\n",
       "      <th>4</th>\n",
       "      <td>0.0</td>\n",
       "      <td>0.000000</td>\n",
       "      <td>0.236353</td>\n",
       "      <td>0.000000</td>\n",
       "      <td>0.448904</td>\n",
       "      <td>0.0</td>\n",
       "      <td>0.865792</td>\n",
       "      <td>-0.769199</td>\n",
       "      <td>0.937802</td>\n",
       "      <td>0.191354</td>\n",
       "      <td>-0.030187</td>\n",
       "      <td>1.507298</td>\n",
       "      <td>0.159414</td>\n",
       "      <td>-0.311985</td>\n",
       "      <td>-1.705831</td>\n",
       "      <td>0.213322</td>\n",
       "      <td>0.154940</td>\n",
       "      <td>1.257710</td>\n",
       "      <td>0.531338</td>\n",
       "      <td>-0.935114</td>\n",
       "      <td>-0.812708</td>\n",
       "      <td>-0.389513</td>\n",
       "    </tr>\n",
       "  </tbody>\n",
       "</table>\n",
       "</div>"
      ],
      "text/plain": [
       "   ForeignWorker  NumberDependents  ExistingCreditsAtBank   Housing  \\\n",
       "0            0.0         -0.018524               0.236353  0.000000   \n",
       "1            0.0         -0.018524               0.236353  0.276238   \n",
       "2            0.0          0.000000               0.236353  0.276238   \n",
       "3            0.0          0.000000               0.236353  0.000000   \n",
       "4            0.0          0.000000               0.236353  0.000000   \n",
       "\n",
       "   OtherDetorsGuarantors  OtherInstalments   Savings       Age  \\\n",
       "0               0.448904               0.0  0.865792 -0.636252   \n",
       "1               0.448904               0.0  0.865792 -1.195709   \n",
       "2               0.448904               0.0  0.865792 -0.087754   \n",
       "3               0.448904               0.0  0.000000 -0.179170   \n",
       "4               0.448904               0.0  0.865792 -0.769199   \n",
       "\n",
       "   CheckingAcctStat  CreditHistory  Duration  Employment  ForeignWorker  \\\n",
       "0          0.497132       0.191354 -1.352681   -0.409002       0.159414   \n",
       "1          0.937802       0.191354 -0.141749   -0.052098       0.159414   \n",
       "2          0.497132       0.191354 -0.840692    1.507298       0.159414   \n",
       "3         -1.330803       0.191354 -1.352681   -0.052098       0.159414   \n",
       "4          0.937802       0.191354 -0.030187    1.507298       0.159414   \n",
       "\n",
       "   InstallmentRatePecnt       Job  PresentResidenceTime  Property   Purpose  \\\n",
       "0              0.903380  0.126865              1.071823  0.154940 -0.805295   \n",
       "1             -0.942668 -1.705831              0.811682 -1.281699 -0.805295   \n",
       "2             -0.019644  1.620939             -1.712136 -1.281699 -0.327202   \n",
       "3              0.903380  0.126865             -0.784149 -1.281699 -0.327202   \n",
       "4             -0.311985 -1.705831              0.213322  0.154940  1.257710   \n",
       "\n",
       "    Savings  SexAndStatus  Telephone  CreditAmount_ordered  \n",
       "0  0.531338     -0.935114  -0.812708             -0.327484  \n",
       "1  0.531338      0.979650  -0.812708              0.448147  \n",
       "2  0.531338      0.979650  -0.812708              0.448147  \n",
       "3 -1.733584      1.689818  -0.812708             -1.822065  \n",
       "4  0.531338     -0.935114  -0.812708             -0.389513  "
      ]
     },
     "execution_count": 80,
     "metadata": {},
     "output_type": "execute_result"
    }
   ],
   "source": [
    "X_train.head()"
   ]
  },
  {
   "cell_type": "code",
   "execution_count": 81,
   "metadata": {},
   "outputs": [],
   "source": [
    "X_train = pd.DataFrame(X_train)\n",
    "X_train.to_csv('X_train.csv', index=False)"
   ]
  },
  {
   "cell_type": "code",
   "execution_count": 82,
   "metadata": {},
   "outputs": [
    {
     "data": {
      "text/html": [
       "<div>\n",
       "<style scoped>\n",
       "    .dataframe tbody tr th:only-of-type {\n",
       "        vertical-align: middle;\n",
       "    }\n",
       "\n",
       "    .dataframe tbody tr th {\n",
       "        vertical-align: top;\n",
       "    }\n",
       "\n",
       "    .dataframe thead th {\n",
       "        text-align: right;\n",
       "    }\n",
       "</style>\n",
       "<table border=\"1\" class=\"dataframe\">\n",
       "  <thead>\n",
       "    <tr style=\"text-align: right;\">\n",
       "      <th></th>\n",
       "      <th>ForeignWorker</th>\n",
       "      <th>NumberDependents</th>\n",
       "      <th>ExistingCreditsAtBank</th>\n",
       "      <th>Housing</th>\n",
       "      <th>OtherDetorsGuarantors</th>\n",
       "      <th>OtherInstalments</th>\n",
       "      <th>Savings</th>\n",
       "      <th>Age</th>\n",
       "      <th>CheckingAcctStat</th>\n",
       "      <th>CreditHistory</th>\n",
       "      <th>Duration</th>\n",
       "      <th>Employment</th>\n",
       "      <th>ForeignWorker</th>\n",
       "      <th>InstallmentRatePecnt</th>\n",
       "      <th>Job</th>\n",
       "      <th>PresentResidenceTime</th>\n",
       "      <th>Property</th>\n",
       "      <th>Purpose</th>\n",
       "      <th>Savings</th>\n",
       "      <th>SexAndStatus</th>\n",
       "      <th>Telephone</th>\n",
       "      <th>CreditAmount_ordered</th>\n",
       "    </tr>\n",
       "  </thead>\n",
       "  <tbody>\n",
       "    <tr>\n",
       "      <th>0</th>\n",
       "      <td>0.0</td>\n",
       "      <td>-0.018524</td>\n",
       "      <td>1.000000</td>\n",
       "      <td>0.000000</td>\n",
       "      <td>0.448904</td>\n",
       "      <td>0.000000</td>\n",
       "      <td>0.865792</td>\n",
       "      <td>0.510976</td>\n",
       "      <td>0.937802</td>\n",
       "      <td>2.046422</td>\n",
       "      <td>0.580377</td>\n",
       "      <td>-0.409002</td>\n",
       "      <td>0.159414</td>\n",
       "      <td>0.903380</td>\n",
       "      <td>0.126865</td>\n",
       "      <td>0.642573</td>\n",
       "      <td>-0.200595</td>\n",
       "      <td>1.257710</td>\n",
       "      <td>0.531338</td>\n",
       "      <td>-0.935114</td>\n",
       "      <td>-0.812708</td>\n",
       "      <td>0.448147</td>\n",
       "    </tr>\n",
       "    <tr>\n",
       "      <th>1</th>\n",
       "      <td>0.0</td>\n",
       "      <td>0.000000</td>\n",
       "      <td>0.000000</td>\n",
       "      <td>0.000000</td>\n",
       "      <td>0.448904</td>\n",
       "      <td>0.841429</td>\n",
       "      <td>1.000000</td>\n",
       "      <td>1.557739</td>\n",
       "      <td>-1.330803</td>\n",
       "      <td>-1.437935</td>\n",
       "      <td>0.183285</td>\n",
       "      <td>-0.409002</td>\n",
       "      <td>0.159414</td>\n",
       "      <td>0.903380</td>\n",
       "      <td>0.126865</td>\n",
       "      <td>1.071823</td>\n",
       "      <td>-0.200595</td>\n",
       "      <td>-0.805295</td>\n",
       "      <td>0.882429</td>\n",
       "      <td>-0.935114</td>\n",
       "      <td>-0.812708</td>\n",
       "      <td>-0.389513</td>\n",
       "    </tr>\n",
       "    <tr>\n",
       "      <th>2</th>\n",
       "      <td>0.0</td>\n",
       "      <td>0.000000</td>\n",
       "      <td>0.236353</td>\n",
       "      <td>0.000000</td>\n",
       "      <td>0.448904</td>\n",
       "      <td>0.000000</td>\n",
       "      <td>0.865792</td>\n",
       "      <td>-0.362003</td>\n",
       "      <td>0.497132</td>\n",
       "      <td>0.191354</td>\n",
       "      <td>-1.011355</td>\n",
       "      <td>-0.052098</td>\n",
       "      <td>0.159414</td>\n",
       "      <td>0.903380</td>\n",
       "      <td>-1.705831</td>\n",
       "      <td>-0.784149</td>\n",
       "      <td>0.154940</td>\n",
       "      <td>-0.327202</td>\n",
       "      <td>0.531338</td>\n",
       "      <td>1.689818</td>\n",
       "      <td>-0.812708</td>\n",
       "      <td>-1.822065</td>\n",
       "    </tr>\n",
       "    <tr>\n",
       "      <th>3</th>\n",
       "      <td>0.0</td>\n",
       "      <td>0.000000</td>\n",
       "      <td>0.236353</td>\n",
       "      <td>0.000000</td>\n",
       "      <td>0.448904</td>\n",
       "      <td>0.000000</td>\n",
       "      <td>0.019584</td>\n",
       "      <td>-0.819084</td>\n",
       "      <td>-1.330803</td>\n",
       "      <td>0.191354</td>\n",
       "      <td>0.183285</td>\n",
       "      <td>-0.409002</td>\n",
       "      <td>0.159414</td>\n",
       "      <td>-0.019644</td>\n",
       "      <td>1.620939</td>\n",
       "      <td>-0.784149</td>\n",
       "      <td>0.154940</td>\n",
       "      <td>-0.805295</td>\n",
       "      <td>-1.682352</td>\n",
       "      <td>1.689818</td>\n",
       "      <td>1.230455</td>\n",
       "      <td>-0.262354</td>\n",
       "    </tr>\n",
       "    <tr>\n",
       "      <th>4</th>\n",
       "      <td>0.0</td>\n",
       "      <td>0.000000</td>\n",
       "      <td>0.236353</td>\n",
       "      <td>0.276238</td>\n",
       "      <td>0.000000</td>\n",
       "      <td>0.000000</td>\n",
       "      <td>1.000000</td>\n",
       "      <td>-1.276166</td>\n",
       "      <td>0.497132</td>\n",
       "      <td>0.191354</td>\n",
       "      <td>1.975244</td>\n",
       "      <td>-0.052098</td>\n",
       "      <td>0.159414</td>\n",
       "      <td>0.903380</td>\n",
       "      <td>0.126865</td>\n",
       "      <td>1.071823</td>\n",
       "      <td>-0.200595</td>\n",
       "      <td>-0.805295</td>\n",
       "      <td>0.882429</td>\n",
       "      <td>-0.935114</td>\n",
       "      <td>-0.812708</td>\n",
       "      <td>0.448147</td>\n",
       "    </tr>\n",
       "  </tbody>\n",
       "</table>\n",
       "</div>"
      ],
      "text/plain": [
       "   ForeignWorker  NumberDependents  ExistingCreditsAtBank   Housing  \\\n",
       "0            0.0         -0.018524               1.000000  0.000000   \n",
       "1            0.0          0.000000               0.000000  0.000000   \n",
       "2            0.0          0.000000               0.236353  0.000000   \n",
       "3            0.0          0.000000               0.236353  0.000000   \n",
       "4            0.0          0.000000               0.236353  0.276238   \n",
       "\n",
       "   OtherDetorsGuarantors  OtherInstalments   Savings       Age  \\\n",
       "0               0.448904          0.000000  0.865792  0.510976   \n",
       "1               0.448904          0.841429  1.000000  1.557739   \n",
       "2               0.448904          0.000000  0.865792 -0.362003   \n",
       "3               0.448904          0.000000  0.019584 -0.819084   \n",
       "4               0.000000          0.000000  1.000000 -1.276166   \n",
       "\n",
       "   CheckingAcctStat  CreditHistory  Duration  Employment  ForeignWorker  \\\n",
       "0          0.937802       2.046422  0.580377   -0.409002       0.159414   \n",
       "1         -1.330803      -1.437935  0.183285   -0.409002       0.159414   \n",
       "2          0.497132       0.191354 -1.011355   -0.052098       0.159414   \n",
       "3         -1.330803       0.191354  0.183285   -0.409002       0.159414   \n",
       "4          0.497132       0.191354  1.975244   -0.052098       0.159414   \n",
       "\n",
       "   InstallmentRatePecnt       Job  PresentResidenceTime  Property   Purpose  \\\n",
       "0              0.903380  0.126865              0.642573 -0.200595  1.257710   \n",
       "1              0.903380  0.126865              1.071823 -0.200595 -0.805295   \n",
       "2              0.903380 -1.705831             -0.784149  0.154940 -0.327202   \n",
       "3             -0.019644  1.620939             -0.784149  0.154940 -0.805295   \n",
       "4              0.903380  0.126865              1.071823 -0.200595 -0.805295   \n",
       "\n",
       "    Savings  SexAndStatus  Telephone  CreditAmount_ordered  \n",
       "0  0.531338     -0.935114  -0.812708              0.448147  \n",
       "1  0.882429     -0.935114  -0.812708             -0.389513  \n",
       "2  0.531338      1.689818  -0.812708             -1.822065  \n",
       "3 -1.682352      1.689818   1.230455             -0.262354  \n",
       "4  0.882429     -0.935114  -0.812708              0.448147  "
      ]
     },
     "execution_count": 82,
     "metadata": {},
     "output_type": "execute_result"
    }
   ],
   "source": [
    "X_test = pd.DataFrame(X_test)\n",
    "X_test.to_csv('X_test.csv', index=False)\n",
    "\n",
    "X_test.head()"
   ]
  },
  {
   "cell_type": "code",
   "execution_count": 83,
   "metadata": {},
   "outputs": [
    {
     "data": {
      "text/html": [
       "<div>\n",
       "<style scoped>\n",
       "    .dataframe tbody tr th:only-of-type {\n",
       "        vertical-align: middle;\n",
       "    }\n",
       "\n",
       "    .dataframe tbody tr th {\n",
       "        vertical-align: top;\n",
       "    }\n",
       "\n",
       "    .dataframe thead th {\n",
       "        text-align: right;\n",
       "    }\n",
       "</style>\n",
       "<table border=\"1\" class=\"dataframe\">\n",
       "  <thead>\n",
       "    <tr style=\"text-align: right;\">\n",
       "      <th></th>\n",
       "      <th>CreditStatus</th>\n",
       "    </tr>\n",
       "  </thead>\n",
       "  <tbody>\n",
       "    <tr>\n",
       "      <th>424</th>\n",
       "      <td>0</td>\n",
       "    </tr>\n",
       "    <tr>\n",
       "      <th>841</th>\n",
       "      <td>1</td>\n",
       "    </tr>\n",
       "    <tr>\n",
       "      <th>346</th>\n",
       "      <td>0</td>\n",
       "    </tr>\n",
       "    <tr>\n",
       "      <th>418</th>\n",
       "      <td>0</td>\n",
       "    </tr>\n",
       "    <tr>\n",
       "      <th>682</th>\n",
       "      <td>1</td>\n",
       "    </tr>\n",
       "  </tbody>\n",
       "</table>\n",
       "</div>"
      ],
      "text/plain": [
       "     CreditStatus\n",
       "424             0\n",
       "841             1\n",
       "346             0\n",
       "418             0\n",
       "682             1"
      ]
     },
     "execution_count": 83,
     "metadata": {},
     "output_type": "execute_result"
    }
   ],
   "source": [
    "y_train = pd.DataFrame(y_train)\n",
    "y_train.to_csv('y_train.csv', index=False)\n",
    "\n",
    "y_train.head()"
   ]
  },
  {
   "cell_type": "code",
   "execution_count": 84,
   "metadata": {},
   "outputs": [],
   "source": [
    "y_test = pd.DataFrame(y_test)\n",
    "y_test.to_csv('y_test.csv', index=False)"
   ]
  }
 ],
 "metadata": {
  "kernelspec": {
   "display_name": "Python 3",
   "language": "python",
   "name": "python3"
  },
  "language_info": {
   "codemirror_mode": {
    "name": "ipython",
    "version": 3
   },
   "file_extension": ".py",
   "mimetype": "text/x-python",
   "name": "python",
   "nbconvert_exporter": "python",
   "pygments_lexer": "ipython3",
   "version": "3.6.8"
  }
 },
 "nbformat": 4,
 "nbformat_minor": 2
}
