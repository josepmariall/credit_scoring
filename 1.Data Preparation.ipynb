{
 "cells": [
  {
   "cell_type": "markdown",
   "metadata": {},
   "source": [
    "## I. Data Preparation\n",
    "\n",
    "In this notebook, we shall prepare data to be used for inference.\n",
    "\n",
    "We shall start by importing the libraries and data. Then I shall explore the structure of the data set and proceed to:\n",
    "* Feature engineering (turning non numerical variables into categorical and creating dummies)\n",
    "* Outlier handling\n",
    "\n",
    "Finally, I save the modified dataset for creating and testing a model for inference purposes. "
   ]
  },
  {
   "cell_type": "markdown",
   "metadata": {},
   "source": [
    "### 1.Importing libraries"
   ]
  },
  {
   "cell_type": "code",
   "execution_count": 1,
   "metadata": {},
   "outputs": [],
   "source": [
    "# import libraries\n",
    "import pandas as pd\n",
    "from sklearn import preprocessing\n",
    "import sklearn.model_selection as ms\n",
    "from sklearn import linear_model\n",
    "import sklearn.metrics as sklm\n",
    "import numpy as np\n",
    "import numpy.random as nr\n",
    "import matplotlib.pyplot as plt\n",
    "import seaborn as sns\n",
    "import scipy.stats as ss\n",
    "import math\n",
    "from glob import glob\n",
    "\n",
    "\n",
    "%matplotlib inline\n",
    "%matplotlib inline"
   ]
  },
  {
   "cell_type": "markdown",
   "metadata": {},
   "source": [
    "### 2. Import datasets "
   ]
  },
  {
   "cell_type": "code",
   "execution_count": 2,
   "metadata": {},
   "outputs": [
    {
     "data": {
      "text/plain": [
       "(950, 21)"
      ]
     },
     "execution_count": 2,
     "metadata": {},
     "output_type": "execute_result"
    }
   ],
   "source": [
    "df=pd.read_csv('Credit-Scoring-Clean.csv')\n",
    "df.shape"
   ]
  },
  {
   "cell_type": "code",
   "execution_count": 3,
   "metadata": {},
   "outputs": [
    {
     "data": {
      "text/plain": [
       "(950, 21)"
      ]
     },
     "execution_count": 3,
     "metadata": {},
     "output_type": "execute_result"
    }
   ],
   "source": [
    "# REmove duplicate columns if any\n",
    "#Remove duplicate columns\n",
    "_, i = np.unique(df.columns, return_index=True)\n",
    "df=df.iloc[:, i]\n",
    "df.shape"
   ]
  },
  {
   "cell_type": "markdown",
   "metadata": {},
   "source": [
    "We can see there were no duplicate rows"
   ]
  },
  {
   "cell_type": "markdown",
   "metadata": {},
   "source": [
    "### 3. Data Exploration"
   ]
  },
  {
   "cell_type": "code",
   "execution_count": 4,
   "metadata": {},
   "outputs": [
    {
     "data": {
      "text/html": [
       "<div>\n",
       "<style scoped>\n",
       "    .dataframe tbody tr th:only-of-type {\n",
       "        vertical-align: middle;\n",
       "    }\n",
       "\n",
       "    .dataframe tbody tr th {\n",
       "        vertical-align: top;\n",
       "    }\n",
       "\n",
       "    .dataframe thead th {\n",
       "        text-align: right;\n",
       "    }\n",
       "</style>\n",
       "<table border=\"1\" class=\"dataframe\">\n",
       "  <thead>\n",
       "    <tr style=\"text-align: right;\">\n",
       "      <th></th>\n",
       "      <th>Age</th>\n",
       "      <th>CheckingAcctStat</th>\n",
       "      <th>CreditAmount</th>\n",
       "      <th>CreditHistory</th>\n",
       "      <th>CreditStatus</th>\n",
       "      <th>Duration</th>\n",
       "      <th>Employment</th>\n",
       "      <th>ExistingCreditsAtBank</th>\n",
       "      <th>ForeignWorker</th>\n",
       "      <th>Housing</th>\n",
       "      <th>...</th>\n",
       "      <th>Job</th>\n",
       "      <th>NumberDependents</th>\n",
       "      <th>OtherDetorsGuarantors</th>\n",
       "      <th>OtherInstalments</th>\n",
       "      <th>PresentResidenceTime</th>\n",
       "      <th>Property</th>\n",
       "      <th>Purpose</th>\n",
       "      <th>Savings</th>\n",
       "      <th>SexAndStatus</th>\n",
       "      <th>Telephone</th>\n",
       "    </tr>\n",
       "  </thead>\n",
       "  <tbody>\n",
       "    <tr>\n",
       "      <th>0</th>\n",
       "      <td>0.089286</td>\n",
       "      <td>A11</td>\n",
       "      <td>0.161770</td>\n",
       "      <td>A32</td>\n",
       "      <td>1</td>\n",
       "      <td>0.205882</td>\n",
       "      <td>A73</td>\n",
       "      <td>0.0</td>\n",
       "      <td>A201</td>\n",
       "      <td>A152</td>\n",
       "      <td>...</td>\n",
       "      <td>A173</td>\n",
       "      <td>0.0</td>\n",
       "      <td>A101</td>\n",
       "      <td>A143</td>\n",
       "      <td>0.333333</td>\n",
       "      <td>A121</td>\n",
       "      <td>A43</td>\n",
       "      <td>A61</td>\n",
       "      <td>A92</td>\n",
       "      <td>A191</td>\n",
       "    </tr>\n",
       "    <tr>\n",
       "      <th>1</th>\n",
       "      <td>0.125000</td>\n",
       "      <td>A14</td>\n",
       "      <td>0.058380</td>\n",
       "      <td>A32</td>\n",
       "      <td>0</td>\n",
       "      <td>0.294118</td>\n",
       "      <td>A74</td>\n",
       "      <td>0.0</td>\n",
       "      <td>A201</td>\n",
       "      <td>A152</td>\n",
       "      <td>...</td>\n",
       "      <td>A173</td>\n",
       "      <td>0.0</td>\n",
       "      <td>A101</td>\n",
       "      <td>A143</td>\n",
       "      <td>0.666667</td>\n",
       "      <td>A122</td>\n",
       "      <td>A43</td>\n",
       "      <td>A62</td>\n",
       "      <td>A94</td>\n",
       "      <td>A192</td>\n",
       "    </tr>\n",
       "    <tr>\n",
       "      <th>2</th>\n",
       "      <td>0.232143</td>\n",
       "      <td>A14</td>\n",
       "      <td>0.069055</td>\n",
       "      <td>A32</td>\n",
       "      <td>0</td>\n",
       "      <td>0.205882</td>\n",
       "      <td>A73</td>\n",
       "      <td>0.0</td>\n",
       "      <td>A201</td>\n",
       "      <td>A153</td>\n",
       "      <td>...</td>\n",
       "      <td>A174</td>\n",
       "      <td>0.0</td>\n",
       "      <td>A101</td>\n",
       "      <td>A143</td>\n",
       "      <td>0.333333</td>\n",
       "      <td>A124</td>\n",
       "      <td>A43</td>\n",
       "      <td>A61</td>\n",
       "      <td>A93</td>\n",
       "      <td>A192</td>\n",
       "    </tr>\n",
       "    <tr>\n",
       "      <th>3</th>\n",
       "      <td>0.214286</td>\n",
       "      <td>A11</td>\n",
       "      <td>0.358094</td>\n",
       "      <td>A32</td>\n",
       "      <td>1</td>\n",
       "      <td>0.647059</td>\n",
       "      <td>A73</td>\n",
       "      <td>0.0</td>\n",
       "      <td>A201</td>\n",
       "      <td>A152</td>\n",
       "      <td>...</td>\n",
       "      <td>A173</td>\n",
       "      <td>0.0</td>\n",
       "      <td>A101</td>\n",
       "      <td>A143</td>\n",
       "      <td>0.333333</td>\n",
       "      <td>A123</td>\n",
       "      <td>A43</td>\n",
       "      <td>A61</td>\n",
       "      <td>A92</td>\n",
       "      <td>A192</td>\n",
       "    </tr>\n",
       "    <tr>\n",
       "      <th>4</th>\n",
       "      <td>0.178571</td>\n",
       "      <td>A13</td>\n",
       "      <td>0.023825</td>\n",
       "      <td>A33</td>\n",
       "      <td>0</td>\n",
       "      <td>0.029412</td>\n",
       "      <td>A72</td>\n",
       "      <td>0.0</td>\n",
       "      <td>A201</td>\n",
       "      <td>A152</td>\n",
       "      <td>...</td>\n",
       "      <td>A173</td>\n",
       "      <td>0.0</td>\n",
       "      <td>A101</td>\n",
       "      <td>A141</td>\n",
       "      <td>0.000000</td>\n",
       "      <td>A122</td>\n",
       "      <td>A43</td>\n",
       "      <td>A61</td>\n",
       "      <td>A92</td>\n",
       "      <td>A191</td>\n",
       "    </tr>\n",
       "  </tbody>\n",
       "</table>\n",
       "<p>5 rows × 21 columns</p>\n",
       "</div>"
      ],
      "text/plain": [
       "        Age CheckingAcctStat  CreditAmount CreditHistory  CreditStatus  \\\n",
       "0  0.089286              A11      0.161770           A32             1   \n",
       "1  0.125000              A14      0.058380           A32             0   \n",
       "2  0.232143              A14      0.069055           A32             0   \n",
       "3  0.214286              A11      0.358094           A32             1   \n",
       "4  0.178571              A13      0.023825           A33             0   \n",
       "\n",
       "   Duration Employment  ExistingCreditsAtBank ForeignWorker Housing  ...  \\\n",
       "0  0.205882        A73                    0.0          A201    A152  ...   \n",
       "1  0.294118        A74                    0.0          A201    A152  ...   \n",
       "2  0.205882        A73                    0.0          A201    A153  ...   \n",
       "3  0.647059        A73                    0.0          A201    A152  ...   \n",
       "4  0.029412        A72                    0.0          A201    A152  ...   \n",
       "\n",
       "    Job NumberDependents  OtherDetorsGuarantors OtherInstalments  \\\n",
       "0  A173              0.0                   A101             A143   \n",
       "1  A173              0.0                   A101             A143   \n",
       "2  A174              0.0                   A101             A143   \n",
       "3  A173              0.0                   A101             A143   \n",
       "4  A173              0.0                   A101             A141   \n",
       "\n",
       "  PresentResidenceTime  Property Purpose Savings SexAndStatus Telephone  \n",
       "0             0.333333      A121     A43     A61          A92      A191  \n",
       "1             0.666667      A122     A43     A62          A94      A192  \n",
       "2             0.333333      A124     A43     A61          A93      A192  \n",
       "3             0.333333      A123     A43     A61          A92      A192  \n",
       "4             0.000000      A122     A43     A61          A92      A191  \n",
       "\n",
       "[5 rows x 21 columns]"
      ]
     },
     "execution_count": 4,
     "metadata": {},
     "output_type": "execute_result"
    }
   ],
   "source": [
    "df.head(5)"
   ]
  },
  {
   "cell_type": "code",
   "execution_count": 5,
   "metadata": {},
   "outputs": [
    {
     "data": {
      "text/plain": [
       "Age                      0\n",
       "CheckingAcctStat         0\n",
       "CreditAmount             0\n",
       "CreditHistory            0\n",
       "CreditStatus             0\n",
       "Duration                 0\n",
       "Employment               0\n",
       "ExistingCreditsAtBank    0\n",
       "ForeignWorker            0\n",
       "Housing                  0\n",
       "InstallmentRatePecnt     0\n",
       "Job                      0\n",
       "NumberDependents         0\n",
       "OtherDetorsGuarantors    0\n",
       "OtherInstalments         0\n",
       "PresentResidenceTime     0\n",
       "Property                 0\n",
       "Purpose                  0\n",
       "Savings                  0\n",
       "SexAndStatus             0\n",
       "Telephone                0\n",
       "dtype: int64"
      ]
     },
     "execution_count": 5,
     "metadata": {},
     "output_type": "execute_result"
    }
   ],
   "source": [
    "# see if there is any missing value\n",
    "df.isna().sum()"
   ]
  },
  {
   "cell_type": "markdown",
   "metadata": {},
   "source": [
    "Data seems to be (as expected by the name of the dataset), clean and ready for inference"
   ]
  },
  {
   "cell_type": "markdown",
   "metadata": {},
   "source": [
    "### 3.1 Label exploration"
   ]
  },
  {
   "cell_type": "markdown",
   "metadata": {},
   "source": [
    "Let's look at the label, and turn it into YES/NO, and then into 0/1 values"
   ]
  },
  {
   "cell_type": "code",
   "execution_count": 6,
   "metadata": {
    "scrolled": true
   },
   "outputs": [
    {
     "data": {
      "text/plain": [
       "1    525\n",
       "0    425\n",
       "Name: CreditStatus, dtype: int64"
      ]
     },
     "execution_count": 6,
     "metadata": {},
     "output_type": "execute_result"
    }
   ],
   "source": [
    "df.CreditStatus.value_counts()"
   ]
  },
  {
   "cell_type": "markdown",
   "metadata": {},
   "source": [
    "Data is slightly imbalanced, so I shall undertake action to balance it"
   ]
  },
  {
   "cell_type": "code",
   "execution_count": 7,
   "metadata": {},
   "outputs": [
    {
     "data": {
      "text/plain": [
       "count    950.000000\n",
       "mean       0.552632\n",
       "std        0.497484\n",
       "min        0.000000\n",
       "25%        0.000000\n",
       "50%        1.000000\n",
       "75%        1.000000\n",
       "max        1.000000\n",
       "Name: CreditStatus, dtype: float64"
      ]
     },
     "execution_count": 7,
     "metadata": {},
     "output_type": "execute_result"
    }
   ],
   "source": [
    "df.CreditStatus.describe()"
   ]
  },
  {
   "cell_type": "markdown",
   "metadata": {},
   "source": [
    "### 3. Feature selection and engineering"
   ]
  },
  {
   "cell_type": "markdown",
   "metadata": {},
   "source": [
    "#### 3.1 Feature selection"
   ]
  },
  {
   "cell_type": "code",
   "execution_count": 8,
   "metadata": {},
   "outputs": [
    {
     "data": {
      "text/plain": [
       "Index(['Age', 'CheckingAcctStat', 'CreditAmount', 'CreditHistory',\n",
       "       'CreditStatus', 'Duration', 'Employment', 'ExistingCreditsAtBank',\n",
       "       'ForeignWorker', 'Housing', 'InstallmentRatePecnt', 'Job',\n",
       "       'NumberDependents', 'OtherDetorsGuarantors', 'OtherInstalments',\n",
       "       'PresentResidenceTime', 'Property', 'Purpose', 'Savings',\n",
       "       'SexAndStatus', 'Telephone'],\n",
       "      dtype='object')"
      ]
     },
     "execution_count": 8,
     "metadata": {},
     "output_type": "execute_result"
    }
   ],
   "source": [
    "#show the different columns in the dataset\n",
    "df.columns"
   ]
  },
  {
   "cell_type": "code",
   "execution_count": 9,
   "metadata": {},
   "outputs": [],
   "source": [
    "#Drop columns that won't be used on this model \n",
    "df = df.drop(['Housing','SexAndStatus', 'OtherDetorsGuarantors',\n",
    "              'ExistingCreditsAtBank','OtherInstalments', 'CreditAmount',\n",
    "              'Employment','ForeignWorker','Job'], axis=1)"
   ]
  },
  {
   "cell_type": "code",
   "execution_count": 10,
   "metadata": {},
   "outputs": [
    {
     "data": {
      "text/plain": [
       "(950, 12)"
      ]
     },
     "execution_count": 10,
     "metadata": {},
     "output_type": "execute_result"
    }
   ],
   "source": [
    "#Shape of remaining dataset\n",
    "df.shape"
   ]
  },
  {
   "cell_type": "markdown",
   "metadata": {},
   "source": [
    "#### 3.2 Feature Engineering"
   ]
  },
  {
   "cell_type": "code",
   "execution_count": 11,
   "metadata": {},
   "outputs": [
    {
     "data": {
      "text/plain": [
       "Age                     float64\n",
       "CheckingAcctStat         object\n",
       "CreditHistory            object\n",
       "CreditStatus              int64\n",
       "Duration                float64\n",
       "InstallmentRatePecnt    float64\n",
       "NumberDependents        float64\n",
       "PresentResidenceTime    float64\n",
       "Property                 object\n",
       "Purpose                  object\n",
       "Savings                  object\n",
       "Telephone                object\n",
       "dtype: object"
      ]
     },
     "execution_count": 11,
     "metadata": {},
     "output_type": "execute_result"
    }
   ],
   "source": [
    "# view column types\n",
    "df.dtypes"
   ]
  },
  {
   "cell_type": "markdown",
   "metadata": {},
   "source": [
    "I need to turn the object type variables into categorical. Eventually, if there aren't too many values in an single category, I could aggregate them.  "
   ]
  },
  {
   "cell_type": "code",
   "execution_count": 12,
   "metadata": {},
   "outputs": [
    {
     "data": {
      "text/plain": [
       "A11    333\n",
       "A14    301\n",
       "A12    266\n",
       "A13     50\n",
       "Name: CheckingAcctStat, dtype: int64"
      ]
     },
     "execution_count": 12,
     "metadata": {},
     "output_type": "execute_result"
    }
   ],
   "source": [
    "# See values per categorical value\n",
    "df['CheckingAcctStat'].value_counts()"
   ]
  },
  {
   "cell_type": "code",
   "execution_count": 13,
   "metadata": {},
   "outputs": [
    {
     "data": {
      "text/plain": [
       "A32    525\n",
       "A34    234\n",
       "A33     76\n",
       "A31     62\n",
       "A30     53\n",
       "Name: CreditHistory, dtype: int64"
      ]
     },
     "execution_count": 13,
     "metadata": {},
     "output_type": "execute_result"
    }
   ],
   "source": [
    "df['CreditHistory'].value_counts()"
   ]
  },
  {
   "cell_type": "code",
   "execution_count": 14,
   "metadata": {},
   "outputs": [
    {
     "data": {
      "text/plain": [
       "A123    329\n",
       "A121    239\n",
       "A122    220\n",
       "A124    162\n",
       "Name: Property, dtype: int64"
      ]
     },
     "execution_count": 14,
     "metadata": {},
     "output_type": "execute_result"
    }
   ],
   "source": [
    "df['Property'].value_counts()"
   ]
  },
  {
   "cell_type": "code",
   "execution_count": 15,
   "metadata": {},
   "outputs": [
    {
     "data": {
      "text/plain": [
       "A43     254\n",
       "A40     254\n",
       "A42     153\n",
       "A49      96\n",
       "A41      84\n",
       "A46      44\n",
       "A45      32\n",
       "A44      11\n",
       "A48      11\n",
       "A410     11\n",
       "Name: Purpose, dtype: int64"
      ]
     },
     "execution_count": 15,
     "metadata": {},
     "output_type": "execute_result"
    }
   ],
   "source": [
    "df['Purpose'].value_counts()"
   ]
  },
  {
   "cell_type": "code",
   "execution_count": 16,
   "metadata": {},
   "outputs": [
    {
     "data": {
      "text/plain": [
       "A61    618\n",
       "A65    146\n",
       "A62     95\n",
       "A63     54\n",
       "A64     37\n",
       "Name: Savings, dtype: int64"
      ]
     },
     "execution_count": 16,
     "metadata": {},
     "output_type": "execute_result"
    }
   ],
   "source": [
    "df['Savings'].value_counts()"
   ]
  },
  {
   "cell_type": "code",
   "execution_count": 17,
   "metadata": {},
   "outputs": [
    {
     "data": {
      "text/plain": [
       "A191    573\n",
       "A192    377\n",
       "Name: Telephone, dtype: int64"
      ]
     },
     "execution_count": 17,
     "metadata": {},
     "output_type": "execute_result"
    }
   ],
   "source": [
    "df['Telephone'].value_counts()"
   ]
  },
  {
   "cell_type": "markdown",
   "metadata": {},
   "source": [
    "The followoing cells will create dummie variables for the non numerical columns we have just explored, and then drop the column used to create the dummy variables (this way we prevent collinearity)"
   ]
  },
  {
   "cell_type": "code",
   "execution_count": 18,
   "metadata": {},
   "outputs": [],
   "source": [
    "#create dummies for categorical columns\n",
    "df = pd.concat([df,pd.get_dummies(df['CheckingAcctStat'])],axis=1)\n",
    "df = pd.concat([df,pd.get_dummies(df['CreditHistory'])],axis=1)\n",
    "df = pd.concat([df,pd.get_dummies(df['Property'])],axis=1)\n",
    "df = pd.concat([df,pd.get_dummies(df['Purpose'])],axis=1)\n",
    "df = pd.concat([df,pd.get_dummies(df['Savings'])],axis=1)\n",
    "df = pd.concat([df,pd.get_dummies(df['Telephone'])],axis=1)\n"
   ]
  },
  {
   "cell_type": "code",
   "execution_count": 19,
   "metadata": {},
   "outputs": [],
   "source": [
    "df=df.drop(['CheckingAcctStat',\n",
    "       'CreditHistory', 'Property','Purpose',\n",
    "       'Savings',\n",
    "       'Telephone'], axis=1)"
   ]
  },
  {
   "cell_type": "code",
   "execution_count": 20,
   "metadata": {},
   "outputs": [
    {
     "data": {
      "text/plain": [
       "(950, 36)"
      ]
     },
     "execution_count": 20,
     "metadata": {},
     "output_type": "execute_result"
    }
   ],
   "source": [
    "#See data shape before handling outliers\n",
    "df.shape"
   ]
  },
  {
   "cell_type": "markdown",
   "metadata": {},
   "source": [
    "#### 3.3 Handling outliers"
   ]
  },
  {
   "cell_type": "code",
   "execution_count": 21,
   "metadata": {},
   "outputs": [
    {
     "data": {
      "text/plain": [
       "Age                     float64\n",
       "CreditStatus              int64\n",
       "Duration                float64\n",
       "InstallmentRatePecnt    float64\n",
       "NumberDependents        float64\n",
       "PresentResidenceTime    float64\n",
       "A11                       uint8\n",
       "A12                       uint8\n",
       "A13                       uint8\n",
       "A14                       uint8\n",
       "A30                       uint8\n",
       "A31                       uint8\n",
       "A32                       uint8\n",
       "A33                       uint8\n",
       "A34                       uint8\n",
       "A121                      uint8\n",
       "A122                      uint8\n",
       "A123                      uint8\n",
       "A124                      uint8\n",
       "A40                       uint8\n",
       "A41                       uint8\n",
       "A410                      uint8\n",
       "A42                       uint8\n",
       "A43                       uint8\n",
       "A44                       uint8\n",
       "A45                       uint8\n",
       "A46                       uint8\n",
       "A48                       uint8\n",
       "A49                       uint8\n",
       "A61                       uint8\n",
       "A62                       uint8\n",
       "A63                       uint8\n",
       "A64                       uint8\n",
       "A65                       uint8\n",
       "A191                      uint8\n",
       "A192                      uint8\n",
       "dtype: object"
      ]
     },
     "execution_count": 21,
     "metadata": {},
     "output_type": "execute_result"
    }
   ],
   "source": [
    "df.dtypes"
   ]
  },
  {
   "cell_type": "code",
   "execution_count": 22,
   "metadata": {},
   "outputs": [],
   "source": [
    "quant_features = ['Age','Duration','InstallmentRatePecnt','NumberDependents','PresentResidenceTime']"
   ]
  },
  {
   "cell_type": "code",
   "execution_count": 23,
   "metadata": {},
   "outputs": [],
   "source": [
    "# Handle outliers on numeric features\n",
    "import scipy as sp\n",
    "from scipy import stats\n",
    "df = df[(np.abs(sp.stats.zscore(df[quant_features])) < 3).all(axis=1)]"
   ]
  },
  {
   "cell_type": "code",
   "execution_count": 24,
   "metadata": {},
   "outputs": [
    {
     "data": {
      "text/plain": [
       "(937, 36)"
      ]
     },
     "execution_count": 24,
     "metadata": {},
     "output_type": "execute_result"
    }
   ],
   "source": [
    "# See data shape after handling outliers\n",
    "df.shape"
   ]
  },
  {
   "cell_type": "markdown",
   "metadata": {},
   "source": [
    "950 - 937 = 13 is the number of rows, thereofre the number of outliers deleted from the dataset when handling outliers"
   ]
  },
  {
   "cell_type": "markdown",
   "metadata": {},
   "source": [
    "Finally, I save the modified data set to create and test a model in a separate notebook"
   ]
  },
  {
   "cell_type": "code",
   "execution_count": 25,
   "metadata": {},
   "outputs": [],
   "source": [
    "#export data set to main directory to be used in a different jupyter notebook\n",
    "df.to_csv(\"dfprepared.csv\", index=False)"
   ]
  }
 ],
 "metadata": {
  "kernelspec": {
   "display_name": "Python 3",
   "language": "python",
   "name": "python3"
  },
  "language_info": {
   "codemirror_mode": {
    "name": "ipython",
    "version": 3
   },
   "file_extension": ".py",
   "mimetype": "text/x-python",
   "name": "python",
   "nbconvert_exporter": "python",
   "pygments_lexer": "ipython3",
   "version": "3.6.8"
  }
 },
 "nbformat": 4,
 "nbformat_minor": 2
}
