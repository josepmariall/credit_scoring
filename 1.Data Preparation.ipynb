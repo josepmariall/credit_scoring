{
 "cells": [
  {
   "cell_type": "markdown",
   "metadata": {},
   "source": [
    "## I. NEW Data Preparation\n",
    "\n",
    "In this notebook, we shall prepare data to be used for inference.\n",
    "\n",
    "These are the steps undertaken: \n",
    "1. Import libraries\n",
    "2. Import datasets\n",
    "3. Types of Variables\n",
    "        3.1  Missing\n",
    "        3.2 Outliers\n",
    "            - Outliers in Continuous Variables\n",
    "            - Outliers in Discrete Variables\n",
    "        3.3 Number of tables: Cardinality\n",
    "4. Pre-processing mixed type of variables\n",
    "        4.1 Rare Labels in Categorical Variables\n",
    "        4.2 See if there are outliers in newly created variables\n",
    "5. Separate Training and Test Set\n",
    "6. Engineering Outliers in Numerical Variables\n",
    "        6.1 Top/Bottom Encoding\n",
    "7. Engineer Categorical Variables\n",
    "        7.1 Engineer Rare Labels\n",
    "        7.2 Engineer labels in Categorical Variables\n",
    "8. Gaussian Transformation\n",
    "9. Scaling (Robust, MinMax, Standard)\n",
    "10. Put selected variables in one dataset and save\n",
    "\n"
   ]
  },
  {
   "cell_type": "markdown",
   "metadata": {},
   "source": [
    "### 1.Importing libraries"
   ]
  },
  {
   "cell_type": "code",
   "execution_count": 1,
   "metadata": {},
   "outputs": [],
   "source": [
    "# to handle datasets\n",
    "import pandas as pd\n",
    "import numpy as np\n",
    "\n",
    "# for text / string processing\n",
    "import re\n",
    "\n",
    "# for plotting\n",
    "import matplotlib.pyplot as plt\n",
    "%matplotlib inline\n",
    "\n",
    "# to divide train and test set\n",
    "from sklearn.model_selection import train_test_split\n",
    "\n",
    "# feature scaling\n",
    "from sklearn.preprocessing import MinMaxScaler\n",
    "\n",
    "# for tree binarisation\n",
    "from sklearn.tree import DecisionTreeClassifier\n",
    "from sklearn.model_selection import cross_val_score\n",
    "\n",
    "\n",
    "# to build the models\n",
    "from sklearn.linear_model import LogisticRegression\n",
    "from sklearn.ensemble import AdaBoostClassifier\n",
    "from sklearn.ensemble import RandomForestClassifier\n",
    "import xgboost as xgb\n",
    "\n",
    "# to evaluate the models\n",
    "from sklearn.metrics import roc_auc_score\n",
    "from sklearn import metrics\n",
    "\n",
    "pd.pandas.set_option('display.max_columns', None)\n",
    "\n",
    "import warnings\n",
    "warnings.filterwarnings('ignore')\n",
    "\n",
    "import pylab \n",
    "import scipy.stats as stats\n",
    "\n",
    "#Scaling\n",
    "from sklearn.preprocessing import RobustScaler\n",
    "from sklearn.preprocessing import MinMaxScaler\n",
    "from sklearn.preprocessing import StandardScaler\n",
    "\n",
    "\n",
    "\n"
   ]
  },
  {
   "cell_type": "markdown",
   "metadata": {},
   "source": [
    "### 2. Import datasets "
   ]
  },
  {
   "cell_type": "code",
   "execution_count": 2,
   "metadata": {},
   "outputs": [
    {
     "data": {
      "text/plain": [
       "(950, 21)"
      ]
     },
     "execution_count": 2,
     "metadata": {},
     "output_type": "execute_result"
    }
   ],
   "source": [
    "df=pd.read_csv('Credit-Scoring-Clean.csv')\n",
    "df.shape"
   ]
  },
  {
   "cell_type": "code",
   "execution_count": 3,
   "metadata": {
    "scrolled": true
   },
   "outputs": [
    {
     "data": {
      "text/plain": [
       "(950, 21)"
      ]
     },
     "execution_count": 3,
     "metadata": {},
     "output_type": "execute_result"
    }
   ],
   "source": [
    "# REmove duplicate columns if any\n",
    "#Remove duplicate columns\n",
    "_, i = np.unique(df.columns, return_index=True)\n",
    "df=df.iloc[:, i]\n",
    "df.shape"
   ]
  },
  {
   "cell_type": "markdown",
   "metadata": {},
   "source": [
    "We can see there were no duplicate rows"
   ]
  },
  {
   "cell_type": "code",
   "execution_count": 4,
   "metadata": {},
   "outputs": [
    {
     "data": {
      "text/html": [
       "<div>\n",
       "<style scoped>\n",
       "    .dataframe tbody tr th:only-of-type {\n",
       "        vertical-align: middle;\n",
       "    }\n",
       "\n",
       "    .dataframe tbody tr th {\n",
       "        vertical-align: top;\n",
       "    }\n",
       "\n",
       "    .dataframe thead th {\n",
       "        text-align: right;\n",
       "    }\n",
       "</style>\n",
       "<table border=\"1\" class=\"dataframe\">\n",
       "  <thead>\n",
       "    <tr style=\"text-align: right;\">\n",
       "      <th></th>\n",
       "      <th>Age</th>\n",
       "      <th>CheckingAcctStat</th>\n",
       "      <th>CreditAmount</th>\n",
       "      <th>CreditHistory</th>\n",
       "      <th>CreditStatus</th>\n",
       "      <th>Duration</th>\n",
       "      <th>Employment</th>\n",
       "      <th>ExistingCreditsAtBank</th>\n",
       "      <th>ForeignWorker</th>\n",
       "      <th>Housing</th>\n",
       "      <th>InstallmentRatePecnt</th>\n",
       "      <th>Job</th>\n",
       "      <th>NumberDependents</th>\n",
       "      <th>OtherDetorsGuarantors</th>\n",
       "      <th>OtherInstalments</th>\n",
       "      <th>PresentResidenceTime</th>\n",
       "      <th>Property</th>\n",
       "      <th>Purpose</th>\n",
       "      <th>Savings</th>\n",
       "      <th>SexAndStatus</th>\n",
       "      <th>Telephone</th>\n",
       "    </tr>\n",
       "  </thead>\n",
       "  <tbody>\n",
       "    <tr>\n",
       "      <th>0</th>\n",
       "      <td>0.089286</td>\n",
       "      <td>A11</td>\n",
       "      <td>0.161770</td>\n",
       "      <td>A32</td>\n",
       "      <td>1</td>\n",
       "      <td>0.205882</td>\n",
       "      <td>A73</td>\n",
       "      <td>0.0</td>\n",
       "      <td>A201</td>\n",
       "      <td>A152</td>\n",
       "      <td>0.333333</td>\n",
       "      <td>A173</td>\n",
       "      <td>0.0</td>\n",
       "      <td>A101</td>\n",
       "      <td>A143</td>\n",
       "      <td>0.333333</td>\n",
       "      <td>A121</td>\n",
       "      <td>A43</td>\n",
       "      <td>A61</td>\n",
       "      <td>A92</td>\n",
       "      <td>A191</td>\n",
       "    </tr>\n",
       "    <tr>\n",
       "      <th>1</th>\n",
       "      <td>0.125000</td>\n",
       "      <td>A14</td>\n",
       "      <td>0.058380</td>\n",
       "      <td>A32</td>\n",
       "      <td>0</td>\n",
       "      <td>0.294118</td>\n",
       "      <td>A74</td>\n",
       "      <td>0.0</td>\n",
       "      <td>A201</td>\n",
       "      <td>A152</td>\n",
       "      <td>1.000000</td>\n",
       "      <td>A173</td>\n",
       "      <td>0.0</td>\n",
       "      <td>A101</td>\n",
       "      <td>A143</td>\n",
       "      <td>0.666667</td>\n",
       "      <td>A122</td>\n",
       "      <td>A43</td>\n",
       "      <td>A62</td>\n",
       "      <td>A94</td>\n",
       "      <td>A192</td>\n",
       "    </tr>\n",
       "    <tr>\n",
       "      <th>2</th>\n",
       "      <td>0.232143</td>\n",
       "      <td>A14</td>\n",
       "      <td>0.069055</td>\n",
       "      <td>A32</td>\n",
       "      <td>0</td>\n",
       "      <td>0.205882</td>\n",
       "      <td>A73</td>\n",
       "      <td>0.0</td>\n",
       "      <td>A201</td>\n",
       "      <td>A153</td>\n",
       "      <td>1.000000</td>\n",
       "      <td>A174</td>\n",
       "      <td>0.0</td>\n",
       "      <td>A101</td>\n",
       "      <td>A143</td>\n",
       "      <td>0.333333</td>\n",
       "      <td>A124</td>\n",
       "      <td>A43</td>\n",
       "      <td>A61</td>\n",
       "      <td>A93</td>\n",
       "      <td>A192</td>\n",
       "    </tr>\n",
       "    <tr>\n",
       "      <th>3</th>\n",
       "      <td>0.214286</td>\n",
       "      <td>A11</td>\n",
       "      <td>0.358094</td>\n",
       "      <td>A32</td>\n",
       "      <td>1</td>\n",
       "      <td>0.647059</td>\n",
       "      <td>A73</td>\n",
       "      <td>0.0</td>\n",
       "      <td>A201</td>\n",
       "      <td>A152</td>\n",
       "      <td>0.666667</td>\n",
       "      <td>A173</td>\n",
       "      <td>0.0</td>\n",
       "      <td>A101</td>\n",
       "      <td>A143</td>\n",
       "      <td>0.333333</td>\n",
       "      <td>A123</td>\n",
       "      <td>A43</td>\n",
       "      <td>A61</td>\n",
       "      <td>A92</td>\n",
       "      <td>A192</td>\n",
       "    </tr>\n",
       "    <tr>\n",
       "      <th>4</th>\n",
       "      <td>0.178571</td>\n",
       "      <td>A13</td>\n",
       "      <td>0.023825</td>\n",
       "      <td>A33</td>\n",
       "      <td>0</td>\n",
       "      <td>0.029412</td>\n",
       "      <td>A72</td>\n",
       "      <td>0.0</td>\n",
       "      <td>A201</td>\n",
       "      <td>A152</td>\n",
       "      <td>0.333333</td>\n",
       "      <td>A173</td>\n",
       "      <td>0.0</td>\n",
       "      <td>A101</td>\n",
       "      <td>A141</td>\n",
       "      <td>0.000000</td>\n",
       "      <td>A122</td>\n",
       "      <td>A43</td>\n",
       "      <td>A61</td>\n",
       "      <td>A92</td>\n",
       "      <td>A191</td>\n",
       "    </tr>\n",
       "  </tbody>\n",
       "</table>\n",
       "</div>"
      ],
      "text/plain": [
       "        Age CheckingAcctStat  CreditAmount CreditHistory  CreditStatus  \\\n",
       "0  0.089286              A11      0.161770           A32             1   \n",
       "1  0.125000              A14      0.058380           A32             0   \n",
       "2  0.232143              A14      0.069055           A32             0   \n",
       "3  0.214286              A11      0.358094           A32             1   \n",
       "4  0.178571              A13      0.023825           A33             0   \n",
       "\n",
       "   Duration Employment  ExistingCreditsAtBank ForeignWorker Housing  \\\n",
       "0  0.205882        A73                    0.0          A201    A152   \n",
       "1  0.294118        A74                    0.0          A201    A152   \n",
       "2  0.205882        A73                    0.0          A201    A153   \n",
       "3  0.647059        A73                    0.0          A201    A152   \n",
       "4  0.029412        A72                    0.0          A201    A152   \n",
       "\n",
       "   InstallmentRatePecnt   Job  NumberDependents OtherDetorsGuarantors  \\\n",
       "0              0.333333  A173               0.0                  A101   \n",
       "1              1.000000  A173               0.0                  A101   \n",
       "2              1.000000  A174               0.0                  A101   \n",
       "3              0.666667  A173               0.0                  A101   \n",
       "4              0.333333  A173               0.0                  A101   \n",
       "\n",
       "  OtherInstalments  PresentResidenceTime Property Purpose Savings  \\\n",
       "0             A143              0.333333     A121     A43     A61   \n",
       "1             A143              0.666667     A122     A43     A62   \n",
       "2             A143              0.333333     A124     A43     A61   \n",
       "3             A143              0.333333     A123     A43     A61   \n",
       "4             A141              0.000000     A122     A43     A61   \n",
       "\n",
       "  SexAndStatus Telephone  \n",
       "0          A92      A191  \n",
       "1          A94      A192  \n",
       "2          A93      A192  \n",
       "3          A92      A192  \n",
       "4          A92      A191  "
      ]
     },
     "execution_count": 4,
     "metadata": {},
     "output_type": "execute_result"
    }
   ],
   "source": [
    "df.head()"
   ]
  },
  {
   "cell_type": "markdown",
   "metadata": {},
   "source": [
    "### 3. Types of Variables"
   ]
  },
  {
   "cell_type": "code",
   "execution_count": 5,
   "metadata": {},
   "outputs": [
    {
     "data": {
      "text/plain": [
       "Age                      float64\n",
       "CheckingAcctStat          object\n",
       "CreditAmount             float64\n",
       "CreditHistory             object\n",
       "CreditStatus               int64\n",
       "Duration                 float64\n",
       "Employment                object\n",
       "ExistingCreditsAtBank    float64\n",
       "ForeignWorker             object\n",
       "Housing                   object\n",
       "InstallmentRatePecnt     float64\n",
       "Job                       object\n",
       "NumberDependents         float64\n",
       "OtherDetorsGuarantors     object\n",
       "OtherInstalments          object\n",
       "PresentResidenceTime     float64\n",
       "Property                  object\n",
       "Purpose                   object\n",
       "Savings                   object\n",
       "SexAndStatus              object\n",
       "Telephone                 object\n",
       "dtype: object"
      ]
     },
     "execution_count": 5,
     "metadata": {},
     "output_type": "execute_result"
    }
   ],
   "source": [
    "df.dtypes"
   ]
  },
  {
   "cell_type": "markdown",
   "metadata": {},
   "source": [
    "There are a mixture of categorical and numerical variables. Numerical are those of type int and float. Categorical those of type object."
   ]
  },
  {
   "cell_type": "code",
   "execution_count": 6,
   "metadata": {
    "scrolled": true
   },
   "outputs": [
    {
     "name": "stdout",
     "output_type": "stream",
     "text": [
      "There are 8 numerical variables\n"
     ]
    }
   ],
   "source": [
    "# find numerical variables\n",
    "numerical = [var for var in df.columns if df[var].dtype!='O']\n",
    "print('There are {} numerical variables'.format(len(numerical)))"
   ]
  },
  {
   "cell_type": "code",
   "execution_count": 7,
   "metadata": {},
   "outputs": [
    {
     "name": "stdout",
     "output_type": "stream",
     "text": [
      "There are 13 categorical variables\n"
     ]
    }
   ],
   "source": [
    "# find categorical variables\n",
    "categorical = [var for var in df.columns if df[var].dtype=='O']\n",
    "print('There are {} categorical variables'.format(len(categorical)))"
   ]
  },
  {
   "cell_type": "code",
   "execution_count": 8,
   "metadata": {
    "scrolled": true
   },
   "outputs": [
    {
     "data": {
      "text/html": [
       "<div>\n",
       "<style scoped>\n",
       "    .dataframe tbody tr th:only-of-type {\n",
       "        vertical-align: middle;\n",
       "    }\n",
       "\n",
       "    .dataframe tbody tr th {\n",
       "        vertical-align: top;\n",
       "    }\n",
       "\n",
       "    .dataframe thead th {\n",
       "        text-align: right;\n",
       "    }\n",
       "</style>\n",
       "<table border=\"1\" class=\"dataframe\">\n",
       "  <thead>\n",
       "    <tr style=\"text-align: right;\">\n",
       "      <th></th>\n",
       "      <th>CheckingAcctStat</th>\n",
       "      <th>CreditHistory</th>\n",
       "      <th>Employment</th>\n",
       "      <th>ForeignWorker</th>\n",
       "      <th>Housing</th>\n",
       "      <th>Job</th>\n",
       "      <th>OtherDetorsGuarantors</th>\n",
       "      <th>OtherInstalments</th>\n",
       "      <th>Property</th>\n",
       "      <th>Purpose</th>\n",
       "      <th>Savings</th>\n",
       "      <th>SexAndStatus</th>\n",
       "      <th>Telephone</th>\n",
       "    </tr>\n",
       "  </thead>\n",
       "  <tbody>\n",
       "    <tr>\n",
       "      <th>0</th>\n",
       "      <td>A11</td>\n",
       "      <td>A32</td>\n",
       "      <td>A73</td>\n",
       "      <td>A201</td>\n",
       "      <td>A152</td>\n",
       "      <td>A173</td>\n",
       "      <td>A101</td>\n",
       "      <td>A143</td>\n",
       "      <td>A121</td>\n",
       "      <td>A43</td>\n",
       "      <td>A61</td>\n",
       "      <td>A92</td>\n",
       "      <td>A191</td>\n",
       "    </tr>\n",
       "    <tr>\n",
       "      <th>1</th>\n",
       "      <td>A14</td>\n",
       "      <td>A32</td>\n",
       "      <td>A74</td>\n",
       "      <td>A201</td>\n",
       "      <td>A152</td>\n",
       "      <td>A173</td>\n",
       "      <td>A101</td>\n",
       "      <td>A143</td>\n",
       "      <td>A122</td>\n",
       "      <td>A43</td>\n",
       "      <td>A62</td>\n",
       "      <td>A94</td>\n",
       "      <td>A192</td>\n",
       "    </tr>\n",
       "    <tr>\n",
       "      <th>2</th>\n",
       "      <td>A14</td>\n",
       "      <td>A32</td>\n",
       "      <td>A73</td>\n",
       "      <td>A201</td>\n",
       "      <td>A153</td>\n",
       "      <td>A174</td>\n",
       "      <td>A101</td>\n",
       "      <td>A143</td>\n",
       "      <td>A124</td>\n",
       "      <td>A43</td>\n",
       "      <td>A61</td>\n",
       "      <td>A93</td>\n",
       "      <td>A192</td>\n",
       "    </tr>\n",
       "    <tr>\n",
       "      <th>3</th>\n",
       "      <td>A11</td>\n",
       "      <td>A32</td>\n",
       "      <td>A73</td>\n",
       "      <td>A201</td>\n",
       "      <td>A152</td>\n",
       "      <td>A173</td>\n",
       "      <td>A101</td>\n",
       "      <td>A143</td>\n",
       "      <td>A123</td>\n",
       "      <td>A43</td>\n",
       "      <td>A61</td>\n",
       "      <td>A92</td>\n",
       "      <td>A192</td>\n",
       "    </tr>\n",
       "    <tr>\n",
       "      <th>4</th>\n",
       "      <td>A13</td>\n",
       "      <td>A33</td>\n",
       "      <td>A72</td>\n",
       "      <td>A201</td>\n",
       "      <td>A152</td>\n",
       "      <td>A173</td>\n",
       "      <td>A101</td>\n",
       "      <td>A141</td>\n",
       "      <td>A122</td>\n",
       "      <td>A43</td>\n",
       "      <td>A61</td>\n",
       "      <td>A92</td>\n",
       "      <td>A191</td>\n",
       "    </tr>\n",
       "  </tbody>\n",
       "</table>\n",
       "</div>"
      ],
      "text/plain": [
       "  CheckingAcctStat CreditHistory Employment ForeignWorker Housing   Job  \\\n",
       "0              A11           A32        A73          A201    A152  A173   \n",
       "1              A14           A32        A74          A201    A152  A173   \n",
       "2              A14           A32        A73          A201    A153  A174   \n",
       "3              A11           A32        A73          A201    A152  A173   \n",
       "4              A13           A33        A72          A201    A152  A173   \n",
       "\n",
       "  OtherDetorsGuarantors OtherInstalments Property Purpose Savings  \\\n",
       "0                  A101             A143     A121     A43     A61   \n",
       "1                  A101             A143     A122     A43     A62   \n",
       "2                  A101             A143     A124     A43     A61   \n",
       "3                  A101             A143     A123     A43     A61   \n",
       "4                  A101             A141     A122     A43     A61   \n",
       "\n",
       "  SexAndStatus Telephone  \n",
       "0          A92      A191  \n",
       "1          A94      A192  \n",
       "2          A93      A192  \n",
       "3          A92      A192  \n",
       "4          A92      A191  "
      ]
     },
     "execution_count": 8,
     "metadata": {},
     "output_type": "execute_result"
    }
   ],
   "source": [
    "# view of categorical variables\n",
    "df[categorical].head()"
   ]
  },
  {
   "cell_type": "code",
   "execution_count": 9,
   "metadata": {},
   "outputs": [
    {
     "data": {
      "text/plain": [
       "Index(['CheckingAcctStat', 'CreditHistory', 'Employment', 'ForeignWorker',\n",
       "       'Housing', 'Job', 'OtherDetorsGuarantors', 'OtherInstalments',\n",
       "       'Property', 'Purpose', 'Savings', 'SexAndStatus', 'Telephone'],\n",
       "      dtype='object')"
      ]
     },
     "execution_count": 9,
     "metadata": {},
     "output_type": "execute_result"
    }
   ],
   "source": [
    "df[categorical].columns"
   ]
  },
  {
   "cell_type": "markdown",
   "metadata": {},
   "source": [
    "* It looks like all categorical variables are potentially mixed type variables, since they contain both numbers and letters.\n",
    "* We could extract the numerical part and then the non-numerical part and generate 2 variables out of them, to see if that adds value to our predictive models."
   ]
  },
  {
   "cell_type": "code",
   "execution_count": 10,
   "metadata": {
    "scrolled": true
   },
   "outputs": [
    {
     "data": {
      "text/html": [
       "<div>\n",
       "<style scoped>\n",
       "    .dataframe tbody tr th:only-of-type {\n",
       "        vertical-align: middle;\n",
       "    }\n",
       "\n",
       "    .dataframe tbody tr th {\n",
       "        vertical-align: top;\n",
       "    }\n",
       "\n",
       "    .dataframe thead th {\n",
       "        text-align: right;\n",
       "    }\n",
       "</style>\n",
       "<table border=\"1\" class=\"dataframe\">\n",
       "  <thead>\n",
       "    <tr style=\"text-align: right;\">\n",
       "      <th></th>\n",
       "      <th>Age</th>\n",
       "      <th>CreditAmount</th>\n",
       "      <th>CreditStatus</th>\n",
       "      <th>Duration</th>\n",
       "      <th>ExistingCreditsAtBank</th>\n",
       "      <th>InstallmentRatePecnt</th>\n",
       "      <th>NumberDependents</th>\n",
       "      <th>PresentResidenceTime</th>\n",
       "    </tr>\n",
       "  </thead>\n",
       "  <tbody>\n",
       "    <tr>\n",
       "      <th>0</th>\n",
       "      <td>0.089286</td>\n",
       "      <td>0.161770</td>\n",
       "      <td>1</td>\n",
       "      <td>0.205882</td>\n",
       "      <td>0.000000</td>\n",
       "      <td>0.333333</td>\n",
       "      <td>0.0</td>\n",
       "      <td>0.333333</td>\n",
       "    </tr>\n",
       "    <tr>\n",
       "      <th>1</th>\n",
       "      <td>0.125000</td>\n",
       "      <td>0.058380</td>\n",
       "      <td>0</td>\n",
       "      <td>0.294118</td>\n",
       "      <td>0.000000</td>\n",
       "      <td>1.000000</td>\n",
       "      <td>0.0</td>\n",
       "      <td>0.666667</td>\n",
       "    </tr>\n",
       "    <tr>\n",
       "      <th>2</th>\n",
       "      <td>0.232143</td>\n",
       "      <td>0.069055</td>\n",
       "      <td>0</td>\n",
       "      <td>0.205882</td>\n",
       "      <td>0.000000</td>\n",
       "      <td>1.000000</td>\n",
       "      <td>0.0</td>\n",
       "      <td>0.333333</td>\n",
       "    </tr>\n",
       "    <tr>\n",
       "      <th>3</th>\n",
       "      <td>0.214286</td>\n",
       "      <td>0.358094</td>\n",
       "      <td>1</td>\n",
       "      <td>0.647059</td>\n",
       "      <td>0.000000</td>\n",
       "      <td>0.666667</td>\n",
       "      <td>0.0</td>\n",
       "      <td>0.333333</td>\n",
       "    </tr>\n",
       "    <tr>\n",
       "      <th>4</th>\n",
       "      <td>0.178571</td>\n",
       "      <td>0.023825</td>\n",
       "      <td>0</td>\n",
       "      <td>0.029412</td>\n",
       "      <td>0.000000</td>\n",
       "      <td>0.333333</td>\n",
       "      <td>0.0</td>\n",
       "      <td>0.000000</td>\n",
       "    </tr>\n",
       "    <tr>\n",
       "      <th>5</th>\n",
       "      <td>0.446429</td>\n",
       "      <td>0.131892</td>\n",
       "      <td>0</td>\n",
       "      <td>0.029412</td>\n",
       "      <td>0.000000</td>\n",
       "      <td>0.333333</td>\n",
       "      <td>1.0</td>\n",
       "      <td>0.666667</td>\n",
       "    </tr>\n",
       "    <tr>\n",
       "      <th>6</th>\n",
       "      <td>0.196429</td>\n",
       "      <td>0.088808</td>\n",
       "      <td>1</td>\n",
       "      <td>0.205882</td>\n",
       "      <td>0.333333</td>\n",
       "      <td>1.000000</td>\n",
       "      <td>0.0</td>\n",
       "      <td>0.333333</td>\n",
       "    </tr>\n",
       "    <tr>\n",
       "      <th>7</th>\n",
       "      <td>0.035714</td>\n",
       "      <td>0.035875</td>\n",
       "      <td>1</td>\n",
       "      <td>0.117647</td>\n",
       "      <td>0.000000</td>\n",
       "      <td>1.000000</td>\n",
       "      <td>0.0</td>\n",
       "      <td>1.000000</td>\n",
       "    </tr>\n",
       "    <tr>\n",
       "      <th>8</th>\n",
       "      <td>0.357143</td>\n",
       "      <td>0.022890</td>\n",
       "      <td>0</td>\n",
       "      <td>0.029412</td>\n",
       "      <td>0.333333</td>\n",
       "      <td>0.666667</td>\n",
       "      <td>0.0</td>\n",
       "      <td>1.000000</td>\n",
       "    </tr>\n",
       "    <tr>\n",
       "      <th>9</th>\n",
       "      <td>0.017857</td>\n",
       "      <td>0.108452</td>\n",
       "      <td>0</td>\n",
       "      <td>0.161765</td>\n",
       "      <td>0.000000</td>\n",
       "      <td>0.333333</td>\n",
       "      <td>0.0</td>\n",
       "      <td>1.000000</td>\n",
       "    </tr>\n",
       "    <tr>\n",
       "      <th>10</th>\n",
       "      <td>0.303571</td>\n",
       "      <td>0.036261</td>\n",
       "      <td>0</td>\n",
       "      <td>0.470588</td>\n",
       "      <td>0.000000</td>\n",
       "      <td>1.000000</td>\n",
       "      <td>0.0</td>\n",
       "      <td>1.000000</td>\n",
       "    </tr>\n",
       "    <tr>\n",
       "      <th>11</th>\n",
       "      <td>0.339286</td>\n",
       "      <td>0.053153</td>\n",
       "      <td>1</td>\n",
       "      <td>0.294118</td>\n",
       "      <td>0.333333</td>\n",
       "      <td>1.000000</td>\n",
       "      <td>1.0</td>\n",
       "      <td>1.000000</td>\n",
       "    </tr>\n",
       "    <tr>\n",
       "      <th>12</th>\n",
       "      <td>0.375000</td>\n",
       "      <td>0.151370</td>\n",
       "      <td>0</td>\n",
       "      <td>0.205882</td>\n",
       "      <td>0.000000</td>\n",
       "      <td>0.333333</td>\n",
       "      <td>0.0</td>\n",
       "      <td>1.000000</td>\n",
       "    </tr>\n",
       "    <tr>\n",
       "      <th>13</th>\n",
       "      <td>0.303571</td>\n",
       "      <td>0.032794</td>\n",
       "      <td>0</td>\n",
       "      <td>0.044118</td>\n",
       "      <td>0.000000</td>\n",
       "      <td>0.666667</td>\n",
       "      <td>0.0</td>\n",
       "      <td>1.000000</td>\n",
       "    </tr>\n",
       "    <tr>\n",
       "      <th>14</th>\n",
       "      <td>0.125000</td>\n",
       "      <td>0.217894</td>\n",
       "      <td>1</td>\n",
       "      <td>0.470588</td>\n",
       "      <td>0.000000</td>\n",
       "      <td>1.000000</td>\n",
       "      <td>0.0</td>\n",
       "      <td>0.333333</td>\n",
       "    </tr>\n",
       "    <tr>\n",
       "      <th>15</th>\n",
       "      <td>0.178571</td>\n",
       "      <td>0.036591</td>\n",
       "      <td>1</td>\n",
       "      <td>0.294118</td>\n",
       "      <td>0.000000</td>\n",
       "      <td>1.000000</td>\n",
       "      <td>0.0</td>\n",
       "      <td>0.333333</td>\n",
       "    </tr>\n",
       "    <tr>\n",
       "      <th>16</th>\n",
       "      <td>0.446429</td>\n",
       "      <td>0.067569</td>\n",
       "      <td>0</td>\n",
       "      <td>0.161765</td>\n",
       "      <td>0.333333</td>\n",
       "      <td>1.000000</td>\n",
       "      <td>1.0</td>\n",
       "      <td>1.000000</td>\n",
       "    </tr>\n",
       "    <tr>\n",
       "      <th>17</th>\n",
       "      <td>0.142857</td>\n",
       "      <td>0.490096</td>\n",
       "      <td>0</td>\n",
       "      <td>0.823529</td>\n",
       "      <td>0.000000</td>\n",
       "      <td>0.333333</td>\n",
       "      <td>0.0</td>\n",
       "      <td>0.333333</td>\n",
       "    </tr>\n",
       "    <tr>\n",
       "      <th>18</th>\n",
       "      <td>0.267857</td>\n",
       "      <td>0.093540</td>\n",
       "      <td>0</td>\n",
       "      <td>0.205882</td>\n",
       "      <td>0.333333</td>\n",
       "      <td>1.000000</td>\n",
       "      <td>0.0</td>\n",
       "      <td>0.000000</td>\n",
       "    </tr>\n",
       "    <tr>\n",
       "      <th>19</th>\n",
       "      <td>0.232143</td>\n",
       "      <td>0.024816</td>\n",
       "      <td>0</td>\n",
       "      <td>0.117647</td>\n",
       "      <td>0.333333</td>\n",
       "      <td>1.000000</td>\n",
       "      <td>0.0</td>\n",
       "      <td>0.333333</td>\n",
       "    </tr>\n",
       "  </tbody>\n",
       "</table>\n",
       "</div>"
      ],
      "text/plain": [
       "         Age  CreditAmount  CreditStatus  Duration  ExistingCreditsAtBank  \\\n",
       "0   0.089286      0.161770             1  0.205882               0.000000   \n",
       "1   0.125000      0.058380             0  0.294118               0.000000   \n",
       "2   0.232143      0.069055             0  0.205882               0.000000   \n",
       "3   0.214286      0.358094             1  0.647059               0.000000   \n",
       "4   0.178571      0.023825             0  0.029412               0.000000   \n",
       "5   0.446429      0.131892             0  0.029412               0.000000   \n",
       "6   0.196429      0.088808             1  0.205882               0.333333   \n",
       "7   0.035714      0.035875             1  0.117647               0.000000   \n",
       "8   0.357143      0.022890             0  0.029412               0.333333   \n",
       "9   0.017857      0.108452             0  0.161765               0.000000   \n",
       "10  0.303571      0.036261             0  0.470588               0.000000   \n",
       "11  0.339286      0.053153             1  0.294118               0.333333   \n",
       "12  0.375000      0.151370             0  0.205882               0.000000   \n",
       "13  0.303571      0.032794             0  0.044118               0.000000   \n",
       "14  0.125000      0.217894             1  0.470588               0.000000   \n",
       "15  0.178571      0.036591             1  0.294118               0.000000   \n",
       "16  0.446429      0.067569             0  0.161765               0.333333   \n",
       "17  0.142857      0.490096             0  0.823529               0.000000   \n",
       "18  0.267857      0.093540             0  0.205882               0.333333   \n",
       "19  0.232143      0.024816             0  0.117647               0.333333   \n",
       "\n",
       "    InstallmentRatePecnt  NumberDependents  PresentResidenceTime  \n",
       "0               0.333333               0.0              0.333333  \n",
       "1               1.000000               0.0              0.666667  \n",
       "2               1.000000               0.0              0.333333  \n",
       "3               0.666667               0.0              0.333333  \n",
       "4               0.333333               0.0              0.000000  \n",
       "5               0.333333               1.0              0.666667  \n",
       "6               1.000000               0.0              0.333333  \n",
       "7               1.000000               0.0              1.000000  \n",
       "8               0.666667               0.0              1.000000  \n",
       "9               0.333333               0.0              1.000000  \n",
       "10              1.000000               0.0              1.000000  \n",
       "11              1.000000               1.0              1.000000  \n",
       "12              0.333333               0.0              1.000000  \n",
       "13              0.666667               0.0              1.000000  \n",
       "14              1.000000               0.0              0.333333  \n",
       "15              1.000000               0.0              0.333333  \n",
       "16              1.000000               1.0              1.000000  \n",
       "17              0.333333               0.0              0.333333  \n",
       "18              1.000000               0.0              0.000000  \n",
       "19              1.000000               0.0              0.333333  "
      ]
     },
     "execution_count": 10,
     "metadata": {},
     "output_type": "execute_result"
    }
   ],
   "source": [
    "# view of numerical variables\n",
    "df[numerical].head(20)"
   ]
  },
  {
   "cell_type": "markdown",
   "metadata": {},
   "source": [
    "* 6 Continuous variables: Age, CreditAmount, Duration, ExistingCreditsAtBank, InstallmentRatePecnt, PresentREsidenceTime\n",
    "* 1 Binary Variable: Credit Status (which is the LABEL or TARGET we want to predict)"
   ]
  },
  {
   "cell_type": "markdown",
   "metadata": {},
   "source": [
    "#### 3.1 Missing Values"
   ]
  },
  {
   "cell_type": "code",
   "execution_count": 11,
   "metadata": {},
   "outputs": [
    {
     "data": {
      "text/plain": [
       "Age                      0.0\n",
       "CheckingAcctStat         0.0\n",
       "CreditAmount             0.0\n",
       "CreditHistory            0.0\n",
       "CreditStatus             0.0\n",
       "Duration                 0.0\n",
       "Employment               0.0\n",
       "ExistingCreditsAtBank    0.0\n",
       "ForeignWorker            0.0\n",
       "Housing                  0.0\n",
       "InstallmentRatePecnt     0.0\n",
       "Job                      0.0\n",
       "NumberDependents         0.0\n",
       "OtherDetorsGuarantors    0.0\n",
       "OtherInstalments         0.0\n",
       "PresentResidenceTime     0.0\n",
       "Property                 0.0\n",
       "Purpose                  0.0\n",
       "Savings                  0.0\n",
       "SexAndStatus             0.0\n",
       "Telephone                0.0\n",
       "dtype: float64"
      ]
     },
     "execution_count": 11,
     "metadata": {},
     "output_type": "execute_result"
    }
   ],
   "source": [
    "# let's visualise the percentage of missing values\n",
    "df.isnull().mean()"
   ]
  },
  {
   "cell_type": "markdown",
   "metadata": {},
   "source": [
    "Great! I have no nulls!"
   ]
  },
  {
   "cell_type": "markdown",
   "metadata": {},
   "source": [
    "#### 3.2 Outliers"
   ]
  },
  {
   "cell_type": "code",
   "execution_count": 12,
   "metadata": {},
   "outputs": [
    {
     "data": {
      "text/plain": [
       "['Age',\n",
       " 'CreditAmount',\n",
       " 'Duration',\n",
       " 'ExistingCreditsAtBank',\n",
       " 'InstallmentRatePecnt',\n",
       " 'NumberDependents',\n",
       " 'PresentResidenceTime']"
      ]
     },
     "execution_count": 12,
     "metadata": {},
     "output_type": "execute_result"
    }
   ],
   "source": [
    "numerical = [var for var in numerical if var not in['CreditStatus']]\n",
    "numerical"
   ]
  },
  {
   "cell_type": "markdown",
   "metadata": {},
   "source": [
    "**Outliers in Continuous variables**"
   ]
  },
  {
   "cell_type": "markdown",
   "metadata": {},
   "source": [
    "Let's find the outliers in the 6 continuous variables: \n",
    "Age, CreditAmount, Duration, ExistingCreditsAtBank, InstallmentRatePecnt, PresentREsidenceTime"
   ]
  },
  {
   "cell_type": "code",
   "execution_count": 13,
   "metadata": {},
   "outputs": [
    {
     "data": {
      "text/plain": [
       "Text(0, 0.5, 'CreditAmount')"
      ]
     },
     "execution_count": 13,
     "metadata": {},
     "output_type": "execute_result"
    },
    {
     "data": {
      "image/png": "[encoded data removed]",
      "text/plain": [
       "<Figure size 1080x432 with 2 Axes>"
      ]
     },
     "metadata": {
      "needs_background": "light"
     },
     "output_type": "display_data"
    }
   ],
   "source": [
    "# let's make boxplots to visualise outliers in the continuous variables \n",
    "# Age, CreditAmount, Duration, ExistingCreditsAtBank, InstallmentRatePecnt, PresentREsidenceTime\n",
    "\n",
    "plt.figure(figsize=(15,6))\n",
    "plt.subplot(1, 2, 1)\n",
    "fig = df.boxplot(column='Age')\n",
    "fig.set_title('')\n",
    "fig.set_ylabel('Age')\n",
    "\n",
    "plt.subplot(1, 2, 2)\n",
    "fig = df.boxplot(column='CreditAmount')\n",
    "fig.set_title('')\n",
    "fig.set_ylabel('CreditAmount')\n"
   ]
  },
  {
   "cell_type": "code",
   "execution_count": 14,
   "metadata": {},
   "outputs": [
    {
     "data": {
      "text/plain": [
       "Text(0, 0.5, 'ExistingCreditsAtBank')"
      ]
     },
     "execution_count": 14,
     "metadata": {},
     "output_type": "execute_result"
    },
    {
     "data": {
      "image/png": "[encoded data removed]",
      "text/plain": [
       "<Figure size 1080x432 with 2 Axes>"
      ]
     },
     "metadata": {
      "needs_background": "light"
     },
     "output_type": "display_data"
    }
   ],
   "source": [
    "plt.figure(figsize=(15,6))\n",
    "plt.subplot(1, 2, 1)\n",
    "fig = df.boxplot(column='Duration')\n",
    "fig.set_title('')\n",
    "fig.set_ylabel('Duration')\n",
    "\n",
    "plt.subplot(1, 2, 2)\n",
    "fig = df.boxplot(column='ExistingCreditsAtBank')\n",
    "fig.set_title('')\n",
    "fig.set_ylabel('ExistingCreditsAtBank')\n"
   ]
  },
  {
   "cell_type": "code",
   "execution_count": 15,
   "metadata": {},
   "outputs": [
    {
     "data": {
      "text/plain": [
       "Text(0, 0.5, 'PresentResidenceTime')"
      ]
     },
     "execution_count": 15,
     "metadata": {},
     "output_type": "execute_result"
    },
    {
     "data": {
      "image/png": "[encoded data removed]",
      "text/plain": [
       "<Figure size 1080x432 with 2 Axes>"
      ]
     },
     "metadata": {
      "needs_background": "light"
     },
     "output_type": "display_data"
    }
   ],
   "source": [
    "plt.figure(figsize=(15,6))\n",
    "plt.subplot(1, 2, 1)\n",
    "fig = df.boxplot(column='InstallmentRatePecnt')\n",
    "fig.set_title('')\n",
    "fig.set_ylabel('InstallmentRatePecnt')\n",
    "\n",
    "plt.subplot(1, 2, 2)\n",
    "fig = df.boxplot(column='PresentResidenceTime')\n",
    "fig.set_title('')\n",
    "fig.set_ylabel('PresentResidenceTime')"
   ]
  },
  {
   "cell_type": "markdown",
   "metadata": {},
   "source": [
    "4 out of the 6 continuous variables have outliers: Age, CreditAmount, Duration, ExistingCreditsAtBank\n",
    "\n",
    "Let's find out which are outliers"
   ]
  },
  {
   "cell_type": "code",
   "execution_count": 16,
   "metadata": {},
   "outputs": [
    {
     "data": {
      "text/plain": [
       "Text(0.5, 0, 'CreditAmount')"
      ]
     },
     "execution_count": 16,
     "metadata": {},
     "output_type": "execute_result"
    },
    {
     "data": {
      "image/png": "[encoded data removed]",
      "text/plain": [
       "<Figure size 1080x432 with 2 Axes>"
      ]
     },
     "metadata": {
      "needs_background": "light"
     },
     "output_type": "display_data"
    }
   ],
   "source": [
    "# first we plot the distributions to find out if they are Gaussian or skewed.\n",
    "# Depending on the distribution, we will use the normal assumption or the interquantile\n",
    "# range to find outliers\n",
    "\n",
    "plt.figure(figsize=(15,6))\n",
    "plt.subplot(1, 2, 1)\n",
    "fig = df.Age.hist(bins=20)\n",
    "fig.set_ylabel('Number')\n",
    "fig.set_xlabel('Age')\n",
    "\n",
    "plt.subplot(1, 2, 2)\n",
    "fig = df.CreditAmount.hist(bins=20)\n",
    "fig.set_ylabel('Number')\n",
    "fig.set_xlabel('CreditAmount')"
   ]
  },
  {
   "cell_type": "code",
   "execution_count": 17,
   "metadata": {},
   "outputs": [
    {
     "data": {
      "text/plain": [
       "Text(0.5, 0, 'ExistingCreditsAtBank')"
      ]
     },
     "execution_count": 17,
     "metadata": {},
     "output_type": "execute_result"
    },
    {
     "data": {
      "image/png": "[encoded data removed]",
      "text/plain": [
       "<Figure size 1080x432 with 2 Axes>"
      ]
     },
     "metadata": {
      "needs_background": "light"
     },
     "output_type": "display_data"
    }
   ],
   "source": [
    "plt.figure(figsize=(15,6))\n",
    "plt.subplot(1, 2, 1)\n",
    "fig = df.Duration.hist(bins=20)\n",
    "fig.set_ylabel('Number')\n",
    "fig.set_xlabel('Duration')\n",
    "\n",
    "plt.subplot(1, 2, 2)\n",
    "fig = df.ExistingCreditsAtBank.hist(bins=20)\n",
    "fig.set_ylabel('Number')\n",
    "fig.set_xlabel('ExistingCreditsAtBank')"
   ]
  },
  {
   "cell_type": "markdown",
   "metadata": {},
   "source": [
    "All 4 continuous variables seem to have a skewed distribution, so I shall use the IQR method to find the outliers"
   ]
  },
  {
   "cell_type": "code",
   "execution_count": 18,
   "metadata": {},
   "outputs": [
    {
     "name": "stdout",
     "output_type": "stream",
     "text": [
      "Age outliers are values < -0.6724138319999998 or > 1.1918103742499997\n",
      "CreditAmount outliers are values < -0.42554058225 or > 0.7159834115\n",
      "Duration outliers are values < -0.588235292 or > 1.0588235270000002\n",
      "ExistingCreditsAtBank outliers are values < -0.999999999 or > 1.333333332\n"
     ]
    }
   ],
   "source": [
    "# find outliers\n",
    "\n",
    "# Age\n",
    "IQR = df.Age.quantile(0.75) - df.Age.quantile(0.25)\n",
    "Lower_fence = df.Age.quantile(0.25) - (IQR * 3)\n",
    "Upper_fence = df.Age.quantile(0.75) + (IQR * 3)\n",
    "print('Age outliers are values < {lowerboundary} or > {upperboundary}'.format(lowerboundary=Lower_fence, upperboundary=Upper_fence))\n",
    "\n",
    "# CreditAmount\n",
    "IQR = df.CreditAmount.quantile(0.75) - df.CreditAmount.quantile(0.25)\n",
    "Lower_fence = df.CreditAmount.quantile(0.25) - (IQR * 3)\n",
    "Upper_fence = df.CreditAmount.quantile(0.75) + (IQR * 3)\n",
    "print('CreditAmount outliers are values < {lowerboundary} or > {upperboundary}'.format(lowerboundary=Lower_fence, upperboundary=Upper_fence))\n",
    "\n",
    "# Duration\n",
    "IQR = df.Duration.quantile(0.75) - df.Duration.quantile(0.25)\n",
    "Lower_fence = df.Duration.quantile(0.25) - (IQR * 3)\n",
    "Upper_fence = df.Duration.quantile(0.75) + (IQR * 3)\n",
    "print('Duration outliers are values < {lowerboundary} or > {upperboundary}'.format(lowerboundary=Lower_fence, upperboundary=Upper_fence))\n",
    "\n",
    "# ExistingCreditsAtBank\n",
    "IQR = df.ExistingCreditsAtBank.quantile(0.75) - df.ExistingCreditsAtBank.quantile(0.25)\n",
    "Lower_fence = df.ExistingCreditsAtBank.quantile(0.25) - (IQR * 3)\n",
    "Upper_fence = df.ExistingCreditsAtBank.quantile(0.75) + (IQR * 3)\n",
    "print('ExistingCreditsAtBank outliers are values < {lowerboundary} or > {upperboundary}'.format(lowerboundary=Lower_fence, upperboundary=Upper_fence))\n"
   ]
  },
  {
   "cell_type": "markdown",
   "metadata": {},
   "source": [
    "Now I have identied the outliers in the continuous variables. I will have to deal with them later"
   ]
  },
  {
   "cell_type": "markdown",
   "metadata": {},
   "source": [
    "#### 3.3 Number of labels: Cardinality"
   ]
  },
  {
   "cell_type": "code",
   "execution_count": 19,
   "metadata": {},
   "outputs": [
    {
     "name": "stdout",
     "output_type": "stream",
     "text": [
      "CheckingAcctStat  contains  4  labels\n",
      "CreditHistory  contains  5  labels\n",
      "Employment  contains  5  labels\n",
      "ForeignWorker  contains  2  labels\n",
      "Housing  contains  3  labels\n",
      "Job  contains  4  labels\n",
      "OtherDetorsGuarantors  contains  3  labels\n",
      "OtherInstalments  contains  3  labels\n",
      "Property  contains  4  labels\n",
      "Purpose  contains  10  labels\n",
      "Savings  contains  5  labels\n",
      "SexAndStatus  contains  4  labels\n",
      "Telephone  contains  2  labels\n"
     ]
    }
   ],
   "source": [
    "for var in categorical:\n",
    "    print(var, ' contains ', len(df[var].unique()), ' labels')"
   ]
  },
  {
   "cell_type": "markdown",
   "metadata": {},
   "source": [
    "None of them seems to present really high cardinality. Purpose is the one with the highest cardinality with a number of 10 labels.\n",
    "On the other hand, all these categorical labels are mixed labels, so Is hall have to deal with them before proceediing with data exploration. "
   ]
  },
  {
   "cell_type": "markdown",
   "metadata": {},
   "source": [
    "### 4. Preprocessing mixed type of variables\n",
    "\n",
    "All categorical variables contain both number and letters. I shall create 2 variable sfor each extracting the numerical and categorical part. "
   ]
  },
  {
   "cell_type": "code",
   "execution_count": 20,
   "metadata": {},
   "outputs": [
    {
     "data": {
      "text/html": [
       "<div>\n",
       "<style scoped>\n",
       "    .dataframe tbody tr th:only-of-type {\n",
       "        vertical-align: middle;\n",
       "    }\n",
       "\n",
       "    .dataframe tbody tr th {\n",
       "        vertical-align: top;\n",
       "    }\n",
       "\n",
       "    .dataframe thead th {\n",
       "        text-align: right;\n",
       "    }\n",
       "</style>\n",
       "<table border=\"1\" class=\"dataframe\">\n",
       "  <thead>\n",
       "    <tr style=\"text-align: right;\">\n",
       "      <th></th>\n",
       "      <th>Age</th>\n",
       "      <th>CheckingAcctStat</th>\n",
       "      <th>CreditAmount</th>\n",
       "      <th>CreditHistory</th>\n",
       "      <th>CreditStatus</th>\n",
       "      <th>Duration</th>\n",
       "      <th>Employment</th>\n",
       "      <th>ExistingCreditsAtBank</th>\n",
       "      <th>ForeignWorker</th>\n",
       "      <th>Housing</th>\n",
       "      <th>InstallmentRatePecnt</th>\n",
       "      <th>Job</th>\n",
       "      <th>NumberDependents</th>\n",
       "      <th>OtherDetorsGuarantors</th>\n",
       "      <th>OtherInstalments</th>\n",
       "      <th>PresentResidenceTime</th>\n",
       "      <th>Property</th>\n",
       "      <th>Purpose</th>\n",
       "      <th>Savings</th>\n",
       "      <th>SexAndStatus</th>\n",
       "      <th>Telephone</th>\n",
       "    </tr>\n",
       "  </thead>\n",
       "  <tbody>\n",
       "    <tr>\n",
       "      <th>0</th>\n",
       "      <td>0.089286</td>\n",
       "      <td>A11</td>\n",
       "      <td>0.161770</td>\n",
       "      <td>A32</td>\n",
       "      <td>1</td>\n",
       "      <td>0.205882</td>\n",
       "      <td>A73</td>\n",
       "      <td>0.0</td>\n",
       "      <td>A201</td>\n",
       "      <td>A152</td>\n",
       "      <td>0.333333</td>\n",
       "      <td>A173</td>\n",
       "      <td>0.0</td>\n",
       "      <td>A101</td>\n",
       "      <td>A143</td>\n",
       "      <td>0.333333</td>\n",
       "      <td>A121</td>\n",
       "      <td>A43</td>\n",
       "      <td>A61</td>\n",
       "      <td>A92</td>\n",
       "      <td>A191</td>\n",
       "    </tr>\n",
       "    <tr>\n",
       "      <th>1</th>\n",
       "      <td>0.125000</td>\n",
       "      <td>A14</td>\n",
       "      <td>0.058380</td>\n",
       "      <td>A32</td>\n",
       "      <td>0</td>\n",
       "      <td>0.294118</td>\n",
       "      <td>A74</td>\n",
       "      <td>0.0</td>\n",
       "      <td>A201</td>\n",
       "      <td>A152</td>\n",
       "      <td>1.000000</td>\n",
       "      <td>A173</td>\n",
       "      <td>0.0</td>\n",
       "      <td>A101</td>\n",
       "      <td>A143</td>\n",
       "      <td>0.666667</td>\n",
       "      <td>A122</td>\n",
       "      <td>A43</td>\n",
       "      <td>A62</td>\n",
       "      <td>A94</td>\n",
       "      <td>A192</td>\n",
       "    </tr>\n",
       "    <tr>\n",
       "      <th>2</th>\n",
       "      <td>0.232143</td>\n",
       "      <td>A14</td>\n",
       "      <td>0.069055</td>\n",
       "      <td>A32</td>\n",
       "      <td>0</td>\n",
       "      <td>0.205882</td>\n",
       "      <td>A73</td>\n",
       "      <td>0.0</td>\n",
       "      <td>A201</td>\n",
       "      <td>A153</td>\n",
       "      <td>1.000000</td>\n",
       "      <td>A174</td>\n",
       "      <td>0.0</td>\n",
       "      <td>A101</td>\n",
       "      <td>A143</td>\n",
       "      <td>0.333333</td>\n",
       "      <td>A124</td>\n",
       "      <td>A43</td>\n",
       "      <td>A61</td>\n",
       "      <td>A93</td>\n",
       "      <td>A192</td>\n",
       "    </tr>\n",
       "    <tr>\n",
       "      <th>3</th>\n",
       "      <td>0.214286</td>\n",
       "      <td>A11</td>\n",
       "      <td>0.358094</td>\n",
       "      <td>A32</td>\n",
       "      <td>1</td>\n",
       "      <td>0.647059</td>\n",
       "      <td>A73</td>\n",
       "      <td>0.0</td>\n",
       "      <td>A201</td>\n",
       "      <td>A152</td>\n",
       "      <td>0.666667</td>\n",
       "      <td>A173</td>\n",
       "      <td>0.0</td>\n",
       "      <td>A101</td>\n",
       "      <td>A143</td>\n",
       "      <td>0.333333</td>\n",
       "      <td>A123</td>\n",
       "      <td>A43</td>\n",
       "      <td>A61</td>\n",
       "      <td>A92</td>\n",
       "      <td>A192</td>\n",
       "    </tr>\n",
       "    <tr>\n",
       "      <th>4</th>\n",
       "      <td>0.178571</td>\n",
       "      <td>A13</td>\n",
       "      <td>0.023825</td>\n",
       "      <td>A33</td>\n",
       "      <td>0</td>\n",
       "      <td>0.029412</td>\n",
       "      <td>A72</td>\n",
       "      <td>0.0</td>\n",
       "      <td>A201</td>\n",
       "      <td>A152</td>\n",
       "      <td>0.333333</td>\n",
       "      <td>A173</td>\n",
       "      <td>0.0</td>\n",
       "      <td>A101</td>\n",
       "      <td>A141</td>\n",
       "      <td>0.000000</td>\n",
       "      <td>A122</td>\n",
       "      <td>A43</td>\n",
       "      <td>A61</td>\n",
       "      <td>A92</td>\n",
       "      <td>A191</td>\n",
       "    </tr>\n",
       "  </tbody>\n",
       "</table>\n",
       "</div>"
      ],
      "text/plain": [
       "        Age CheckingAcctStat  CreditAmount CreditHistory  CreditStatus  \\\n",
       "0  0.089286              A11      0.161770           A32             1   \n",
       "1  0.125000              A14      0.058380           A32             0   \n",
       "2  0.232143              A14      0.069055           A32             0   \n",
       "3  0.214286              A11      0.358094           A32             1   \n",
       "4  0.178571              A13      0.023825           A33             0   \n",
       "\n",
       "   Duration Employment  ExistingCreditsAtBank ForeignWorker Housing  \\\n",
       "0  0.205882        A73                    0.0          A201    A152   \n",
       "1  0.294118        A74                    0.0          A201    A152   \n",
       "2  0.205882        A73                    0.0          A201    A153   \n",
       "3  0.647059        A73                    0.0          A201    A152   \n",
       "4  0.029412        A72                    0.0          A201    A152   \n",
       "\n",
       "   InstallmentRatePecnt   Job  NumberDependents OtherDetorsGuarantors  \\\n",
       "0              0.333333  A173               0.0                  A101   \n",
       "1              1.000000  A173               0.0                  A101   \n",
       "2              1.000000  A174               0.0                  A101   \n",
       "3              0.666667  A173               0.0                  A101   \n",
       "4              0.333333  A173               0.0                  A101   \n",
       "\n",
       "  OtherInstalments  PresentResidenceTime Property Purpose Savings  \\\n",
       "0             A143              0.333333     A121     A43     A61   \n",
       "1             A143              0.666667     A122     A43     A62   \n",
       "2             A143              0.333333     A124     A43     A61   \n",
       "3             A143              0.333333     A123     A43     A61   \n",
       "4             A141              0.000000     A122     A43     A61   \n",
       "\n",
       "  SexAndStatus Telephone  \n",
       "0          A92      A191  \n",
       "1          A94      A192  \n",
       "2          A93      A192  \n",
       "3          A92      A192  \n",
       "4          A92      A191  "
      ]
     },
     "execution_count": 20,
     "metadata": {},
     "output_type": "execute_result"
    }
   ],
   "source": [
    "df.head()"
   ]
  },
  {
   "cell_type": "code",
   "execution_count": 21,
   "metadata": {
    "scrolled": true
   },
   "outputs": [
    {
     "data": {
      "text/html": [
       "<div>\n",
       "<style scoped>\n",
       "    .dataframe tbody tr th:only-of-type {\n",
       "        vertical-align: middle;\n",
       "    }\n",
       "\n",
       "    .dataframe tbody tr th {\n",
       "        vertical-align: top;\n",
       "    }\n",
       "\n",
       "    .dataframe thead th {\n",
       "        text-align: right;\n",
       "    }\n",
       "</style>\n",
       "<table border=\"1\" class=\"dataframe\">\n",
       "  <thead>\n",
       "    <tr style=\"text-align: right;\">\n",
       "      <th></th>\n",
       "      <th>CheckingAcctStat</th>\n",
       "      <th>CheckingAcctStat_num</th>\n",
       "      <th>CheckingAcctStat_cat</th>\n",
       "      <th>CreditHistory</th>\n",
       "      <th>CreditHistory_num</th>\n",
       "      <th>CreditHistory_cat</th>\n",
       "      <th>Employment</th>\n",
       "      <th>Employment_num</th>\n",
       "      <th>Employment_cat</th>\n",
       "      <th>ForeignWorker</th>\n",
       "      <th>ForeignWorker_num</th>\n",
       "      <th>ForeignWorker_cat</th>\n",
       "      <th>Housing</th>\n",
       "      <th>Housing_num</th>\n",
       "      <th>Housing_cat</th>\n",
       "      <th>Job</th>\n",
       "      <th>Job_num</th>\n",
       "      <th>Job_cat</th>\n",
       "      <th>OtherDetorsGuarantors</th>\n",
       "      <th>OtherDetorsGuarantors_num</th>\n",
       "      <th>OtherDetorsGuarantors_cat</th>\n",
       "      <th>OtherInstalments</th>\n",
       "      <th>OtherInstalments_num</th>\n",
       "      <th>OtherInstalments_cat</th>\n",
       "      <th>Property</th>\n",
       "      <th>Property_num</th>\n",
       "      <th>Property_cat</th>\n",
       "      <th>Purpose</th>\n",
       "      <th>Purpose_num</th>\n",
       "      <th>Purpose_cat</th>\n",
       "      <th>Savings</th>\n",
       "      <th>Savings_num</th>\n",
       "      <th>Savings_cat</th>\n",
       "      <th>SexAndStatus</th>\n",
       "      <th>SexAndStatus_num</th>\n",
       "      <th>SexAndStatus_cat</th>\n",
       "      <th>Telephone</th>\n",
       "      <th>Telephone_num</th>\n",
       "      <th>Telephone_cat</th>\n",
       "    </tr>\n",
       "  </thead>\n",
       "  <tbody>\n",
       "    <tr>\n",
       "      <th>0</th>\n",
       "      <td>A11</td>\n",
       "      <td>11.0</td>\n",
       "      <td>A</td>\n",
       "      <td>A32</td>\n",
       "      <td>32.0</td>\n",
       "      <td>A</td>\n",
       "      <td>A73</td>\n",
       "      <td>73.0</td>\n",
       "      <td>A</td>\n",
       "      <td>A201</td>\n",
       "      <td>201.0</td>\n",
       "      <td>A</td>\n",
       "      <td>A152</td>\n",
       "      <td>152.0</td>\n",
       "      <td>A</td>\n",
       "      <td>A173</td>\n",
       "      <td>173.0</td>\n",
       "      <td>A</td>\n",
       "      <td>A101</td>\n",
       "      <td>101.0</td>\n",
       "      <td>A</td>\n",
       "      <td>A143</td>\n",
       "      <td>143.0</td>\n",
       "      <td>A</td>\n",
       "      <td>A121</td>\n",
       "      <td>121.0</td>\n",
       "      <td>A</td>\n",
       "      <td>A43</td>\n",
       "      <td>43.0</td>\n",
       "      <td>A</td>\n",
       "      <td>A61</td>\n",
       "      <td>61.0</td>\n",
       "      <td>A</td>\n",
       "      <td>A92</td>\n",
       "      <td>92.0</td>\n",
       "      <td>A</td>\n",
       "      <td>A191</td>\n",
       "      <td>191.0</td>\n",
       "      <td>A</td>\n",
       "    </tr>\n",
       "    <tr>\n",
       "      <th>1</th>\n",
       "      <td>A14</td>\n",
       "      <td>14.0</td>\n",
       "      <td>A</td>\n",
       "      <td>A32</td>\n",
       "      <td>32.0</td>\n",
       "      <td>A</td>\n",
       "      <td>A74</td>\n",
       "      <td>74.0</td>\n",
       "      <td>A</td>\n",
       "      <td>A201</td>\n",
       "      <td>201.0</td>\n",
       "      <td>A</td>\n",
       "      <td>A152</td>\n",
       "      <td>152.0</td>\n",
       "      <td>A</td>\n",
       "      <td>A173</td>\n",
       "      <td>173.0</td>\n",
       "      <td>A</td>\n",
       "      <td>A101</td>\n",
       "      <td>101.0</td>\n",
       "      <td>A</td>\n",
       "      <td>A143</td>\n",
       "      <td>143.0</td>\n",
       "      <td>A</td>\n",
       "      <td>A122</td>\n",
       "      <td>122.0</td>\n",
       "      <td>A</td>\n",
       "      <td>A43</td>\n",
       "      <td>43.0</td>\n",
       "      <td>A</td>\n",
       "      <td>A62</td>\n",
       "      <td>62.0</td>\n",
       "      <td>A</td>\n",
       "      <td>A94</td>\n",
       "      <td>94.0</td>\n",
       "      <td>A</td>\n",
       "      <td>A192</td>\n",
       "      <td>192.0</td>\n",
       "      <td>A</td>\n",
       "    </tr>\n",
       "    <tr>\n",
       "      <th>2</th>\n",
       "      <td>A14</td>\n",
       "      <td>14.0</td>\n",
       "      <td>A</td>\n",
       "      <td>A32</td>\n",
       "      <td>32.0</td>\n",
       "      <td>A</td>\n",
       "      <td>A73</td>\n",
       "      <td>73.0</td>\n",
       "      <td>A</td>\n",
       "      <td>A201</td>\n",
       "      <td>201.0</td>\n",
       "      <td>A</td>\n",
       "      <td>A153</td>\n",
       "      <td>153.0</td>\n",
       "      <td>A</td>\n",
       "      <td>A174</td>\n",
       "      <td>174.0</td>\n",
       "      <td>A</td>\n",
       "      <td>A101</td>\n",
       "      <td>101.0</td>\n",
       "      <td>A</td>\n",
       "      <td>A143</td>\n",
       "      <td>143.0</td>\n",
       "      <td>A</td>\n",
       "      <td>A124</td>\n",
       "      <td>124.0</td>\n",
       "      <td>A</td>\n",
       "      <td>A43</td>\n",
       "      <td>43.0</td>\n",
       "      <td>A</td>\n",
       "      <td>A61</td>\n",
       "      <td>61.0</td>\n",
       "      <td>A</td>\n",
       "      <td>A93</td>\n",
       "      <td>93.0</td>\n",
       "      <td>A</td>\n",
       "      <td>A192</td>\n",
       "      <td>192.0</td>\n",
       "      <td>A</td>\n",
       "    </tr>\n",
       "    <tr>\n",
       "      <th>3</th>\n",
       "      <td>A11</td>\n",
       "      <td>11.0</td>\n",
       "      <td>A</td>\n",
       "      <td>A32</td>\n",
       "      <td>32.0</td>\n",
       "      <td>A</td>\n",
       "      <td>A73</td>\n",
       "      <td>73.0</td>\n",
       "      <td>A</td>\n",
       "      <td>A201</td>\n",
       "      <td>201.0</td>\n",
       "      <td>A</td>\n",
       "      <td>A152</td>\n",
       "      <td>152.0</td>\n",
       "      <td>A</td>\n",
       "      <td>A173</td>\n",
       "      <td>173.0</td>\n",
       "      <td>A</td>\n",
       "      <td>A101</td>\n",
       "      <td>101.0</td>\n",
       "      <td>A</td>\n",
       "      <td>A143</td>\n",
       "      <td>143.0</td>\n",
       "      <td>A</td>\n",
       "      <td>A123</td>\n",
       "      <td>123.0</td>\n",
       "      <td>A</td>\n",
       "      <td>A43</td>\n",
       "      <td>43.0</td>\n",
       "      <td>A</td>\n",
       "      <td>A61</td>\n",
       "      <td>61.0</td>\n",
       "      <td>A</td>\n",
       "      <td>A92</td>\n",
       "      <td>92.0</td>\n",
       "      <td>A</td>\n",
       "      <td>A192</td>\n",
       "      <td>192.0</td>\n",
       "      <td>A</td>\n",
       "    </tr>\n",
       "    <tr>\n",
       "      <th>4</th>\n",
       "      <td>A13</td>\n",
       "      <td>13.0</td>\n",
       "      <td>A</td>\n",
       "      <td>A33</td>\n",
       "      <td>33.0</td>\n",
       "      <td>A</td>\n",
       "      <td>A72</td>\n",
       "      <td>72.0</td>\n",
       "      <td>A</td>\n",
       "      <td>A201</td>\n",
       "      <td>201.0</td>\n",
       "      <td>A</td>\n",
       "      <td>A152</td>\n",
       "      <td>152.0</td>\n",
       "      <td>A</td>\n",
       "      <td>A173</td>\n",
       "      <td>173.0</td>\n",
       "      <td>A</td>\n",
       "      <td>A101</td>\n",
       "      <td>101.0</td>\n",
       "      <td>A</td>\n",
       "      <td>A141</td>\n",
       "      <td>141.0</td>\n",
       "      <td>A</td>\n",
       "      <td>A122</td>\n",
       "      <td>122.0</td>\n",
       "      <td>A</td>\n",
       "      <td>A43</td>\n",
       "      <td>43.0</td>\n",
       "      <td>A</td>\n",
       "      <td>A61</td>\n",
       "      <td>61.0</td>\n",
       "      <td>A</td>\n",
       "      <td>A92</td>\n",
       "      <td>92.0</td>\n",
       "      <td>A</td>\n",
       "      <td>A191</td>\n",
       "      <td>191.0</td>\n",
       "      <td>A</td>\n",
       "    </tr>\n",
       "  </tbody>\n",
       "</table>\n",
       "</div>"
      ],
      "text/plain": [
       "  CheckingAcctStat  CheckingAcctStat_num CheckingAcctStat_cat CreditHistory  \\\n",
       "0              A11                  11.0                    A           A32   \n",
       "1              A14                  14.0                    A           A32   \n",
       "2              A14                  14.0                    A           A32   \n",
       "3              A11                  11.0                    A           A32   \n",
       "4              A13                  13.0                    A           A33   \n",
       "\n",
       "   CreditHistory_num CreditHistory_cat Employment  Employment_num  \\\n",
       "0               32.0                 A        A73            73.0   \n",
       "1               32.0                 A        A74            74.0   \n",
       "2               32.0                 A        A73            73.0   \n",
       "3               32.0                 A        A73            73.0   \n",
       "4               33.0                 A        A72            72.0   \n",
       "\n",
       "  Employment_cat ForeignWorker  ForeignWorker_num ForeignWorker_cat Housing  \\\n",
       "0              A          A201              201.0                 A    A152   \n",
       "1              A          A201              201.0                 A    A152   \n",
       "2              A          A201              201.0                 A    A153   \n",
       "3              A          A201              201.0                 A    A152   \n",
       "4              A          A201              201.0                 A    A152   \n",
       "\n",
       "   Housing_num Housing_cat   Job  Job_num Job_cat OtherDetorsGuarantors  \\\n",
       "0        152.0           A  A173    173.0       A                  A101   \n",
       "1        152.0           A  A173    173.0       A                  A101   \n",
       "2        153.0           A  A174    174.0       A                  A101   \n",
       "3        152.0           A  A173    173.0       A                  A101   \n",
       "4        152.0           A  A173    173.0       A                  A101   \n",
       "\n",
       "   OtherDetorsGuarantors_num OtherDetorsGuarantors_cat OtherInstalments  \\\n",
       "0                      101.0                         A             A143   \n",
       "1                      101.0                         A             A143   \n",
       "2                      101.0                         A             A143   \n",
       "3                      101.0                         A             A143   \n",
       "4                      101.0                         A             A141   \n",
       "\n",
       "   OtherInstalments_num OtherInstalments_cat Property  Property_num  \\\n",
       "0                 143.0                    A     A121         121.0   \n",
       "1                 143.0                    A     A122         122.0   \n",
       "2                 143.0                    A     A124         124.0   \n",
       "3                 143.0                    A     A123         123.0   \n",
       "4                 141.0                    A     A122         122.0   \n",
       "\n",
       "  Property_cat Purpose  Purpose_num Purpose_cat Savings  Savings_num  \\\n",
       "0            A     A43         43.0           A     A61         61.0   \n",
       "1            A     A43         43.0           A     A62         62.0   \n",
       "2            A     A43         43.0           A     A61         61.0   \n",
       "3            A     A43         43.0           A     A61         61.0   \n",
       "4            A     A43         43.0           A     A61         61.0   \n",
       "\n",
       "  Savings_cat SexAndStatus  SexAndStatus_num SexAndStatus_cat Telephone  \\\n",
       "0           A          A92              92.0                A      A191   \n",
       "1           A          A94              94.0                A      A192   \n",
       "2           A          A93              93.0                A      A192   \n",
       "3           A          A92              92.0                A      A192   \n",
       "4           A          A92              92.0                A      A191   \n",
       "\n",
       "   Telephone_num Telephone_cat  \n",
       "0          191.0             A  \n",
       "1          192.0             A  \n",
       "2          192.0             A  \n",
       "3          192.0             A  \n",
       "4          191.0             A  "
      ]
     },
     "execution_count": 21,
     "metadata": {},
     "output_type": "execute_result"
    }
   ],
   "source": [
    "# CheckingAcctStat#\n",
    "df['CheckingAcctStat_num'] = df.CheckingAcctStat.str.extract('(\\d+)') # extracts number from string\n",
    "df['CheckingAcctStat_num'] = df['CheckingAcctStat_num'].astype('float') # parses the above variable to float type\n",
    "df['CheckingAcctStat_cat'] = df['CheckingAcctStat'].str[0] # captures first letter of string (the letter of the cabin)\n",
    "\n",
    "df[['CheckingAcctStat','CheckingAcctStat_num','CheckingAcctStat_cat']].head()\n",
    "\n",
    "# CreditHistory#\n",
    "df['CreditHistory_num'] = df.CreditHistory.str.extract('(\\d+)') # extracts number from string\n",
    "df['CreditHistory_num'] = df['CreditHistory_num'].astype('float') # parses the above variable to float type\n",
    "df['CreditHistory_cat'] = df['CreditHistory'].str[0] # captures first letter of string (the letter of the cabin)\n",
    "\n",
    "df[['CreditHistory','CreditHistory_num','CreditHistory_cat']].head()\n",
    "\n",
    "# Employment#\n",
    "df['Employment_num'] = df.Employment.str.extract('(\\d+)') # extracts number from string\n",
    "df['Employment_num'] = df['Employment_num'].astype('float') # parses the above variable to float type\n",
    "df['Employment_cat'] = df['Employment'].str[0] # captures first letter of string (the letter of the cabin)\n",
    "\n",
    "df[['Employment','Employment_num','Employment_cat']].head()\n",
    "\n",
    "# ForeignWorker#\n",
    "df['ForeignWorker_num'] = df.ForeignWorker.str.extract('(\\d+)') # extracts number from string\n",
    "df['ForeignWorker_num'] = df['ForeignWorker_num'].astype('float') # parses the above variable to float type\n",
    "df['ForeignWorker_cat'] = df['ForeignWorker'].str[0] # captures first letter of string (the letter of the cabin)\n",
    "\n",
    "df[['ForeignWorker','ForeignWorker_num','ForeignWorker_cat']].head()\n",
    "\n",
    "# Housing#\n",
    "df['Housing_num'] = df.Housing.str.extract('(\\d+)') # extracts number from string\n",
    "df['Housing_num'] = df['Housing_num'].astype('float') # parses the above variable to float type\n",
    "df['Housing_cat'] = df['Housing'].str[0] # captures first letter of string (the letter of the cabin)\n",
    "\n",
    "df[['Housing','Housing_num','Housing_cat']].head()\n",
    "\n",
    "# Job#\n",
    "df['Job_num'] = df.Job.str.extract('(\\d+)') # extracts number from string\n",
    "df['Job_num'] = df['Job_num'].astype('float') # parses the above variable to float type\n",
    "df['Job_cat'] = df['Job'].str[0] # captures first letter of string (the letter of the cabin)\n",
    "\n",
    "df[['Job','Job_num','Job_cat']].head()\n",
    "\n",
    "# OtherDetorsGuarantors#\n",
    "df['OtherDetorsGuarantors_num'] = df.OtherDetorsGuarantors.str.extract('(\\d+)') # extracts number from string\n",
    "df['OtherDetorsGuarantors_num'] = df['OtherDetorsGuarantors_num'].astype('float') # parses the above variable to float type\n",
    "df['OtherDetorsGuarantors_cat'] = df['OtherDetorsGuarantors'].str[0] # captures first letter of string (the letter of the cabin)\n",
    "\n",
    "df[['OtherDetorsGuarantors','OtherDetorsGuarantors_num','OtherDetorsGuarantors_cat']].head()\n",
    "\n",
    "# OtherInstalments#\n",
    "df['OtherInstalments_num'] = df.OtherInstalments.str.extract('(\\d+)') # extracts number from string\n",
    "df['OtherInstalments_num'] = df['OtherInstalments_num'].astype('float') # parses the above variable to float type\n",
    "df['OtherInstalments_cat'] = df['OtherInstalments'].str[0] # captures first letter of string (the letter of the cabin)\n",
    "\n",
    "df[['OtherInstalments','OtherInstalments_num','OtherInstalments_cat']].head()\n",
    "\n",
    "# Property#\n",
    "df['Property_num'] = df.Property.str.extract('(\\d+)') # extracts number from string\n",
    "df['Property_num'] = df['Property_num'].astype('float') # parses the above variable to float type\n",
    "df['Property_cat'] = df['Property'].str[0] # captures first letter of string (the letter of the cabin)\n",
    "\n",
    "df[['Property','Property_num','Property_cat']].head()\n",
    "\n",
    "# Purpose#\n",
    "df['Purpose_num'] = df.Purpose.str.extract('(\\d+)') # extracts number from string\n",
    "df['Purpose_num'] = df['Purpose_num'].astype('float') # parses the above variable to float type\n",
    "df['Purpose_cat'] = df['Purpose'].str[0] # captures first letter of string (the letter of the cabin)\n",
    "\n",
    "df[['Purpose','Purpose_num','Purpose_cat']].head()\n",
    "\n",
    "# Savings#\n",
    "df['Savings_num'] = df.Savings.str.extract('(\\d+)') # extracts number from string\n",
    "df['Savings_num'] = df['Savings_num'].astype('float') # parses the above variable to float type\n",
    "df['Savings_cat'] = df['Savings'].str[0] # captures first letter of string (the letter of the cabin)\n",
    "\n",
    "df[['Savings','Savings_num','Savings_cat']].head()\n",
    "\n",
    "# SexAndStatus#\n",
    "df['SexAndStatus_num'] = df.SexAndStatus.str.extract('(\\d+)') # extracts number from string\n",
    "df['SexAndStatus_num'] = df['SexAndStatus_num'].astype('float') # parses the above variable to float type\n",
    "df['SexAndStatus_cat'] = df['SexAndStatus'].str[0] # captures first letter of string (the letter of the cabin)\n",
    "\n",
    "df[['SexAndStatus','SexAndStatus_num','SexAndStatus_cat']].head()\n",
    "\n",
    "# Telephone#\n",
    "df['Telephone_num'] = df.Telephone.str.extract('(\\d+)') # extracts number from string\n",
    "df['Telephone_num'] = df['Telephone_num'].astype('float') # parses the above variable to float type\n",
    "df['Telephone_cat'] = df['Telephone'].str[0] # captures first letter of string (the letter of the cabin)\n",
    "\n",
    "df[['Telephone','Telephone_num','Telephone_cat']].head()\n",
    "\n",
    "\n",
    "\n",
    "df[['CheckingAcctStat','CheckingAcctStat_num','CheckingAcctStat_cat',\n",
    "   'CreditHistory','CreditHistory_num','CreditHistory_cat',\n",
    "   'Employment','Employment_num','Employment_cat',\n",
    "   'ForeignWorker','ForeignWorker_num','ForeignWorker_cat',\n",
    "   'Housing','Housing_num','Housing_cat',\n",
    "   'Job','Job_num','Job_cat',\n",
    "   'OtherDetorsGuarantors','OtherDetorsGuarantors_num','OtherDetorsGuarantors_cat',\n",
    "   'OtherInstalments','OtherInstalments_num','OtherInstalments_cat',\n",
    "   'Property','Property_num','Property_cat',\n",
    "   'Purpose','Purpose_num','Purpose_cat',\n",
    "   'Savings','Savings_num','Savings_cat',\n",
    "   'SexAndStatus','SexAndStatus_num','SexAndStatus_cat',\n",
    "   'Telephone','Telephone_num','Telephone_cat']].head()\n"
   ]
  },
  {
   "cell_type": "code",
   "execution_count": 22,
   "metadata": {},
   "outputs": [
    {
     "data": {
      "text/plain": [
       "Age                          float64\n",
       "CheckingAcctStat              object\n",
       "CreditAmount                 float64\n",
       "CreditHistory                 object\n",
       "CreditStatus                   int64\n",
       "Duration                     float64\n",
       "Employment                    object\n",
       "ExistingCreditsAtBank        float64\n",
       "ForeignWorker                 object\n",
       "Housing                       object\n",
       "InstallmentRatePecnt         float64\n",
       "Job                           object\n",
       "NumberDependents             float64\n",
       "OtherDetorsGuarantors         object\n",
       "OtherInstalments              object\n",
       "PresentResidenceTime         float64\n",
       "Property                      object\n",
       "Purpose                       object\n",
       "Savings                       object\n",
       "SexAndStatus                  object\n",
       "Telephone                     object\n",
       "CheckingAcctStat_num         float64\n",
       "CheckingAcctStat_cat          object\n",
       "CreditHistory_num            float64\n",
       "CreditHistory_cat             object\n",
       "Employment_num               float64\n",
       "Employment_cat                object\n",
       "ForeignWorker_num            float64\n",
       "ForeignWorker_cat             object\n",
       "Housing_num                  float64\n",
       "Housing_cat                   object\n",
       "Job_num                      float64\n",
       "Job_cat                       object\n",
       "OtherDetorsGuarantors_num    float64\n",
       "OtherDetorsGuarantors_cat     object\n",
       "OtherInstalments_num         float64\n",
       "OtherInstalments_cat          object\n",
       "Property_num                 float64\n",
       "Property_cat                  object\n",
       "Purpose_num                  float64\n",
       "Purpose_cat                   object\n",
       "Savings_num                  float64\n",
       "Savings_cat                   object\n",
       "SexAndStatus_num             float64\n",
       "SexAndStatus_cat              object\n",
       "Telephone_num                float64\n",
       "Telephone_cat                 object\n",
       "dtype: object"
      ]
     },
     "execution_count": 22,
     "metadata": {},
     "output_type": "execute_result"
    }
   ],
   "source": [
    "df.dtypes"
   ]
  },
  {
   "cell_type": "code",
   "execution_count": 23,
   "metadata": {},
   "outputs": [],
   "source": [
    "# drop the original variable\n",
    "df= df.drop(['CheckingAcctStat','CreditHistory','Employment','ForeignWorker','Housing', 'Job', 'OtherDetorsGuarantors', 'OtherInstalments','Property', 'Purpose', 'Savings', 'SexAndStatus', 'Telephone'], axis=1)"
   ]
  },
  {
   "cell_type": "code",
   "execution_count": 24,
   "metadata": {},
   "outputs": [
    {
     "data": {
      "text/plain": [
       "(950, 34)"
      ]
     },
     "execution_count": 24,
     "metadata": {},
     "output_type": "execute_result"
    }
   ],
   "source": [
    "df.shape"
   ]
  },
  {
   "cell_type": "markdown",
   "metadata": {},
   "source": [
    "#### 4.1 Rare Labels in Categorial Variables\n",
    "\n",
    "Note, I also have to add to the categorical variables the Numerical Discrete variables: NumberDependents\n"
   ]
  },
  {
   "cell_type": "code",
   "execution_count": 25,
   "metadata": {
    "scrolled": true
   },
   "outputs": [
    {
     "name": "stdout",
     "output_type": "stream",
     "text": [
      "There are 13 categorical variables\n"
     ]
    }
   ],
   "source": [
    "# find categorical variables\n",
    "categorical = [var for var in df.columns if df[var].dtype=='O']\n",
    "print('There are {} categorical variables'.format(len(categorical)))"
   ]
  },
  {
   "cell_type": "code",
   "execution_count": 26,
   "metadata": {},
   "outputs": [
    {
     "data": {
      "text/plain": [
       "['CheckingAcctStat_cat',\n",
       " 'CreditHistory_cat',\n",
       " 'Employment_cat',\n",
       " 'ForeignWorker_cat',\n",
       " 'Housing_cat',\n",
       " 'Job_cat',\n",
       " 'OtherDetorsGuarantors_cat',\n",
       " 'OtherInstalments_cat',\n",
       " 'Property_cat',\n",
       " 'Purpose_cat',\n",
       " 'Savings_cat',\n",
       " 'SexAndStatus_cat',\n",
       " 'Telephone_cat']"
      ]
     },
     "execution_count": 26,
     "metadata": {},
     "output_type": "execute_result"
    }
   ],
   "source": [
    "categorical"
   ]
  },
  {
   "cell_type": "code",
   "execution_count": 27,
   "metadata": {},
   "outputs": [
    {
     "name": "stdout",
     "output_type": "stream",
     "text": [
      "A    1.0\n",
      "Name: CheckingAcctStat_cat, dtype: float64\n",
      "\n",
      "A    1.0\n",
      "Name: CreditHistory_cat, dtype: float64\n",
      "\n",
      "A    1.0\n",
      "Name: Employment_cat, dtype: float64\n",
      "\n",
      "A    1.0\n",
      "Name: ForeignWorker_cat, dtype: float64\n",
      "\n",
      "A    1.0\n",
      "Name: Housing_cat, dtype: float64\n",
      "\n",
      "A    1.0\n",
      "Name: Job_cat, dtype: float64\n",
      "\n",
      "A    1.0\n",
      "Name: OtherDetorsGuarantors_cat, dtype: float64\n",
      "\n",
      "A    1.0\n",
      "Name: OtherInstalments_cat, dtype: float64\n",
      "\n",
      "A    1.0\n",
      "Name: Property_cat, dtype: float64\n",
      "\n",
      "A    1.0\n",
      "Name: Purpose_cat, dtype: float64\n",
      "\n",
      "A    1.0\n",
      "Name: Savings_cat, dtype: float64\n",
      "\n",
      "A    1.0\n",
      "Name: SexAndStatus_cat, dtype: float64\n",
      "\n",
      "A    1.0\n",
      "Name: Telephone_cat, dtype: float64\n",
      "\n",
      "0.000000    0.815789\n",
      "1.000000    0.152632\n",
      "0.934024    0.010526\n",
      "0.143863    0.010526\n",
      "0.856137    0.005263\n",
      "0.065976    0.005263\n",
      "Name: NumberDependents, dtype: float64\n",
      "\n"
     ]
    }
   ],
   "source": [
    "# rare / infrequent labels (less than 1%)\n",
    "for var in ['CheckingAcctStat_cat',\n",
    "'CreditHistory_cat',\n",
    "'Employment_cat',\n",
    "'ForeignWorker_cat',\n",
    "'Housing_cat',\n",
    "'Job_cat',\n",
    "'OtherDetorsGuarantors_cat',\n",
    "'OtherInstalments_cat',\n",
    "'Property_cat',\n",
    "'Purpose_cat',\n",
    "'Savings_cat',\n",
    "'SexAndStatus_cat',\n",
    "'Telephone_cat', 'NumberDependents']:\n",
    "    print(df[var].value_counts() / np.float(len(df)))\n",
    "    print()"
   ]
  },
  {
   "cell_type": "markdown",
   "metadata": {},
   "source": [
    "Well, I have no rare values. \n",
    "\n",
    "I have rare values on NumberDependents variables, they represent less than 5% per the variable so I shall do median imputation\n",
    "\n",
    "On the other hand, I have 13 constant variable (1 value), I shall delete them as they bring no value"
   ]
  },
  {
   "cell_type": "markdown",
   "metadata": {},
   "source": [
    "#### 4.2 See if there are outliers in newly created variables"
   ]
  },
  {
   "cell_type": "markdown",
   "metadata": {},
   "source": [
    "First I will see if the newly created variables follow a normal distribution.\n",
    "\n",
    "I will do it looking at their Kurtosis, normal distribution tend to have kurtosis values between 0 and 1. Else the variable is considered to be skewed. "
   ]
  },
  {
   "cell_type": "code",
   "execution_count": 28,
   "metadata": {},
   "outputs": [
    {
     "name": "stdout",
     "output_type": "stream",
     "text": [
      "CheckingAcctStat_num skewness is 0.324403394293832\n",
      "CreditHistory_num skewness is 0.04254048672051838\n",
      "Employment_num skewness is -0.04559677032830854\n",
      "ForeignWorker_num skewness is 6.060130757010168\n",
      "Housing_num skewness is -0.03802905332277845\n",
      "Job_num skewness is -0.36766902316678163\n",
      "OtherDetorsGuarantors_num skewness is 3.3234216286090854\n",
      "OtherInstalments_num skewness is -1.9018042230766536\n",
      "Property_num skewness is -0.04308641795574535\n",
      "Purpose_num skewness is 9.079409486156203\n",
      "Savings_num skewness is 1.2626891823986097\n",
      "SexAndStatus_num skewness is -0.14999183148514458\n",
      "Telephone_num skewness is 0.42237154939797195\n"
     ]
    }
   ],
   "source": [
    "for var in ['CheckingAcctStat_num',\n",
    "'CreditHistory_num',\n",
    "'Employment_num',\n",
    "'ForeignWorker_num',\n",
    "'Housing_num',\n",
    "'Job_num',\n",
    "'OtherDetorsGuarantors_num',\n",
    "'OtherInstalments_num',\n",
    "'Property_num',\n",
    "'Purpose_num',\n",
    "'Savings_num',\n",
    "'SexAndStatus_num',\n",
    "'Telephone_num']:\n",
    "    print(var, 'skewness is', df[var].skew() )\n"
   ]
  },
  {
   "cell_type": "markdown",
   "metadata": {},
   "source": [
    "Some variables have a skweness between 0 and 1, which is normal. \n",
    "\n",
    "Skewed variables are those with an absolute skewness value above 1:\n",
    "    \n",
    "    - ForeignWorkerNum\n",
    "    - OtherDetorsGuarantors_num\n",
    "    - OtherInstalments_num\n",
    "    - Purpose_num\n",
    "    - Savings_num"
   ]
  },
  {
   "cell_type": "markdown",
   "metadata": {},
   "source": [
    "Let's find outliers using IQR"
   ]
  },
  {
   "cell_type": "code",
   "execution_count": 29,
   "metadata": {},
   "outputs": [
    {
     "data": {
      "text/plain": [
       "Text(0, 0.5, 'Job_num')"
      ]
     },
     "execution_count": 29,
     "metadata": {},
     "output_type": "execute_result"
    },
    {
     "data": {
      "image/png": "[encoded data removed]",
      "text/plain": [
       "<Figure size 1080x432 with 3 Axes>"
      ]
     },
     "metadata": {
      "needs_background": "light"
     },
     "output_type": "display_data"
    },
    {
     "data": {
      "image/png": "[encoded data removed]",
      "text/plain": [
       "<Figure size 1080x432 with 3 Axes>"
      ]
     },
     "metadata": {
      "needs_background": "light"
     },
     "output_type": "display_data"
    }
   ],
   "source": [
    "plt.figure(figsize=(15,6))\n",
    "plt.subplot(1, 3, 1)\n",
    "fig = df.boxplot(column='CheckingAcctStat_num')\n",
    "fig.set_title('')\n",
    "fig.set_ylabel('CheckingAcctStat_num')\n",
    "\n",
    "plt.subplot(1, 3, 2)\n",
    "fig = df.boxplot(column='CreditHistory_num')\n",
    "fig.set_title('')\n",
    "fig.set_ylabel('CreditHistory_num')\n",
    "\n",
    "plt.subplot(1, 3, 3)\n",
    "fig = df.boxplot(column='Employment_num')\n",
    "fig.set_title('')\n",
    "fig.set_ylabel('Employment_num')\n",
    "\n",
    "plt.figure(figsize=(15,6))\n",
    "plt.subplot(2, 3, 1)\n",
    "fig = df.boxplot(column='ForeignWorker_num')\n",
    "fig.set_title('')\n",
    "fig.set_ylabel('ForeignWorker_num')\n",
    "\n",
    "plt.subplot(2, 3, 2)\n",
    "fig = df.boxplot(column='Housing_num')\n",
    "fig.set_title('')\n",
    "fig.set_ylabel('Housing_num')\n",
    "\n",
    "plt.subplot(2, 3, 3)\n",
    "fig = df.boxplot(column='Job_num')\n",
    "fig.set_title('')\n",
    "fig.set_ylabel('Job_num')\n",
    "\n",
    "\n"
   ]
  },
  {
   "cell_type": "code",
   "execution_count": 30,
   "metadata": {},
   "outputs": [
    {
     "data": {
      "text/plain": [
       "Text(0, 0.5, 'SexAndStatus_num')"
      ]
     },
     "execution_count": 30,
     "metadata": {},
     "output_type": "execute_result"
    },
    {
     "data": {
      "image/png": "[encoded data removed]",
      "text/plain": [
       "<Figure size 1080x432 with 3 Axes>"
      ]
     },
     "metadata": {
      "needs_background": "light"
     },
     "output_type": "display_data"
    },
    {
     "data": {
      "image/png": "[encoded data removed]",
      "text/plain": [
       "<Figure size 1080x432 with 3 Axes>"
      ]
     },
     "metadata": {
      "needs_background": "light"
     },
     "output_type": "display_data"
    }
   ],
   "source": [
    "plt.figure(figsize=(15,6))\n",
    "plt.subplot(1, 3, 1)\n",
    "fig = df.boxplot(column='OtherDetorsGuarantors_num')\n",
    "fig.set_title('')\n",
    "fig.set_ylabel('OtherDetorsGuarantors_num')\n",
    "\n",
    "plt.subplot(1, 3, 2)\n",
    "fig = df.boxplot(column='OtherInstalments_num')\n",
    "fig.set_title('')\n",
    "fig.set_ylabel('OtherInstalments_num')\n",
    "\n",
    "plt.subplot(1, 3, 3)\n",
    "fig = df.boxplot(column='Property_num')\n",
    "fig.set_title('')\n",
    "fig.set_ylabel('Property_num')\n",
    "\n",
    "plt.figure(figsize=(15,6))\n",
    "plt.subplot(2, 3, 1)\n",
    "fig = df.boxplot(column='Purpose_num')\n",
    "fig.set_title('')\n",
    "fig.set_ylabel('Purpose_num')\n",
    "\n",
    "plt.subplot(2, 3, 2)\n",
    "fig = df.boxplot(column='Savings_num')\n",
    "fig.set_title('')\n",
    "fig.set_ylabel('Savings_num')\n",
    "\n",
    "plt.subplot(2, 3, 3)\n",
    "fig = df.boxplot(column='SexAndStatus_num')\n",
    "fig.set_title('')\n",
    "fig.set_ylabel('SexAndStatus_num')"
   ]
  },
  {
   "cell_type": "code",
   "execution_count": 31,
   "metadata": {},
   "outputs": [
    {
     "data": {
      "text/plain": [
       "Text(0, 0.5, 'Telephone_num')"
      ]
     },
     "execution_count": 31,
     "metadata": {},
     "output_type": "execute_result"
    },
    {
     "data": {
      "image/png": "[encoded data removed]",
      "text/plain": [
       "<Figure size 1080x432 with 1 Axes>"
      ]
     },
     "metadata": {
      "needs_background": "light"
     },
     "output_type": "display_data"
    }
   ],
   "source": [
    "plt.figure(figsize=(15,6))\n",
    "plt.subplot(1, 3, 1)\n",
    "fig = df.boxplot(column='Telephone_num')\n",
    "fig.set_title('')\n",
    "fig.set_ylabel('Telephone_num')\n",
    "\n"
   ]
  },
  {
   "cell_type": "markdown",
   "metadata": {},
   "source": [
    "#### The following newly created columns present ouliers:\n",
    "- CreditHist_num\n",
    "- ForeignWorker_num\n",
    "- Housing_num\n",
    "- Job_num\n",
    "- OtherDetorsGurantors_num\n",
    "- OhterInstalments_num\n",
    "- Puprose_num\n",
    "- Savings_num\n",
    "- SexAndStatus_num\n",
    "- NumberDependents\n"
   ]
  },
  {
   "cell_type": "code",
   "execution_count": 32,
   "metadata": {},
   "outputs": [
    {
     "name": "stdout",
     "output_type": "stream",
     "text": [
      "CreditHistory_num outliers are values < 29.0 or > 36.0\n",
      "ForeignWorker_num outliers are values < 201.0 or > 201.0\n",
      "Housing_num outliers are values < 152.0 or > 152.0\n",
      "Job_num outliers are values < 173.0 or > 173.0\n",
      "OtherDetorsGuarantors_num outliers are values < 101.0 or > 101.0\n",
      "OtherInstalments_num outliers are values < 143.0 or > 143.0\n",
      "OtherInstalments_num outliers are values < 173.0 or > 173.0\n",
      "Savings_num outliers are values < 58.0 or > 65.0\n",
      "SexAndStatus_num outliers are values < 89.0 or > 96.0\n",
      "NumberDependents outliers are values < 0.0 or > 0.0\n"
     ]
    }
   ],
   "source": [
    "# find outliers\n",
    "\n",
    "# CreditHistory_num\n",
    "IQR = df.CreditHistory_num.quantile(0.75) - df.CreditHistory_num.quantile(0.25)\n",
    "Lower_fence = df.CreditHistory_num.quantile(0.25) - (IQR * 3)\n",
    "Upper_fence = df.CreditHistory_num.quantile(0.75) + (IQR * 3)\n",
    "print('CreditHistory_num outliers are values < {lowerboundary} or > {upperboundary}'.format(lowerboundary=Lower_fence, upperboundary=Upper_fence))\n",
    "\n",
    "# ForeignWorker_num\n",
    "IQR = df.ForeignWorker_num.quantile(0.75) - df.ForeignWorker_num.quantile(0.25)\n",
    "Lower_fence = df.ForeignWorker_num.quantile(0.25) - (IQR * 3)\n",
    "Upper_fence = df.ForeignWorker_num.quantile(0.75) + (IQR * 3)\n",
    "print('ForeignWorker_num outliers are values < {lowerboundary} or > {upperboundary}'.format(lowerboundary=Lower_fence, upperboundary=Upper_fence))\n",
    "\n",
    "# Housing_num\n",
    "IQR = df.Housing_num.quantile(0.75) - df.Housing_num.quantile(0.25)\n",
    "Lower_fence = df.Housing_num.quantile(0.25) - (IQR * 3)\n",
    "Upper_fence = df.Housing_num.quantile(0.75) + (IQR * 3)\n",
    "print('Housing_num outliers are values < {lowerboundary} or > {upperboundary}'.format(lowerboundary=Lower_fence, upperboundary=Upper_fence))\n",
    "\n",
    "# Job_num\n",
    "IQR = df.Job_num.quantile(0.75) - df.Job_num.quantile(0.25)\n",
    "Lower_fence = df.Job_num.quantile(0.25) - (IQR * 3)\n",
    "Upper_fence = df.Job_num.quantile(0.75) + (IQR * 3)\n",
    "print('Job_num outliers are values < {lowerboundary} or > {upperboundary}'.format(lowerboundary=Lower_fence, upperboundary=Upper_fence))\n",
    "\n",
    "# OtherDetorsGuarantors_num\n",
    "IQR = df.OtherDetorsGuarantors_num.quantile(0.75) - df.OtherDetorsGuarantors_num.quantile(0.25)\n",
    "Lower_fence = df.OtherDetorsGuarantors_num.quantile(0.25) - (IQR * 3)\n",
    "Upper_fence = df.OtherDetorsGuarantors_num.quantile(0.75) + (IQR * 3)\n",
    "print('OtherDetorsGuarantors_num outliers are values < {lowerboundary} or > {upperboundary}'.format(lowerboundary=Lower_fence, upperboundary=Upper_fence))\n",
    "\n",
    "# OtherInstalments_num\n",
    "IQR = df.OtherInstalments_num.quantile(0.75) - df.OtherInstalments_num.quantile(0.25)\n",
    "Lower_fence = df.OtherInstalments_num.quantile(0.25) - (IQR * 3)\n",
    "Upper_fence = df.OtherInstalments_num.quantile(0.75) + (IQR * 3)\n",
    "print('OtherInstalments_num outliers are values < {lowerboundary} or > {upperboundary}'.format(lowerboundary=Lower_fence, upperboundary=Upper_fence))\n",
    "\n",
    "# Purpose_num\n",
    "IQR = df.Job_num.quantile(0.75) - df.Job_num.quantile(0.25)\n",
    "Lower_fence = df.Job_num.quantile(0.25) - (IQR * 3)\n",
    "Upper_fence = df.Job_num.quantile(0.75) + (IQR * 3)\n",
    "print('OtherInstalments_num outliers are values < {lowerboundary} or > {upperboundary}'.format(lowerboundary=Lower_fence, upperboundary=Upper_fence))\n",
    "\n",
    "# Savings_num\n",
    "IQR = df.Savings_num.quantile(0.75) - df.Savings_num.quantile(0.25)\n",
    "Lower_fence = df.Savings_num.quantile(0.25) - (IQR * 3)\n",
    "Upper_fence = df.Savings_num.quantile(0.75) + (IQR * 3)\n",
    "print('Savings_num outliers are values < {lowerboundary} or > {upperboundary}'.format(lowerboundary=Lower_fence, upperboundary=Upper_fence))\n",
    "\n",
    "# SexAndStatus_num\n",
    "IQR = df.SexAndStatus_num.quantile(0.75) - df.SexAndStatus_num.quantile(0.25)\n",
    "Lower_fence = df.SexAndStatus_num.quantile(0.25) - (IQR * 3)\n",
    "Upper_fence = df.SexAndStatus_num.quantile(0.75) + (IQR * 3)\n",
    "print('SexAndStatus_num outliers are values < {lowerboundary} or > {upperboundary}'.format(lowerboundary=Lower_fence, upperboundary=Upper_fence))\n",
    "\n",
    "# SexAndStatus_num\n",
    "IQR = df.NumberDependents.quantile(0.75) - df.NumberDependents.quantile(0.25)\n",
    "Lower_fence = df.NumberDependents.quantile(0.25) - (IQR * 3)\n",
    "Upper_fence = df.NumberDependents.quantile(0.75) + (IQR * 3)\n",
    "print('NumberDependents outliers are values < {lowerboundary} or > {upperboundary}'.format(lowerboundary=Lower_fence, upperboundary=Upper_fence))\n",
    "\n",
    "\n",
    "\n"
   ]
  },
  {
   "cell_type": "markdown",
   "metadata": {},
   "source": [
    "### 5. Separate train and test set"
   ]
  },
  {
   "cell_type": "code",
   "execution_count": 33,
   "metadata": {},
   "outputs": [
    {
     "data": {
      "text/plain": [
       "((760, 34), (190, 34))"
      ]
     },
     "execution_count": 33,
     "metadata": {},
     "output_type": "execute_result"
    }
   ],
   "source": [
    "# Let's separate into train and test set\n",
    "\n",
    "X_train, X_test, y_train, y_test = train_test_split(df, df.CreditStatus, test_size=0.2,\n",
    "                                                    random_state=0)\n",
    "X_train.shape, X_test.shape"
   ]
  },
  {
   "cell_type": "code",
   "execution_count": 34,
   "metadata": {},
   "outputs": [],
   "source": [
    "# let's group again the variables into categorical or numerical\n",
    "# now considering the newly created variables\n",
    "\n",
    "def find_categorical_and_numerical_variables(dataframe):\n",
    "    cat_vars = [col for col in df.columns if df[col].dtypes == 'O']\n",
    "    num_vars  = [col for col in df.columns if df[col].dtypes != 'O']\n",
    "    return cat_vars, num_vars\n",
    "                 \n",
    "categorical, numerical = find_categorical_and_numerical_variables(df)       "
   ]
  },
  {
   "cell_type": "code",
   "execution_count": 35,
   "metadata": {},
   "outputs": [
    {
     "data": {
      "text/plain": [
       "['CheckingAcctStat_cat',\n",
       " 'CreditHistory_cat',\n",
       " 'Employment_cat',\n",
       " 'ForeignWorker_cat',\n",
       " 'Housing_cat',\n",
       " 'Job_cat',\n",
       " 'OtherDetorsGuarantors_cat',\n",
       " 'OtherInstalments_cat',\n",
       " 'Property_cat',\n",
       " 'Purpose_cat',\n",
       " 'Savings_cat',\n",
       " 'SexAndStatus_cat',\n",
       " 'Telephone_cat']"
      ]
     },
     "execution_count": 35,
     "metadata": {},
     "output_type": "execute_result"
    }
   ],
   "source": [
    "categorical"
   ]
  },
  {
   "cell_type": "code",
   "execution_count": 36,
   "metadata": {},
   "outputs": [
    {
     "data": {
      "text/plain": [
       "['Age',\n",
       " 'CreditAmount',\n",
       " 'CreditStatus',\n",
       " 'Duration',\n",
       " 'ExistingCreditsAtBank',\n",
       " 'InstallmentRatePecnt',\n",
       " 'NumberDependents',\n",
       " 'PresentResidenceTime',\n",
       " 'CheckingAcctStat_num',\n",
       " 'CreditHistory_num',\n",
       " 'Employment_num',\n",
       " 'ForeignWorker_num',\n",
       " 'Housing_num',\n",
       " 'Job_num',\n",
       " 'OtherDetorsGuarantors_num',\n",
       " 'OtherInstalments_num',\n",
       " 'Property_num',\n",
       " 'Purpose_num',\n",
       " 'Savings_num',\n",
       " 'SexAndStatus_num',\n",
       " 'Telephone_num']"
      ]
     },
     "execution_count": 36,
     "metadata": {},
     "output_type": "execute_result"
    }
   ],
   "source": [
    "numerical = [var for var in numerical if var not in ['Survived','PassengerId']]\n",
    "numerical"
   ]
  },
  {
   "cell_type": "code",
   "execution_count": 37,
   "metadata": {},
   "outputs": [
    {
     "data": {
      "text/plain": [
       "Age                          0\n",
       "CreditAmount                 0\n",
       "CreditStatus                 0\n",
       "Duration                     0\n",
       "ExistingCreditsAtBank        0\n",
       "InstallmentRatePecnt         0\n",
       "NumberDependents             0\n",
       "PresentResidenceTime         0\n",
       "CheckingAcctStat_num         0\n",
       "CheckingAcctStat_cat         0\n",
       "CreditHistory_num            0\n",
       "CreditHistory_cat            0\n",
       "Employment_num               0\n",
       "Employment_cat               0\n",
       "ForeignWorker_num            0\n",
       "ForeignWorker_cat            0\n",
       "Housing_num                  0\n",
       "Housing_cat                  0\n",
       "Job_num                      0\n",
       "Job_cat                      0\n",
       "OtherDetorsGuarantors_num    0\n",
       "OtherDetorsGuarantors_cat    0\n",
       "OtherInstalments_num         0\n",
       "OtherInstalments_cat         0\n",
       "Property_num                 0\n",
       "Property_cat                 0\n",
       "Purpose_num                  0\n",
       "Purpose_cat                  0\n",
       "Savings_num                  0\n",
       "Savings_cat                  0\n",
       "SexAndStatus_num             0\n",
       "SexAndStatus_cat             0\n",
       "Telephone_num                0\n",
       "Telephone_cat                0\n",
       "dtype: int64"
      ]
     },
     "execution_count": 37,
     "metadata": {},
     "output_type": "execute_result"
    }
   ],
   "source": [
    "df.isnull().sum()"
   ]
  },
  {
   "cell_type": "markdown",
   "metadata": {},
   "source": [
    "### 6. Engineer Outliers in Numerical Variables\n",
    "\n",
    "Numerical variables with outliers are: \n",
    "    \n",
    "- Age\n",
    "- CreditAmount\n",
    "- Duration\n",
    "- ExistingCreditsAtBank\n",
    "- CreditHist_num\n",
    "- ForeignWorker_num\n",
    "- Housing_num\n",
    "- Job_num\n",
    "- OtherDetorsGurantors_num\n",
    "- OhterInstalments_num\n",
    "- Puprose_num\n",
    "- Savings_num\n",
    "- SexAndStatus_num\n",
    "\n",
    "\n",
    "Here is how I will engineer outliers in numerical variables:\n",
    "\n",
    " \n",
    "* Top/Bottom Encoding:\n",
    "   - ExistingCreditsAtBank\n",
    "   - CreditHist_num\n",
    "   - ForeignWorker_num\n",
    "   - Housing_num\n",
    "   - Job_num\n",
    "   - OtherDetorsGurantors_num\n",
    "   - OhterInstalments_num\n",
    "   - Puprose_num\n",
    "   - Savings_num\n",
    "   - SexAndStatus_num\n",
    "\n",
    "* Equal Frequency Binning:\n",
    "  - Age \n",
    "  - CreditAmount \n",
    "  - Duration \n"
   ]
  },
  {
   "cell_type": "code",
   "execution_count": 38,
   "metadata": {},
   "outputs": [
    {
     "name": "stdout",
     "output_type": "stream",
     "text": [
      "Age outliers are values < -0.6724138319999998 or > 1.1918103742499997\n",
      "CreditAmount outliers are values < -0.42554058225 or > 0.7159834115\n",
      "Duration outliers are values < -0.588235292 or > 1.0588235270000002\n",
      "ExistingCreditsAtBank outliers are values < -0.999999999 or > 1.333333332\n",
      "CreditHistory_num outliers are values < 29.0 or > 36.0\n",
      "ForeignWorker_num outliers are values < 201.0 or > 201.0\n",
      "Housing_num outliers are values < 152.0 or > 152.0\n",
      "Job_num outliers are values < 173.0 or > 173.0\n",
      "OtherDetorsGuarantors_num outliers are values < 101.0 or > 101.0\n",
      "OtherInstalments_num outliers are values < 143.0 or > 143.0\n",
      "OtherInstalments_num outliers are values < 173.0 or > 173.0\n",
      "Savings_num outliers are values < 58.0 or > 65.0\n",
      "SexAndStatus_num outliers are values < 89.0 or > 96.0\n"
     ]
    }
   ],
   "source": [
    "#Display outliers for above variables (calculated before)\n",
    "\n",
    "# Age\n",
    "IQR = df.Age.quantile(0.75) - df.Age.quantile(0.25)\n",
    "Lower_fence = df.Age.quantile(0.25) - (IQR * 3)\n",
    "Upper_fence = df.Age.quantile(0.75) + (IQR * 3)\n",
    "print('Age outliers are values < {lowerboundary} or > {upperboundary}'.format(lowerboundary=Lower_fence, upperboundary=Upper_fence))\n",
    "\n",
    "# CreditAmount\n",
    "IQR = df.CreditAmount.quantile(0.75) - df.CreditAmount.quantile(0.25)\n",
    "Lower_fence = df.CreditAmount.quantile(0.25) - (IQR * 3)\n",
    "Upper_fence = df.CreditAmount.quantile(0.75) + (IQR * 3)\n",
    "print('CreditAmount outliers are values < {lowerboundary} or > {upperboundary}'.format(lowerboundary=Lower_fence, upperboundary=Upper_fence))\n",
    "\n",
    "# Duration\n",
    "IQR = df.Duration.quantile(0.75) - df.Duration.quantile(0.25)\n",
    "Lower_fence = df.Duration.quantile(0.25) - (IQR * 3)\n",
    "Upper_fence = df.Duration.quantile(0.75) + (IQR * 3)\n",
    "print('Duration outliers are values < {lowerboundary} or > {upperboundary}'.format(lowerboundary=Lower_fence, upperboundary=Upper_fence))\n",
    "\n",
    "# ExistingCreditsAtBank\n",
    "IQR = df.ExistingCreditsAtBank.quantile(0.75) - df.ExistingCreditsAtBank.quantile(0.25)\n",
    "Lower_fence = df.ExistingCreditsAtBank.quantile(0.25) - (IQR * 3)\n",
    "Upper_fence = df.ExistingCreditsAtBank.quantile(0.75) + (IQR * 3)\n",
    "print('ExistingCreditsAtBank outliers are values < {lowerboundary} or > {upperboundary}'.format(lowerboundary=Lower_fence, upperboundary=Upper_fence))\n",
    "\n",
    "# CreditHistory_num\n",
    "IQR = df.CreditHistory_num.quantile(0.75) - df.CreditHistory_num.quantile(0.25)\n",
    "Lower_fence = df.CreditHistory_num.quantile(0.25) - (IQR * 3)\n",
    "Upper_fence = df.CreditHistory_num.quantile(0.75) + (IQR * 3)\n",
    "print('CreditHistory_num outliers are values < {lowerboundary} or > {upperboundary}'.format(lowerboundary=Lower_fence, upperboundary=Upper_fence))\n",
    "\n",
    "# ForeignWorker_num\n",
    "IQR = df.ForeignWorker_num.quantile(0.75) - df.ForeignWorker_num.quantile(0.25)\n",
    "Lower_fence = df.ForeignWorker_num.quantile(0.25) - (IQR * 3)\n",
    "Upper_fence = df.ForeignWorker_num.quantile(0.75) + (IQR * 3)\n",
    "print('ForeignWorker_num outliers are values < {lowerboundary} or > {upperboundary}'.format(lowerboundary=Lower_fence, upperboundary=Upper_fence))\n",
    "\n",
    "# Housing_num\n",
    "IQR = df.Housing_num.quantile(0.75) - df.Housing_num.quantile(0.25)\n",
    "Lower_fence = df.Housing_num.quantile(0.25) - (IQR * 3)\n",
    "Upper_fence = df.Housing_num.quantile(0.75) + (IQR * 3)\n",
    "print('Housing_num outliers are values < {lowerboundary} or > {upperboundary}'.format(lowerboundary=Lower_fence, upperboundary=Upper_fence))\n",
    "\n",
    "# Job_num\n",
    "IQR = df.Job_num.quantile(0.75) - df.Job_num.quantile(0.25)\n",
    "Lower_fence = df.Job_num.quantile(0.25) - (IQR * 3)\n",
    "Upper_fence = df.Job_num.quantile(0.75) + (IQR * 3)\n",
    "print('Job_num outliers are values < {lowerboundary} or > {upperboundary}'.format(lowerboundary=Lower_fence, upperboundary=Upper_fence))\n",
    "\n",
    "# OtherDetorsGuarantors_num\n",
    "IQR = df.OtherDetorsGuarantors_num.quantile(0.75) - df.OtherDetorsGuarantors_num.quantile(0.25)\n",
    "Lower_fence = df.OtherDetorsGuarantors_num.quantile(0.25) - (IQR * 3)\n",
    "Upper_fence = df.OtherDetorsGuarantors_num.quantile(0.75) + (IQR * 3)\n",
    "print('OtherDetorsGuarantors_num outliers are values < {lowerboundary} or > {upperboundary}'.format(lowerboundary=Lower_fence, upperboundary=Upper_fence))\n",
    "\n",
    "# OtherInstalments_num\n",
    "IQR = df.OtherInstalments_num.quantile(0.75) - df.OtherInstalments_num.quantile(0.25)\n",
    "Lower_fence = df.OtherInstalments_num.quantile(0.25) - (IQR * 3)\n",
    "Upper_fence = df.OtherInstalments_num.quantile(0.75) + (IQR * 3)\n",
    "print('OtherInstalments_num outliers are values < {lowerboundary} or > {upperboundary}'.format(lowerboundary=Lower_fence, upperboundary=Upper_fence))\n",
    "\n",
    "# Purpose_num\n",
    "IQR = df.Job_num.quantile(0.75) - df.Job_num.quantile(0.25)\n",
    "Lower_fence = df.Job_num.quantile(0.25) - (IQR * 3)\n",
    "Upper_fence = df.Job_num.quantile(0.75) + (IQR * 3)\n",
    "print('OtherInstalments_num outliers are values < {lowerboundary} or > {upperboundary}'.format(lowerboundary=Lower_fence, upperboundary=Upper_fence))\n",
    "\n",
    "# Savings_num\n",
    "IQR = df.Savings_num.quantile(0.75) - df.Savings_num.quantile(0.25)\n",
    "Lower_fence = df.Savings_num.quantile(0.25) - (IQR * 3)\n",
    "Upper_fence = df.Savings_num.quantile(0.75) + (IQR * 3)\n",
    "print('Savings_num outliers are values < {lowerboundary} or > {upperboundary}'.format(lowerboundary=Lower_fence, upperboundary=Upper_fence))\n",
    "\n",
    "# SexAndStatus_num\n",
    "IQR = df.SexAndStatus_num.quantile(0.75) - df.SexAndStatus_num.quantile(0.25)\n",
    "Lower_fence = df.SexAndStatus_num.quantile(0.25) - (IQR * 3)\n",
    "Upper_fence = df.SexAndStatus_num.quantile(0.75) + (IQR * 3)\n",
    "print('SexAndStatus_num outliers are values < {lowerboundary} or > {upperboundary}'.format(lowerboundary=Lower_fence, upperboundary=Upper_fence))\n",
    "\n",
    "\n",
    "\n",
    "\n",
    "\n"
   ]
  },
  {
   "cell_type": "markdown",
   "metadata": {},
   "source": [
    "**6.1 Top/Bottom Encoding**"
   ]
  },
  {
   "cell_type": "markdown",
   "metadata": {},
   "source": [
    "**a) ExistingCreditsAtBank**"
   ]
  },
  {
   "cell_type": "code",
   "execution_count": 39,
   "metadata": {},
   "outputs": [
    {
     "data": {
      "text/plain": [
       "0.000000    568\n",
       "0.333333    240\n",
       "0.055547     36\n",
       "0.085402     30\n",
       "0.247931     24\n",
       "0.277787     21\n",
       "0.666667     17\n",
       "0.418736      3\n",
       "1.000000      3\n",
       "0.111093      2\n",
       "0.388880      2\n",
       "0.581264      1\n",
       "0.170805      1\n",
       "0.444427      1\n",
       "0.256207      1\n",
       "Name: ExistingCreditsAtBank, dtype: int64"
      ]
     },
     "execution_count": 39,
     "metadata": {},
     "output_type": "execute_result"
    }
   ],
   "source": [
    "df['ExistingCreditsAtBank'].value_counts()"
   ]
  },
  {
   "cell_type": "code",
   "execution_count": 40,
   "metadata": {},
   "outputs": [],
   "source": [
    "def top_code(df, variable, top):\n",
    "    return np.where(df[variable]>top, 1.333333332, df[variable])\n",
    "\n",
    "for df in [X_train, X_test, df]:\n",
    "    df['ExistingCreditsAtBank'] = top_code(df, 'ExistingCreditsAtBank', 1.333333332)"
   ]
  },
  {
   "cell_type": "code",
   "execution_count": 41,
   "metadata": {},
   "outputs": [
    {
     "data": {
      "text/plain": [
       "0.000000    568\n",
       "0.333333    240\n",
       "0.055547     36\n",
       "0.085402     30\n",
       "0.247931     24\n",
       "0.277787     21\n",
       "0.666667     17\n",
       "0.418736      3\n",
       "1.000000      3\n",
       "0.111093      2\n",
       "0.388880      2\n",
       "0.581264      1\n",
       "0.170805      1\n",
       "0.444427      1\n",
       "0.256207      1\n",
       "Name: ExistingCreditsAtBank, dtype: int64"
      ]
     },
     "execution_count": 41,
     "metadata": {},
     "output_type": "execute_result"
    }
   ],
   "source": [
    "df['ExistingCreditsAtBank'].value_counts()"
   ]
  },
  {
   "cell_type": "code",
   "execution_count": 42,
   "metadata": {},
   "outputs": [
    {
     "data": {
      "text/plain": [
       "count    950.000000\n",
       "mean       0.120408\n",
       "std        0.172864\n",
       "min        0.000000\n",
       "25%        0.000000\n",
       "50%        0.000000\n",
       "75%        0.333333\n",
       "max        1.000000\n",
       "Name: ExistingCreditsAtBank, dtype: float64"
      ]
     },
     "execution_count": 42,
     "metadata": {},
     "output_type": "execute_result"
    }
   ],
   "source": [
    "# See if worked out\n",
    "df.ExistingCreditsAtBank.describe()"
   ]
  },
  {
   "cell_type": "markdown",
   "metadata": {},
   "source": [
    "**b) CreditHistory**"
   ]
  },
  {
   "cell_type": "code",
   "execution_count": 43,
   "metadata": {},
   "outputs": [
    {
     "data": {
      "text/plain": [
       "Text(0, 0.5, 'CreditHistory_num')"
      ]
     },
     "execution_count": 43,
     "metadata": {},
     "output_type": "execute_result"
    },
    {
     "data": {
      "image/png": "[encoded data removed]",
      "text/plain": [
       "<Figure size 432x288 with 1 Axes>"
      ]
     },
     "metadata": {
      "needs_background": "light"
     },
     "output_type": "display_data"
    }
   ],
   "source": [
    "fig = df.boxplot(column='CreditHistory_num')\n",
    "fig.set_title('')\n",
    "fig.set_ylabel('CreditHistory_num')"
   ]
  },
  {
   "cell_type": "code",
   "execution_count": 44,
   "metadata": {},
   "outputs": [
    {
     "data": {
      "text/plain": [
       "32.0    525\n",
       "34.0    234\n",
       "33.0     76\n",
       "31.0     62\n",
       "30.0     53\n",
       "Name: CreditHistory_num, dtype: int64"
      ]
     },
     "execution_count": 44,
     "metadata": {},
     "output_type": "execute_result"
    }
   ],
   "source": [
    "df['CreditHistory_num'].value_counts()"
   ]
  },
  {
   "cell_type": "code",
   "execution_count": 45,
   "metadata": {},
   "outputs": [
    {
     "data": {
      "text/plain": [
       "count    950.000000\n",
       "mean      32.395789\n",
       "std        1.094667\n",
       "min       30.000000\n",
       "25%       32.000000\n",
       "50%       32.000000\n",
       "75%       33.000000\n",
       "max       34.000000\n",
       "Name: CreditHistory_num, dtype: float64"
      ]
     },
     "execution_count": 45,
     "metadata": {},
     "output_type": "execute_result"
    }
   ],
   "source": [
    "df['CreditHistory_num'].describe()"
   ]
  },
  {
   "cell_type": "code",
   "execution_count": 46,
   "metadata": {},
   "outputs": [],
   "source": [
    "def top_code(df, variable, top):\n",
    "    return np.where(df[variable]>top, 36.0, df[variable])\n",
    "\n",
    "for df in [X_train, X_test, df]:\n",
    "    df['CreditHistory_num'] = top_code(df, 'CreditHistory_num', 36.0)\n",
    "\n",
    "def bottom_code(df, variable, bottom):\n",
    "    return np.where(df[variable]<bottom, 29.0, df[variable])\n",
    "\n",
    "for df in [X_train, X_test, df]:\n",
    "    df['CreditHistory_num'] = bottom_code(df, 'CreditHistory_num', 29.0)\n",
    "\n"
   ]
  },
  {
   "cell_type": "code",
   "execution_count": 47,
   "metadata": {},
   "outputs": [
    {
     "data": {
      "text/plain": [
       "count    950.000000\n",
       "mean      32.395789\n",
       "std        1.094667\n",
       "min       30.000000\n",
       "25%       32.000000\n",
       "50%       32.000000\n",
       "75%       33.000000\n",
       "max       34.000000\n",
       "Name: CreditHistory_num, dtype: float64"
      ]
     },
     "execution_count": 47,
     "metadata": {},
     "output_type": "execute_result"
    }
   ],
   "source": [
    "df['CreditHistory_num'].describe()"
   ]
  },
  {
   "cell_type": "markdown",
   "metadata": {},
   "source": [
    "**c) ForeignWorker**"
   ]
  },
  {
   "cell_type": "code",
   "execution_count": 48,
   "metadata": {},
   "outputs": [
    {
     "data": {
      "text/plain": [
       "201.0    926\n",
       "202.0     24\n",
       "Name: ForeignWorker_num, dtype: int64"
      ]
     },
     "execution_count": 48,
     "metadata": {},
     "output_type": "execute_result"
    }
   ],
   "source": [
    "df['ForeignWorker_num'].value_counts()"
   ]
  },
  {
   "cell_type": "markdown",
   "metadata": {},
   "source": [
    "Do not touch this variable\n"
   ]
  },
  {
   "cell_type": "markdown",
   "metadata": {},
   "source": [
    "**d) Job_num**"
   ]
  },
  {
   "cell_type": "code",
   "execution_count": 49,
   "metadata": {},
   "outputs": [
    {
     "data": {
      "text/plain": [
       "173.0    613\n",
       "172.0    184\n",
       "174.0    135\n",
       "171.0     18\n",
       "Name: Job_num, dtype: int64"
      ]
     },
     "execution_count": 49,
     "metadata": {},
     "output_type": "execute_result"
    }
   ],
   "source": [
    "df['Job_num'].value_counts()"
   ]
  },
  {
   "cell_type": "markdown",
   "metadata": {},
   "source": [
    "Do not touch"
   ]
  },
  {
   "cell_type": "markdown",
   "metadata": {},
   "source": [
    "**e) Housing_num**"
   ]
  },
  {
   "cell_type": "code",
   "execution_count": 50,
   "metadata": {},
   "outputs": [
    {
     "data": {
      "text/plain": [
       "152.0    658\n",
       "151.0    180\n",
       "153.0    112\n",
       "Name: Housing_num, dtype: int64"
      ]
     },
     "execution_count": 50,
     "metadata": {},
     "output_type": "execute_result"
    }
   ],
   "source": [
    "df['Housing_num'].value_counts()"
   ]
  },
  {
   "cell_type": "code",
   "execution_count": 51,
   "metadata": {},
   "outputs": [
    {
     "name": "stdout",
     "output_type": "stream",
     "text": [
      "Housing_num outliers are values < 152.0 or > 152.0\n"
     ]
    }
   ],
   "source": [
    "IQR = df.Housing_num.quantile(0.75) - df.Housing_num.quantile(0.25)\n",
    "Lower_fence = df.Housing_num.quantile(0.25) - (IQR * 3)\n",
    "Upper_fence = df.Housing_num.quantile(0.75) + (IQR * 3)\n",
    "print('Housing_num outliers are values < {lowerboundary} or > {upperboundary}'.format(lowerboundary=Lower_fence, upperboundary=Upper_fence))\n",
    "\n"
   ]
  },
  {
   "cell_type": "markdown",
   "metadata": {},
   "source": [
    "Do not touch these outliers"
   ]
  },
  {
   "cell_type": "markdown",
   "metadata": {},
   "source": [
    "**f) OtherDetorsGuarantor_num**"
   ]
  },
  {
   "cell_type": "code",
   "execution_count": 52,
   "metadata": {},
   "outputs": [
    {
     "data": {
      "text/plain": [
       "101.0    862\n",
       "103.0     45\n",
       "102.0     43\n",
       "Name: OtherDetorsGuarantors_num, dtype: int64"
      ]
     },
     "execution_count": 52,
     "metadata": {},
     "output_type": "execute_result"
    }
   ],
   "source": [
    "df['OtherDetorsGuarantors_num'].value_counts()"
   ]
  },
  {
   "cell_type": "markdown",
   "metadata": {},
   "source": [
    "I will group the two highest categories"
   ]
  },
  {
   "cell_type": "code",
   "execution_count": 53,
   "metadata": {},
   "outputs": [],
   "source": [
    "def top_code(df, variable, top):\n",
    "    return np.where(df[variable]>top, 102, df[variable])\n",
    "\n",
    "for df in [X_train, X_test, df]:\n",
    "    df['OtherDetorsGuarantors_num'] = top_code(df, 'OtherDetorsGuarantors_num', 102)"
   ]
  },
  {
   "cell_type": "code",
   "execution_count": 54,
   "metadata": {},
   "outputs": [
    {
     "data": {
      "text/plain": [
       "101.0    862\n",
       "102.0     88\n",
       "Name: OtherDetorsGuarantors_num, dtype: int64"
      ]
     },
     "execution_count": 54,
     "metadata": {},
     "output_type": "execute_result"
    }
   ],
   "source": [
    "df['OtherDetorsGuarantors_num'].value_counts()"
   ]
  },
  {
   "cell_type": "markdown",
   "metadata": {},
   "source": [
    "**g) Other Installments**"
   ]
  },
  {
   "cell_type": "code",
   "execution_count": 55,
   "metadata": {},
   "outputs": [
    {
     "data": {
      "text/plain": [
       "143.0    783\n",
       "141.0    128\n",
       "142.0     39\n",
       "Name: OtherInstalments_num, dtype: int64"
      ]
     },
     "execution_count": 55,
     "metadata": {},
     "output_type": "execute_result"
    }
   ],
   "source": [
    "df['OtherInstalments_num'].value_counts()"
   ]
  },
  {
   "cell_type": "code",
   "execution_count": 56,
   "metadata": {},
   "outputs": [],
   "source": [
    "def bottom_code(df, variable, bottom):\n",
    "    return np.where(df[variable]<=bottom, 141, df[variable])\n",
    "\n",
    "for df in [X_train, X_test, df]:\n",
    "    df['OtherInstalments_num'] = bottom_code(df, 'OtherInstalments_num', 142)"
   ]
  },
  {
   "cell_type": "code",
   "execution_count": 57,
   "metadata": {},
   "outputs": [
    {
     "data": {
      "text/plain": [
       "143.0    783\n",
       "141.0    167\n",
       "Name: OtherInstalments_num, dtype: int64"
      ]
     },
     "execution_count": 57,
     "metadata": {},
     "output_type": "execute_result"
    }
   ],
   "source": [
    "df['OtherInstalments_num'].value_counts()"
   ]
  },
  {
   "cell_type": "markdown",
   "metadata": {},
   "source": [
    "**e) Purpose** "
   ]
  },
  {
   "cell_type": "code",
   "execution_count": 58,
   "metadata": {},
   "outputs": [
    {
     "data": {
      "text/plain": [
       "40.0     254\n",
       "43.0     254\n",
       "42.0     153\n",
       "49.0      96\n",
       "41.0      84\n",
       "46.0      44\n",
       "45.0      32\n",
       "410.0     11\n",
       "44.0      11\n",
       "48.0      11\n",
       "Name: Purpose_num, dtype: int64"
      ]
     },
     "execution_count": 58,
     "metadata": {},
     "output_type": "execute_result"
    }
   ],
   "source": [
    "df['Purpose_num'].value_counts()"
   ]
  },
  {
   "cell_type": "code",
   "execution_count": 59,
   "metadata": {},
   "outputs": [
    {
     "name": "stdout",
     "output_type": "stream",
     "text": [
      "Purpose_num outliers are values < 31.0 or > 52.0\n"
     ]
    }
   ],
   "source": [
    "IQR = df.Purpose_num.quantile(0.75) - df.Purpose_num.quantile(0.25)\n",
    "Lower_fence = df.Purpose_num.quantile(0.25) - (IQR * 3)\n",
    "Upper_fence = df.Purpose_num.quantile(0.75) + (IQR * 3)\n",
    "print('Purpose_num outliers are values < {lowerboundary} or > {upperboundary}'.format(lowerboundary=Lower_fence, upperboundary=Upper_fence))\n",
    "\n"
   ]
  },
  {
   "cell_type": "code",
   "execution_count": 60,
   "metadata": {},
   "outputs": [],
   "source": [
    "def top_code(df, variable, top):\n",
    "    return np.where(df[variable]>top, 52, df[variable])\n",
    "\n",
    "for df in [X_train, X_test, df]:\n",
    "    df['Purpose_num'] = top_code(df, 'Purpose_num', 52)\n",
    "\n",
    "def bottom_code(df, variable, bottom):\n",
    "    return np.where(df[variable]<bottom, 31, df[variable])\n",
    "\n",
    "for df in [X_train, X_test, df]:\n",
    "    df['Purpose_num'] = bottom_code(df, 'Purpose_num', 31)\n",
    "\n"
   ]
  },
  {
   "cell_type": "code",
   "execution_count": 61,
   "metadata": {},
   "outputs": [
    {
     "data": {
      "text/plain": [
       "40.0    254\n",
       "43.0    254\n",
       "42.0    153\n",
       "49.0     96\n",
       "41.0     84\n",
       "46.0     44\n",
       "45.0     32\n",
       "44.0     11\n",
       "52.0     11\n",
       "48.0     11\n",
       "Name: Purpose_num, dtype: int64"
      ]
     },
     "execution_count": 61,
     "metadata": {},
     "output_type": "execute_result"
    }
   ],
   "source": [
    "df['Purpose_num'].value_counts()"
   ]
  },
  {
   "cell_type": "markdown",
   "metadata": {},
   "source": [
    "**f) Savings_num**"
   ]
  },
  {
   "cell_type": "code",
   "execution_count": 62,
   "metadata": {},
   "outputs": [
    {
     "data": {
      "text/plain": [
       "61.0    618\n",
       "65.0    146\n",
       "62.0     95\n",
       "63.0     54\n",
       "64.0     37\n",
       "Name: Savings_num, dtype: int64"
      ]
     },
     "execution_count": 62,
     "metadata": {},
     "output_type": "execute_result"
    }
   ],
   "source": [
    "df['Savings_num'].value_counts()"
   ]
  },
  {
   "cell_type": "code",
   "execution_count": 63,
   "metadata": {},
   "outputs": [
    {
     "name": "stdout",
     "output_type": "stream",
     "text": [
      "Savings_num outliers are values < 58.0 or > 65.0\n"
     ]
    }
   ],
   "source": [
    "IQR = df.Savings_num.quantile(0.75) - df.Savings_num.quantile(0.25)\n",
    "Lower_fence = df.Savings_num.quantile(0.25) - (IQR * 3)\n",
    "Upper_fence = df.Savings_num.quantile(0.75) + (IQR * 3)\n",
    "print('Savings_num outliers are values < {lowerboundary} or > {upperboundary}'.format(lowerboundary=Lower_fence, upperboundary=Upper_fence))\n"
   ]
  },
  {
   "cell_type": "code",
   "execution_count": 64,
   "metadata": {},
   "outputs": [],
   "source": [
    "def top_code(df, variable, top):\n",
    "    return np.where(df[variable]>top, 65, df[variable])\n",
    "\n",
    "for df in [X_train, X_test, df]:\n",
    "    df['Savings_num'] = top_code(df, 'Savings_num', 65)\n",
    "\n",
    "def bottom_code(df, variable, bottom):\n",
    "    return np.where(df[variable]<bottom, 58, df[variable])\n",
    "\n",
    "for df in [X_train, X_test, df]:\n",
    "    df['Savings_num'] = bottom_code(df, 'Savings_num', 58)"
   ]
  },
  {
   "cell_type": "code",
   "execution_count": 65,
   "metadata": {},
   "outputs": [
    {
     "data": {
      "text/plain": [
       "61.0    618\n",
       "65.0    146\n",
       "62.0     95\n",
       "63.0     54\n",
       "64.0     37\n",
       "Name: Savings_num, dtype: int64"
      ]
     },
     "execution_count": 65,
     "metadata": {},
     "output_type": "execute_result"
    }
   ],
   "source": [
    "df['Savings_num'].value_counts()"
   ]
  },
  {
   "cell_type": "markdown",
   "metadata": {},
   "source": [
    "**g) SexAndStatus_num**"
   ]
  },
  {
   "cell_type": "code",
   "execution_count": 66,
   "metadata": {},
   "outputs": [
    {
     "data": {
      "text/plain": [
       "93.0    495\n",
       "92.0    329\n",
       "94.0     87\n",
       "91.0     39\n",
       "Name: SexAndStatus_num, dtype: int64"
      ]
     },
     "execution_count": 66,
     "metadata": {},
     "output_type": "execute_result"
    }
   ],
   "source": [
    "df['SexAndStatus_num'].value_counts()"
   ]
  },
  {
   "cell_type": "code",
   "execution_count": 67,
   "metadata": {},
   "outputs": [
    {
     "name": "stdout",
     "output_type": "stream",
     "text": [
      "SexAndStatus_num outliers are values < 89.0 or > 96.0\n"
     ]
    }
   ],
   "source": [
    "IQR = df.SexAndStatus_num.quantile(0.75) - df.SexAndStatus_num.quantile(0.25)\n",
    "Lower_fence = df.SexAndStatus_num.quantile(0.25) - (IQR * 3)\n",
    "Upper_fence = df.SexAndStatus_num.quantile(0.75) + (IQR * 3)\n",
    "print('SexAndStatus_num outliers are values < {lowerboundary} or > {upperboundary}'.format(lowerboundary=Lower_fence, upperboundary=Upper_fence))\n"
   ]
  },
  {
   "cell_type": "code",
   "execution_count": 68,
   "metadata": {},
   "outputs": [],
   "source": [
    "def top_code(df, variable, top):\n",
    "    return np.where(df[variable]>top, 96, df[variable])\n",
    "\n",
    "for df in [X_train, X_test, df]:\n",
    "    df['SexAndStatus_num'] = top_code(df, 'SexAndStatus_num', 96)\n",
    "\n",
    "def bottom_code(df, variable, bottom):\n",
    "    return np.where(df[variable]<bottom, 89, df[variable])\n",
    "\n",
    "for df in [X_train, X_test, df]:\n",
    "    df['SexAndStatus_num'] = bottom_code(df, 'SexAndStatus_num', 89)"
   ]
  },
  {
   "cell_type": "code",
   "execution_count": 69,
   "metadata": {},
   "outputs": [
    {
     "data": {
      "text/plain": [
       "93.0    495\n",
       "92.0    329\n",
       "94.0     87\n",
       "91.0     39\n",
       "Name: SexAndStatus_num, dtype: int64"
      ]
     },
     "execution_count": 69,
     "metadata": {},
     "output_type": "execute_result"
    }
   ],
   "source": [
    "df['SexAndStatus_num'].value_counts()"
   ]
  },
  {
   "cell_type": "markdown",
   "metadata": {},
   "source": [
    "**e) Age**"
   ]
  },
  {
   "cell_type": "code",
   "execution_count": 70,
   "metadata": {},
   "outputs": [
    {
     "data": {
      "text/plain": [
       "0.125000    33\n",
       "0.071429    32\n",
       "0.142857    30\n",
       "0.089286    27\n",
       "0.285714    24\n",
       "0.178571    23\n",
       "0.160714    23\n",
       "0.250000    22\n",
       "0.214286    22\n",
       "0.303571    21\n",
       "0.053571    20\n",
       "0.232143    20\n",
       "0.107143    20\n",
       "0.321429    20\n",
       "0.196429    20\n",
       "0.267857    18\n",
       "0.339286    18\n",
       "0.375000    17\n",
       "0.482143    14\n",
       "0.392857    14\n",
       "0.357143    14\n",
       "0.410714    13\n",
       "0.500000    13\n",
       "0.446429    13\n",
       "0.035714    11\n",
       "0.517857    10\n",
       "0.428571     9\n",
       "0.017857     9\n",
       "0.464286     8\n",
       "0.642857     8\n",
       "            ..\n",
       "0.576663     1\n",
       "0.695318     1\n",
       "0.207032     1\n",
       "0.080063     1\n",
       "0.515716     1\n",
       "0.734284     1\n",
       "0.110770     1\n",
       "0.072638     1\n",
       "0.502289     1\n",
       "0.346262     1\n",
       "0.092164     1\n",
       "0.397416     1\n",
       "0.170459     1\n",
       "0.403184     1\n",
       "0.262089     1\n",
       "0.224889     1\n",
       "0.157836     1\n",
       "0.982143     1\n",
       "0.097748     1\n",
       "0.216575     1\n",
       "0.051431     1\n",
       "0.100209     1\n",
       "0.122122     1\n",
       "0.641679     1\n",
       "0.441316     1\n",
       "0.112899     1\n",
       "0.085819     1\n",
       "0.105934     1\n",
       "0.236720     1\n",
       "0.424013     1\n",
       "Name: Age, Length: 355, dtype: int64"
      ]
     },
     "execution_count": 70,
     "metadata": {},
     "output_type": "execute_result"
    }
   ],
   "source": [
    "df['Age'].value_counts()"
   ]
  },
  {
   "cell_type": "code",
   "execution_count": 71,
   "metadata": {},
   "outputs": [
    {
     "name": "stdout",
     "output_type": "stream",
     "text": [
      "Age outliers are values < -0.6724138319999998 or > 1.1918103742499997\n"
     ]
    }
   ],
   "source": [
    "IQR = df.Age.quantile(0.75) - df.Age.quantile(0.25)\n",
    "Lower_fence = df.Age.quantile(0.25) - (IQR * 3)\n",
    "Upper_fence = df.Age.quantile(0.75) + (IQR * 3)\n",
    "print('Age outliers are values < {lowerboundary} or > {upperboundary}'.format(lowerboundary=Lower_fence, upperboundary=Upper_fence))\n",
    "\n"
   ]
  },
  {
   "cell_type": "code",
   "execution_count": 72,
   "metadata": {},
   "outputs": [],
   "source": [
    "def top_code(df, variable, top):\n",
    "    return np.where(df[variable]>top, 1.1918103742499997, df[variable])\n",
    "\n",
    "for df in [X_train, X_test, df]:\n",
    "    df['SexAndStatus_num'] = top_code(df, 'SexAndStatus_num', 1.1918103742499997)\n",
    "\n",
    "def bottom_code(df, variable, bottom):\n",
    "    return np.where(df[variable]<bottom, -0.6724138319999998, df[variable])\n",
    "\n",
    "for df in [X_train, X_test, df]:\n",
    "    df['SexAndStatus_num'] = bottom_code(df, 'SexAndStatus_num', -0.6724138319999998)"
   ]
  },
  {
   "cell_type": "code",
   "execution_count": 73,
   "metadata": {},
   "outputs": [
    {
     "data": {
      "text/plain": [
       "0.125000    33\n",
       "0.071429    32\n",
       "0.142857    30\n",
       "0.089286    27\n",
       "0.285714    24\n",
       "0.178571    23\n",
       "0.160714    23\n",
       "0.250000    22\n",
       "0.214286    22\n",
       "0.303571    21\n",
       "0.053571    20\n",
       "0.232143    20\n",
       "0.107143    20\n",
       "0.321429    20\n",
       "0.196429    20\n",
       "0.267857    18\n",
       "0.339286    18\n",
       "0.375000    17\n",
       "0.482143    14\n",
       "0.392857    14\n",
       "0.357143    14\n",
       "0.410714    13\n",
       "0.500000    13\n",
       "0.446429    13\n",
       "0.035714    11\n",
       "0.517857    10\n",
       "0.428571     9\n",
       "0.017857     9\n",
       "0.464286     8\n",
       "0.642857     8\n",
       "            ..\n",
       "0.576663     1\n",
       "0.695318     1\n",
       "0.207032     1\n",
       "0.080063     1\n",
       "0.515716     1\n",
       "0.734284     1\n",
       "0.110770     1\n",
       "0.072638     1\n",
       "0.502289     1\n",
       "0.346262     1\n",
       "0.092164     1\n",
       "0.397416     1\n",
       "0.170459     1\n",
       "0.403184     1\n",
       "0.262089     1\n",
       "0.224889     1\n",
       "0.157836     1\n",
       "0.982143     1\n",
       "0.097748     1\n",
       "0.216575     1\n",
       "0.051431     1\n",
       "0.100209     1\n",
       "0.122122     1\n",
       "0.641679     1\n",
       "0.441316     1\n",
       "0.112899     1\n",
       "0.085819     1\n",
       "0.105934     1\n",
       "0.236720     1\n",
       "0.424013     1\n",
       "Name: Age, Length: 355, dtype: int64"
      ]
     },
     "execution_count": 73,
     "metadata": {},
     "output_type": "execute_result"
    }
   ],
   "source": [
    "df['Age'].value_counts()"
   ]
  },
  {
   "cell_type": "markdown",
   "metadata": {},
   "source": [
    "**d) CreditAmount**"
   ]
  },
  {
   "cell_type": "code",
   "execution_count": 74,
   "metadata": {},
   "outputs": [
    {
     "data": {
      "text/plain": [
       "0.062892    3\n",
       "0.067569    3\n",
       "0.026246    2\n",
       "0.342137    2\n",
       "0.010069    2\n",
       "0.313855    2\n",
       "0.050567    2\n",
       "0.054473    2\n",
       "0.063993    2\n",
       "0.024816    2\n",
       "0.055464    2\n",
       "0.105700    2\n",
       "0.152250    2\n",
       "0.025696    2\n",
       "0.170518    2\n",
       "0.117420    2\n",
       "0.045780    2\n",
       "0.092715    2\n",
       "0.065973    2\n",
       "0.062287    2\n",
       "0.049741    2\n",
       "0.019753    2\n",
       "0.039947    2\n",
       "0.092110    2\n",
       "0.061296    2\n",
       "0.183779    2\n",
       "0.025256    2\n",
       "0.057060    2\n",
       "0.068945    2\n",
       "0.053978    2\n",
       "           ..\n",
       "0.036261    1\n",
       "0.032763    1\n",
       "0.042501    1\n",
       "0.115440    1\n",
       "0.169528    1\n",
       "0.199296    1\n",
       "0.076307    1\n",
       "0.134978    1\n",
       "0.032519    1\n",
       "0.040332    1\n",
       "0.214647    1\n",
       "0.149609    1\n",
       "0.236434    1\n",
       "0.232365    1\n",
       "0.033895    1\n",
       "0.165016    1\n",
       "0.042588    1\n",
       "0.090404    1\n",
       "0.202982    1\n",
       "0.590074    1\n",
       "0.198470    1\n",
       "0.328986    1\n",
       "0.068612    1\n",
       "0.081985    1\n",
       "0.276118    1\n",
       "0.220794    1\n",
       "0.029713    1\n",
       "0.305966    1\n",
       "0.070595    1\n",
       "0.065093    1\n",
       "Name: CreditAmount, Length: 914, dtype: int64"
      ]
     },
     "execution_count": 74,
     "metadata": {},
     "output_type": "execute_result"
    }
   ],
   "source": [
    "df['CreditAmount'].value_counts()"
   ]
  },
  {
   "cell_type": "code",
   "execution_count": 75,
   "metadata": {},
   "outputs": [
    {
     "name": "stdout",
     "output_type": "stream",
     "text": [
      "CreditAmount outliers are values < -0.42554058225 or > 0.7159834115\n"
     ]
    }
   ],
   "source": [
    "IQR = df.CreditAmount.quantile(0.75) - df.CreditAmount.quantile(0.25)\n",
    "Lower_fence = df.CreditAmount.quantile(0.25) - (IQR * 3)\n",
    "Upper_fence = df.CreditAmount.quantile(0.75) + (IQR * 3)\n",
    "print('CreditAmount outliers are values < {lowerboundary} or > {upperboundary}'.format(lowerboundary=Lower_fence, upperboundary=Upper_fence))\n"
   ]
  },
  {
   "cell_type": "code",
   "execution_count": 76,
   "metadata": {},
   "outputs": [],
   "source": [
    "def top_code(df, variable, top):\n",
    "    return np.where(df[variable]>top, 0.7159834115, df[variable])\n",
    "\n",
    "for df in [X_train, X_test, df]:\n",
    "    df['CreditAmount'] = top_code(df, 'CreditAmount', 0.7159834115)\n",
    "\n",
    "def bottom_code(df, variable, bottom):\n",
    "    return np.where(df[variable]<bottom, -0.42554058225, df[variable])\n",
    "\n",
    "for df in [X_train, X_test, df]:\n",
    "    df['CreditAmount'] = bottom_code(df, 'CreditAmount', -0.42554058225)"
   ]
  },
  {
   "cell_type": "markdown",
   "metadata": {},
   "source": [
    "**e) Duration**"
   ]
  },
  {
   "cell_type": "code",
   "execution_count": 77,
   "metadata": {},
   "outputs": [
    {
     "name": "stdout",
     "output_type": "stream",
     "text": [
      "Duration outliers are values < -0.588235292 or > 1.0588235270000002\n"
     ]
    }
   ],
   "source": [
    "IQR = df.Duration.quantile(0.75) - df.Duration.quantile(0.25)\n",
    "Lower_fence = df.Duration.quantile(0.25) - (IQR * 3)\n",
    "Upper_fence = df.Duration.quantile(0.75) + (IQR * 3)\n",
    "print('Duration outliers are values < {lowerboundary} or > {upperboundary}'.format(lowerboundary=Lower_fence, upperboundary=Upper_fence))\n",
    "\n"
   ]
  },
  {
   "cell_type": "code",
   "execution_count": 78,
   "metadata": {},
   "outputs": [],
   "source": [
    "def top_code(df, variable, top):\n",
    "    return np.where(df[variable]>top, 0.10588235270000002, df[variable])\n",
    "\n",
    "for df in [X_train, X_test, df]:\n",
    "    df['Duration'] = top_code(df, 'Duration', 0.10588235270000002)\n",
    "\n",
    "def bottom_code(df, variable, bottom):\n",
    "    return np.where(df[variable]<bottom,  -0.588235292, df[variable])\n",
    "\n",
    "for df in [X_train, X_test, df]:\n",
    "    df['Duration'] = bottom_code(df, 'Duration',  -0.588235292)"
   ]
  },
  {
   "cell_type": "markdown",
   "metadata": {},
   "source": [
    "### 7. Engineer Categorical Variables\n",
    "\n",
    "#### 7.1 Rare Labels in Categorical Variables (include here numerical ordinal)"
   ]
  },
  {
   "cell_type": "code",
   "execution_count": 79,
   "metadata": {},
   "outputs": [
    {
     "name": "stdout",
     "output_type": "stream",
     "text": [
      "CheckingAcctStat_cat A    1.0\n",
      "Name: CheckingAcctStat_cat, dtype: float64\n",
      "\n",
      "CreditHistory_cat A    1.0\n",
      "Name: CreditHistory_cat, dtype: float64\n",
      "\n",
      "Employment_cat A    1.0\n",
      "Name: Employment_cat, dtype: float64\n",
      "\n",
      "ForeignWorker_cat A    1.0\n",
      "Name: ForeignWorker_cat, dtype: float64\n",
      "\n",
      "Housing_cat A    1.0\n",
      "Name: Housing_cat, dtype: float64\n",
      "\n",
      "Job_cat A    1.0\n",
      "Name: Job_cat, dtype: float64\n",
      "\n",
      "OtherDetorsGuarantors_cat A    1.0\n",
      "Name: OtherDetorsGuarantors_cat, dtype: float64\n",
      "\n",
      "OtherInstalments_cat A    1.0\n",
      "Name: OtherInstalments_cat, dtype: float64\n",
      "\n",
      "Property_cat A    1.0\n",
      "Name: Property_cat, dtype: float64\n",
      "\n",
      "Purpose_cat A    1.0\n",
      "Name: Purpose_cat, dtype: float64\n",
      "\n",
      "Savings_cat A    1.0\n",
      "Name: Savings_cat, dtype: float64\n",
      "\n",
      "SexAndStatus_cat A    1.0\n",
      "Name: SexAndStatus_cat, dtype: float64\n",
      "\n",
      "Telephone_cat A    1.0\n",
      "Name: Telephone_cat, dtype: float64\n",
      "\n"
     ]
    }
   ],
   "source": [
    "# find unfrequent labels in categorical variables\n",
    "for var in categorical:\n",
    "    print(var, X_train[var].value_counts()/np.float(len(X_train)))\n",
    "    print()"
   ]
  },
  {
   "cell_type": "markdown",
   "metadata": {},
   "source": [
    "All the categorical variables I have present only 1 label. Therefore, they add no value and can be eliminated. "
   ]
  },
  {
   "cell_type": "code",
   "execution_count": 80,
   "metadata": {},
   "outputs": [
    {
     "data": {
      "text/plain": [
       "['CheckingAcctStat_cat',\n",
       " 'CreditHistory_cat',\n",
       " 'Employment_cat',\n",
       " 'ForeignWorker_cat',\n",
       " 'Housing_cat',\n",
       " 'Job_cat',\n",
       " 'OtherDetorsGuarantors_cat',\n",
       " 'OtherInstalments_cat',\n",
       " 'Property_cat',\n",
       " 'Purpose_cat',\n",
       " 'Savings_cat',\n",
       " 'SexAndStatus_cat',\n",
       " 'Telephone_cat']"
      ]
     },
     "execution_count": 80,
     "metadata": {},
     "output_type": "execute_result"
    }
   ],
   "source": [
    "categorical"
   ]
  },
  {
   "cell_type": "code",
   "execution_count": 81,
   "metadata": {},
   "outputs": [],
   "source": [
    "df= df.drop(['CheckingAcctStat_cat',\n",
    " 'CreditHistory_cat',\n",
    " 'Employment_cat',\n",
    " 'ForeignWorker_cat',\n",
    " 'Housing_cat',\n",
    " 'Job_cat',\n",
    " 'OtherDetorsGuarantors_cat',\n",
    " 'OtherInstalments_cat',\n",
    " 'Property_cat',\n",
    " 'Purpose_cat',\n",
    " 'Savings_cat',\n",
    " 'SexAndStatus_cat',\n",
    " 'Telephone_cat'], axis=1)"
   ]
  },
  {
   "cell_type": "markdown",
   "metadata": {},
   "source": [
    "#### 7.3.1 Engineer Rare values\n",
    "\n",
    "From numerical ordinal "
   ]
  },
  {
   "cell_type": "code",
   "execution_count": 82,
   "metadata": {},
   "outputs": [
    {
     "name": "stdout",
     "output_type": "stream",
     "text": [
      "NumberDependents\n",
      "0.000000    0.815789\n",
      "0.065976    0.005263\n",
      "0.143863    0.010526\n",
      "0.856137    0.005263\n",
      "0.934024    0.010526\n",
      "1.000000    0.152632\n",
      "Name: NumberDependents, dtype: float64\n",
      "\n"
     ]
    }
   ],
   "source": [
    "# Now handle numerical ordinal, NumberDependents\n",
    "cols = ['NumberDependents']\n",
    "for col in cols:\n",
    "    print(df.groupby(col)[col].count()/np.float(len(df)))\n",
    "    print()"
   ]
  },
  {
   "cell_type": "code",
   "execution_count": 83,
   "metadata": {},
   "outputs": [
    {
     "name": "stdout",
     "output_type": "stream",
     "text": [
      "NumberDependents\n",
      "0.000000    0.806579\n",
      "0.065976    0.006579\n",
      "0.143863    0.009211\n",
      "0.856137    0.003947\n",
      "0.934024    0.009211\n",
      "1.000000    0.164474\n",
      "Name: NumberDependents, dtype: float64\n"
     ]
    }
   ],
   "source": [
    "print(X_train.groupby('NumberDependents')['NumberDependents'].count()/np.float(len(X_train)))"
   ]
  },
  {
   "cell_type": "code",
   "execution_count": 84,
   "metadata": {},
   "outputs": [
    {
     "data": {
      "text/plain": [
       "0.0"
      ]
     },
     "execution_count": 84,
     "metadata": {},
     "output_type": "execute_result"
    }
   ],
   "source": [
    "# find the most frequent category, I will use this line in the below function\n",
    "frequent_cat = X_train.groupby('NumberDependents')['NumberDependents'].count().sort_values().tail(1).index.values[0]\n",
    "frequent_cat"
   ]
  },
  {
   "cell_type": "code",
   "execution_count": 85,
   "metadata": {},
   "outputs": [
    {
     "data": {
      "text/plain": [
       "[0.065976486, 0.143862594, 0.856137406, 0.934023514]"
      ]
     },
     "execution_count": 85,
     "metadata": {},
     "output_type": "execute_result"
    }
   ],
   "source": [
    "# find the rare label, I will use this line in the below function\n",
    "temp = X_train.groupby('NumberDependents')['NumberDependents'].count()/np.float(len(X_train))\n",
    "[x for x in temp.loc[temp<0.05].index.values]"
   ]
  },
  {
   "cell_type": "markdown",
   "metadata": {},
   "source": [
    "Since Rare categories in the variable 'NumberDependents'are less than 10. We do nothing (no imputation or grouping)"
   ]
  },
  {
   "cell_type": "markdown",
   "metadata": {},
   "source": [
    "### 8. Gaussian Transformation\n",
    "\n",
    "Algorithms work better when the shape "
   ]
  },
  {
   "cell_type": "code",
   "execution_count": 86,
   "metadata": {},
   "outputs": [
    {
     "data": {
      "text/plain": [
       "Age                          float64\n",
       "CreditAmount                 float64\n",
       "CreditStatus                   int64\n",
       "Duration                     float64\n",
       "ExistingCreditsAtBank        float64\n",
       "InstallmentRatePecnt         float64\n",
       "NumberDependents             float64\n",
       "PresentResidenceTime         float64\n",
       "CheckingAcctStat_num         float64\n",
       "CheckingAcctStat_cat          object\n",
       "CreditHistory_num            float64\n",
       "CreditHistory_cat             object\n",
       "Employment_num               float64\n",
       "Employment_cat                object\n",
       "ForeignWorker_num            float64\n",
       "ForeignWorker_cat             object\n",
       "Housing_num                  float64\n",
       "Housing_cat                   object\n",
       "Job_num                      float64\n",
       "Job_cat                       object\n",
       "OtherDetorsGuarantors_num    float64\n",
       "OtherDetorsGuarantors_cat     object\n",
       "OtherInstalments_num         float64\n",
       "OtherInstalments_cat          object\n",
       "Property_num                 float64\n",
       "Property_cat                  object\n",
       "Purpose_num                  float64\n",
       "Purpose_cat                   object\n",
       "Savings_num                  float64\n",
       "Savings_cat                   object\n",
       "SexAndStatus_num             float64\n",
       "SexAndStatus_cat              object\n",
       "Telephone_num                float64\n",
       "Telephone_cat                 object\n",
       "dtype: object"
      ]
     },
     "execution_count": 86,
     "metadata": {},
     "output_type": "execute_result"
    }
   ],
   "source": [
    "X_train.dtypes"
   ]
  },
  {
   "cell_type": "code",
   "execution_count": 87,
   "metadata": {},
   "outputs": [],
   "source": [
    "# let's group again the variables into categorical or numerical\n",
    "# now considering the newly created variables\n",
    "\n",
    "def find_categorical_and_numerical_variables(X_train):\n",
    "    cat_vars = [col for col in X_train.columns if X_train[col].dtypes == 'O']\n",
    "    num_vars  = [col for col in X_train.columns if X_train[col].dtypes != 'O']\n",
    "    return cat_vars, num_vars\n",
    "                 \n",
    "categorical, numerical = find_categorical_and_numerical_variables(X_train) "
   ]
  },
  {
   "cell_type": "code",
   "execution_count": 88,
   "metadata": {},
   "outputs": [
    {
     "data": {
      "text/plain": [
       "['CheckingAcctStat_cat',\n",
       " 'CreditHistory_cat',\n",
       " 'Employment_cat',\n",
       " 'ForeignWorker_cat',\n",
       " 'Housing_cat',\n",
       " 'Job_cat',\n",
       " 'OtherDetorsGuarantors_cat',\n",
       " 'OtherInstalments_cat',\n",
       " 'Property_cat',\n",
       " 'Purpose_cat',\n",
       " 'Savings_cat',\n",
       " 'SexAndStatus_cat',\n",
       " 'Telephone_cat']"
      ]
     },
     "execution_count": 88,
     "metadata": {},
     "output_type": "execute_result"
    }
   ],
   "source": [
    "categorical"
   ]
  },
  {
   "cell_type": "code",
   "execution_count": 89,
   "metadata": {},
   "outputs": [
    {
     "data": {
      "text/plain": [
       "['Age',\n",
       " 'CreditAmount',\n",
       " 'CreditStatus',\n",
       " 'Duration',\n",
       " 'ExistingCreditsAtBank',\n",
       " 'InstallmentRatePecnt',\n",
       " 'NumberDependents',\n",
       " 'PresentResidenceTime',\n",
       " 'CheckingAcctStat_num',\n",
       " 'CreditHistory_num',\n",
       " 'Employment_num',\n",
       " 'ForeignWorker_num',\n",
       " 'Housing_num',\n",
       " 'Job_num',\n",
       " 'OtherDetorsGuarantors_num',\n",
       " 'OtherInstalments_num',\n",
       " 'Property_num',\n",
       " 'Purpose_num',\n",
       " 'Savings_num',\n",
       " 'SexAndStatus_num',\n",
       " 'Telephone_num']"
      ]
     },
     "execution_count": 89,
     "metadata": {},
     "output_type": "execute_result"
    }
   ],
   "source": [
    "numerical"
   ]
  },
  {
   "cell_type": "code",
   "execution_count": 90,
   "metadata": {},
   "outputs": [
    {
     "name": "stdout",
     "output_type": "stream",
     "text": [
      "ExistingCreditsAtBank skewness is 1.3310729348320618\n",
      "InstallmentRatePecnt skewness is -0.6732604256422537\n",
      "NumberDependents skewness is 1.7723803240549874\n",
      "PresentResidenceTime skewness is -0.27154628793787455\n",
      "CheckingAcctStat_num skewness is 0.324403394293832\n",
      "CreditHistory_num skewness is 0.04254048672051838\n",
      "Employment_num skewness is -0.04559677032830854\n",
      "ForeignWorker_num skewness is 6.060130757010168\n",
      "Housing_num skewness is -0.03802905332277845\n",
      "Job_num skewness is -0.36766902316678163\n",
      "OtherDetorsGuarantors_num skewness is 2.814702917127409\n",
      "OtherInstalments_num skewness is -1.7061930441516497\n",
      "Property_num skewness is -0.04308641795574535\n",
      "Purpose_num skewness is 1.2091371551005043\n",
      "Savings_num skewness is 1.2626891823986097\n",
      "SexAndStatus_num skewness is 0\n",
      "Telephone_num skewness is 0.42237154939797195\n"
     ]
    }
   ],
   "source": [
    "for var in [\n",
    " 'ExistingCreditsAtBank',\n",
    " 'InstallmentRatePecnt',\n",
    " 'NumberDependents',\n",
    " 'PresentResidenceTime',\n",
    " 'CheckingAcctStat_num',\n",
    " 'CreditHistory_num',\n",
    " 'Employment_num',\n",
    " 'ForeignWorker_num',\n",
    " 'Housing_num',\n",
    " 'Job_num',\n",
    " 'OtherDetorsGuarantors_num',\n",
    " 'OtherInstalments_num',\n",
    " 'Property_num',\n",
    " 'Purpose_num',\n",
    " 'Savings_num',\n",
    " 'SexAndStatus_num',\n",
    " 'Telephone_num',\n",
    "]:\n",
    "    print(var, 'skewness is', df[var].skew() )"
   ]
  },
  {
   "cell_type": "markdown",
   "metadata": {},
   "source": [
    "I will only try to improve the distribution of those numerical variables (not previously discretised), with an absolute skewness value above 1:\n",
    "\n",
    "- NumberDependents\n",
    "- OtherInstallments_num\n",
    "- ForeignWorker_num\n",
    "- OtherDetorsGuarantors_num\n",
    "- Purpose_num\n",
    "- Savings_num"
   ]
  },
  {
   "cell_type": "markdown",
   "metadata": {},
   "source": [
    "#### Diagnostics"
   ]
  },
  {
   "cell_type": "code",
   "execution_count": 91,
   "metadata": {},
   "outputs": [
    {
     "data": {
      "image/png": "[encoded data removed]",
      "text/plain": [
       "<Figure size 1080x432 with 2 Axes>"
      ]
     },
     "metadata": {
      "needs_background": "light"
     },
     "output_type": "display_data"
    }
   ],
   "source": [
    "# plot the histograms to have a quick look at the distributions\n",
    "# we can plot Q-Q plots to visualise if the variable is normally distributed\n",
    "\n",
    "def diagnostic_plots(df, variable):\n",
    "    # function to plot a histogram and a Q-Q plot\n",
    "    # side by side, for a certain variable\n",
    "    \n",
    "    plt.figure(figsize=(15,6))\n",
    "    plt.subplot(1, 2, 1)\n",
    "    df[variable].hist()\n",
    "\n",
    "    plt.subplot(1, 2, 2)\n",
    "    stats.probplot(df[variable], dist=\"norm\", plot=pylab)\n",
    "\n",
    "    plt.show()\n",
    "    \n",
    "diagnostic_plots(df, 'ForeignWorker_num')\n"
   ]
  },
  {
   "cell_type": "code",
   "execution_count": 92,
   "metadata": {},
   "outputs": [
    {
     "data": {
      "image/png": "[encoded data removed]",
      "text/plain": [
       "<Figure size 1080x432 with 2 Axes>"
      ]
     },
     "metadata": {
      "needs_background": "light"
     },
     "output_type": "display_data"
    }
   ],
   "source": [
    "diagnostic_plots(df, 'NumberDependents')"
   ]
  },
  {
   "cell_type": "code",
   "execution_count": 93,
   "metadata": {},
   "outputs": [
    {
     "data": {
      "image/png": "[encoded data removed]",
      "text/plain": [
       "<Figure size 1080x432 with 2 Axes>"
      ]
     },
     "metadata": {
      "needs_background": "light"
     },
     "output_type": "display_data"
    }
   ],
   "source": [
    "diagnostic_plots(df, 'OtherInstalments_num')"
   ]
  },
  {
   "cell_type": "code",
   "execution_count": 94,
   "metadata": {
    "scrolled": true
   },
   "outputs": [
    {
     "data": {
      "image/png": "[encoded data removed]",
      "text/plain": [
       "<Figure size 1080x432 with 2 Axes>"
      ]
     },
     "metadata": {
      "needs_background": "light"
     },
     "output_type": "display_data"
    }
   ],
   "source": [
    "diagnostic_plots(df, 'OtherDetorsGuarantors_num')"
   ]
  },
  {
   "cell_type": "code",
   "execution_count": 95,
   "metadata": {
    "scrolled": true
   },
   "outputs": [
    {
     "data": {
      "image/png": "[encoded data removed]",
      "text/plain": [
       "<Figure size 1080x432 with 2 Axes>"
      ]
     },
     "metadata": {
      "needs_background": "light"
     },
     "output_type": "display_data"
    }
   ],
   "source": [
    "diagnostic_plots(df, 'Purpose_num')"
   ]
  },
  {
   "cell_type": "code",
   "execution_count": 96,
   "metadata": {},
   "outputs": [
    {
     "data": {
      "image/png": "[encoded data removed]",
      "text/plain": [
       "<Figure size 1080x432 with 2 Axes>"
      ]
     },
     "metadata": {
      "needs_background": "light"
     },
     "output_type": "display_data"
    }
   ],
   "source": [
    "diagnostic_plots(df, 'Savings_num')"
   ]
  },
  {
   "cell_type": "markdown",
   "metadata": {},
   "source": [
    "I only have chances to improve **Savings_num** and **Purpose_num**, the rest I ignore them\n"
   ]
  },
  {
   "cell_type": "markdown",
   "metadata": {},
   "source": [
    "#### a) Purpose_num"
   ]
  },
  {
   "cell_type": "code",
   "execution_count": 97,
   "metadata": {},
   "outputs": [
    {
     "data": {
      "image/png": "[encoded data removed]",
      "text/plain": [
       "<Figure size 1080x432 with 2 Axes>"
      ]
     },
     "metadata": {
      "needs_background": "light"
     },
     "output_type": "display_data"
    }
   ],
   "source": [
    "# plot the histograms to have a quick look at the distributions\n",
    "# we can plot Q-Q plots to visualise if the variable is normally distributed\n",
    "\n",
    "def diagnostic_plots(df, variable):\n",
    "    # function to plot a histogram and a Q-Q plot\n",
    "    # side by side, for a certain variable\n",
    "    \n",
    "    plt.figure(figsize=(15,6))\n",
    "    plt.subplot(1, 2, 1)\n",
    "    df[variable].hist()\n",
    "\n",
    "    plt.subplot(1, 2, 2)\n",
    "    stats.probplot(df[variable], dist=\"norm\", plot=pylab)\n",
    "\n",
    "    plt.show()\n",
    "    \n",
    "diagnostic_plots(df, 'ExistingCreditsAtBank')"
   ]
  },
  {
   "cell_type": "code",
   "execution_count": 98,
   "metadata": {},
   "outputs": [
    {
     "data": {
      "image/png": "[encoded data removed]",
      "text/plain": [
       "<Figure size 1080x432 with 2 Axes>"
      ]
     },
     "metadata": {
      "needs_background": "light"
     },
     "output_type": "display_data"
    }
   ],
   "source": [
    "df['Purpose_num_sqrt'] =df.Purpose_num**(1/2)\n",
    "\n",
    "diagnostic_plots(df, 'Purpose_num_sqrt')"
   ]
  },
  {
   "cell_type": "code",
   "execution_count": 99,
   "metadata": {},
   "outputs": [
    {
     "data": {
      "image/png": "[encoded data removed]",
      "text/plain": [
       "<Figure size 1080x432 with 2 Axes>"
      ]
     },
     "metadata": {
      "needs_background": "light"
     },
     "output_type": "display_data"
    }
   ],
   "source": [
    "df['Purpose_num_exp'] = df.Purpose_num**(1/1.2) # you can vary the exponent as needed\n",
    "\n",
    "diagnostic_plots(df, 'Purpose_num_exp')"
   ]
  },
  {
   "cell_type": "markdown",
   "metadata": {},
   "source": [
    "Non provides an improvement, so I stick to the original variable"
   ]
  },
  {
   "cell_type": "code",
   "execution_count": 100,
   "metadata": {},
   "outputs": [],
   "source": [
    "#Drop other created variables\n",
    "df= df.drop(['Purpose_num_sqrt',\n",
    "       'Purpose_num_exp'], axis=1)"
   ]
  },
  {
   "cell_type": "markdown",
   "metadata": {},
   "source": [
    "#### b) Savings_num"
   ]
  },
  {
   "cell_type": "code",
   "execution_count": 101,
   "metadata": {},
   "outputs": [
    {
     "data": {
      "image/png": "[encoded data removed]",
      "text/plain": [
       "<Figure size 1080x432 with 2 Axes>"
      ]
     },
     "metadata": {
      "needs_background": "light"
     },
     "output_type": "display_data"
    }
   ],
   "source": [
    "# plot the histograms to have a quick look at the distributions\n",
    "# we can plot Q-Q plots to visualise if the variable is normally distributed\n",
    "\n",
    "def diagnostic_plots(df, variable):\n",
    "    # function to plot a histogram and a Q-Q plot\n",
    "    # side by side, for a certain variable\n",
    "    \n",
    "    plt.figure(figsize=(15,6))\n",
    "    plt.subplot(1, 2, 1)\n",
    "    df[variable].hist()\n",
    "\n",
    "    plt.subplot(1, 2, 2)\n",
    "    stats.probplot(df[variable], dist=\"norm\", plot=pylab)\n",
    "\n",
    "    plt.show()\n",
    "    \n",
    "diagnostic_plots(df, 'Savings_num')"
   ]
  },
  {
   "cell_type": "code",
   "execution_count": 102,
   "metadata": {},
   "outputs": [
    {
     "data": {
      "image/png": "[encoded data removed]",
      "text/plain": [
       "<Figure size 1080x432 with 2 Axes>"
      ]
     },
     "metadata": {
      "needs_background": "light"
     },
     "output_type": "display_data"
    }
   ],
   "source": [
    "df['Savings_num_sqr'] =df.Savings_num**(1/2)\n",
    "\n",
    "diagnostic_plots(df, 'Savings_num_sqr')"
   ]
  },
  {
   "cell_type": "code",
   "execution_count": 103,
   "metadata": {},
   "outputs": [
    {
     "data": {
      "image/png": "[encoded data removed]",
      "text/plain": [
       "<Figure size 1080x432 with 2 Axes>"
      ]
     },
     "metadata": {
      "needs_background": "light"
     },
     "output_type": "display_data"
    }
   ],
   "source": [
    "df['Savings_num_sqr_sqr_exp'] = df.Savings_num_sqr**(1/1.2) # you can vary the exponent as needed\n",
    "\n",
    "diagnostic_plots(df, 'Savings_num_sqr_sqr_exp')"
   ]
  },
  {
   "cell_type": "markdown",
   "metadata": {},
   "source": [
    "None of them improves the original, so I delete newly created variables"
   ]
  },
  {
   "cell_type": "code",
   "execution_count": 104,
   "metadata": {},
   "outputs": [],
   "source": [
    "#Drop other created variables\n",
    "df= df.drop([\n",
    "       'Savings_num_sqr','Savings_num_sqr_sqr_exp'], axis=1)"
   ]
  },
  {
   "cell_type": "markdown",
   "metadata": {},
   "source": [
    "### 9. Scaling"
   ]
  },
  {
   "cell_type": "markdown",
   "metadata": {},
   "source": [
    "I will scale data based on the shape of the variables.\n",
    "\n",
    "- Most skewed one: Robust Scaling\n",
    "- Skewed: MinMax\n",
    "- Other: Standarization"
   ]
  },
  {
   "cell_type": "code",
   "execution_count": 105,
   "metadata": {
    "scrolled": true
   },
   "outputs": [
    {
     "data": {
      "text/html": [
       "<div>\n",
       "<style scoped>\n",
       "    .dataframe tbody tr th:only-of-type {\n",
       "        vertical-align: middle;\n",
       "    }\n",
       "\n",
       "    .dataframe tbody tr th {\n",
       "        vertical-align: top;\n",
       "    }\n",
       "\n",
       "    .dataframe thead th {\n",
       "        text-align: right;\n",
       "    }\n",
       "</style>\n",
       "<table border=\"1\" class=\"dataframe\">\n",
       "  <thead>\n",
       "    <tr style=\"text-align: right;\">\n",
       "      <th></th>\n",
       "      <th>Age</th>\n",
       "      <th>CreditAmount</th>\n",
       "      <th>CreditStatus</th>\n",
       "      <th>Duration</th>\n",
       "      <th>ExistingCreditsAtBank</th>\n",
       "      <th>InstallmentRatePecnt</th>\n",
       "      <th>NumberDependents</th>\n",
       "      <th>PresentResidenceTime</th>\n",
       "      <th>CheckingAcctStat_num</th>\n",
       "      <th>CheckingAcctStat_cat</th>\n",
       "      <th>CreditHistory_num</th>\n",
       "      <th>CreditHistory_cat</th>\n",
       "      <th>Employment_num</th>\n",
       "      <th>Employment_cat</th>\n",
       "      <th>ForeignWorker_num</th>\n",
       "      <th>ForeignWorker_cat</th>\n",
       "      <th>Housing_num</th>\n",
       "      <th>Housing_cat</th>\n",
       "      <th>Job_num</th>\n",
       "      <th>Job_cat</th>\n",
       "      <th>OtherDetorsGuarantors_num</th>\n",
       "      <th>OtherDetorsGuarantors_cat</th>\n",
       "      <th>OtherInstalments_num</th>\n",
       "      <th>OtherInstalments_cat</th>\n",
       "      <th>Property_num</th>\n",
       "      <th>Property_cat</th>\n",
       "      <th>Purpose_num</th>\n",
       "      <th>Purpose_cat</th>\n",
       "      <th>Savings_num</th>\n",
       "      <th>Savings_cat</th>\n",
       "      <th>SexAndStatus_num</th>\n",
       "      <th>SexAndStatus_cat</th>\n",
       "      <th>Telephone_num</th>\n",
       "      <th>Telephone_cat</th>\n",
       "    </tr>\n",
       "  </thead>\n",
       "  <tbody>\n",
       "    <tr>\n",
       "      <th>62</th>\n",
       "      <td>0.178571</td>\n",
       "      <td>0.048036</td>\n",
       "      <td>1</td>\n",
       "      <td>0.105882</td>\n",
       "      <td>0.000000</td>\n",
       "      <td>1.0</td>\n",
       "      <td>0.0</td>\n",
       "      <td>1.000000</td>\n",
       "      <td>14.0</td>\n",
       "      <td>A</td>\n",
       "      <td>32.0</td>\n",
       "      <td>A</td>\n",
       "      <td>73.0</td>\n",
       "      <td>A</td>\n",
       "      <td>201.0</td>\n",
       "      <td>A</td>\n",
       "      <td>151.0</td>\n",
       "      <td>A</td>\n",
       "      <td>172.0</td>\n",
       "      <td>A</td>\n",
       "      <td>101.0</td>\n",
       "      <td>A</td>\n",
       "      <td>143.0</td>\n",
       "      <td>A</td>\n",
       "      <td>123.0</td>\n",
       "      <td>A</td>\n",
       "      <td>42.0</td>\n",
       "      <td>A</td>\n",
       "      <td>63.0</td>\n",
       "      <td>A</td>\n",
       "      <td>1.19181</td>\n",
       "      <td>A</td>\n",
       "      <td>191.0</td>\n",
       "      <td>A</td>\n",
       "    </tr>\n",
       "    <tr>\n",
       "      <th>79</th>\n",
       "      <td>0.017857</td>\n",
       "      <td>0.018433</td>\n",
       "      <td>0</td>\n",
       "      <td>0.105882</td>\n",
       "      <td>0.333333</td>\n",
       "      <td>1.0</td>\n",
       "      <td>0.0</td>\n",
       "      <td>1.000000</td>\n",
       "      <td>12.0</td>\n",
       "      <td>A</td>\n",
       "      <td>33.0</td>\n",
       "      <td>A</td>\n",
       "      <td>73.0</td>\n",
       "      <td>A</td>\n",
       "      <td>201.0</td>\n",
       "      <td>A</td>\n",
       "      <td>151.0</td>\n",
       "      <td>A</td>\n",
       "      <td>173.0</td>\n",
       "      <td>A</td>\n",
       "      <td>102.0</td>\n",
       "      <td>A</td>\n",
       "      <td>143.0</td>\n",
       "      <td>A</td>\n",
       "      <td>121.0</td>\n",
       "      <td>A</td>\n",
       "      <td>43.0</td>\n",
       "      <td>A</td>\n",
       "      <td>61.0</td>\n",
       "      <td>A</td>\n",
       "      <td>1.19181</td>\n",
       "      <td>A</td>\n",
       "      <td>191.0</td>\n",
       "      <td>A</td>\n",
       "    </tr>\n",
       "    <tr>\n",
       "      <th>647</th>\n",
       "      <td>0.399834</td>\n",
       "      <td>0.082563</td>\n",
       "      <td>1</td>\n",
       "      <td>0.105882</td>\n",
       "      <td>0.000000</td>\n",
       "      <td>1.0</td>\n",
       "      <td>1.0</td>\n",
       "      <td>0.364481</td>\n",
       "      <td>11.0</td>\n",
       "      <td>A</td>\n",
       "      <td>32.0</td>\n",
       "      <td>A</td>\n",
       "      <td>75.0</td>\n",
       "      <td>A</td>\n",
       "      <td>201.0</td>\n",
       "      <td>A</td>\n",
       "      <td>152.0</td>\n",
       "      <td>A</td>\n",
       "      <td>173.0</td>\n",
       "      <td>A</td>\n",
       "      <td>101.0</td>\n",
       "      <td>A</td>\n",
       "      <td>143.0</td>\n",
       "      <td>A</td>\n",
       "      <td>123.0</td>\n",
       "      <td>A</td>\n",
       "      <td>42.0</td>\n",
       "      <td>A</td>\n",
       "      <td>61.0</td>\n",
       "      <td>A</td>\n",
       "      <td>1.19181</td>\n",
       "      <td>A</td>\n",
       "      <td>191.0</td>\n",
       "      <td>A</td>\n",
       "    </tr>\n",
       "    <tr>\n",
       "      <th>181</th>\n",
       "      <td>0.160714</td>\n",
       "      <td>0.104105</td>\n",
       "      <td>0</td>\n",
       "      <td>0.102941</td>\n",
       "      <td>0.000000</td>\n",
       "      <td>0.0</td>\n",
       "      <td>0.0</td>\n",
       "      <td>0.333333</td>\n",
       "      <td>14.0</td>\n",
       "      <td>A</td>\n",
       "      <td>32.0</td>\n",
       "      <td>A</td>\n",
       "      <td>75.0</td>\n",
       "      <td>A</td>\n",
       "      <td>201.0</td>\n",
       "      <td>A</td>\n",
       "      <td>152.0</td>\n",
       "      <td>A</td>\n",
       "      <td>173.0</td>\n",
       "      <td>A</td>\n",
       "      <td>101.0</td>\n",
       "      <td>A</td>\n",
       "      <td>143.0</td>\n",
       "      <td>A</td>\n",
       "      <td>121.0</td>\n",
       "      <td>A</td>\n",
       "      <td>49.0</td>\n",
       "      <td>A</td>\n",
       "      <td>64.0</td>\n",
       "      <td>A</td>\n",
       "      <td>1.19181</td>\n",
       "      <td>A</td>\n",
       "      <td>192.0</td>\n",
       "      <td>A</td>\n",
       "    </tr>\n",
       "    <tr>\n",
       "      <th>304</th>\n",
       "      <td>0.196429</td>\n",
       "      <td>0.411082</td>\n",
       "      <td>0</td>\n",
       "      <td>0.105882</td>\n",
       "      <td>0.000000</td>\n",
       "      <td>0.0</td>\n",
       "      <td>0.0</td>\n",
       "      <td>0.333333</td>\n",
       "      <td>11.0</td>\n",
       "      <td>A</td>\n",
       "      <td>32.0</td>\n",
       "      <td>A</td>\n",
       "      <td>72.0</td>\n",
       "      <td>A</td>\n",
       "      <td>202.0</td>\n",
       "      <td>A</td>\n",
       "      <td>152.0</td>\n",
       "      <td>A</td>\n",
       "      <td>173.0</td>\n",
       "      <td>A</td>\n",
       "      <td>101.0</td>\n",
       "      <td>A</td>\n",
       "      <td>143.0</td>\n",
       "      <td>A</td>\n",
       "      <td>122.0</td>\n",
       "      <td>A</td>\n",
       "      <td>42.0</td>\n",
       "      <td>A</td>\n",
       "      <td>65.0</td>\n",
       "      <td>A</td>\n",
       "      <td>1.19181</td>\n",
       "      <td>A</td>\n",
       "      <td>192.0</td>\n",
       "      <td>A</td>\n",
       "    </tr>\n",
       "  </tbody>\n",
       "</table>\n",
       "</div>"
      ],
      "text/plain": [
       "          Age  CreditAmount  CreditStatus  Duration  ExistingCreditsAtBank  \\\n",
       "62   0.178571      0.048036             1  0.105882               0.000000   \n",
       "79   0.017857      0.018433             0  0.105882               0.333333   \n",
       "647  0.399834      0.082563             1  0.105882               0.000000   \n",
       "181  0.160714      0.104105             0  0.102941               0.000000   \n",
       "304  0.196429      0.411082             0  0.105882               0.000000   \n",
       "\n",
       "     InstallmentRatePecnt  NumberDependents  PresentResidenceTime  \\\n",
       "62                    1.0               0.0              1.000000   \n",
       "79                    1.0               0.0              1.000000   \n",
       "647                   1.0               1.0              0.364481   \n",
       "181                   0.0               0.0              0.333333   \n",
       "304                   0.0               0.0              0.333333   \n",
       "\n",
       "     CheckingAcctStat_num CheckingAcctStat_cat  CreditHistory_num  \\\n",
       "62                   14.0                    A               32.0   \n",
       "79                   12.0                    A               33.0   \n",
       "647                  11.0                    A               32.0   \n",
       "181                  14.0                    A               32.0   \n",
       "304                  11.0                    A               32.0   \n",
       "\n",
       "    CreditHistory_cat  Employment_num Employment_cat  ForeignWorker_num  \\\n",
       "62                  A            73.0              A              201.0   \n",
       "79                  A            73.0              A              201.0   \n",
       "647                 A            75.0              A              201.0   \n",
       "181                 A            75.0              A              201.0   \n",
       "304                 A            72.0              A              202.0   \n",
       "\n",
       "    ForeignWorker_cat  Housing_num Housing_cat  Job_num Job_cat  \\\n",
       "62                  A        151.0           A    172.0       A   \n",
       "79                  A        151.0           A    173.0       A   \n",
       "647                 A        152.0           A    173.0       A   \n",
       "181                 A        152.0           A    173.0       A   \n",
       "304                 A        152.0           A    173.0       A   \n",
       "\n",
       "     OtherDetorsGuarantors_num OtherDetorsGuarantors_cat  \\\n",
       "62                       101.0                         A   \n",
       "79                       102.0                         A   \n",
       "647                      101.0                         A   \n",
       "181                      101.0                         A   \n",
       "304                      101.0                         A   \n",
       "\n",
       "     OtherInstalments_num OtherInstalments_cat  Property_num Property_cat  \\\n",
       "62                  143.0                    A         123.0            A   \n",
       "79                  143.0                    A         121.0            A   \n",
       "647                 143.0                    A         123.0            A   \n",
       "181                 143.0                    A         121.0            A   \n",
       "304                 143.0                    A         122.0            A   \n",
       "\n",
       "     Purpose_num Purpose_cat  Savings_num Savings_cat  SexAndStatus_num  \\\n",
       "62          42.0           A         63.0           A           1.19181   \n",
       "79          43.0           A         61.0           A           1.19181   \n",
       "647         42.0           A         61.0           A           1.19181   \n",
       "181         49.0           A         64.0           A           1.19181   \n",
       "304         42.0           A         65.0           A           1.19181   \n",
       "\n",
       "    SexAndStatus_cat  Telephone_num Telephone_cat  \n",
       "62                 A          191.0             A  \n",
       "79                 A          191.0             A  \n",
       "647                A          191.0             A  \n",
       "181                A          192.0             A  \n",
       "304                A          192.0             A  "
      ]
     },
     "execution_count": 105,
     "metadata": {},
     "output_type": "execute_result"
    }
   ],
   "source": [
    "X_train.head()"
   ]
  },
  {
   "cell_type": "code",
   "execution_count": 106,
   "metadata": {},
   "outputs": [],
   "source": [
    "# I Will start with Robust Scaling\n",
    "scalerR = RobustScaler() # call the object\n",
    "X_train_scaledR = scalerR.fit_transform(X_train[['ForeignWorker_num','OtherInstalments_num','OtherDetorsGuarantors_num','NumberDependents']]) # fit the scaler to the train set, and then scale it\n",
    "X_test_scaledR= scalerR.transform(X_test[['ForeignWorker_num','OtherInstalments_num','OtherDetorsGuarantors_num','NumberDependents']]) # scale the test set"
   ]
  },
  {
   "cell_type": "code",
   "execution_count": 107,
   "metadata": {},
   "outputs": [],
   "source": [
    "#Continue with MinMax Scaling\n",
    "scalerMM = MinMaxScaler() # create an instance\n",
    "\n",
    "X_train_scaledMM= scalerMM.fit_transform(X_train[['Purpose_num','Savings_num']]) #  fit  the scaler to the train set and then transform it\n",
    "X_test_scaledMM= scalerMM.transform(X_test[['Purpose_num','Savings_num']]) # transform (scale) the test set\n",
    "\n",
    "\n",
    "\n"
   ]
  },
  {
   "cell_type": "code",
   "execution_count": 108,
   "metadata": {},
   "outputs": [],
   "source": [
    "# Normal Standarization\n",
    "scalerN = StandardScaler() # create an object\n",
    "X_train_scaledN = scalerN.fit_transform(X_train[[\n",
    " 'ExistingCreditsAtBank',\n",
    " 'InstallmentRatePecnt',\n",
    " 'PresentResidenceTime',\n",
    " 'CheckingAcctStat_num',\n",
    " 'CreditHistory_num',\n",
    " 'Employment_num',\n",
    " 'Housing_num',\n",
    " 'Job_num',\n",
    " 'Property_num',\n",
    " 'SexAndStatus_num',\n",
    " 'Telephone_num',\n",
    " 'Duration',\n",
    " 'CreditAmount',\n",
    " 'Age' ]]) # fit the scaler to the train set, and then transform it\n",
    "X_test_scaledN = scalerN.transform(X_test[[\n",
    " 'ExistingCreditsAtBank',\n",
    " 'InstallmentRatePecnt',\n",
    " 'PresentResidenceTime',\n",
    " 'CheckingAcctStat_num',\n",
    " 'CreditHistory_num',\n",
    " 'Employment_num',\n",
    " 'Housing_num',\n",
    " 'Job_num',\n",
    " 'Property_num',\n",
    " 'SexAndStatus_num',\n",
    " 'Telephone_num',\n",
    " 'Duration',\n",
    " 'CreditAmount',\n",
    " 'Age']]) # transform the test set"
   ]
  },
  {
   "cell_type": "markdown",
   "metadata": {},
   "source": [
    "### 10. Put selected variables in one dataset (final)"
   ]
  },
  {
   "cell_type": "code",
   "execution_count": 109,
   "metadata": {},
   "outputs": [],
   "source": [
    "X_train_scaledR = pd.DataFrame(X_train_scaledR, columns = ['ForeignWorker_num','OtherInstalments_num','OtherDetorsGuarantors_num','NumberDependents'])\n",
    "X_train_scaledMM = pd.DataFrame(X_train_scaledMM, columns = ['Purpose_num','Savings_num'])\n",
    "X_train_scaledN = pd.DataFrame(X_train_scaledN, columns = [ 'ExistingCreditsAtBank',\n",
    " 'InstallmentRatePecnt',\n",
    " 'PresentResidenceTime',\n",
    " 'CheckingAcctStat_num',\n",
    " 'CreditHistory_num',\n",
    " 'Employment_num',\n",
    " 'Housing_num',\n",
    " 'Job_num',\n",
    " 'Property_num',\n",
    " 'SexAndStatus_num',\n",
    " 'Telephone_num',\n",
    " 'Duration',\n",
    " 'CreditAmount',\n",
    " 'Age'])\n",
    "\n",
    "######\n",
    "X_test_scaledR = pd.DataFrame(X_test_scaledR, columns = ['ForeignWorker_num','OtherInstalments_num','OtherDetorsGuarantors_num','NumberDependents'])\n",
    "X_test_scaledMM = pd.DataFrame(X_test_scaledMM, columns = ['Purpose_num','Savings_num'])\n",
    "X_test_scaledN = pd.DataFrame(X_test_scaledN, columns = [ 'ExistingCreditsAtBank',\n",
    " 'InstallmentRatePecnt',\n",
    " 'PresentResidenceTime',\n",
    " 'CheckingAcctStat_num',\n",
    " 'CreditHistory_num',\n",
    " 'Employment_num',\n",
    " 'Housing_num',\n",
    " 'Job_num',\n",
    " 'Property_num',\n",
    " 'SexAndStatus_num',\n",
    " 'Telephone_num',\n",
    " 'Duration',\n",
    " 'CreditAmount',\n",
    " 'Age'])\n",
    "\n",
    "\n"
   ]
  },
  {
   "cell_type": "code",
   "execution_count": 110,
   "metadata": {},
   "outputs": [],
   "source": [
    "X_train = pd.concat([X_train_scaledR, X_train_scaledMM, X_train_scaledN], axis=1)\n",
    "X_test = pd.concat([X_test_scaledR, X_test_scaledMM, X_test_scaledN], axis=1)\n",
    "\n"
   ]
  },
  {
   "cell_type": "code",
   "execution_count": 111,
   "metadata": {},
   "outputs": [
    {
     "data": {
      "text/html": [
       "<div>\n",
       "<style scoped>\n",
       "    .dataframe tbody tr th:only-of-type {\n",
       "        vertical-align: middle;\n",
       "    }\n",
       "\n",
       "    .dataframe tbody tr th {\n",
       "        vertical-align: top;\n",
       "    }\n",
       "\n",
       "    .dataframe thead th {\n",
       "        text-align: right;\n",
       "    }\n",
       "</style>\n",
       "<table border=\"1\" class=\"dataframe\">\n",
       "  <thead>\n",
       "    <tr style=\"text-align: right;\">\n",
       "      <th></th>\n",
       "      <th>ForeignWorker_num</th>\n",
       "      <th>OtherInstalments_num</th>\n",
       "      <th>OtherDetorsGuarantors_num</th>\n",
       "      <th>NumberDependents</th>\n",
       "      <th>Purpose_num</th>\n",
       "      <th>Savings_num</th>\n",
       "      <th>ExistingCreditsAtBank</th>\n",
       "      <th>InstallmentRatePecnt</th>\n",
       "      <th>PresentResidenceTime</th>\n",
       "      <th>CheckingAcctStat_num</th>\n",
       "      <th>CreditHistory_num</th>\n",
       "      <th>Employment_num</th>\n",
       "      <th>Housing_num</th>\n",
       "      <th>Job_num</th>\n",
       "      <th>Property_num</th>\n",
       "      <th>SexAndStatus_num</th>\n",
       "      <th>Telephone_num</th>\n",
       "      <th>Duration</th>\n",
       "      <th>CreditAmount</th>\n",
       "      <th>Age</th>\n",
       "    </tr>\n",
       "  </thead>\n",
       "  <tbody>\n",
       "    <tr>\n",
       "      <th>0</th>\n",
       "      <td>0.0</td>\n",
       "      <td>0.0</td>\n",
       "      <td>0.0</td>\n",
       "      <td>0.0</td>\n",
       "      <td>0.166667</td>\n",
       "      <td>0.50</td>\n",
       "      <td>-0.700199</td>\n",
       "      <td>0.895228</td>\n",
       "      <td>1.083009</td>\n",
       "      <td>1.328505</td>\n",
       "      <td>-0.374168</td>\n",
       "      <td>-0.259305</td>\n",
       "      <td>-1.751225</td>\n",
       "      <td>-1.416062</td>\n",
       "      <td>0.540564</td>\n",
       "      <td>-1.0</td>\n",
       "      <td>-0.812027</td>\n",
       "      <td>0.340686</td>\n",
       "      <td>-0.868190</td>\n",
       "      <td>-0.546315</td>\n",
       "    </tr>\n",
       "    <tr>\n",
       "      <th>1</th>\n",
       "      <td>0.0</td>\n",
       "      <td>0.0</td>\n",
       "      <td>1.0</td>\n",
       "      <td>0.0</td>\n",
       "      <td>0.250000</td>\n",
       "      <td>0.00</td>\n",
       "      <td>1.222275</td>\n",
       "      <td>0.895228</td>\n",
       "      <td>1.083009</td>\n",
       "      <td>-0.265282</td>\n",
       "      <td>0.546116</td>\n",
       "      <td>-0.259305</td>\n",
       "      <td>-1.751225</td>\n",
       "      <td>0.152753</td>\n",
       "      <td>-1.392748</td>\n",
       "      <td>-1.0</td>\n",
       "      <td>-0.812027</td>\n",
       "      <td>0.340686</td>\n",
       "      <td>-1.077004</td>\n",
       "      <td>-1.365608</td>\n",
       "    </tr>\n",
       "    <tr>\n",
       "      <th>2</th>\n",
       "      <td>0.0</td>\n",
       "      <td>0.0</td>\n",
       "      <td>0.0</td>\n",
       "      <td>1.0</td>\n",
       "      <td>0.166667</td>\n",
       "      <td>0.00</td>\n",
       "      <td>-0.700199</td>\n",
       "      <td>0.895228</td>\n",
       "      <td>-0.684048</td>\n",
       "      <td>-1.062175</td>\n",
       "      <td>-0.374168</td>\n",
       "      <td>1.376145</td>\n",
       "      <td>0.105025</td>\n",
       "      <td>0.152753</td>\n",
       "      <td>0.540564</td>\n",
       "      <td>-1.0</td>\n",
       "      <td>-0.812027</td>\n",
       "      <td>0.340686</td>\n",
       "      <td>-0.624642</td>\n",
       "      <td>0.581641</td>\n",
       "    </tr>\n",
       "    <tr>\n",
       "      <th>3</th>\n",
       "      <td>0.0</td>\n",
       "      <td>0.0</td>\n",
       "      <td>0.0</td>\n",
       "      <td>0.0</td>\n",
       "      <td>0.750000</td>\n",
       "      <td>0.75</td>\n",
       "      <td>-0.700199</td>\n",
       "      <td>-1.880746</td>\n",
       "      <td>-0.770654</td>\n",
       "      <td>1.328505</td>\n",
       "      <td>-0.374168</td>\n",
       "      <td>1.376145</td>\n",
       "      <td>0.105025</td>\n",
       "      <td>0.152753</td>\n",
       "      <td>-1.392748</td>\n",
       "      <td>-1.0</td>\n",
       "      <td>1.231485</td>\n",
       "      <td>0.190308</td>\n",
       "      <td>-0.472686</td>\n",
       "      <td>-0.637348</td>\n",
       "    </tr>\n",
       "    <tr>\n",
       "      <th>4</th>\n",
       "      <td>1.0</td>\n",
       "      <td>0.0</td>\n",
       "      <td>0.0</td>\n",
       "      <td>0.0</td>\n",
       "      <td>0.166667</td>\n",
       "      <td>1.00</td>\n",
       "      <td>-0.700199</td>\n",
       "      <td>-1.880746</td>\n",
       "      <td>-0.770654</td>\n",
       "      <td>-1.062175</td>\n",
       "      <td>-0.374168</td>\n",
       "      <td>-1.077030</td>\n",
       "      <td>0.105025</td>\n",
       "      <td>0.152753</td>\n",
       "      <td>-0.426092</td>\n",
       "      <td>-1.0</td>\n",
       "      <td>1.231485</td>\n",
       "      <td>0.340686</td>\n",
       "      <td>1.692687</td>\n",
       "      <td>-0.455283</td>\n",
       "    </tr>\n",
       "  </tbody>\n",
       "</table>\n",
       "</div>"
      ],
      "text/plain": [
       "   ForeignWorker_num  OtherInstalments_num  OtherDetorsGuarantors_num  \\\n",
       "0                0.0                   0.0                        0.0   \n",
       "1                0.0                   0.0                        1.0   \n",
       "2                0.0                   0.0                        0.0   \n",
       "3                0.0                   0.0                        0.0   \n",
       "4                1.0                   0.0                        0.0   \n",
       "\n",
       "   NumberDependents  Purpose_num  Savings_num  ExistingCreditsAtBank  \\\n",
       "0               0.0     0.166667         0.50              -0.700199   \n",
       "1               0.0     0.250000         0.00               1.222275   \n",
       "2               1.0     0.166667         0.00              -0.700199   \n",
       "3               0.0     0.750000         0.75              -0.700199   \n",
       "4               0.0     0.166667         1.00              -0.700199   \n",
       "\n",
       "   InstallmentRatePecnt  PresentResidenceTime  CheckingAcctStat_num  \\\n",
       "0              0.895228              1.083009              1.328505   \n",
       "1              0.895228              1.083009             -0.265282   \n",
       "2              0.895228             -0.684048             -1.062175   \n",
       "3             -1.880746             -0.770654              1.328505   \n",
       "4             -1.880746             -0.770654             -1.062175   \n",
       "\n",
       "   CreditHistory_num  Employment_num  Housing_num   Job_num  Property_num  \\\n",
       "0          -0.374168       -0.259305    -1.751225 -1.416062      0.540564   \n",
       "1           0.546116       -0.259305    -1.751225  0.152753     -1.392748   \n",
       "2          -0.374168        1.376145     0.105025  0.152753      0.540564   \n",
       "3          -0.374168        1.376145     0.105025  0.152753     -1.392748   \n",
       "4          -0.374168       -1.077030     0.105025  0.152753     -0.426092   \n",
       "\n",
       "   SexAndStatus_num  Telephone_num  Duration  CreditAmount       Age  \n",
       "0              -1.0      -0.812027  0.340686     -0.868190 -0.546315  \n",
       "1              -1.0      -0.812027  0.340686     -1.077004 -1.365608  \n",
       "2              -1.0      -0.812027  0.340686     -0.624642  0.581641  \n",
       "3              -1.0       1.231485  0.190308     -0.472686 -0.637348  \n",
       "4              -1.0       1.231485  0.340686      1.692687 -0.455283  "
      ]
     },
     "execution_count": 111,
     "metadata": {},
     "output_type": "execute_result"
    }
   ],
   "source": [
    "X_train.head()"
   ]
  },
  {
   "cell_type": "code",
   "execution_count": 112,
   "metadata": {},
   "outputs": [],
   "source": [
    "X_train = pd.DataFrame(X_train)\n",
    "X_train.to_csv('X_train.csv', index=False)"
   ]
  },
  {
   "cell_type": "code",
   "execution_count": 113,
   "metadata": {},
   "outputs": [
    {
     "data": {
      "text/html": [
       "<div>\n",
       "<style scoped>\n",
       "    .dataframe tbody tr th:only-of-type {\n",
       "        vertical-align: middle;\n",
       "    }\n",
       "\n",
       "    .dataframe tbody tr th {\n",
       "        vertical-align: top;\n",
       "    }\n",
       "\n",
       "    .dataframe thead th {\n",
       "        text-align: right;\n",
       "    }\n",
       "</style>\n",
       "<table border=\"1\" class=\"dataframe\">\n",
       "  <thead>\n",
       "    <tr style=\"text-align: right;\">\n",
       "      <th></th>\n",
       "      <th>ForeignWorker_num</th>\n",
       "      <th>OtherInstalments_num</th>\n",
       "      <th>OtherDetorsGuarantors_num</th>\n",
       "      <th>NumberDependents</th>\n",
       "      <th>Purpose_num</th>\n",
       "      <th>Savings_num</th>\n",
       "      <th>ExistingCreditsAtBank</th>\n",
       "      <th>InstallmentRatePecnt</th>\n",
       "      <th>PresentResidenceTime</th>\n",
       "      <th>CheckingAcctStat_num</th>\n",
       "      <th>CreditHistory_num</th>\n",
       "      <th>Employment_num</th>\n",
       "      <th>Housing_num</th>\n",
       "      <th>Job_num</th>\n",
       "      <th>Property_num</th>\n",
       "      <th>SexAndStatus_num</th>\n",
       "      <th>Telephone_num</th>\n",
       "      <th>Duration</th>\n",
       "      <th>CreditAmount</th>\n",
       "      <th>Age</th>\n",
       "    </tr>\n",
       "  </thead>\n",
       "  <tbody>\n",
       "    <tr>\n",
       "      <th>0</th>\n",
       "      <td>0.0</td>\n",
       "      <td>0.0</td>\n",
       "      <td>0.0</td>\n",
       "      <td>1.0</td>\n",
       "      <td>0.000000</td>\n",
       "      <td>0.00</td>\n",
       "      <td>-0.207647</td>\n",
       "      <td>0.895228</td>\n",
       "      <td>0.654293</td>\n",
       "      <td>-1.062175</td>\n",
       "      <td>-2.214735</td>\n",
       "      <td>1.376145</td>\n",
       "      <td>0.105025</td>\n",
       "      <td>0.152753</td>\n",
       "      <td>-0.426092</td>\n",
       "      <td>-1.0</td>\n",
       "      <td>-0.812027</td>\n",
       "      <td>0.340686</td>\n",
       "      <td>-0.180246</td>\n",
       "      <td>0.505064</td>\n",
       "    </tr>\n",
       "    <tr>\n",
       "      <th>1</th>\n",
       "      <td>0.0</td>\n",
       "      <td>-2.0</td>\n",
       "      <td>0.0</td>\n",
       "      <td>0.0</td>\n",
       "      <td>0.250000</td>\n",
       "      <td>0.25</td>\n",
       "      <td>1.222275</td>\n",
       "      <td>0.895228</td>\n",
       "      <td>1.083009</td>\n",
       "      <td>1.328505</td>\n",
       "      <td>1.466399</td>\n",
       "      <td>1.376145</td>\n",
       "      <td>0.105025</td>\n",
       "      <td>0.152753</td>\n",
       "      <td>-0.426092</td>\n",
       "      <td>-1.0</td>\n",
       "      <td>-0.812027</td>\n",
       "      <td>0.340686</td>\n",
       "      <td>-0.441248</td>\n",
       "      <td>1.547433</td>\n",
       "    </tr>\n",
       "    <tr>\n",
       "      <th>2</th>\n",
       "      <td>0.0</td>\n",
       "      <td>0.0</td>\n",
       "      <td>0.0</td>\n",
       "      <td>0.0</td>\n",
       "      <td>0.166667</td>\n",
       "      <td>0.00</td>\n",
       "      <td>-0.700199</td>\n",
       "      <td>0.895228</td>\n",
       "      <td>-0.770654</td>\n",
       "      <td>-0.265282</td>\n",
       "      <td>-0.374168</td>\n",
       "      <td>-0.259305</td>\n",
       "      <td>0.105025</td>\n",
       "      <td>-1.416062</td>\n",
       "      <td>0.540564</td>\n",
       "      <td>-1.0</td>\n",
       "      <td>-0.812027</td>\n",
       "      <td>-0.561580</td>\n",
       "      <td>-0.713715</td>\n",
       "      <td>-0.364250</td>\n",
       "    </tr>\n",
       "    <tr>\n",
       "      <th>3</th>\n",
       "      <td>0.0</td>\n",
       "      <td>0.0</td>\n",
       "      <td>0.0</td>\n",
       "      <td>0.0</td>\n",
       "      <td>0.250000</td>\n",
       "      <td>0.50</td>\n",
       "      <td>-0.700199</td>\n",
       "      <td>-0.030097</td>\n",
       "      <td>-0.770654</td>\n",
       "      <td>1.328505</td>\n",
       "      <td>-0.374168</td>\n",
       "      <td>1.376145</td>\n",
       "      <td>0.105025</td>\n",
       "      <td>1.721569</td>\n",
       "      <td>0.540564</td>\n",
       "      <td>-1.0</td>\n",
       "      <td>1.231485</td>\n",
       "      <td>0.340686</td>\n",
       "      <td>-0.048461</td>\n",
       "      <td>-0.819413</td>\n",
       "    </tr>\n",
       "    <tr>\n",
       "      <th>4</th>\n",
       "      <td>0.0</td>\n",
       "      <td>0.0</td>\n",
       "      <td>1.0</td>\n",
       "      <td>0.0</td>\n",
       "      <td>0.250000</td>\n",
       "      <td>0.25</td>\n",
       "      <td>-0.700199</td>\n",
       "      <td>0.895228</td>\n",
       "      <td>1.083009</td>\n",
       "      <td>-0.265282</td>\n",
       "      <td>-0.374168</td>\n",
       "      <td>-0.259305</td>\n",
       "      <td>-1.751225</td>\n",
       "      <td>0.152753</td>\n",
       "      <td>-0.426092</td>\n",
       "      <td>-1.0</td>\n",
       "      <td>-0.812027</td>\n",
       "      <td>0.340686</td>\n",
       "      <td>-0.127639</td>\n",
       "      <td>-1.274575</td>\n",
       "    </tr>\n",
       "  </tbody>\n",
       "</table>\n",
       "</div>"
      ],
      "text/plain": [
       "   ForeignWorker_num  OtherInstalments_num  OtherDetorsGuarantors_num  \\\n",
       "0                0.0                   0.0                        0.0   \n",
       "1                0.0                  -2.0                        0.0   \n",
       "2                0.0                   0.0                        0.0   \n",
       "3                0.0                   0.0                        0.0   \n",
       "4                0.0                   0.0                        1.0   \n",
       "\n",
       "   NumberDependents  Purpose_num  Savings_num  ExistingCreditsAtBank  \\\n",
       "0               1.0     0.000000         0.00              -0.207647   \n",
       "1               0.0     0.250000         0.25               1.222275   \n",
       "2               0.0     0.166667         0.00              -0.700199   \n",
       "3               0.0     0.250000         0.50              -0.700199   \n",
       "4               0.0     0.250000         0.25              -0.700199   \n",
       "\n",
       "   InstallmentRatePecnt  PresentResidenceTime  CheckingAcctStat_num  \\\n",
       "0              0.895228              0.654293             -1.062175   \n",
       "1              0.895228              1.083009              1.328505   \n",
       "2              0.895228             -0.770654             -0.265282   \n",
       "3             -0.030097             -0.770654              1.328505   \n",
       "4              0.895228              1.083009             -0.265282   \n",
       "\n",
       "   CreditHistory_num  Employment_num  Housing_num   Job_num  Property_num  \\\n",
       "0          -2.214735        1.376145     0.105025  0.152753     -0.426092   \n",
       "1           1.466399        1.376145     0.105025  0.152753     -0.426092   \n",
       "2          -0.374168       -0.259305     0.105025 -1.416062      0.540564   \n",
       "3          -0.374168        1.376145     0.105025  1.721569      0.540564   \n",
       "4          -0.374168       -0.259305    -1.751225  0.152753     -0.426092   \n",
       "\n",
       "   SexAndStatus_num  Telephone_num  Duration  CreditAmount       Age  \n",
       "0              -1.0      -0.812027  0.340686     -0.180246  0.505064  \n",
       "1              -1.0      -0.812027  0.340686     -0.441248  1.547433  \n",
       "2              -1.0      -0.812027 -0.561580     -0.713715 -0.364250  \n",
       "3              -1.0       1.231485  0.340686     -0.048461 -0.819413  \n",
       "4              -1.0      -0.812027  0.340686     -0.127639 -1.274575  "
      ]
     },
     "execution_count": 113,
     "metadata": {},
     "output_type": "execute_result"
    }
   ],
   "source": [
    "X_test = pd.DataFrame(X_test)\n",
    "X_test.to_csv('X_test.csv', index=False)\n",
    "\n",
    "X_test.head()"
   ]
  },
  {
   "cell_type": "code",
   "execution_count": 114,
   "metadata": {},
   "outputs": [
    {
     "data": {
      "text/html": [
       "<div>\n",
       "<style scoped>\n",
       "    .dataframe tbody tr th:only-of-type {\n",
       "        vertical-align: middle;\n",
       "    }\n",
       "\n",
       "    .dataframe tbody tr th {\n",
       "        vertical-align: top;\n",
       "    }\n",
       "\n",
       "    .dataframe thead th {\n",
       "        text-align: right;\n",
       "    }\n",
       "</style>\n",
       "<table border=\"1\" class=\"dataframe\">\n",
       "  <thead>\n",
       "    <tr style=\"text-align: right;\">\n",
       "      <th></th>\n",
       "      <th>CreditStatus</th>\n",
       "    </tr>\n",
       "  </thead>\n",
       "  <tbody>\n",
       "    <tr>\n",
       "      <th>62</th>\n",
       "      <td>1</td>\n",
       "    </tr>\n",
       "    <tr>\n",
       "      <th>79</th>\n",
       "      <td>0</td>\n",
       "    </tr>\n",
       "    <tr>\n",
       "      <th>647</th>\n",
       "      <td>1</td>\n",
       "    </tr>\n",
       "    <tr>\n",
       "      <th>181</th>\n",
       "      <td>0</td>\n",
       "    </tr>\n",
       "    <tr>\n",
       "      <th>304</th>\n",
       "      <td>0</td>\n",
       "    </tr>\n",
       "  </tbody>\n",
       "</table>\n",
       "</div>"
      ],
      "text/plain": [
       "     CreditStatus\n",
       "62              1\n",
       "79              0\n",
       "647             1\n",
       "181             0\n",
       "304             0"
      ]
     },
     "execution_count": 114,
     "metadata": {},
     "output_type": "execute_result"
    }
   ],
   "source": [
    "y_train = pd.DataFrame(y_train)\n",
    "y_train.to_csv('y_train.csv', index=False)\n",
    "\n",
    "y_train.head()"
   ]
  },
  {
   "cell_type": "code",
   "execution_count": 115,
   "metadata": {},
   "outputs": [],
   "source": [
    "y_test = pd.DataFrame(y_test)\n",
    "y_test.to_csv('y_test.csv', index=False)"
   ]
  },
  {
   "cell_type": "code",
   "execution_count": 116,
   "metadata": {},
   "outputs": [
    {
     "data": {
      "text/plain": [
       "ForeignWorker_num            0.0\n",
       "OtherInstalments_num         0.0\n",
       "OtherDetorsGuarantors_num    0.0\n",
       "NumberDependents             0.0\n",
       "Purpose_num                  0.0\n",
       "Savings_num                  0.0\n",
       "ExistingCreditsAtBank        0.0\n",
       "InstallmentRatePecnt         0.0\n",
       "PresentResidenceTime         0.0\n",
       "CheckingAcctStat_num         0.0\n",
       "CreditHistory_num            0.0\n",
       "Employment_num               0.0\n",
       "Housing_num                  0.0\n",
       "Job_num                      0.0\n",
       "Property_num                 0.0\n",
       "SexAndStatus_num             0.0\n",
       "Telephone_num                0.0\n",
       "Duration                     0.0\n",
       "CreditAmount                 0.0\n",
       "Age                          0.0\n",
       "dtype: float64"
      ]
     },
     "execution_count": 116,
     "metadata": {},
     "output_type": "execute_result"
    }
   ],
   "source": [
    "X_train.isnull().mean()"
   ]
  },
  {
   "cell_type": "code",
   "execution_count": 117,
   "metadata": {},
   "outputs": [
    {
     "data": {
      "text/plain": [
       "ForeignWorker_num            0.0\n",
       "OtherInstalments_num         0.0\n",
       "OtherDetorsGuarantors_num    0.0\n",
       "NumberDependents             0.0\n",
       "Purpose_num                  0.0\n",
       "Savings_num                  0.0\n",
       "ExistingCreditsAtBank        0.0\n",
       "InstallmentRatePecnt         0.0\n",
       "PresentResidenceTime         0.0\n",
       "CheckingAcctStat_num         0.0\n",
       "CreditHistory_num            0.0\n",
       "Employment_num               0.0\n",
       "Housing_num                  0.0\n",
       "Job_num                      0.0\n",
       "Property_num                 0.0\n",
       "SexAndStatus_num             0.0\n",
       "Telephone_num                0.0\n",
       "Duration                     0.0\n",
       "CreditAmount                 0.0\n",
       "Age                          0.0\n",
       "dtype: float64"
      ]
     },
     "execution_count": 117,
     "metadata": {},
     "output_type": "execute_result"
    }
   ],
   "source": [
    "X_test.isnull().mean()"
   ]
  },
  {
   "cell_type": "code",
   "execution_count": 118,
   "metadata": {},
   "outputs": [
    {
     "data": {
      "text/plain": [
       "CreditStatus    0.0\n",
       "dtype: float64"
      ]
     },
     "execution_count": 118,
     "metadata": {},
     "output_type": "execute_result"
    }
   ],
   "source": [
    "y_train.isnull().mean()"
   ]
  },
  {
   "cell_type": "code",
   "execution_count": 119,
   "metadata": {},
   "outputs": [
    {
     "data": {
      "text/plain": [
       "CreditStatus    0.0\n",
       "dtype: float64"
      ]
     },
     "execution_count": 119,
     "metadata": {},
     "output_type": "execute_result"
    }
   ],
   "source": [
    "y_test.isnull().mean()"
   ]
  },
  {
   "cell_type": "code",
   "execution_count": null,
   "metadata": {},
   "outputs": [],
   "source": []
  }
 ],
 "metadata": {
  "kernelspec": {
   "display_name": "Python 3",
   "language": "python",
   "name": "python3"
  },
  "language_info": {
   "codemirror_mode": {
    "name": "ipython",
    "version": 3
   },
   "file_extension": ".py",
   "mimetype": "text/x-python",
   "name": "python",
   "nbconvert_exporter": "python",
   "pygments_lexer": "ipython3",
   "version": "3.6.8"
  }
 },
 "nbformat": 4,
 "nbformat_minor": 2
}
