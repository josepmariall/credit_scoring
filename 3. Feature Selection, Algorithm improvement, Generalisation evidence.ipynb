{
 "cells": [
  {
   "cell_type": "markdown",
   "metadata": {},
   "source": [
    "## III. Feature selection, algorithm improvement\n",
    "\n",
    "In this notebook, I shall run improve the best model from the preivous notebook (Random Forest Classificator) by undertaking the following steps:\n",
    "    - Feature selection (hybrid recursive feature addition)\n",
    "    - Tune hyper paramters\n",
    "\n",
    "Then I shall check and prove the improvement.\n",
    "\n",
    "Finally, I shall the Confusion Metrics and ROC Curve graph"
   ]
  },
  {
   "cell_type": "markdown",
   "metadata": {},
   "source": [
    "### 1 Importing libraries"
   ]
  },
  {
   "cell_type": "code",
   "execution_count": 1,
   "metadata": {},
   "outputs": [],
   "source": [
    "# import libraries\n",
    "import pandas as pd\n",
    "from sklearn import preprocessing\n",
    "import sklearn.model_selection as ms\n",
    "from sklearn import linear_model\n",
    "import sklearn.metrics as sklm\n",
    "import numpy as np\n",
    "import numpy.random as nr\n",
    "import matplotlib.pyplot as plt\n",
    "import seaborn as sns\n",
    "import scipy.stats as ss\n",
    "import math\n",
    "from glob import glob\n",
    "from sklearn.model_selection import train_test_split\n",
    "from sklearn.metrics import roc_auc_score, r2_score\n",
    "from sklearn.ensemble import RandomForestClassifier\n",
    "from sklearn.model_selection import cross_val_score\n",
    "\n",
    "\n",
    "\n",
    "%matplotlib inline\n",
    "%matplotlib inline"
   ]
  },
  {
   "cell_type": "markdown",
   "metadata": {},
   "source": [
    "### 2. Import datasets "
   ]
  },
  {
   "cell_type": "code",
   "execution_count": 2,
   "metadata": {},
   "outputs": [
    {
     "data": {
      "text/plain": [
       "(937, 36)"
      ]
     },
     "execution_count": 2,
     "metadata": {},
     "output_type": "execute_result"
    }
   ],
   "source": [
    "# Merge the two datasets\n",
    "df=pd.read_csv('dfprepared.csv')\n",
    "df.shape"
   ]
  },
  {
   "cell_type": "markdown",
   "metadata": {},
   "source": [
    "### 3. Model creation & data balancing \n",
    "\n",
    "#### 3.1 Model Creation"
   ]
  },
  {
   "cell_type": "code",
   "execution_count": 3,
   "metadata": {},
   "outputs": [
    {
     "data": {
      "text/plain": [
       "((655, 35), (282, 35))"
      ]
     },
     "execution_count": 3,
     "metadata": {},
     "output_type": "execute_result"
    }
   ],
   "source": [
    "# separate train and test sets\n",
    "X_train, X_test, y_train, y_test = train_test_split(\n",
    "    df.drop(labels=['CreditStatus'], axis=1),\n",
    "    df['CreditStatus'],\n",
    "    test_size=0.3,\n",
    "    random_state=0)\n",
    "\n",
    "X_train.shape, X_test.shape\n"
   ]
  },
  {
   "cell_type": "markdown",
   "metadata": {},
   "source": [
    "#### 3.2 Smote for data imbalance"
   ]
  },
  {
   "cell_type": "code",
   "execution_count": 4,
   "metadata": {},
   "outputs": [],
   "source": [
    "train_input = X_train\n",
    "train_output = y_train\n"
   ]
  },
  {
   "cell_type": "code",
   "execution_count": 5,
   "metadata": {
    "scrolled": true
   },
   "outputs": [
    {
     "name": "stdout",
     "output_type": "stream",
     "text": [
      "Original dataset shape Counter({1: 369, 0: 286})\n",
      "New dataset shape Counter({1: 369, 0: 369})\n"
     ]
    },
    {
     "name": "stderr",
     "output_type": "stream",
     "text": [
      "/anaconda3/envs/featsel/lib/python3.6/site-packages/sklearn/externals/six.py:31: DeprecationWarning: The module is deprecated in version 0.21 and will be removed in version 0.23 since we've dropped support for Python 2.7. Please rely on the official version of six (https://pypi.org/project/six/).\n",
      "  \"(https://pypi.org/project/six/).\", DeprecationWarning)\n"
     ]
    }
   ],
   "source": [
    "from imblearn.over_sampling import SMOTE\n",
    "from collections import Counter\n",
    "print('Original dataset shape {}'.format(Counter(train_output)))\n",
    "smt = SMOTE(random_state=20)\n",
    "train_input_new, train_output_new = smt.fit_sample(train_input, train_output)\n",
    "print('New dataset shape {}'.format(Counter(train_output_new)))"
   ]
  },
  {
   "cell_type": "markdown",
   "metadata": {},
   "source": [
    "Now both outcomes of the label are balanced"
   ]
  },
  {
   "cell_type": "markdown",
   "metadata": {},
   "source": [
    "### 4. Feature selection (hybrid method: recursive addition)"
   ]
  },
  {
   "cell_type": "code",
   "execution_count": 6,
   "metadata": {},
   "outputs": [
    {
     "name": "stdout",
     "output_type": "stream",
     "text": [
      "Test all features RFC ROC AUC=0.872534\n"
     ]
    },
    {
     "name": "stderr",
     "output_type": "stream",
     "text": [
      "/anaconda3/envs/featsel/lib/python3.6/site-packages/sklearn/ensemble/forest.py:245: FutureWarning: The default value of n_estimators will change from 10 in version 0.20 to 100 in 0.22.\n",
      "  \"10 in version 0.20 to 100 in 0.22.\", FutureWarning)\n"
     ]
    }
   ],
   "source": [
    "# the first step of this procedure  consists in building\n",
    "# a machine learning algorithm using all the available features\n",
    "# and then determine the importance of the features according\n",
    "# to the algorithm\n",
    "\n",
    "# set the seed for reproducibility\n",
    "seed_val = 1000000000\n",
    "np.random.seed(seed_val)\n",
    "\n",
    "# build initial model using all the features\n",
    "model_all_features = RandomForestClassifier()\n",
    "\n",
    "model_all_features.fit(X_train, y_train)\n",
    "\n",
    "# calculate the roc-auc in the test set\n",
    "y_pred_test = model_all_features.predict_proba(X_test)[:, 1]\n",
    "auc_score_all = roc_auc_score(y_test, y_pred_test)\n",
    "print('Test all features RFC ROC AUC=%f' % (auc_score_all))\n"
   ]
  },
  {
   "cell_type": "code",
   "execution_count": 7,
   "metadata": {},
   "outputs": [
    {
     "data": {
      "text/plain": [
       "<matplotlib.axes._subplots.AxesSubplot at 0x1a190a6128>"
      ]
     },
     "execution_count": 7,
     "metadata": {},
     "output_type": "execute_result"
    },
    {
     "data": {
      "image/png": "[encoded data removed]",
      "text/plain": [
       "<Figure size 1440x432 with 1 Axes>"
      ]
     },
     "metadata": {
      "needs_background": "light"
     },
     "output_type": "display_data"
    }
   ],
   "source": [
    "# the second step consist of deriving the importance of \n",
    "# each feature and ranking them from the most to the least\n",
    "# important\n",
    "\n",
    "# get feature name and importance\n",
    "features = pd.Series(model_all_features.feature_importances_)\n",
    "features.index = X_train.columns\n",
    "\n",
    "# sort the features by importance\n",
    "features.sort_values(ascending=False, inplace=True)\n",
    "\n",
    "# plot\n",
    "features.plot.bar(figsize=(20,6))"
   ]
  },
  {
   "cell_type": "code",
   "execution_count": 8,
   "metadata": {},
   "outputs": [
    {
     "data": {
      "text/plain": [
       "['Duration',\n",
       " 'Age',\n",
       " 'InstallmentRatePecnt',\n",
       " 'PresentResidenceTime',\n",
       " 'A14',\n",
       " 'A11',\n",
       " 'A32',\n",
       " 'A34',\n",
       " 'A40',\n",
       " 'A61',\n",
       " 'NumberDependents',\n",
       " 'A43',\n",
       " 'A65',\n",
       " 'A121',\n",
       " 'A123',\n",
       " 'A192',\n",
       " 'A12',\n",
       " 'A122',\n",
       " 'A30',\n",
       " 'A31',\n",
       " 'A191',\n",
       " 'A124',\n",
       " 'A41',\n",
       " 'A42',\n",
       " 'A13',\n",
       " 'A62',\n",
       " 'A49',\n",
       " 'A46',\n",
       " 'A45',\n",
       " 'A33',\n",
       " 'A63',\n",
       " 'A410',\n",
       " 'A48',\n",
       " 'A44',\n",
       " 'A64']"
      ]
     },
     "execution_count": 8,
     "metadata": {},
     "output_type": "execute_result"
    }
   ],
   "source": [
    "# view the list of ordered features\n",
    "features = list(features.index)\n",
    "features"
   ]
  },
  {
   "cell_type": "code",
   "execution_count": 9,
   "metadata": {},
   "outputs": [
    {
     "name": "stdout",
     "output_type": "stream",
     "text": [
      "Test one feature RFC ROC AUC=0.827976\n"
     ]
    },
    {
     "name": "stderr",
     "output_type": "stream",
     "text": [
      "/anaconda3/envs/featsel/lib/python3.6/site-packages/sklearn/ensemble/forest.py:245: FutureWarning: The default value of n_estimators will change from 10 in version 0.20 to 100 in 0.22.\n",
      "  \"10 in version 0.20 to 100 in 0.22.\", FutureWarning)\n"
     ]
    }
   ],
   "source": [
    "# next, we need to build a machine learning\n",
    "# algorithm using only the most important feature\n",
    "\n",
    "# set the seed for reproducibility\n",
    "seed_val = 1000000000\n",
    "np.random.seed(seed_val)\n",
    "\n",
    "# build initial model using all the features\n",
    "model_one_feature = RandomForestClassifier()\n",
    "\n",
    "# train using only the most important feature\n",
    "model_one_feature.fit(X_train[features[0]].to_frame(), y_train)\n",
    "\n",
    "# calculate the roc-auc in the test set\n",
    "y_pred_test = model_one_feature.predict_proba(X_test[features[0]].to_frame())[:, 1]\n",
    "auc_score_first = roc_auc_score(y_test, y_pred_test)\n",
    "print('Test one feature RFC ROC AUC=%f' % (auc_score_first))"
   ]
  },
  {
   "cell_type": "code",
   "execution_count": 10,
   "metadata": {},
   "outputs": [
    {
     "name": "stdout",
     "output_type": "stream",
     "text": [
      "doing recursive feature addition\n",
      "\n",
      "testing feature:  Age  which is feature  1  out of  35\n",
      "New Test ROC AUC=0.7589695715799567\n",
      "All features Test ROC AUC=0.8279759802190039\n",
      "Increase in ROC AUC=-0.06900640863904717\n",
      "remove:  Age\n",
      "\n",
      "testing feature:  InstallmentRatePecnt  which is feature  2  out of  35\n",
      "New Test ROC AUC=0.8495735984255942\n",
      "All features Test ROC AUC=0.8279759802190039\n",
      "Increase in ROC AUC=0.02159761820659034\n",
      "keep:  InstallmentRatePecnt\n",
      "\n",
      "testing feature:  PresentResidenceTime  which is feature  3  out of  35\n",
      "New Test ROC AUC=0.8192461018317606\n",
      "All features Test ROC AUC=0.8495735984255942\n",
      "Increase in ROC AUC=-0.030327496593833603\n",
      "remove:  PresentResidenceTime\n",
      "\n",
      "testing feature:  A14  which is feature  4  out of  35\n",
      "New Test ROC AUC=0.8249482767320988\n",
      "All features Test ROC AUC=0.8495735984255942\n",
      "Increase in ROC AUC=-0.024625321693495406\n",
      "remove:  A14\n",
      "\n",
      "testing feature:  A11  which is feature  5  out of  35\n",
      "New Test ROC AUC=0.817530403189181\n",
      "All features Test ROC AUC=0.8495735984255942\n",
      "Increase in ROC AUC=-0.03204319523641319\n",
      "remove:  A11\n",
      "\n",
      "testing feature:  A32  which is feature  6  out of  35\n",
      "New Test ROC AUC=0.8017106524701014\n",
      "All features Test ROC AUC=0.8495735984255942\n",
      "Increase in ROC AUC=-0.047862945955492786\n",
      "remove:  A32\n",
      "\n",
      "testing feature:  A34  which is feature  7  out of  35\n",
      "New Test ROC AUC=0.8106423777564719\n",
      "All features Test ROC AUC=0.8495735984255942\n",
      "Increase in ROC AUC=-0.03893122066912236\n",
      "remove:  A34\n",
      "\n",
      "testing feature:  A40  which is feature  8  out of  35\n",
      "New Test ROC AUC=0.8505576020588385\n",
      "All features Test ROC AUC=0.8495735984255942\n",
      "Increase in ROC AUC=0.0009840036332442459\n",
      "remove:  A40\n",
      "\n",
      "testing feature:  A61  which is feature  9  out of  35\n"
     ]
    },
    {
     "name": "stderr",
     "output_type": "stream",
     "text": [
      "/anaconda3/envs/featsel/lib/python3.6/site-packages/sklearn/ensemble/forest.py:245: FutureWarning: The default value of n_estimators will change from 10 in version 0.20 to 100 in 0.22.\n",
      "  \"10 in version 0.20 to 100 in 0.22.\", FutureWarning)\n",
      "/anaconda3/envs/featsel/lib/python3.6/site-packages/sklearn/ensemble/forest.py:245: FutureWarning: The default value of n_estimators will change from 10 in version 0.20 to 100 in 0.22.\n",
      "  \"10 in version 0.20 to 100 in 0.22.\", FutureWarning)\n",
      "/anaconda3/envs/featsel/lib/python3.6/site-packages/sklearn/ensemble/forest.py:245: FutureWarning: The default value of n_estimators will change from 10 in version 0.20 to 100 in 0.22.\n",
      "  \"10 in version 0.20 to 100 in 0.22.\", FutureWarning)\n",
      "/anaconda3/envs/featsel/lib/python3.6/site-packages/sklearn/ensemble/forest.py:245: FutureWarning: The default value of n_estimators will change from 10 in version 0.20 to 100 in 0.22.\n",
      "  \"10 in version 0.20 to 100 in 0.22.\", FutureWarning)\n",
      "/anaconda3/envs/featsel/lib/python3.6/site-packages/sklearn/ensemble/forest.py:245: FutureWarning: The default value of n_estimators will change from 10 in version 0.20 to 100 in 0.22.\n",
      "  \"10 in version 0.20 to 100 in 0.22.\", FutureWarning)\n",
      "/anaconda3/envs/featsel/lib/python3.6/site-packages/sklearn/ensemble/forest.py:245: FutureWarning: The default value of n_estimators will change from 10 in version 0.20 to 100 in 0.22.\n",
      "  \"10 in version 0.20 to 100 in 0.22.\", FutureWarning)\n",
      "/anaconda3/envs/featsel/lib/python3.6/site-packages/sklearn/ensemble/forest.py:245: FutureWarning: The default value of n_estimators will change from 10 in version 0.20 to 100 in 0.22.\n",
      "  \"10 in version 0.20 to 100 in 0.22.\", FutureWarning)\n",
      "/anaconda3/envs/featsel/lib/python3.6/site-packages/sklearn/ensemble/forest.py:245: FutureWarning: The default value of n_estimators will change from 10 in version 0.20 to 100 in 0.22.\n",
      "  \"10 in version 0.20 to 100 in 0.22.\", FutureWarning)\n",
      "/anaconda3/envs/featsel/lib/python3.6/site-packages/sklearn/ensemble/forest.py:245: FutureWarning: The default value of n_estimators will change from 10 in version 0.20 to 100 in 0.22.\n",
      "  \"10 in version 0.20 to 100 in 0.22.\", FutureWarning)\n"
     ]
    },
    {
     "name": "stdout",
     "output_type": "stream",
     "text": [
      "New Test ROC AUC=0.8066306706363223\n",
      "All features Test ROC AUC=0.8495735984255942\n",
      "Increase in ROC AUC=-0.04294292778927189\n",
      "remove:  A61\n",
      "\n",
      "testing feature:  NumberDependents  which is feature  10  out of  35\n",
      "New Test ROC AUC=0.8738204571832264\n",
      "All features Test ROC AUC=0.8495735984255942\n",
      "Increase in ROC AUC=0.024246858757632217\n",
      "keep:  NumberDependents\n",
      "\n",
      "testing feature:  A43  which is feature  11  out of  35\n",
      "New Test ROC AUC=0.8481102084069234\n",
      "All features Test ROC AUC=0.8738204571832264\n",
      "Increase in ROC AUC=-0.025710248776303013\n",
      "remove:  A43\n",
      "\n",
      "testing feature:  A65  which is feature  12  out of  35\n",
      "New Test ROC AUC=0.8747035373669072\n",
      "All features Test ROC AUC=0.8738204571832264\n",
      "Increase in ROC AUC=0.0008830801836807733\n",
      "remove:  A65\n",
      "\n",
      "testing feature:  A121  which is feature  13  out of  35\n",
      "New Test ROC AUC=0.8558813140233134\n",
      "All features Test ROC AUC=0.8738204571832264\n",
      "Increase in ROC AUC=-0.017939143159913074\n",
      "remove:  A121\n",
      "\n",
      "testing feature:  A123  which is feature  14  out of  35\n",
      "New Test ROC AUC=0.8483877478932232\n",
      "All features Test ROC AUC=0.8738204571832264\n",
      "Increase in ROC AUC=-0.025432709290003186\n",
      "remove:  A123\n",
      "\n",
      "testing feature:  A192  which is feature  15  out of  35\n",
      "New Test ROC AUC=0.8287581369531211\n",
      "All features Test ROC AUC=0.8738204571832264\n",
      "Increase in ROC AUC=-0.04506232023010537\n",
      "remove:  A192\n",
      "\n",
      "testing feature:  A12  which is feature  16  out of  35\n",
      "New Test ROC AUC=0.8366806277438563\n",
      "All features Test ROC AUC=0.8738204571832264\n",
      "Increase in ROC AUC=-0.03713982943937011\n",
      "remove:  A12\n",
      "\n",
      "testing feature:  A122  which is feature  17  out of  35\n",
      "New Test ROC AUC=0.8106423777564716\n",
      "All features Test ROC AUC=0.8738204571832264\n",
      "Increase in ROC AUC=-0.0631780794267548\n",
      "remove:  A122\n",
      "\n",
      "testing feature:  A30  which is feature  18  out of  35\n"
     ]
    },
    {
     "name": "stderr",
     "output_type": "stream",
     "text": [
      "/anaconda3/envs/featsel/lib/python3.6/site-packages/sklearn/ensemble/forest.py:245: FutureWarning: The default value of n_estimators will change from 10 in version 0.20 to 100 in 0.22.\n",
      "  \"10 in version 0.20 to 100 in 0.22.\", FutureWarning)\n",
      "/anaconda3/envs/featsel/lib/python3.6/site-packages/sklearn/ensemble/forest.py:245: FutureWarning: The default value of n_estimators will change from 10 in version 0.20 to 100 in 0.22.\n",
      "  \"10 in version 0.20 to 100 in 0.22.\", FutureWarning)\n",
      "/anaconda3/envs/featsel/lib/python3.6/site-packages/sklearn/ensemble/forest.py:245: FutureWarning: The default value of n_estimators will change from 10 in version 0.20 to 100 in 0.22.\n",
      "  \"10 in version 0.20 to 100 in 0.22.\", FutureWarning)\n",
      "/anaconda3/envs/featsel/lib/python3.6/site-packages/sklearn/ensemble/forest.py:245: FutureWarning: The default value of n_estimators will change from 10 in version 0.20 to 100 in 0.22.\n",
      "  \"10 in version 0.20 to 100 in 0.22.\", FutureWarning)\n",
      "/anaconda3/envs/featsel/lib/python3.6/site-packages/sklearn/ensemble/forest.py:245: FutureWarning: The default value of n_estimators will change from 10 in version 0.20 to 100 in 0.22.\n",
      "  \"10 in version 0.20 to 100 in 0.22.\", FutureWarning)\n",
      "/anaconda3/envs/featsel/lib/python3.6/site-packages/sklearn/ensemble/forest.py:245: FutureWarning: The default value of n_estimators will change from 10 in version 0.20 to 100 in 0.22.\n",
      "  \"10 in version 0.20 to 100 in 0.22.\", FutureWarning)\n",
      "/anaconda3/envs/featsel/lib/python3.6/site-packages/sklearn/ensemble/forest.py:245: FutureWarning: The default value of n_estimators will change from 10 in version 0.20 to 100 in 0.22.\n",
      "  \"10 in version 0.20 to 100 in 0.22.\", FutureWarning)\n",
      "/anaconda3/envs/featsel/lib/python3.6/site-packages/sklearn/ensemble/forest.py:245: FutureWarning: The default value of n_estimators will change from 10 in version 0.20 to 100 in 0.22.\n",
      "  \"10 in version 0.20 to 100 in 0.22.\", FutureWarning)\n",
      "/anaconda3/envs/featsel/lib/python3.6/site-packages/sklearn/ensemble/forest.py:245: FutureWarning: The default value of n_estimators will change from 10 in version 0.20 to 100 in 0.22.\n",
      "  \"10 in version 0.20 to 100 in 0.22.\", FutureWarning)\n"
     ]
    },
    {
     "name": "stdout",
     "output_type": "stream",
     "text": [
      "New Test ROC AUC=0.8576979361154564\n",
      "All features Test ROC AUC=0.8738204571832264\n",
      "Increase in ROC AUC=-0.016122521067770013\n",
      "remove:  A30\n",
      "\n",
      "testing feature:  A31  which is feature  19  out of  35\n",
      "New Test ROC AUC=0.8830549528182873\n",
      "All features Test ROC AUC=0.8738204571832264\n",
      "Increase in ROC AUC=0.009234495635060846\n",
      "keep:  A31\n",
      "\n",
      "testing feature:  A191  which is feature  20  out of  35\n",
      "New Test ROC AUC=0.8352676994499673\n",
      "All features Test ROC AUC=0.8830549528182873\n",
      "Increase in ROC AUC=-0.047787253368320015\n",
      "remove:  A191\n",
      "\n",
      "testing feature:  A124  which is feature  21  out of  35\n",
      "New Test ROC AUC=0.8415249533229046\n",
      "All features Test ROC AUC=0.8830549528182873\n",
      "Increase in ROC AUC=-0.04152999949538272\n",
      "remove:  A124\n",
      "\n",
      "testing feature:  A41  which is feature  22  out of  35\n",
      "New Test ROC AUC=0.86902659332896\n",
      "All features Test ROC AUC=0.8830549528182873\n",
      "Increase in ROC AUC=-0.014028359489327236\n",
      "remove:  A41\n",
      "\n",
      "testing feature:  A42  which is feature  23  out of  35\n",
      "New Test ROC AUC=0.849018519452995\n",
      "All features Test ROC AUC=0.8830549528182873\n",
      "Increase in ROC AUC=-0.034036433365292273\n",
      "remove:  A42\n",
      "\n",
      "testing feature:  A13  which is feature  24  out of  35\n",
      "New Test ROC AUC=0.8382449412120904\n",
      "All features Test ROC AUC=0.8830549528182873\n",
      "Increase in ROC AUC=-0.04481001160619691\n",
      "remove:  A13\n",
      "\n",
      "testing feature:  A62  which is feature  25  out of  35\n",
      "New Test ROC AUC=0.8337033859817328\n",
      "All features Test ROC AUC=0.8830549528182873\n",
      "Increase in ROC AUC=-0.049351566836554506\n",
      "remove:  A62\n",
      "\n",
      "testing feature:  A49  which is feature  26  out of  35\n",
      "New Test ROC AUC=0.8399101781298886\n",
      "All features Test ROC AUC=0.8830549528182873\n",
      "Increase in ROC AUC=-0.043144774688398724\n",
      "remove:  A49\n",
      "\n",
      "testing feature:  A46  which is feature  27  out of  35\n"
     ]
    },
    {
     "name": "stderr",
     "output_type": "stream",
     "text": [
      "/anaconda3/envs/featsel/lib/python3.6/site-packages/sklearn/ensemble/forest.py:245: FutureWarning: The default value of n_estimators will change from 10 in version 0.20 to 100 in 0.22.\n",
      "  \"10 in version 0.20 to 100 in 0.22.\", FutureWarning)\n",
      "/anaconda3/envs/featsel/lib/python3.6/site-packages/sklearn/ensemble/forest.py:245: FutureWarning: The default value of n_estimators will change from 10 in version 0.20 to 100 in 0.22.\n",
      "  \"10 in version 0.20 to 100 in 0.22.\", FutureWarning)\n",
      "/anaconda3/envs/featsel/lib/python3.6/site-packages/sklearn/ensemble/forest.py:245: FutureWarning: The default value of n_estimators will change from 10 in version 0.20 to 100 in 0.22.\n",
      "  \"10 in version 0.20 to 100 in 0.22.\", FutureWarning)\n",
      "/anaconda3/envs/featsel/lib/python3.6/site-packages/sklearn/ensemble/forest.py:245: FutureWarning: The default value of n_estimators will change from 10 in version 0.20 to 100 in 0.22.\n",
      "  \"10 in version 0.20 to 100 in 0.22.\", FutureWarning)\n",
      "/anaconda3/envs/featsel/lib/python3.6/site-packages/sklearn/ensemble/forest.py:245: FutureWarning: The default value of n_estimators will change from 10 in version 0.20 to 100 in 0.22.\n",
      "  \"10 in version 0.20 to 100 in 0.22.\", FutureWarning)\n",
      "/anaconda3/envs/featsel/lib/python3.6/site-packages/sklearn/ensemble/forest.py:245: FutureWarning: The default value of n_estimators will change from 10 in version 0.20 to 100 in 0.22.\n",
      "  \"10 in version 0.20 to 100 in 0.22.\", FutureWarning)\n",
      "/anaconda3/envs/featsel/lib/python3.6/site-packages/sklearn/ensemble/forest.py:245: FutureWarning: The default value of n_estimators will change from 10 in version 0.20 to 100 in 0.22.\n",
      "  \"10 in version 0.20 to 100 in 0.22.\", FutureWarning)\n",
      "/anaconda3/envs/featsel/lib/python3.6/site-packages/sklearn/ensemble/forest.py:245: FutureWarning: The default value of n_estimators will change from 10 in version 0.20 to 100 in 0.22.\n",
      "  \"10 in version 0.20 to 100 in 0.22.\", FutureWarning)\n",
      "/anaconda3/envs/featsel/lib/python3.6/site-packages/sklearn/ensemble/forest.py:245: FutureWarning: The default value of n_estimators will change from 10 in version 0.20 to 100 in 0.22.\n",
      "  \"10 in version 0.20 to 100 in 0.22.\", FutureWarning)\n"
     ]
    },
    {
     "name": "stdout",
     "output_type": "stream",
     "text": [
      "New Test ROC AUC=0.8632739567038401\n",
      "All features Test ROC AUC=0.8830549528182873\n",
      "Increase in ROC AUC=-0.01978099611444717\n",
      "remove:  A46\n",
      "\n",
      "testing feature:  A45  which is feature  28  out of  35\n",
      "New Test ROC AUC=0.8850229600847757\n",
      "All features Test ROC AUC=0.8830549528182873\n",
      "Increase in ROC AUC=0.0019680072664883808\n",
      "keep:  A45\n",
      "\n",
      "testing feature:  A33  which is feature  29  out of  35\n",
      "New Test ROC AUC=0.8532068426098804\n",
      "All features Test ROC AUC=0.8850229600847757\n",
      "Increase in ROC AUC=-0.03181611747489521\n",
      "remove:  A33\n",
      "\n",
      "testing feature:  A63  which is feature  30  out of  35\n",
      "New Test ROC AUC=0.8651662713831558\n",
      "All features Test ROC AUC=0.8850229600847757\n",
      "Increase in ROC AUC=-0.01985668870161983\n",
      "remove:  A63\n",
      "\n",
      "testing feature:  A410  which is feature  31  out of  35\n",
      "New Test ROC AUC=0.8767724680829591\n",
      "All features Test ROC AUC=0.8850229600847757\n",
      "Increase in ROC AUC=-0.0082504920018166\n",
      "remove:  A410\n",
      "\n",
      "testing feature:  A48  which is feature  32  out of  35\n",
      "New Test ROC AUC=0.8657970429429278\n",
      "All features Test ROC AUC=0.8850229600847757\n",
      "Increase in ROC AUC=-0.019225917141847848\n",
      "remove:  A48\n",
      "\n",
      "testing feature:  A44  which is feature  33  out of  35\n",
      "New Test ROC AUC=0.8683705909067972\n",
      "All features Test ROC AUC=0.8850229600847757\n",
      "Increase in ROC AUC=-0.01665236917797841\n",
      "remove:  A44\n",
      "\n",
      "testing feature:  A64  which is feature  34  out of  35\n",
      "New Test ROC AUC=0.8484886713427864\n",
      "All features Test ROC AUC=0.8850229600847757\n",
      "Increase in ROC AUC=-0.036534288741989274\n",
      "remove:  A64\n",
      "DONE!!\n",
      "total features to keep:  5\n"
     ]
    },
    {
     "name": "stderr",
     "output_type": "stream",
     "text": [
      "/anaconda3/envs/featsel/lib/python3.6/site-packages/sklearn/ensemble/forest.py:245: FutureWarning: The default value of n_estimators will change from 10 in version 0.20 to 100 in 0.22.\n",
      "  \"10 in version 0.20 to 100 in 0.22.\", FutureWarning)\n",
      "/anaconda3/envs/featsel/lib/python3.6/site-packages/sklearn/ensemble/forest.py:245: FutureWarning: The default value of n_estimators will change from 10 in version 0.20 to 100 in 0.22.\n",
      "  \"10 in version 0.20 to 100 in 0.22.\", FutureWarning)\n",
      "/anaconda3/envs/featsel/lib/python3.6/site-packages/sklearn/ensemble/forest.py:245: FutureWarning: The default value of n_estimators will change from 10 in version 0.20 to 100 in 0.22.\n",
      "  \"10 in version 0.20 to 100 in 0.22.\", FutureWarning)\n",
      "/anaconda3/envs/featsel/lib/python3.6/site-packages/sklearn/ensemble/forest.py:245: FutureWarning: The default value of n_estimators will change from 10 in version 0.20 to 100 in 0.22.\n",
      "  \"10 in version 0.20 to 100 in 0.22.\", FutureWarning)\n",
      "/anaconda3/envs/featsel/lib/python3.6/site-packages/sklearn/ensemble/forest.py:245: FutureWarning: The default value of n_estimators will change from 10 in version 0.20 to 100 in 0.22.\n",
      "  \"10 in version 0.20 to 100 in 0.22.\", FutureWarning)\n",
      "/anaconda3/envs/featsel/lib/python3.6/site-packages/sklearn/ensemble/forest.py:245: FutureWarning: The default value of n_estimators will change from 10 in version 0.20 to 100 in 0.22.\n",
      "  \"10 in version 0.20 to 100 in 0.22.\", FutureWarning)\n",
      "/anaconda3/envs/featsel/lib/python3.6/site-packages/sklearn/ensemble/forest.py:245: FutureWarning: The default value of n_estimators will change from 10 in version 0.20 to 100 in 0.22.\n",
      "  \"10 in version 0.20 to 100 in 0.22.\", FutureWarning)\n"
     ]
    }
   ],
   "source": [
    "# the final step consists in adding one at a time\n",
    "# all the features, from the most to the least\n",
    "# important, and build an xgboost at each round.\n",
    "\n",
    "# once we build the model, we calculate the new roc-auc\n",
    "# if the new roc-auc is bigger than the original one\n",
    "# (with one feature), then that feature that was added\n",
    "# was important, and we should keep it.\n",
    "# otherwise, we should remove the feature\n",
    "\n",
    "# recursive feature addition:\n",
    "\n",
    "# first we arbitrarily set the increase in roc-auc\n",
    "# if the increase is above this threshold,\n",
    "# the feature will be kept\n",
    "tol = 0.001\n",
    "\n",
    "print('doing recursive feature addition')\n",
    "\n",
    "# we initialise a list where we will collect the\n",
    "# features we should keep\n",
    "features_to_keep = [features[0]]\n",
    "\n",
    "# set a counter to know how far ahead the loop is going\n",
    "count = 1\n",
    "\n",
    "# now we loop over all the features, in order of importance:\n",
    "# remember that features is the list of ordered features\n",
    "# by importance\n",
    "for feature in features[1:]:\n",
    "    print()\n",
    "    print('testing feature: ', feature, ' which is feature ', count,\n",
    "          ' out of ', len(features))\n",
    "    count = count + 1\n",
    "\n",
    "    # initialise model\n",
    "    model_int = RandomForestClassifier()\n",
    "\n",
    "    # fit model with the selected features\n",
    "    # and the feature to be evaluated\n",
    "    model_int.fit(\n",
    "        X_train[features_to_keep + [feature] ], y_train)\n",
    "\n",
    "    # make a prediction over the test set\n",
    "    y_pred_test = model_int.predict_proba(\n",
    "        X_test[features_to_keep + [feature] ])[:, 1]\n",
    "\n",
    "    # calculate the new roc-auc\n",
    "    auc_score_int = roc_auc_score(y_test, y_pred_test)\n",
    "    print('New Test ROC AUC={}'.format((auc_score_int)))\n",
    "\n",
    "    # print the original roc-auc with one feature\n",
    "    print('All features Test ROC AUC={}'.format((auc_score_first)))\n",
    "\n",
    "    # determine the increase in the roc-auc\n",
    "    diff_auc = auc_score_int - auc_score_first\n",
    "\n",
    "    # compare the increase in roc-auc with the tolerance\n",
    "    # we set previously\n",
    "    if diff_auc >= tol:\n",
    "        print('Increase in ROC AUC={}'.format(diff_auc))\n",
    "        print('keep: ', feature)\n",
    "        print\n",
    "        # if the increase in the roc is bigger than the threshold\n",
    "        # we keep the feature and re-adjust the roc-auc to the new value\n",
    "        # considering the added feature\n",
    "        auc_score_first = auc_score_int\n",
    "        \n",
    "        # and we append the feature to keep to the list\n",
    "        features_to_keep.append(feature)\n",
    "    else:\n",
    "        # we ignore the feature\n",
    "        print('Increase in ROC AUC={}'.format(diff_auc))\n",
    "        print('remove: ', feature)\n",
    "        print\n",
    "\n",
    "\n",
    "# now the loop is finished, we evaluated all the features\n",
    "print('DONE!!')\n",
    "print('total features to keep: ', len(features_to_keep))"
   ]
  },
  {
   "cell_type": "code",
   "execution_count": 11,
   "metadata": {},
   "outputs": [
    {
     "name": "stdout",
     "output_type": "stream",
     "text": [
      "Test selected features ROC AUC=0.877984\n"
     ]
    },
    {
     "name": "stderr",
     "output_type": "stream",
     "text": [
      "/anaconda3/envs/featsel/lib/python3.6/site-packages/sklearn/ensemble/forest.py:245: FutureWarning: The default value of n_estimators will change from 10 in version 0.20 to 100 in 0.22.\n",
      "  \"10 in version 0.20 to 100 in 0.22.\", FutureWarning)\n"
     ]
    }
   ],
   "source": [
    "# capture the 5 selected features\n",
    "seed_val = 1000000000\n",
    "np.random.seed(seed_val)\n",
    "\n",
    "# build initial model\n",
    "final_rfc = RandomForestClassifier()\n",
    "\n",
    "# fit the model with the selected features\n",
    "final_rfc.fit(X_train[features_to_keep], y_train)\n",
    "\n",
    "# make predictions\n",
    "y_pred_test = final_rfc.predict_proba(X_test[features_to_keep])[:, 1]\n",
    "\n",
    "# calculate roc-auc\n",
    "auc_score_final = roc_auc_score(y_test, y_pred_test)\n",
    "print('Test selected features ROC AUC=%f' % (auc_score_final))"
   ]
  },
  {
   "cell_type": "markdown",
   "metadata": {},
   "source": [
    "We've reduce feature space from 35 to 5, and yet get the improved ROC AUC accuracy! See below:"
   ]
  },
  {
   "cell_type": "code",
   "execution_count": 12,
   "metadata": {},
   "outputs": [
    {
     "name": "stdout",
     "output_type": "stream",
     "text": [
      "Test all features RFC ROC AUC=0.872534\n",
      "Test selected features ROC AUC=0.877984\n",
      "ROC AUC improvement -0.005449866276429405\n"
     ]
    }
   ],
   "source": [
    "print('Test all features RFC ROC AUC=%f' % (auc_score_all))\n",
    "print('Test selected features ROC AUC=%f' % (auc_score_final))\n",
    "print('ROC AUC improvement',(auc_score_all-auc_score_final))"
   ]
  },
  {
   "cell_type": "markdown",
   "metadata": {},
   "source": [
    "### 5. Tune mode hyperparamters"
   ]
  },
  {
   "cell_type": "code",
   "execution_count": 13,
   "metadata": {},
   "outputs": [
    {
     "name": "stdout",
     "output_type": "stream",
     "text": [
      "Fitting 3 folds for each of 240 candidates, totalling 720 fits\n"
     ]
    },
    {
     "name": "stderr",
     "output_type": "stream",
     "text": [
      "/anaconda3/envs/featsel/lib/python3.6/site-packages/sklearn/model_selection/_search.py:266: UserWarning: The total space of parameters 240 is smaller than n_iter=300. Running 240 iterations. For exhaustive searches, use GridSearchCV.\n",
      "  % (grid_size, self.n_iter, grid_size), UserWarning)\n",
      "[Parallel(n_jobs=-1)]: Using backend LokyBackend with 4 concurrent workers.\n",
      "[Parallel(n_jobs=-1)]: Done  33 tasks      | elapsed:   23.1s\n",
      "[Parallel(n_jobs=-1)]: Done 154 tasks      | elapsed:  1.7min\n",
      "[Parallel(n_jobs=-1)]: Done 357 tasks      | elapsed:  3.9min\n",
      "[Parallel(n_jobs=-1)]: Done 640 tasks      | elapsed:  7.2min\n",
      "[Parallel(n_jobs=-1)]: Done 720 out of 720 | elapsed:  8.3min finished\n"
     ]
    },
    {
     "name": "stdout",
     "output_type": "stream",
     "text": [
      "{'n_estimators': 200, 'max_features': 'sqrt', 'max_depth': 140}\n"
     ]
    }
   ],
   "source": [
    "from sklearn.model_selection import RandomizedSearchCV\n",
    "# number of trees in random forest\n",
    "n_estimators = [int(x) for x in np.linspace(start = 200, stop = 2000, num = 10)]\n",
    "# number of features at every split\n",
    "max_features = ['auto', 'sqrt']\n",
    "\n",
    "\n",
    "# max depth\n",
    "max_depth = [int(x) for x in np.linspace(100, 500, num = 11)]\n",
    "max_depth.append(None)\n",
    "# create random grid\n",
    "random_grid = {\n",
    " 'n_estimators': n_estimators,\n",
    " 'max_features': max_features,\n",
    " 'max_depth': max_depth\n",
    " }\n",
    "from sklearn.ensemble import RandomForestClassifier\n",
    "#making the instance\n",
    "rfc=RandomForestClassifier()\n",
    "# Random search of parameters\n",
    "rfc_model = RandomizedSearchCV(estimator = rfc, param_distributions = random_grid, n_iter = 300, cv = 3, verbose=2, random_state=42, n_jobs = -1)\n",
    "# Fit the model\n",
    "rfc_model.fit(X_train[features_to_keep], y_train)\n",
    "# print results\n",
    "print(rfc_model.best_params_)"
   ]
  },
  {
   "cell_type": "code",
   "execution_count": 14,
   "metadata": {},
   "outputs": [
    {
     "name": "stdout",
     "output_type": "stream",
     "text": [
      "Test selected features ROC AUC=0.880002\n"
     ]
    }
   ],
   "source": [
    "seed_val = 1000\n",
    "np.random.seed(seed_val)\n",
    "\n",
    "rfc2 = RandomForestClassifier(n_estimators=200, max_depth=140, max_features='sqrt')\n",
    "rfc2.fit(X_train[features_to_keep],y_train)\n",
    "rfc2_predict = rfc2.predict_proba(X_test[features_to_keep])[:, 1]\n",
    "\n",
    "auc_score_final2 = roc_auc_score(y_test, rfc2_predict)\n",
    "print('Test selected features ROC AUC=%f' % (auc_score_final2))\n",
    "\n",
    "\n",
    "\n"
   ]
  },
  {
   "cell_type": "markdown",
   "metadata": {},
   "source": [
    "**Check for improvement**"
   ]
  },
  {
   "cell_type": "code",
   "execution_count": 15,
   "metadata": {},
   "outputs": [
    {
     "name": "stdout",
     "output_type": "stream",
     "text": [
      "Model ROC AUC improvement is 0.002018468991269895\n"
     ]
    }
   ],
   "source": [
    "print ('Model ROC AUC improvement is',(auc_score_final2-auc_score_final))"
   ]
  },
  {
   "cell_type": "markdown",
   "metadata": {},
   "source": [
    "If we remember that original model had an ROC AUC of 0.87, we've improved a lot as now the accuracy is 0.88, and with only 6 features (instead of 36)"
   ]
  },
  {
   "cell_type": "markdown",
   "metadata": {},
   "source": [
    "**7.Save the model**"
   ]
  },
  {
   "cell_type": "code",
   "execution_count": 30,
   "metadata": {},
   "outputs": [
    {
     "data": {
      "text/plain": [
       "['rfc2.joblib']"
      ]
     },
     "execution_count": 30,
     "metadata": {},
     "output_type": "execute_result"
    }
   ],
   "source": [
    "from sklearn.externals import joblib\n",
    "from joblib import dump, load\n",
    "dump(rfc2,'rfc2.joblib')  "
   ]
  },
  {
   "cell_type": "markdown",
   "metadata": {},
   "source": [
    "**7. Evidence that the model will generalize well**"
   ]
  },
  {
   "cell_type": "code",
   "execution_count": 18,
   "metadata": {},
   "outputs": [
    {
     "name": "stdout",
     "output_type": "stream",
     "text": [
      "                 Confusion matrix\n",
      "                 Score positive    Score negative\n",
      "Actual positive       111                22\n",
      "Actual negative        30               119\n",
      "\n",
      "Accuracy  0.82\n",
      " \n",
      "           Positive      Negative\n",
      "Num case      133           149\n",
      "Precision    0.79          0.84\n",
      "Recall       0.83          0.80\n",
      "F1           0.81          0.82\n"
     ]
    }
   ],
   "source": [
    "import sklearn.metrics as sklm\n",
    "\n",
    "labels = np.array(df['CreditStatus'])\n",
    "probabilities = rfc2.predict_proba(X_test[features_to_keep])\n",
    "\n",
    "def score_model(probs, threshold):\n",
    "    return np.array([1 if x > threshold else 0 for x in probs[:,1]])\n",
    "scores = score_model(probabilities, 0.5)\n",
    "\n",
    "def print_metrics(labels, scores):\n",
    "    metrics = sklm.precision_recall_fscore_support(labels, scores)\n",
    "    conf = sklm.confusion_matrix(labels, scores)\n",
    "    print('                 Confusion matrix')\n",
    "    print('                 Score positive    Score negative')\n",
    "    print('Actual positive    %6d' % conf[0,0] + '             %5d' % conf[0,1])\n",
    "    print('Actual negative    %6d' % conf[1,0] + '             %5d' % conf[1,1])\n",
    "    print('')\n",
    "    print('Accuracy  %0.2f' % sklm.accuracy_score(labels, scores))\n",
    "    print(' ')\n",
    "    print('           Positive      Negative')\n",
    "    print('Num case   %6d' % metrics[3][0] + '        %6d' % metrics[3][1])\n",
    "    print('Precision  %6.2f' % metrics[0][0] + '        %6.2f' % metrics[0][1])\n",
    "    print('Recall     %6.2f' % metrics[1][0] + '        %6.2f' % metrics[1][1])\n",
    "    print('F1         %6.2f' % metrics[2][0] + '        %6.2f' % metrics[2][1])\n",
    "\n",
    "\n",
    "    \n",
    "print_metrics(y_test, scores)  "
   ]
  },
  {
   "cell_type": "code",
   "execution_count": 19,
   "metadata": {},
   "outputs": [
    {
     "data": {
      "image/png": "[encoded data removed]",
      "text/plain": [
       "<Figure size 432x288 with 1 Axes>"
      ]
     },
     "metadata": {
      "needs_background": "light"
     },
     "output_type": "display_data"
    }
   ],
   "source": [
    "def plot_auc(labels, probs):\n",
    "    ## Compute the false positive rate, true positive rate\n",
    "    ## and threshold along with the AUC\n",
    "    fpr, tpr, threshold = sklm.roc_curve(labels, probs[:,1])\n",
    "    auc = sklm.auc(fpr, tpr)\n",
    "    \n",
    "    ## Plot the result\n",
    "    plt.title('Receiver Operating Characteristic')\n",
    "    plt.plot(fpr, tpr, color = 'orange', label = 'AUC = %0.2f' % auc)\n",
    "    plt.legend(loc = 'lower right')\n",
    "    plt.plot([0, 1], [0, 1],'r--')\n",
    "    plt.xlim([0, 1])\n",
    "    plt.ylim([0, 1])\n",
    "    plt.ylabel('True Positive Rate')\n",
    "    plt.xlabel('False Positive Rate')\n",
    "    plt.show()\n",
    "    \n",
    "plot_auc(y_test, probabilities)"
   ]
  }
 ],
 "metadata": {
  "kernelspec": {
   "display_name": "Python 3",
   "language": "python",
   "name": "python3"
  },
  "language_info": {
   "codemirror_mode": {
    "name": "ipython",
    "version": 3
   },
   "file_extension": ".py",
   "mimetype": "text/x-python",
   "name": "python",
   "nbconvert_exporter": "python",
   "pygments_lexer": "ipython3",
   "version": "3.6.8"
  }
 },
 "nbformat": 4,
 "nbformat_minor": 2
}
