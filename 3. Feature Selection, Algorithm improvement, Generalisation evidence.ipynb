{
 "cells": [
  {
   "cell_type": "markdown",
   "metadata": {},
   "source": [
    "## III. Feature selection, algorithm improvement\n",
    "\n",
    "In this notebook, I shall run improve the best model from the preivous notebook (SVM Classificator) by undertaking the following steps:\n",
    "    - Feature selection (Hybrid method: recursive feature addition)\n",
    "    - Tune hyper paramters\n",
    "\n",
    "Then I shall check and prove the improvement.\n",
    "\n",
    "ROC visualization is provided at the end of the notebook"
   ]
  },
  {
   "cell_type": "markdown",
   "metadata": {},
   "source": [
    "### 1 Importing libraries"
   ]
  },
  {
   "cell_type": "code",
   "execution_count": 1,
   "metadata": {},
   "outputs": [],
   "source": [
    "import pandas as pd\n",
    "import numpy as np\n",
    "\n",
    "import matplotlib.pyplot as plt\n",
    "import seaborn as sns\n",
    "%matplotlib inline\n",
    "\n",
    "from sklearn.model_selection import train_test_split\n",
    "from sklearn.feature_selection import VarianceThreshold\n",
    "\n",
    "from sklearn.preprocessing import StandardScaler\n",
    "from sklearn.linear_model import LogisticRegression\n",
    "from sklearn.ensemble import RandomForestClassifier\n",
    "from sklearn.tree import DecisionTreeClassifier\n",
    "from sklearn.feature_selection import SelectFromModel\n",
    "from sklearn.metrics import roc_auc_score\n",
    "from sklearn.preprocessing import StandardScaler\n",
    "\n",
    "from sklearn import svm\n",
    "\n",
    "from sklearn.metrics import roc_curve\n",
    "\n",
    "from sklearn.ensemble import RandomForestClassifier\n",
    "\n",
    "\n",
    "import warnings\n",
    "warnings.filterwarnings('ignore')\n",
    "\n",
    "\n",
    "%matplotlib inline\n",
    "%matplotlib inline"
   ]
  },
  {
   "cell_type": "markdown",
   "metadata": {},
   "source": [
    "### 2. Import datasets "
   ]
  },
  {
   "cell_type": "code",
   "execution_count": 2,
   "metadata": {},
   "outputs": [
    {
     "data": {
      "text/plain": [
       "(807, 22)"
      ]
     },
     "execution_count": 2,
     "metadata": {},
     "output_type": "execute_result"
    }
   ],
   "source": [
    "# Merge the two datasets\n",
    "X_train=pd.read_csv('X_train.csv',sep= ',')\n",
    "X_train.shape"
   ]
  },
  {
   "cell_type": "code",
   "execution_count": 3,
   "metadata": {},
   "outputs": [
    {
     "data": {
      "text/plain": [
       "(143, 22)"
      ]
     },
     "execution_count": 3,
     "metadata": {},
     "output_type": "execute_result"
    }
   ],
   "source": [
    "X_test=pd.read_csv('X_test.csv',sep= ',')\n",
    "X_test.shape"
   ]
  },
  {
   "cell_type": "code",
   "execution_count": 4,
   "metadata": {},
   "outputs": [
    {
     "data": {
      "text/plain": [
       "(807, 1)"
      ]
     },
     "execution_count": 4,
     "metadata": {},
     "output_type": "execute_result"
    }
   ],
   "source": [
    "# Merge the two datasets\n",
    "y_train=pd.read_csv('y_train.csv',sep= ',')\n",
    "y_train.shape"
   ]
  },
  {
   "cell_type": "code",
   "execution_count": 5,
   "metadata": {},
   "outputs": [
    {
     "data": {
      "text/plain": [
       "(143, 1)"
      ]
     },
     "execution_count": 5,
     "metadata": {},
     "output_type": "execute_result"
    }
   ],
   "source": [
    "y_test=pd.read_csv('y_test.csv',sep= ',')\n",
    "y_test.shape"
   ]
  },
  {
   "cell_type": "markdown",
   "metadata": {},
   "source": [
    "### 3. Model creation & data balancing \n",
    "\n"
   ]
  },
  {
   "cell_type": "markdown",
   "metadata": {},
   "source": [
    "#### 3.2 Smote for data imbalance"
   ]
  },
  {
   "cell_type": "code",
   "execution_count": 6,
   "metadata": {},
   "outputs": [],
   "source": [
    "train_input = X_train\n",
    "train_output = y_train\n"
   ]
  },
  {
   "cell_type": "code",
   "execution_count": 7,
   "metadata": {
    "scrolled": true
   },
   "outputs": [
    {
     "name": "stdout",
     "output_type": "stream",
     "text": [
      "Original dataset shape Counter({'CreditStatus': 1})\n",
      "New dataset shape Counter({0: 439, 1: 439})\n"
     ]
    }
   ],
   "source": [
    "from imblearn.over_sampling import SMOTE\n",
    "from collections import Counter\n",
    "print('Original dataset shape {}'.format(Counter(train_output)))\n",
    "smt = SMOTE(random_state=20)\n",
    "train_input_new, train_output_new = smt.fit_sample(train_input, train_output)\n",
    "print('New dataset shape {}'.format(Counter(train_output_new)))"
   ]
  },
  {
   "cell_type": "code",
   "execution_count": 8,
   "metadata": {},
   "outputs": [],
   "source": [
    "train_input_new = X_train\n",
    "train_ouput_new = y_train"
   ]
  },
  {
   "cell_type": "markdown",
   "metadata": {},
   "source": [
    "Now both outcomes of the label are balanced"
   ]
  },
  {
   "cell_type": "markdown",
   "metadata": {},
   "source": [
    "### 4. Feature selection (Feature addition)"
   ]
  },
  {
   "cell_type": "code",
   "execution_count": 9,
   "metadata": {},
   "outputs": [
    {
     "name": "stdout",
     "output_type": "stream",
     "text": [
      "Test all features RFC ROC AUC=0.870869\n"
     ]
    }
   ],
   "source": [
    "# the first step of this procedure  consists in building\n",
    "# a machine learning algorithm using all the available features\n",
    "# and then determine the importance of the features according\n",
    "# to the algorithm\n",
    "\n",
    "# set the seed for reproducibility\n",
    "seed_val = 1000000000\n",
    "np.random.seed(seed_val)\n",
    "\n",
    "# build initial model using all the features\n",
    "model_all_features = RandomForestClassifier()\n",
    "model_all_features.fit(X_train, y_train)\n",
    "\n",
    "# calculate the roc-auc in the test set\n",
    "y_pred_test = model_all_features.predict_proba(X_test)[:, 1]\n",
    "auc_score_all = roc_auc_score(y_test, y_pred_test)\n",
    "print('Test all features RFC ROC AUC=%f' % (auc_score_all))"
   ]
  },
  {
   "cell_type": "code",
   "execution_count": 10,
   "metadata": {},
   "outputs": [
    {
     "data": {
      "text/plain": [
       "<matplotlib.axes._subplots.AxesSubplot at 0x104f01048>"
      ]
     },
     "execution_count": 10,
     "metadata": {},
     "output_type": "execute_result"
    },
    {
     "data": {
      "image/png": "[encoded data removed]",
      "text/plain": [
       "<Figure size 1440x432 with 1 Axes>"
      ]
     },
     "metadata": {
      "needs_background": "light"
     },
     "output_type": "display_data"
    }
   ],
   "source": [
    "# the second step consist of deriving the importance of \n",
    "# each feature and ranking them from the most to the least\n",
    "# important\n",
    "\n",
    "# get feature name and importance\n",
    "features = pd.Series(model_all_features.feature_importances_)\n",
    "features.index = X_train.columns\n",
    "\n",
    "# sort the features by importance\n",
    "features.sort_values(ascending=False, inplace=True)\n",
    "\n",
    "# plot\n",
    "features.plot.bar(figsize=(20,6))"
   ]
  },
  {
   "cell_type": "code",
   "execution_count": 11,
   "metadata": {},
   "outputs": [
    {
     "data": {
      "text/plain": [
       "['CheckingAcctStat',\n",
       " 'Duration',\n",
       " 'Age',\n",
       " 'Purpose',\n",
       " 'InstallmentRatePecnt',\n",
       " 'ExistingCreditsAtBank',\n",
       " 'CreditAmount_ordered',\n",
       " 'PresentResidenceTime',\n",
       " 'Property',\n",
       " 'Savings',\n",
       " 'Employment',\n",
       " 'Job',\n",
       " 'CreditHistory',\n",
       " 'Savings.1',\n",
       " 'SexAndStatus',\n",
       " 'Housing',\n",
       " 'OtherInstalments',\n",
       " 'Telephone',\n",
       " 'NumberDependents',\n",
       " 'OtherDetorsGuarantors',\n",
       " 'ForeignWorker.1',\n",
       " 'ForeignWorker']"
      ]
     },
     "execution_count": 11,
     "metadata": {},
     "output_type": "execute_result"
    }
   ],
   "source": [
    "# view the list of ordered features\n",
    "features = list(features.index)\n",
    "features"
   ]
  },
  {
   "cell_type": "code",
   "execution_count": 12,
   "metadata": {},
   "outputs": [
    {
     "name": "stdout",
     "output_type": "stream",
     "text": [
      "Test one feature xgb ROC AUC=0.721236\n"
     ]
    }
   ],
   "source": [
    "# next, we need to build a machine learning\n",
    "# algorithm using only the most important feature\n",
    "\n",
    "# set the seed for reproducibility\n",
    "seed_val = 1000000000\n",
    "np.random.seed(seed_val)\n",
    "\n",
    "# build initial model using all the features\n",
    "model_one_feature = RandomForestClassifier()\n",
    "\n",
    "# train using only the most important feature\n",
    "model_one_feature.fit(X_train[features[0]].to_frame(), y_train)\n",
    "\n",
    "# calculate the roc-auc in the test set\n",
    "y_pred_test = model_one_feature.predict_proba(X_test[features[0]].to_frame())[:, 1]\n",
    "auc_score_first = roc_auc_score(y_test, y_pred_test)\n",
    "print('Test one feature xgb ROC AUC=%f' % (auc_score_first))"
   ]
  },
  {
   "cell_type": "code",
   "execution_count": 13,
   "metadata": {},
   "outputs": [
    {
     "name": "stdout",
     "output_type": "stream",
     "text": [
      "doing recursive feature addition\n",
      "\n",
      "testing feature:  Duration  which is feature  1  out of  22\n",
      "New Test ROC AUC=0.8905548755609956\n",
      "All features Test ROC AUC=0.7212362301101592\n",
      "Increase in ROC AUC=0.1693186454508363\n",
      "keep:  Duration\n",
      "\n",
      "testing feature:  Age  which is feature  2  out of  22\n",
      "New Test ROC AUC=0.8311913504691961\n",
      "All features Test ROC AUC=0.8905548755609956\n",
      "Increase in ROC AUC=-0.05936352509179943\n",
      "remove:  Age\n",
      "\n",
      "testing feature:  Purpose  which is feature  3  out of  22\n",
      "New Test ROC AUC=0.7895756833945328\n",
      "All features Test ROC AUC=0.8905548755609956\n",
      "Increase in ROC AUC=-0.10097919216646278\n",
      "remove:  Purpose\n",
      "\n",
      "testing feature:  InstallmentRatePecnt  which is feature  4  out of  22\n",
      "New Test ROC AUC=0.8853529171766625\n",
      "All features Test ROC AUC=0.8905548755609956\n",
      "Increase in ROC AUC=-0.005201958384333016\n",
      "remove:  InstallmentRatePecnt\n",
      "\n",
      "testing feature:  ExistingCreditsAtBank  which is feature  5  out of  22\n",
      "New Test ROC AUC=0.8177274581803345\n",
      "All features Test ROC AUC=0.8905548755609956\n",
      "Increase in ROC AUC=-0.07282741738066101\n",
      "remove:  ExistingCreditsAtBank\n",
      "\n",
      "testing feature:  CreditAmount_ordered  which is feature  6  out of  22\n",
      "New Test ROC AUC=0.7471440228478172\n",
      "All features Test ROC AUC=0.8905548755609956\n",
      "Increase in ROC AUC=-0.14341085271317833\n",
      "remove:  CreditAmount_ordered\n",
      "\n",
      "testing feature:  PresentResidenceTime  which is feature  7  out of  22\n",
      "New Test ROC AUC=0.8294573643410852\n",
      "All features Test ROC AUC=0.8905548755609956\n",
      "Increase in ROC AUC=-0.06109751121991036\n",
      "remove:  PresentResidenceTime\n",
      "\n",
      "testing feature:  Property  which is feature  8  out of  22\n",
      "New Test ROC AUC=0.877702978376173\n",
      "All features Test ROC AUC=0.8905548755609956\n",
      "Increase in ROC AUC=-0.012851897184822603\n",
      "remove:  Property\n",
      "\n",
      "testing feature:  Savings  which is feature  9  out of  22\n",
      "New Test ROC AUC=0.8296613627090984\n",
      "All features Test ROC AUC=0.8905548755609956\n",
      "Increase in ROC AUC=-0.06089351285189715\n",
      "remove:  Savings\n",
      "\n",
      "testing feature:  Employment  which is feature  10  out of  22\n",
      "New Test ROC AUC=0.875968992248062\n",
      "All features Test ROC AUC=0.8905548755609956\n",
      "Increase in ROC AUC=-0.014585883312933534\n",
      "remove:  Employment\n",
      "\n",
      "testing feature:  Job  which is feature  11  out of  22\n",
      "New Test ROC AUC=0.8718890248878008\n",
      "All features Test ROC AUC=0.8905548755609956\n",
      "Increase in ROC AUC=-0.018665850673194706\n",
      "remove:  Job\n",
      "\n",
      "testing feature:  CreditHistory  which is feature  12  out of  22\n",
      "New Test ROC AUC=0.8479192166462668\n",
      "All features Test ROC AUC=0.8905548755609956\n",
      "Increase in ROC AUC=-0.04263565891472876\n",
      "remove:  CreditHistory\n",
      "\n",
      "testing feature:  Savings.1  which is feature  13  out of  22\n",
      "New Test ROC AUC=0.8551611587107305\n",
      "All features Test ROC AUC=0.8905548755609956\n",
      "Increase in ROC AUC=-0.035393716850265045\n",
      "remove:  Savings.1\n",
      "\n",
      "testing feature:  SexAndStatus  which is feature  14  out of  22\n",
      "New Test ROC AUC=0.8030395756833946\n",
      "All features Test ROC AUC=0.8905548755609956\n",
      "Increase in ROC AUC=-0.08751529987760098\n",
      "remove:  SexAndStatus\n",
      "\n",
      "testing feature:  Housing  which is feature  15  out of  22\n",
      "New Test ROC AUC=0.8490412076703386\n",
      "All features Test ROC AUC=0.8905548755609956\n",
      "Increase in ROC AUC=-0.04151366789065691\n",
      "remove:  Housing\n",
      "\n",
      "testing feature:  OtherInstalments  which is feature  16  out of  22\n",
      "New Test ROC AUC=0.9036107711138311\n",
      "All features Test ROC AUC=0.8905548755609956\n",
      "Increase in ROC AUC=0.013055895552835595\n",
      "keep:  OtherInstalments\n",
      "\n",
      "testing feature:  Telephone  which is feature  17  out of  22\n",
      "New Test ROC AUC=0.8625050999592002\n",
      "All features Test ROC AUC=0.9036107711138311\n",
      "Increase in ROC AUC=-0.04110567115463093\n",
      "remove:  Telephone\n",
      "\n",
      "testing feature:  NumberDependents  which is feature  18  out of  22\n",
      "New Test ROC AUC=0.8968788249694003\n",
      "All features Test ROC AUC=0.9036107711138311\n",
      "Increase in ROC AUC=-0.006731946144430845\n",
      "remove:  NumberDependents\n",
      "\n",
      "testing feature:  OtherDetorsGuarantors  which is feature  19  out of  22\n",
      "New Test ROC AUC=0.8887188902488781\n",
      "All features Test ROC AUC=0.9036107711138311\n",
      "Increase in ROC AUC=-0.014891880864953078\n",
      "remove:  OtherDetorsGuarantors\n",
      "\n",
      "testing feature:  ForeignWorker.1  which is feature  20  out of  22\n",
      "New Test ROC AUC=0.9014687882496941\n",
      "All features Test ROC AUC=0.9036107711138311\n",
      "Increase in ROC AUC=-0.0021419828641370264\n",
      "remove:  ForeignWorker.1\n",
      "\n",
      "testing feature:  ForeignWorker  which is feature  21  out of  22\n",
      "New Test ROC AUC=0.9093227254181966\n",
      "All features Test ROC AUC=0.9036107711138311\n",
      "Increase in ROC AUC=0.005711954304365441\n",
      "keep:  ForeignWorker\n",
      "DONE!!\n",
      "total features to keep:  4\n"
     ]
    }
   ],
   "source": [
    "# the final step consists in adding one at a time\n",
    "# all the features, from the most to the least\n",
    "# important, and build an xgboost at each round.\n",
    "\n",
    "# once we build the model, we calculate the new roc-auc\n",
    "# if the new roc-auc is bigger than the original one\n",
    "# (with one feature), then that feature that was added\n",
    "# was important, and we should keep it.\n",
    "# otherwise, we should remove the feature\n",
    "\n",
    "# recursive feature addition:\n",
    "\n",
    "# first we arbitrarily set the increase in roc-auc\n",
    "# if the increase is above this threshold,\n",
    "# the feature will be kept\n",
    "tol = 0.001\n",
    "\n",
    "print('doing recursive feature addition')\n",
    "\n",
    "# we initialise a list where we will collect the\n",
    "# features we should keep\n",
    "features_to_keep = [features[0]]\n",
    "\n",
    "# set a counter to know how far ahead the loop is going\n",
    "count = 1\n",
    "\n",
    "# now we loop over all the features, in order of importance:\n",
    "# remember that features is the list of ordered features\n",
    "# by importance\n",
    "for feature in features[1:]:\n",
    "    print()\n",
    "    print('testing feature: ', feature, ' which is feature ', count,\n",
    "          ' out of ', len(features))\n",
    "    count = count + 1\n",
    "\n",
    "    # initialise model\n",
    "    model_int = RandomForestClassifier()\n",
    "\n",
    "    # fit model with the selected features\n",
    "    # and the feature to be evaluated\n",
    "    model_int.fit(\n",
    "        X_train[features_to_keep + [feature] ], y_train)\n",
    "\n",
    "    # make a prediction over the test set\n",
    "    y_pred_test = model_int.predict_proba(\n",
    "        X_test[features_to_keep + [feature] ])[:, 1]\n",
    "\n",
    "    # calculate the new roc-auc\n",
    "    auc_score_int = roc_auc_score(y_test, y_pred_test)\n",
    "    print('New Test ROC AUC={}'.format((auc_score_int)))\n",
    "\n",
    "    # print the original roc-auc with one feature\n",
    "    print('All features Test ROC AUC={}'.format((auc_score_first)))\n",
    "\n",
    "    # determine the increase in the roc-auc\n",
    "    diff_auc = auc_score_int - auc_score_first\n",
    "\n",
    "    # compare the increase in roc-auc with the tolerance\n",
    "    # we set previously\n",
    "    if diff_auc >= tol:\n",
    "        print('Increase in ROC AUC={}'.format(diff_auc))\n",
    "        print('keep: ', feature)\n",
    "        print\n",
    "        # if the increase in the roc is bigger than the threshold\n",
    "        # we keep the feature and re-adjust the roc-auc to the new value\n",
    "        # considering the added feature\n",
    "        auc_score_first = auc_score_int\n",
    "        \n",
    "        # and we append the feature to keep to the list\n",
    "        features_to_keep.append(feature)\n",
    "    else:\n",
    "        # we ignore the feature\n",
    "        print('Increase in ROC AUC={}'.format(diff_auc))\n",
    "        print('remove: ', feature)\n",
    "        print\n",
    "\n",
    "\n",
    "# now the loop is finished, we evaluated all the features\n",
    "print('DONE!!')\n",
    "print('total features to keep: ', len(features_to_keep))"
   ]
  },
  {
   "cell_type": "markdown",
   "metadata": {},
   "source": [
    "Amazing, we go down from 22 to 4 featues, and yet we increase our ROC!"
   ]
  },
  {
   "cell_type": "code",
   "execution_count": 14,
   "metadata": {},
   "outputs": [
    {
     "name": "stdout",
     "output_type": "stream",
     "text": [
      "Test selected features ROC AUC=0.899021\n"
     ]
    }
   ],
   "source": [
    "# capture the 4 selected features\n",
    "seed_val = 1000000000\n",
    "np.random.seed(seed_val)\n",
    "\n",
    "# build initial model\n",
    "final_xgb = RandomForestClassifier()\n",
    "\n",
    "# fit the model with the selected features\n",
    "final_xgb.fit(X_train[features_to_keep], y_train)\n",
    "\n",
    "# make predictions\n",
    "y_pred_test = final_xgb.predict_proba(X_test[features_to_keep])[:, 1]\n",
    "\n",
    "# calculate roc-auc\n",
    "auc_score_final = roc_auc_score(y_test, y_pred_test)\n",
    "print('Test selected features ROC AUC=%f' % (auc_score_final))"
   ]
  },
  {
   "cell_type": "markdown",
   "metadata": {},
   "source": [
    "### 5. Tune mode hyperparamters\n"
   ]
  },
  {
   "cell_type": "code",
   "execution_count": 15,
   "metadata": {},
   "outputs": [
    {
     "name": "stdout",
     "output_type": "stream",
     "text": [
      "Fitting 3 folds for each of 100 candidates, totalling 300 fits\n"
     ]
    },
    {
     "name": "stderr",
     "output_type": "stream",
     "text": [
      "[Parallel(n_jobs=-1)]: Using backend LokyBackend with 4 concurrent workers.\n",
      "[Parallel(n_jobs=-1)]: Done  33 tasks      | elapsed:   24.8s\n",
      "[Parallel(n_jobs=-1)]: Done 154 tasks      | elapsed:  2.1min\n",
      "[Parallel(n_jobs=-1)]: Done 300 out of 300 | elapsed:  4.2min finished\n"
     ]
    },
    {
     "name": "stdout",
     "output_type": "stream",
     "text": [
      "{'n_estimators': 600, 'max_features': 'auto', 'max_depth': 180}\n"
     ]
    }
   ],
   "source": [
    "\n",
    "from sklearn.model_selection import RandomizedSearchCV\n",
    "# number of trees in random forest\n",
    "n_estimators = [int(x) for x in np.linspace(start = 200, stop = 2000, num = 10)]\n",
    "# number of features at every split\n",
    "max_features = ['auto', 'sqrt']\n",
    "\n",
    "\n",
    "# max depth\n",
    "max_depth = [int(x) for x in np.linspace(100, 500, num = 11)]\n",
    "max_depth.append(None)\n",
    "# create random grid\n",
    "random_grid = {\n",
    " 'n_estimators': n_estimators,\n",
    " 'max_features': max_features,\n",
    " 'max_depth': max_depth\n",
    " }\n",
    "from sklearn.ensemble import RandomForestClassifier\n",
    "#making the instance\n",
    "rfc=RandomForestClassifier()\n",
    "# Random search of parameters\n",
    "rfc_model = RandomizedSearchCV(estimator = rfc, param_distributions = random_grid, n_iter = 100, cv = 3, verbose=2, random_state=42, n_jobs = -1)\n",
    "# Fit the model\n",
    "rfc_model.fit(X_train[features_to_keep], y_train)\n",
    "# print results\n",
    "print(rfc_model.best_params_)\n",
    "\n"
   ]
  },
  {
   "cell_type": "markdown",
   "metadata": {},
   "source": [
    "Now we test best parameters below"
   ]
  },
  {
   "cell_type": "code",
   "execution_count": 23,
   "metadata": {},
   "outputs": [
    {
     "name": "stdout",
     "output_type": "stream",
     "text": [
      "Test selected features ROC AUC=0.914219\n"
     ]
    }
   ],
   "source": [
    "seed_val = 1000\n",
    "\n",
    "np.random.seed(seed_val)\n",
    "\n",
    "rfc2 = RandomForestClassifier(n_estimators=600, max_depth=180, max_features='auto')\n",
    "rfc2.fit(X_train[features_to_keep],y_train)\n",
    "rfc2_predict = rfc2.predict_proba(X_test[features_to_keep])[:, 1]\n",
    "\n",
    "auc_score_final2 = roc_auc_score(y_test, rfc2_predict)\n",
    "print('Test selected features ROC AUC=%f' % (auc_score_final2))\n",
    "\n",
    "\n"
   ]
  },
  {
   "cell_type": "markdown",
   "metadata": {},
   "source": [
    "**Check for improvement**"
   ]
  },
  {
   "cell_type": "code",
   "execution_count": 24,
   "metadata": {},
   "outputs": [
    {
     "name": "stdout",
     "output_type": "stream",
     "text": [
      "Model ROC AUC improvement is 0.015197878416972732\n"
     ]
    }
   ],
   "source": [
    "print ('Model ROC AUC improvement is',(auc_score_final2-auc_score_final))\n"
   ]
  },
  {
   "cell_type": "markdown",
   "metadata": {},
   "source": [
    "If we compare original ROC AUC with the latest one, we find:"
   ]
  },
  {
   "cell_type": "code",
   "execution_count": 25,
   "metadata": {},
   "outputs": [
    {
     "name": "stdout",
     "output_type": "stream",
     "text": [
      "Test all features RFC ROC AUC=0.870869\n",
      "Test selected features ROC AUC=0.914219\n",
      "Model ROC AUC change is 0.04334965320277451\n"
     ]
    }
   ],
   "source": [
    "print('Test all features RFC ROC AUC=%f' % (auc_score_all))\n",
    "print('Test selected features ROC AUC=%f' % (auc_score_final2))\n",
    "print ('Model ROC AUC change is',(auc_score_final2-auc_score_all))"
   ]
  },
  {
   "cell_type": "markdown",
   "metadata": {},
   "source": [
    "We have improved our model accuracy by 0.04 and reduced the featuer space by 22 to 4!"
   ]
  },
  {
   "cell_type": "markdown",
   "metadata": {},
   "source": [
    "**7.Save the model**"
   ]
  },
  {
   "cell_type": "code",
   "execution_count": 26,
   "metadata": {},
   "outputs": [
    {
     "data": {
      "text/plain": [
       "['model1.joblib']"
      ]
     },
     "execution_count": 26,
     "metadata": {},
     "output_type": "execute_result"
    }
   ],
   "source": [
    "from sklearn.externals import joblib\n",
    "from joblib import dump, load\n",
    "dump(rfc2,'model1.joblib')  "
   ]
  },
  {
   "cell_type": "markdown",
   "metadata": {},
   "source": [
    "#### 8. Evidence that the model will generalize well"
   ]
  },
  {
   "cell_type": "code",
   "execution_count": 27,
   "metadata": {},
   "outputs": [],
   "source": [
    "df = pd.concat([X_train.append(X_test), y_train.append(y_test)], axis = 1)"
   ]
  },
  {
   "cell_type": "code",
   "execution_count": 28,
   "metadata": {},
   "outputs": [
    {
     "name": "stdout",
     "output_type": "stream",
     "text": [
      "                 Confusion matrix\n",
      "                 Score positive    Score negative\n",
      "Actual positive        46                11\n",
      "Actual negative        11                75\n",
      "\n",
      "Accuracy  0.85\n",
      " \n",
      "           Positive      Negative\n",
      "Num case       57            86\n",
      "Precision    0.81          0.87\n",
      "Recall       0.81          0.87\n",
      "F1           0.81          0.87\n"
     ]
    }
   ],
   "source": [
    "\n",
    "import sklearn.metrics as sklm\n",
    "\n",
    "labels = np.array(df['CreditStatus'])\n",
    "probabilities = rfc2.predict_proba(X_test[features_to_keep])\n",
    "\n",
    "def score_model(probs, threshold):\n",
    "    return np.array([1 if x > threshold else 0 for x in probs[:,1]])\n",
    "scores = score_model(probabilities, 0.5)\n",
    "\n",
    "def print_metrics(labels, scores):\n",
    "    metrics = sklm.precision_recall_fscore_support(labels, scores)\n",
    "    conf = sklm.confusion_matrix(labels, scores)\n",
    "    print('                 Confusion matrix')\n",
    "    print('                 Score positive    Score negative')\n",
    "    print('Actual positive    %6d' % conf[0,0] + '             %5d' % conf[0,1])\n",
    "    print('Actual negative    %6d' % conf[1,0] + '             %5d' % conf[1,1])\n",
    "    print('')\n",
    "    print('Accuracy  %0.2f' % sklm.accuracy_score(labels, scores))\n",
    "    print(' ')\n",
    "    print('           Positive      Negative')\n",
    "    print('Num case   %6d' % metrics[3][0] + '        %6d' % metrics[3][1])\n",
    "    print('Precision  %6.2f' % metrics[0][0] + '        %6.2f' % metrics[0][1])\n",
    "    print('Recall     %6.2f' % metrics[1][0] + '        %6.2f' % metrics[1][1])\n",
    "    print('F1         %6.2f' % metrics[2][0] + '        %6.2f' % metrics[2][1])\n",
    "\n",
    "\n",
    "    \n",
    "print_metrics(y_test, scores)"
   ]
  },
  {
   "cell_type": "code",
   "execution_count": 29,
   "metadata": {},
   "outputs": [
    {
     "data": {
      "image/png": "[encoded data removed]",
      "text/plain": [
       "<Figure size 432x288 with 1 Axes>"
      ]
     },
     "metadata": {
      "needs_background": "light"
     },
     "output_type": "display_data"
    }
   ],
   "source": [
    "\n",
    "def plot_auc(labels, probs):\n",
    "    ## Compute the false positive rate, true positive rate\n",
    "    ## and threshold along with the AUC\n",
    "    fpr, tpr, threshold = sklm.roc_curve(labels, probs[:,1])\n",
    "    auc = sklm.auc(fpr, tpr)\n",
    "    \n",
    "    ## Plot the result\n",
    "    plt.title('Receiver Operating Characteristic')\n",
    "    plt.plot(fpr, tpr, color = 'orange', label = 'AUC = %0.2f' % auc)\n",
    "    plt.legend(loc = 'lower right')\n",
    "    plt.plot([0, 1], [0, 1],'r--')\n",
    "    plt.xlim([0, 1])\n",
    "    plt.ylim([0, 1])\n",
    "    plt.ylabel('True Positive Rate')\n",
    "    plt.xlabel('False Positive Rate')\n",
    "    plt.show()\n",
    "    \n",
    "plot_auc(y_test, probabilities)"
   ]
  }
 ],
 "metadata": {
  "kernelspec": {
   "display_name": "Python 3",
   "language": "python",
   "name": "python3"
  },
  "language_info": {
   "codemirror_mode": {
    "name": "ipython",
    "version": 3
   },
   "file_extension": ".py",
   "mimetype": "text/x-python",
   "name": "python",
   "nbconvert_exporter": "python",
   "pygments_lexer": "ipython3",
   "version": "3.6.8"
  }
 },
 "nbformat": 4,
 "nbformat_minor": 2
}
